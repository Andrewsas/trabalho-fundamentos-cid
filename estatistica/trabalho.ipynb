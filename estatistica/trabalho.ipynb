{
  "nbformat": 4,
  "nbformat_minor": 0,
  "metadata": {
    "colab": {
      "name": "Probabilidade e Distribuições modulo3",
      "provenance": [],
      "collapsed_sections": [],
      "toc_visible": true
    },
    "kernelspec": {
      "display_name": "Python 3",
      "language": "python",
      "name": "python3"
    },
    "language_info": {
      "codemirror_mode": {
        "name": "ipython",
        "version": 3
      },
      "file_extension": ".py",
      "mimetype": "text/x-python",
      "name": "python",
      "nbconvert_exporter": "python",
      "pygments_lexer": "ipython3",
      "version": "3.8.3"
    }
  },
  "cells": [
    {
      "cell_type": "markdown",
      "metadata": {
        "id": "t5oLQNm_xilh"
      },
      "source": [
        "# Import de pacotes"
      ]
    },
    {
      "cell_type": "code",
      "metadata": {
        "id": "ZN1-V9Lrxv5V"
      },
      "source": [
        "from scipy.stats import binom, nbinom, poisson, uniform, expon, norm \n",
        "import numpy as np\n",
        "import matplotlib.pyplot as plt\n",
        "import seaborn as sea\n",
        "import statistics as st\n",
        "from scipy import stats\n",
        "from scipy.stats import t,norm\n",
        "from numpy import random\n",
        "import matplotlib.pyplot as plt\n",
        "import seaborn as sns\n",
        "import pandas as pd"
      ],
      "execution_count": 1,
      "outputs": []
    },
    {
      "cell_type": "markdown",
      "metadata": {
        "id": "m1k9arzVRyfP"
      },
      "source": [
        "# Obter Dataset"
      ]
    },
    {
      "cell_type": "code",
      "metadata": {
        "colab": {
          "base_uri": "https://localhost:8080/"
        },
        "id": "ddyg2141BSBf",
        "outputId": "68706e4f-1345-48df-9ed9-7d5affb1b4aa"
      },
      "source": [
        "!wget https://github.com/Andrewsas/trabalho-fundamentos-cid/blob/master/data/campeonato-brasileiro-full.csv?raw=true"
      ],
      "execution_count": 13,
      "outputs": [
        {
          "output_type": "stream",
          "text": [
            "--2020-12-17 00:32:18--  https://github.com/Andrewsas/trabalho-fundamentos-cid/blob/master/data/campeonato-brasileiro-full.csv?raw=true\n",
            "Resolving github.com (github.com)... 140.82.114.4\n",
            "Connecting to github.com (github.com)|140.82.114.4|:443... connected.\n",
            "HTTP request sent, awaiting response... 302 Found\n",
            "Location: https://github.com/Andrewsas/trabalho-fundamentos-cid/raw/master/data/campeonato-brasileiro-full.csv [following]\n",
            "--2020-12-17 00:32:18--  https://github.com/Andrewsas/trabalho-fundamentos-cid/raw/master/data/campeonato-brasileiro-full.csv\n",
            "Reusing existing connection to github.com:443.\n",
            "HTTP request sent, awaiting response... 302 Found\n",
            "Location: https://raw.githubusercontent.com/Andrewsas/trabalho-fundamentos-cid/master/data/campeonato-brasileiro-full.csv [following]\n",
            "--2020-12-17 00:32:18--  https://raw.githubusercontent.com/Andrewsas/trabalho-fundamentos-cid/master/data/campeonato-brasileiro-full.csv\n",
            "Resolving raw.githubusercontent.com (raw.githubusercontent.com)... 151.101.0.133, 151.101.64.133, 151.101.128.133, ...\n",
            "Connecting to raw.githubusercontent.com (raw.githubusercontent.com)|151.101.0.133|:443... connected.\n",
            "HTTP request sent, awaiting response... 200 OK\n",
            "Length: 740448 (723K) [text/plain]\n",
            "Saving to: ‘campeonato-brasileiro-full.csv?raw=true’\n",
            "\n",
            "campeonato-brasilei 100%[===================>] 723.09K  --.-KB/s    in 0.06s   \n",
            "\n",
            "2020-12-17 00:32:19 (12.5 MB/s) - ‘campeonato-brasileiro-full.csv?raw=true’ saved [740448/740448]\n",
            "\n"
          ],
          "name": "stdout"
        }
      ]
    },
    {
      "cell_type": "markdown",
      "metadata": {
        "id": "5Z6a3WS7DzNQ"
      },
      "source": [
        "##Abrir arquivo"
      ]
    },
    {
      "cell_type": "code",
      "metadata": {
        "colab": {
          "base_uri": "https://localhost:8080/",
          "height": 660
        },
        "id": "m9PFrfYhD3mC",
        "outputId": "cdbed133-cc61-4cbe-eb02-f69cd56d94e0"
      },
      "source": [
        "#renomear arquivo\r\n",
        "!mv campeonato-brasileiro-full.csv?raw=true campeonato-brasileiro-full.csv\r\n",
        "\r\n",
        "#Ler arquivo\r\n",
        "data = pd.read_csv('./campeonato-brasileiro-full.csv', delimiter=\",\")\r\n",
        "\r\n",
        "data"
      ],
      "execution_count": 20,
      "outputs": [
        {
          "output_type": "stream",
          "text": [
            "mv: cannot stat 'campeonato-brasileiro-full.csv?raw=true': No such file or directory\n"
          ],
          "name": "stdout"
        },
        {
          "output_type": "execute_result",
          "data": {
            "text/html": [
              "<div>\n",
              "<style scoped>\n",
              "    .dataframe tbody tr th:only-of-type {\n",
              "        vertical-align: middle;\n",
              "    }\n",
              "\n",
              "    .dataframe tbody tr th {\n",
              "        vertical-align: top;\n",
              "    }\n",
              "\n",
              "    .dataframe thead th {\n",
              "        text-align: right;\n",
              "    }\n",
              "</style>\n",
              "<table border=\"1\" class=\"dataframe\">\n",
              "  <thead>\n",
              "    <tr style=\"text-align: right;\">\n",
              "      <th></th>\n",
              "      <th>Horário</th>\n",
              "      <th>Dia</th>\n",
              "      <th>Data</th>\n",
              "      <th>Clube 1</th>\n",
              "      <th>Clube 2</th>\n",
              "      <th>Vencedor</th>\n",
              "      <th>Rodada</th>\n",
              "      <th>Arena</th>\n",
              "      <th>Clube 1 Gols</th>\n",
              "      <th>Clube 2 Gols</th>\n",
              "      <th>Clube 1 Estado</th>\n",
              "      <th>Clube 2 Estado</th>\n",
              "      <th>Estado Clube Vencedor</th>\n",
              "    </tr>\n",
              "  </thead>\n",
              "  <tbody>\n",
              "    <tr>\n",
              "      <th>0</th>\n",
              "      <td>16h00</td>\n",
              "      <td>Sábado</td>\n",
              "      <td>2000-07-29</td>\n",
              "      <td>Fluminense</td>\n",
              "      <td>Bahia</td>\n",
              "      <td>Fluminense</td>\n",
              "      <td>1ª Rodada</td>\n",
              "      <td>Maracanã</td>\n",
              "      <td>2</td>\n",
              "      <td>0</td>\n",
              "      <td>RJ</td>\n",
              "      <td>BA</td>\n",
              "      <td>RJ</td>\n",
              "    </tr>\n",
              "    <tr>\n",
              "      <th>1</th>\n",
              "      <td>16h00</td>\n",
              "      <td>Sábado</td>\n",
              "      <td>2000-07-29</td>\n",
              "      <td>Vasco</td>\n",
              "      <td>Sport</td>\n",
              "      <td>Sport</td>\n",
              "      <td>1ª Rodada</td>\n",
              "      <td>São Januário</td>\n",
              "      <td>0</td>\n",
              "      <td>2</td>\n",
              "      <td>RJ</td>\n",
              "      <td>PE</td>\n",
              "      <td>PE</td>\n",
              "    </tr>\n",
              "    <tr>\n",
              "      <th>2</th>\n",
              "      <td>16h00</td>\n",
              "      <td>Sábado</td>\n",
              "      <td>2000-07-29</td>\n",
              "      <td>Vitória</td>\n",
              "      <td>Palmeiras</td>\n",
              "      <td>Vitória</td>\n",
              "      <td>1ª Rodada</td>\n",
              "      <td>Barradão</td>\n",
              "      <td>4</td>\n",
              "      <td>1</td>\n",
              "      <td>ES</td>\n",
              "      <td>SP</td>\n",
              "      <td>ES</td>\n",
              "    </tr>\n",
              "    <tr>\n",
              "      <th>3</th>\n",
              "      <td>17h00</td>\n",
              "      <td>Domingo</td>\n",
              "      <td>2000-07-30</td>\n",
              "      <td>Botafogo-RJ</td>\n",
              "      <td>Atlético-MG</td>\n",
              "      <td>-</td>\n",
              "      <td>1ª Rodada</td>\n",
              "      <td>Caio Martins</td>\n",
              "      <td>0</td>\n",
              "      <td>0</td>\n",
              "      <td>RJ</td>\n",
              "      <td>MG</td>\n",
              "      <td>Empate</td>\n",
              "    </tr>\n",
              "    <tr>\n",
              "      <th>4</th>\n",
              "      <td>18h30</td>\n",
              "      <td>Domingo</td>\n",
              "      <td>2000-07-30</td>\n",
              "      <td>Juventude</td>\n",
              "      <td>Flamengo</td>\n",
              "      <td>-</td>\n",
              "      <td>1ª Rodada</td>\n",
              "      <td>Alfredo Jaconi</td>\n",
              "      <td>1</td>\n",
              "      <td>1</td>\n",
              "      <td>RS</td>\n",
              "      <td>RJ</td>\n",
              "      <td>Empate</td>\n",
              "    </tr>\n",
              "    <tr>\n",
              "      <th>...</th>\n",
              "      <td>...</td>\n",
              "      <td>...</td>\n",
              "      <td>...</td>\n",
              "      <td>...</td>\n",
              "      <td>...</td>\n",
              "      <td>...</td>\n",
              "      <td>...</td>\n",
              "      <td>...</td>\n",
              "      <td>...</td>\n",
              "      <td>...</td>\n",
              "      <td>...</td>\n",
              "      <td>...</td>\n",
              "      <td>...</td>\n",
              "    </tr>\n",
              "    <tr>\n",
              "      <th>7934</th>\n",
              "      <td>17:00</td>\n",
              "      <td>Domingo</td>\n",
              "      <td>2019-12-08</td>\n",
              "      <td>Goiás</td>\n",
              "      <td>Grêmio</td>\n",
              "      <td>Goiás</td>\n",
              "      <td>38ª Rodada</td>\n",
              "      <td>Serra Dourada</td>\n",
              "      <td>3</td>\n",
              "      <td>2</td>\n",
              "      <td>GO</td>\n",
              "      <td>RS</td>\n",
              "      <td>GO</td>\n",
              "    </tr>\n",
              "    <tr>\n",
              "      <th>7935</th>\n",
              "      <td>17:00</td>\n",
              "      <td>Domingo</td>\n",
              "      <td>2019-12-08</td>\n",
              "      <td>Internacional</td>\n",
              "      <td>Atlético-MG</td>\n",
              "      <td>Internacional</td>\n",
              "      <td>38ª Rodada</td>\n",
              "      <td>Beira Rio</td>\n",
              "      <td>2</td>\n",
              "      <td>1</td>\n",
              "      <td>RS</td>\n",
              "      <td>MG</td>\n",
              "      <td>RS</td>\n",
              "    </tr>\n",
              "    <tr>\n",
              "      <th>7936</th>\n",
              "      <td>17:00</td>\n",
              "      <td>Domingo</td>\n",
              "      <td>2019-12-08</td>\n",
              "      <td>Cruzeiro</td>\n",
              "      <td>Palmeiras</td>\n",
              "      <td>Palmeiras</td>\n",
              "      <td>38ª Rodada</td>\n",
              "      <td>Mineirão</td>\n",
              "      <td>0</td>\n",
              "      <td>2</td>\n",
              "      <td>MG</td>\n",
              "      <td>SP</td>\n",
              "      <td>SP</td>\n",
              "    </tr>\n",
              "    <tr>\n",
              "      <th>7937</th>\n",
              "      <td>17:00</td>\n",
              "      <td>Domingo</td>\n",
              "      <td>2019-12-08</td>\n",
              "      <td>Santos</td>\n",
              "      <td>Flamengo</td>\n",
              "      <td>Santos</td>\n",
              "      <td>38ª Rodada</td>\n",
              "      <td>Vila Belmiro</td>\n",
              "      <td>4</td>\n",
              "      <td>0</td>\n",
              "      <td>SP</td>\n",
              "      <td>RJ</td>\n",
              "      <td>SP</td>\n",
              "    </tr>\n",
              "    <tr>\n",
              "      <th>7938</th>\n",
              "      <td>17:00</td>\n",
              "      <td>Domingo</td>\n",
              "      <td>2019-12-08</td>\n",
              "      <td>CSA</td>\n",
              "      <td>São Paulo</td>\n",
              "      <td>São Paulo</td>\n",
              "      <td>38ª Rodada</td>\n",
              "      <td>Rei Pelé</td>\n",
              "      <td>1</td>\n",
              "      <td>2</td>\n",
              "      <td>AL</td>\n",
              "      <td>SP</td>\n",
              "      <td>SP</td>\n",
              "    </tr>\n",
              "  </tbody>\n",
              "</table>\n",
              "<p>7939 rows × 13 columns</p>\n",
              "</div>"
            ],
            "text/plain": [
              "     Horário      Dia  ... Clube 2 Estado Estado Clube Vencedor\n",
              "0      16h00   Sábado  ...             BA                    RJ\n",
              "1      16h00   Sábado  ...             PE                    PE\n",
              "2      16h00   Sábado  ...             SP                    ES\n",
              "3      17h00  Domingo  ...             MG                Empate\n",
              "4      18h30  Domingo  ...             RJ                Empate\n",
              "...      ...      ...  ...            ...                   ...\n",
              "7934   17:00  Domingo  ...             RS                    GO\n",
              "7935   17:00  Domingo  ...             MG                    RS\n",
              "7936   17:00  Domingo  ...             SP                    SP\n",
              "7937   17:00  Domingo  ...             RJ                    SP\n",
              "7938   17:00  Domingo  ...             SP                    SP\n",
              "\n",
              "[7939 rows x 13 columns]"
            ]
          },
          "metadata": {
            "tags": []
          },
          "execution_count": 20
        }
      ]
    },
    {
      "cell_type": "markdown",
      "metadata": {
        "id": "sC3KzrsOhZSz"
      },
      "source": [
        "#Estatísticas de Gols"
      ]
    },
    {
      "cell_type": "markdown",
      "metadata": {
        "id": "x5t_ksR5isIo"
      },
      "source": [
        "##Média"
      ]
    },
    {
      "cell_type": "code",
      "metadata": {
        "colab": {
          "base_uri": "https://localhost:8080/"
        },
        "id": "y1CMNmd1hdRa",
        "outputId": "7067ea90-011e-438a-a4dc-213ed8805875"
      },
      "source": [
        "# Média\r\n",
        "print('Média aritmética de Gols de Clubes Mandantes: ', round(st.mean(data['Clube 1 Gols']),3))\r\n",
        "print('Média aritmética de Gols de Clubes Visitantes: ', round(st.mean(data['Clube 2 Gols']),3))\r\n"
      ],
      "execution_count": 30,
      "outputs": [
        {
          "output_type": "stream",
          "text": [
            "Média aritmética de Gols de Clubes Mandantes:  1.597\n",
            "Média aritmética de Gols de Clubes Visitantes:  1.053\n"
          ],
          "name": "stdout"
        }
      ]
    },
    {
      "cell_type": "markdown",
      "metadata": {
        "id": "zLeJ6oyli-KH"
      },
      "source": [
        "##Mediana"
      ]
    },
    {
      "cell_type": "code",
      "metadata": {
        "colab": {
          "base_uri": "https://localhost:8080/"
        },
        "id": "BJHXMttAi_s9",
        "outputId": "253b16f0-b032-4438-eda2-8ce844bfee6c"
      },
      "source": [
        "# Mediana\r\n",
        "print('Mediana de Gols de Clubes Mandantes: ', st.median(data['Clube 1 Gols']))\r\n",
        "print('Mediana de Gols de Clubes Visitantes: ', st.median(data['Clube 2 Gols']))"
      ],
      "execution_count": 33,
      "outputs": [
        {
          "output_type": "stream",
          "text": [
            "Mediana de Gols de Clubes Mandantes:  1\n",
            "Mediana de Gols de Clubes Visitantes:  1\n"
          ],
          "name": "stdout"
        }
      ]
    },
    {
      "cell_type": "markdown",
      "metadata": {
        "id": "0_I0HkXjjf5w"
      },
      "source": [
        "##Moda"
      ]
    },
    {
      "cell_type": "code",
      "metadata": {
        "colab": {
          "base_uri": "https://localhost:8080/"
        },
        "id": "1s4_KMYojhUI",
        "outputId": "e7fe791c-fa97-4024-c2cf-686c825e29f3"
      },
      "source": [
        "# Moda\r\n",
        "print('Moda Gols de Clubes Mandantes: ', st.mode(data['Clube 1 Gols']))\r\n",
        "print('Moda Gols de Clubes Visitantes: ', st.mode(data['Clube 2 Gols']))"
      ],
      "execution_count": 34,
      "outputs": [
        {
          "output_type": "stream",
          "text": [
            "Moda Gols de Clubes Mandantes:  1\n",
            "Moda Gols de Clubes Visitantes:  1\n"
          ],
          "name": "stdout"
        }
      ]
    },
    {
      "cell_type": "markdown",
      "metadata": {
        "id": "sNOgNz9PlBcD"
      },
      "source": [
        "##Variância e Desvio Padrão"
      ]
    },
    {
      "cell_type": "code",
      "metadata": {
        "colab": {
          "base_uri": "https://localhost:8080/"
        },
        "id": "SqBQ1jGzkTI6",
        "outputId": "31f32f7e-b4b4-40bf-87e4-718643431fd6"
      },
      "source": [
        "# Variancia\r\n",
        "print('Variancia Gols de Clubes Mandantes: ', round(st.pvariance(data['Clube 1 Gols']),3))\r\n",
        "print('Desvio Gols de Clubes Mandantes: ', round(st.pstdev(data['Clube 1 Gols']),3))\r\n",
        "print('\\n')\r\n",
        "print('Variancia Gols de Clubes Visitantes:', round(st.variance(data['Clube 2 Gols']),3))\r\n",
        "print('Desvio Gols de Clubes Visitantes: ', round(st.pstdev(data['Clube 2 Gols']),3))"
      ],
      "execution_count": 36,
      "outputs": [
        {
          "output_type": "stream",
          "text": [
            "Variancia Gols de Clubes Mandantes:  1.566\n",
            "Desvio Gols de Clubes Mandantes:  1.251\n",
            "\n",
            "\n",
            "Variancia Gols de Clubes Visitantes: 1.081\n",
            "Desvio Gols de Clubes Visitantes:  1.04\n"
          ],
          "name": "stdout"
        }
      ]
    },
    {
      "cell_type": "markdown",
      "metadata": {
        "id": "Q9aThocOlLHL"
      },
      "source": [
        "##Coeficiente de Variação"
      ]
    },
    {
      "cell_type": "code",
      "metadata": {
        "colab": {
          "base_uri": "https://localhost:8080/"
        },
        "id": "H1-e4rZ5lQ6M",
        "outputId": "0dfde81f-14f0-4ad5-c909-debad59c8819"
      },
      "source": [
        "# Coeficiente de variação\r\n",
        "\r\n",
        "def cv(n):\r\n",
        "  return round(100*st.stdev(n)/st.mean(n), 2)\r\n",
        "\r\n",
        "print('Coeficiente Mandantes: ', cv(data['Clube 1 Gols']))\r\n",
        "print('Coeficiente Visitantes: ', cv(data['Clube 2 Gols']))"
      ],
      "execution_count": 37,
      "outputs": [
        {
          "output_type": "stream",
          "text": [
            "Coeficiente Mandantes:  78.37\n",
            "Coeficiente Visitantes:  98.78\n"
          ],
          "name": "stdout"
        }
      ]
    },
    {
      "cell_type": "markdown",
      "metadata": {
        "id": "DRPU-cVVlq-E"
      },
      "source": [
        "##Quartis"
      ]
    },
    {
      "cell_type": "code",
      "metadata": {
        "colab": {
          "base_uri": "https://localhost:8080/"
        },
        "id": "_ZI9uAvWlszh",
        "outputId": "b4b67324-3863-41c2-bf41-5cfc1a71da4d"
      },
      "source": [
        "# Quartil\r\n",
        "\r\n",
        "print('Quartil Mandante: ', np.quantile(data['Clube 1 Gols'], [0, 0.25, 0.5, 0.75, 1]))\r\n",
        "print('Quartil Visitante: ', np.quantile(data['Clube 2 Gols'], [0, 0.25, 0.5, 0.75, 1]))"
      ],
      "execution_count": 38,
      "outputs": [
        {
          "output_type": "stream",
          "text": [
            "Quartil Mandante:  [0. 1. 1. 2. 7.]\n",
            "Quartil Visitante:  [0. 0. 1. 2. 7.]\n"
          ],
          "name": "stdout"
        }
      ]
    },
    {
      "cell_type": "markdown",
      "metadata": {
        "id": "NSu2zfoEl_Fp"
      },
      "source": [
        "##Describe"
      ]
    },
    {
      "cell_type": "markdown",
      "metadata": {
        "id": "wPAR4GZ5mSaK"
      },
      "source": [
        "Mandantes"
      ]
    },
    {
      "cell_type": "code",
      "metadata": {
        "colab": {
          "base_uri": "https://localhost:8080/"
        },
        "id": "ugBeOBzVmIjK",
        "outputId": "a4a0fd19-9f80-4880-c695-d4be04990cd0"
      },
      "source": [
        "stats.describe(data['Clube 1 Gols'])"
      ],
      "execution_count": 39,
      "outputs": [
        {
          "output_type": "execute_result",
          "data": {
            "text/plain": [
              "DescribeResult(nobs=7939, minmax=(0, 7), mean=1.5968006046101524, variance=1.5659308056635295, skewness=0.78700727276455, kurtosis=0.5524919467199347)"
            ]
          },
          "metadata": {
            "tags": []
          },
          "execution_count": 39
        }
      ]
    },
    {
      "cell_type": "markdown",
      "metadata": {
        "id": "1S2uCWgnmbtH"
      },
      "source": [
        "Visitantes"
      ]
    },
    {
      "cell_type": "code",
      "metadata": {
        "colab": {
          "base_uri": "https://localhost:8080/"
        },
        "id": "rd30brP-mdA0",
        "outputId": "177a0b7b-c6a5-457f-bfb6-837107542853"
      },
      "source": [
        "stats.describe(data['Clube 2 Gols'])"
      ],
      "execution_count": 40,
      "outputs": [
        {
          "output_type": "execute_result",
          "data": {
            "text/plain": [
              "DescribeResult(nobs=7939, minmax=(0, 7), mean=1.0525255069908048, variance=1.0810149739965775, skewness=1.0141576080837886, kurtosis=1.1642516688194249)"
            ]
          },
          "metadata": {
            "tags": []
          },
          "execution_count": 40
        }
      ]
    },
    {
      "cell_type": "markdown",
      "metadata": {
        "id": "anFDAYeJmqkx"
      },
      "source": [
        "##Boxplot"
      ]
    },
    {
      "cell_type": "code",
      "metadata": {
        "colab": {
          "base_uri": "https://localhost:8080/",
          "height": 366
        },
        "id": "-JsqaIUUmyCr",
        "outputId": "0f257ed8-0020-4c79-8831-f59cc724e1be"
      },
      "source": [
        "sns.boxplot(data['Clube 1 Gols']).set_title(\"Mandantes\")"
      ],
      "execution_count": 41,
      "outputs": [
        {
          "output_type": "stream",
          "text": [
            "/usr/local/lib/python3.6/dist-packages/seaborn/_decorators.py:43: FutureWarning: Pass the following variable as a keyword arg: x. From version 0.12, the only valid positional argument will be `data`, and passing other arguments without an explicit keyword will result in an error or misinterpretation.\n",
            "  FutureWarning\n"
          ],
          "name": "stderr"
        },
        {
          "output_type": "execute_result",
          "data": {
            "text/plain": [
              "Text(0.5, 1.0, 'Mandantes')"
            ]
          },
          "metadata": {
            "tags": []
          },
          "execution_count": 41
        },
        {
          "output_type": "display_data",
          "data": {
            "image/png": "[encoded data removed]",
            "text/plain": [
              "<Figure size 432x288 with 1 Axes>"
            ]
          },
          "metadata": {
            "tags": [],
            "needs_background": "light"
          }
        }
      ]
    },
    {
      "cell_type": "code",
      "metadata": {
        "colab": {
          "base_uri": "https://localhost:8080/",
          "height": 366
        },
        "id": "YKnSr8MhnV0Y",
        "outputId": "c8264945-90a3-4874-9672-fbd9e920a9de"
      },
      "source": [
        "sns.boxplot(data['Clube 2 Gols']).set_title(\"Visitantes\")"
      ],
      "execution_count": 42,
      "outputs": [
        {
          "output_type": "stream",
          "text": [
            "/usr/local/lib/python3.6/dist-packages/seaborn/_decorators.py:43: FutureWarning: Pass the following variable as a keyword arg: x. From version 0.12, the only valid positional argument will be `data`, and passing other arguments without an explicit keyword will result in an error or misinterpretation.\n",
            "  FutureWarning\n"
          ],
          "name": "stderr"
        },
        {
          "output_type": "execute_result",
          "data": {
            "text/plain": [
              "Text(0.5, 1.0, 'Visitantes')"
            ]
          },
          "metadata": {
            "tags": []
          },
          "execution_count": 42
        },
        {
          "output_type": "display_data",
          "data": {
            "image/png": "[encoded data removed]",
            "text/plain": [
              "<Figure size 432x288 with 1 Axes>"
            ]
          },
          "metadata": {
            "tags": [],
            "needs_background": "light"
          }
        }
      ]
    }
  ]
}