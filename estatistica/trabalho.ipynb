{
  "nbformat": 4,
  "nbformat_minor": 0,
  "metadata": {
    "colab": {
      "name": "Probabilidade e Distribuições modulo3",
      "provenance": [],
      "collapsed_sections": [],
      "toc_visible": true
    },
    "kernelspec": {
      "display_name": "Python 3",
      "language": "python",
      "name": "python3"
    },
    "language_info": {
      "codemirror_mode": {
        "name": "ipython",
        "version": 3
      },
      "file_extension": ".py",
      "mimetype": "text/x-python",
      "name": "python",
      "nbconvert_exporter": "python",
      "pygments_lexer": "ipython3",
      "version": "3.8.3"
    }
  },
  "cells": [
    {
      "cell_type": "markdown",
      "metadata": {
        "id": "t5oLQNm_xilh"
      },
      "source": [
        "# Import de pacotes"
      ]
    },
    {
      "cell_type": "code",
      "metadata": {
        "id": "ZN1-V9Lrxv5V"
      },
      "source": [
        "from scipy.stats import binom, nbinom, poisson, uniform, expon, norm \n",
        "import numpy as np\n",
        "import matplotlib.pyplot as plt\n",
        "import seaborn as sea\n",
        "import statistics as st\n",
        "from scipy import stats\n",
        "from scipy.stats import t,norm\n",
        "from numpy import random\n",
        "import matplotlib.pyplot as plt\n",
        "import seaborn as sns\n",
        "import pandas as pd\n",
        "import math"
      ],
      "execution_count": 2,
      "outputs": []
    },
    {
      "cell_type": "markdown",
      "metadata": {
        "id": "m1k9arzVRyfP"
      },
      "source": [
        "# Obter Dataset"
      ]
    },
    {
      "cell_type": "code",
      "metadata": {
        "colab": {
          "base_uri": "https://localhost:8080/"
        },
        "id": "ddyg2141BSBf",
        "outputId": "0c45a804-8f01-48d2-c73c-0ab0b880d72a"
      },
      "source": [
        "!wget https://github.com/Andrewsas/trabalho-fundamentos-cid/blob/master/data/campeonato-brasileiro-full.csv?raw=true"
      ],
      "execution_count": 3,
      "outputs": [
        {
          "output_type": "stream",
          "text": [
            "--2020-12-19 11:05:56--  https://github.com/Andrewsas/trabalho-fundamentos-cid/blob/master/data/campeonato-brasileiro-full.csv?raw=true\n",
            "Resolving github.com (github.com)... 52.69.186.44\n",
            "Connecting to github.com (github.com)|52.69.186.44|:443... connected.\n",
            "HTTP request sent, awaiting response... 302 Found\n",
            "Location: https://github.com/Andrewsas/trabalho-fundamentos-cid/raw/master/data/campeonato-brasileiro-full.csv [following]\n",
            "--2020-12-19 11:05:57--  https://github.com/Andrewsas/trabalho-fundamentos-cid/raw/master/data/campeonato-brasileiro-full.csv\n",
            "Reusing existing connection to github.com:443.\n",
            "HTTP request sent, awaiting response... 302 Found\n",
            "Location: https://raw.githubusercontent.com/Andrewsas/trabalho-fundamentos-cid/master/data/campeonato-brasileiro-full.csv [following]\n",
            "--2020-12-19 11:05:57--  https://raw.githubusercontent.com/Andrewsas/trabalho-fundamentos-cid/master/data/campeonato-brasileiro-full.csv\n",
            "Resolving raw.githubusercontent.com (raw.githubusercontent.com)... 151.101.0.133, 151.101.64.133, 151.101.128.133, ...\n",
            "Connecting to raw.githubusercontent.com (raw.githubusercontent.com)|151.101.0.133|:443... connected.\n",
            "HTTP request sent, awaiting response... 200 OK\n",
            "Length: 740448 (723K) [text/plain]\n",
            "Saving to: ‘campeonato-brasileiro-full.csv?raw=true’\n",
            "\n",
            "campeonato-brasilei 100%[===================>] 723.09K  --.-KB/s    in 0.06s   \n",
            "\n",
            "2020-12-19 11:05:59 (11.8 MB/s) - ‘campeonato-brasileiro-full.csv?raw=true’ saved [740448/740448]\n",
            "\n"
          ],
          "name": "stdout"
        }
      ]
    },
    {
      "cell_type": "markdown",
      "metadata": {
        "id": "5Z6a3WS7DzNQ"
      },
      "source": [
        "##Abrir arquivo"
      ]
    },
    {
      "cell_type": "code",
      "metadata": {
        "id": "m9PFrfYhD3mC"
      },
      "source": [
        "#renomear arquivo\r\n",
        "!mv campeonato-brasileiro-full.csv?raw=true campeonato-brasileiro-full.csv\r\n",
        "\r\n",
        "#Ler arquivo\r\n",
        "data = pd.read_csv('./campeonato-brasileiro-full.csv', delimiter=\",\")"
      ],
      "execution_count": 4,
      "outputs": []
    },
    {
      "cell_type": "markdown",
      "metadata": {
        "id": "0iFQNPtpYHhp"
      },
      "source": [
        "##Preparar dados"
      ]
    },
    {
      "cell_type": "code",
      "metadata": {
        "id": "yp2PKz3sYKr2",
        "colab": {
          "base_uri": "https://localhost:8080/"
        },
        "outputId": "16022f64-c903-492c-cb95-b7ed2ae94b6b"
      },
      "source": [
        "## Explorar o banco de dados\r\n",
        "data.info()"
      ],
      "execution_count": 5,
      "outputs": [
        {
          "output_type": "stream",
          "text": [
            "<class 'pandas.core.frame.DataFrame'>\n",
            "RangeIndex: 7939 entries, 0 to 7938\n",
            "Data columns (total 13 columns):\n",
            " #   Column                 Non-Null Count  Dtype \n",
            "---  ------                 --------------  ----- \n",
            " 0   Horário                7582 non-null   object\n",
            " 1   Dia                    7939 non-null   object\n",
            " 2   Data                   7939 non-null   object\n",
            " 3   Clube 1                7939 non-null   object\n",
            " 4   Clube 2                7939 non-null   object\n",
            " 5   Vencedor               7939 non-null   object\n",
            " 6   Rodada                 7939 non-null   object\n",
            " 7   Arena                  7939 non-null   object\n",
            " 8   Clube 1 Gols           7939 non-null   int64 \n",
            " 9   Clube 2 Gols           7939 non-null   int64 \n",
            " 10  Clube 1 Estado         7939 non-null   object\n",
            " 11  Clube 2 Estado         7939 non-null   object\n",
            " 12  Estado Clube Vencedor  7939 non-null   object\n",
            "dtypes: int64(2), object(11)\n",
            "memory usage: 806.4+ KB\n"
          ],
          "name": "stdout"
        }
      ]
    },
    {
      "cell_type": "code",
      "metadata": {
        "id": "cUHTwI49YdOK",
        "colab": {
          "base_uri": "https://localhost:8080/",
          "height": 626
        },
        "outputId": "a684c684-07f9-4105-bb67-91ee14c5967b"
      },
      "source": [
        "# Renomear as colunas\r\n",
        "data.columns = [\"Horário\",\"Dia\",\"Data\",\"Mandante\",\"Visitante\",\"Vencedor\",\"Rodada\",\"Arena\",\"Gols Mandante\",\"Gols Visitante\",\"Estado Mandante\", \"Estado Visitante\", \"Estado Vencedor\"]\r\n",
        "data"
      ],
      "execution_count": 6,
      "outputs": [
        {
          "output_type": "execute_result",
          "data": {
            "text/html": [
              "<div>\n",
              "<style scoped>\n",
              "    .dataframe tbody tr th:only-of-type {\n",
              "        vertical-align: middle;\n",
              "    }\n",
              "\n",
              "    .dataframe tbody tr th {\n",
              "        vertical-align: top;\n",
              "    }\n",
              "\n",
              "    .dataframe thead th {\n",
              "        text-align: right;\n",
              "    }\n",
              "</style>\n",
              "<table border=\"1\" class=\"dataframe\">\n",
              "  <thead>\n",
              "    <tr style=\"text-align: right;\">\n",
              "      <th></th>\n",
              "      <th>Horário</th>\n",
              "      <th>Dia</th>\n",
              "      <th>Data</th>\n",
              "      <th>Mandante</th>\n",
              "      <th>Visitante</th>\n",
              "      <th>Vencedor</th>\n",
              "      <th>Rodada</th>\n",
              "      <th>Arena</th>\n",
              "      <th>Gols Mandante</th>\n",
              "      <th>Gols Visitante</th>\n",
              "      <th>Estado Mandante</th>\n",
              "      <th>Estado Visitante</th>\n",
              "      <th>Estado Vencedor</th>\n",
              "    </tr>\n",
              "  </thead>\n",
              "  <tbody>\n",
              "    <tr>\n",
              "      <th>0</th>\n",
              "      <td>16h00</td>\n",
              "      <td>Sábado</td>\n",
              "      <td>2000-07-29</td>\n",
              "      <td>Fluminense</td>\n",
              "      <td>Bahia</td>\n",
              "      <td>Fluminense</td>\n",
              "      <td>1ª Rodada</td>\n",
              "      <td>Maracanã</td>\n",
              "      <td>2</td>\n",
              "      <td>0</td>\n",
              "      <td>RJ</td>\n",
              "      <td>BA</td>\n",
              "      <td>RJ</td>\n",
              "    </tr>\n",
              "    <tr>\n",
              "      <th>1</th>\n",
              "      <td>16h00</td>\n",
              "      <td>Sábado</td>\n",
              "      <td>2000-07-29</td>\n",
              "      <td>Vasco</td>\n",
              "      <td>Sport</td>\n",
              "      <td>Sport</td>\n",
              "      <td>1ª Rodada</td>\n",
              "      <td>São Januário</td>\n",
              "      <td>0</td>\n",
              "      <td>2</td>\n",
              "      <td>RJ</td>\n",
              "      <td>PE</td>\n",
              "      <td>PE</td>\n",
              "    </tr>\n",
              "    <tr>\n",
              "      <th>2</th>\n",
              "      <td>16h00</td>\n",
              "      <td>Sábado</td>\n",
              "      <td>2000-07-29</td>\n",
              "      <td>Vitória</td>\n",
              "      <td>Palmeiras</td>\n",
              "      <td>Vitória</td>\n",
              "      <td>1ª Rodada</td>\n",
              "      <td>Barradão</td>\n",
              "      <td>4</td>\n",
              "      <td>1</td>\n",
              "      <td>ES</td>\n",
              "      <td>SP</td>\n",
              "      <td>ES</td>\n",
              "    </tr>\n",
              "    <tr>\n",
              "      <th>3</th>\n",
              "      <td>17h00</td>\n",
              "      <td>Domingo</td>\n",
              "      <td>2000-07-30</td>\n",
              "      <td>Botafogo-RJ</td>\n",
              "      <td>Atlético-MG</td>\n",
              "      <td>-</td>\n",
              "      <td>1ª Rodada</td>\n",
              "      <td>Caio Martins</td>\n",
              "      <td>0</td>\n",
              "      <td>0</td>\n",
              "      <td>RJ</td>\n",
              "      <td>MG</td>\n",
              "      <td>Empate</td>\n",
              "    </tr>\n",
              "    <tr>\n",
              "      <th>4</th>\n",
              "      <td>18h30</td>\n",
              "      <td>Domingo</td>\n",
              "      <td>2000-07-30</td>\n",
              "      <td>Juventude</td>\n",
              "      <td>Flamengo</td>\n",
              "      <td>-</td>\n",
              "      <td>1ª Rodada</td>\n",
              "      <td>Alfredo Jaconi</td>\n",
              "      <td>1</td>\n",
              "      <td>1</td>\n",
              "      <td>RS</td>\n",
              "      <td>RJ</td>\n",
              "      <td>Empate</td>\n",
              "    </tr>\n",
              "    <tr>\n",
              "      <th>...</th>\n",
              "      <td>...</td>\n",
              "      <td>...</td>\n",
              "      <td>...</td>\n",
              "      <td>...</td>\n",
              "      <td>...</td>\n",
              "      <td>...</td>\n",
              "      <td>...</td>\n",
              "      <td>...</td>\n",
              "      <td>...</td>\n",
              "      <td>...</td>\n",
              "      <td>...</td>\n",
              "      <td>...</td>\n",
              "      <td>...</td>\n",
              "    </tr>\n",
              "    <tr>\n",
              "      <th>7934</th>\n",
              "      <td>17:00</td>\n",
              "      <td>Domingo</td>\n",
              "      <td>2019-12-08</td>\n",
              "      <td>Goiás</td>\n",
              "      <td>Grêmio</td>\n",
              "      <td>Goiás</td>\n",
              "      <td>38ª Rodada</td>\n",
              "      <td>Serra Dourada</td>\n",
              "      <td>3</td>\n",
              "      <td>2</td>\n",
              "      <td>GO</td>\n",
              "      <td>RS</td>\n",
              "      <td>GO</td>\n",
              "    </tr>\n",
              "    <tr>\n",
              "      <th>7935</th>\n",
              "      <td>17:00</td>\n",
              "      <td>Domingo</td>\n",
              "      <td>2019-12-08</td>\n",
              "      <td>Internacional</td>\n",
              "      <td>Atlético-MG</td>\n",
              "      <td>Internacional</td>\n",
              "      <td>38ª Rodada</td>\n",
              "      <td>Beira Rio</td>\n",
              "      <td>2</td>\n",
              "      <td>1</td>\n",
              "      <td>RS</td>\n",
              "      <td>MG</td>\n",
              "      <td>RS</td>\n",
              "    </tr>\n",
              "    <tr>\n",
              "      <th>7936</th>\n",
              "      <td>17:00</td>\n",
              "      <td>Domingo</td>\n",
              "      <td>2019-12-08</td>\n",
              "      <td>Cruzeiro</td>\n",
              "      <td>Palmeiras</td>\n",
              "      <td>Palmeiras</td>\n",
              "      <td>38ª Rodada</td>\n",
              "      <td>Mineirão</td>\n",
              "      <td>0</td>\n",
              "      <td>2</td>\n",
              "      <td>MG</td>\n",
              "      <td>SP</td>\n",
              "      <td>SP</td>\n",
              "    </tr>\n",
              "    <tr>\n",
              "      <th>7937</th>\n",
              "      <td>17:00</td>\n",
              "      <td>Domingo</td>\n",
              "      <td>2019-12-08</td>\n",
              "      <td>Santos</td>\n",
              "      <td>Flamengo</td>\n",
              "      <td>Santos</td>\n",
              "      <td>38ª Rodada</td>\n",
              "      <td>Vila Belmiro</td>\n",
              "      <td>4</td>\n",
              "      <td>0</td>\n",
              "      <td>SP</td>\n",
              "      <td>RJ</td>\n",
              "      <td>SP</td>\n",
              "    </tr>\n",
              "    <tr>\n",
              "      <th>7938</th>\n",
              "      <td>17:00</td>\n",
              "      <td>Domingo</td>\n",
              "      <td>2019-12-08</td>\n",
              "      <td>CSA</td>\n",
              "      <td>São Paulo</td>\n",
              "      <td>São Paulo</td>\n",
              "      <td>38ª Rodada</td>\n",
              "      <td>Rei Pelé</td>\n",
              "      <td>1</td>\n",
              "      <td>2</td>\n",
              "      <td>AL</td>\n",
              "      <td>SP</td>\n",
              "      <td>SP</td>\n",
              "    </tr>\n",
              "  </tbody>\n",
              "</table>\n",
              "<p>7939 rows × 13 columns</p>\n",
              "</div>"
            ],
            "text/plain": [
              "     Horário      Dia  ... Estado Visitante Estado Vencedor\n",
              "0      16h00   Sábado  ...               BA              RJ\n",
              "1      16h00   Sábado  ...               PE              PE\n",
              "2      16h00   Sábado  ...               SP              ES\n",
              "3      17h00  Domingo  ...               MG          Empate\n",
              "4      18h30  Domingo  ...               RJ          Empate\n",
              "...      ...      ...  ...              ...             ...\n",
              "7934   17:00  Domingo  ...               RS              GO\n",
              "7935   17:00  Domingo  ...               MG              RS\n",
              "7936   17:00  Domingo  ...               SP              SP\n",
              "7937   17:00  Domingo  ...               RJ              SP\n",
              "7938   17:00  Domingo  ...               SP              SP\n",
              "\n",
              "[7939 rows x 13 columns]"
            ]
          },
          "metadata": {
            "tags": []
          },
          "execution_count": 6
        }
      ]
    },
    {
      "cell_type": "markdown",
      "metadata": {
        "id": "xbmjfUizdm3f"
      },
      "source": [
        "##Normalização do nome dos clubes"
      ]
    },
    {
      "cell_type": "code",
      "metadata": {
        "id": "5vRgeCYCdrJu"
      },
      "source": [
        "data['Mandante'] = data['Mandante'].str.capitalize()\r\n",
        "data['Visitante'] = data['Visitante'].str.capitalize()\r\n",
        "data['Vencedor'] = data['Vencedor'].str.capitalize()"
      ],
      "execution_count": 7,
      "outputs": []
    },
    {
      "cell_type": "markdown",
      "metadata": {
        "id": "sC3KzrsOhZSz"
      },
      "source": [
        "#Estatísticas de Gols"
      ]
    },
    {
      "cell_type": "markdown",
      "metadata": {
        "id": "YjYBO4H6Pus-"
      },
      "source": [
        "Total de Gols de Clubes Mandantes e Visitantes"
      ]
    },
    {
      "cell_type": "code",
      "metadata": {
        "id": "IoG3YAscQAFP",
        "colab": {
          "base_uri": "https://localhost:8080/"
        },
        "outputId": "0b8aa4a1-86f9-486f-b7c9-20e693ea75c7"
      },
      "source": [
        "print('Total de Gols de Clubes Mandantes: ', data['Gols Mandante'].sum())\r\n",
        "print('Total de Gols de Clubes Visitantes: ', data['Gols Visitante'].sum())"
      ],
      "execution_count": 8,
      "outputs": [
        {
          "output_type": "stream",
          "text": [
            "Total de Gols de Clubes Mandantes:  12677\n",
            "Total de Gols de Clubes Visitantes:  8356\n"
          ],
          "name": "stdout"
        }
      ]
    },
    {
      "cell_type": "markdown",
      "metadata": {
        "id": "x5t_ksR5isIo"
      },
      "source": [
        "##Média"
      ]
    },
    {
      "cell_type": "code",
      "metadata": {
        "colab": {
          "base_uri": "https://localhost:8080/"
        },
        "id": "y1CMNmd1hdRa",
        "outputId": "8a4f08a5-616e-499b-ecce-bce136469ab8"
      },
      "source": [
        "# Média\r\n",
        "print('Média aritmética de Gols de Clubes Mandantes: ', round(st.mean(data['Gols Mandante']),3))\r\n",
        "print('Média aritmética de Gols de Clubes Visitantes: ', round(st.mean(data['Gols Visitante']),3))\r\n"
      ],
      "execution_count": 9,
      "outputs": [
        {
          "output_type": "stream",
          "text": [
            "Média aritmética de Gols de Clubes Mandantes:  1.597\n",
            "Média aritmética de Gols de Clubes Visitantes:  1.053\n"
          ],
          "name": "stdout"
        }
      ]
    },
    {
      "cell_type": "markdown",
      "metadata": {
        "id": "zLeJ6oyli-KH"
      },
      "source": [
        "##Mediana"
      ]
    },
    {
      "cell_type": "code",
      "metadata": {
        "colab": {
          "base_uri": "https://localhost:8080/"
        },
        "id": "BJHXMttAi_s9",
        "outputId": "84de7cb9-83ae-423e-8df0-5a196de91d4e"
      },
      "source": [
        "# Mediana\r\n",
        "print('Mediana de Gols de Clubes Mandantes: ', st.median(data['Gols Mandante']))\r\n",
        "print('Mediana de Gols de Clubes Visitantes: ', st.median(data['Gols Visitante']))"
      ],
      "execution_count": 10,
      "outputs": [
        {
          "output_type": "stream",
          "text": [
            "Mediana de Gols de Clubes Mandantes:  1\n",
            "Mediana de Gols de Clubes Visitantes:  1\n"
          ],
          "name": "stdout"
        }
      ]
    },
    {
      "cell_type": "markdown",
      "metadata": {
        "id": "0_I0HkXjjf5w"
      },
      "source": [
        "##Moda"
      ]
    },
    {
      "cell_type": "code",
      "metadata": {
        "colab": {
          "base_uri": "https://localhost:8080/"
        },
        "id": "1s4_KMYojhUI",
        "outputId": "0bc7476a-f0ab-4354-f9a0-8aa7f15ac6f0"
      },
      "source": [
        "# Moda\r\n",
        "print('Moda Gols de Clubes Mandantes: ', st.mode(data['Gols Mandante']))\r\n",
        "print('Moda Gols de Clubes Visitantes: ', st.mode(data['Gols Visitante']))"
      ],
      "execution_count": 11,
      "outputs": [
        {
          "output_type": "stream",
          "text": [
            "Moda Gols de Clubes Mandantes:  1\n",
            "Moda Gols de Clubes Visitantes:  1\n"
          ],
          "name": "stdout"
        }
      ]
    },
    {
      "cell_type": "markdown",
      "metadata": {
        "id": "sNOgNz9PlBcD"
      },
      "source": [
        "##Variância e Desvio Padrão"
      ]
    },
    {
      "cell_type": "code",
      "metadata": {
        "colab": {
          "base_uri": "https://localhost:8080/"
        },
        "id": "SqBQ1jGzkTI6",
        "outputId": "4846bd1f-4839-444b-dee2-5b6efe7e94ed"
      },
      "source": [
        "# Variancia\r\n",
        "print('Variancia Gols de Clubes Mandantes: ', round(st.pvariance(data['Gols Mandante']),3))\r\n",
        "print('Desvio Gols de Clubes Mandantes: ', round(st.pstdev(data['Gols Mandante']),3))\r\n",
        "print('\\n')\r\n",
        "print('Variancia Gols de Clubes Visitantes:', round(st.variance(data['Gols Visitante']),3))\r\n",
        "print('Desvio Gols de Clubes Visitantes: ', round(st.pstdev(data['Gols Visitante']),3))"
      ],
      "execution_count": 12,
      "outputs": [
        {
          "output_type": "stream",
          "text": [
            "Variancia Gols de Clubes Mandantes:  1.566\n",
            "Desvio Gols de Clubes Mandantes:  1.251\n",
            "\n",
            "\n",
            "Variancia Gols de Clubes Visitantes: 1.081\n",
            "Desvio Gols de Clubes Visitantes:  1.04\n"
          ],
          "name": "stdout"
        }
      ]
    },
    {
      "cell_type": "markdown",
      "metadata": {
        "id": "Q9aThocOlLHL"
      },
      "source": [
        "##Coeficiente de Variação"
      ]
    },
    {
      "cell_type": "code",
      "metadata": {
        "colab": {
          "base_uri": "https://localhost:8080/"
        },
        "id": "H1-e4rZ5lQ6M",
        "outputId": "fd05f525-3ced-4e2d-c74c-8849a525e6c9"
      },
      "source": [
        "# Coeficiente de variação\r\n",
        "\r\n",
        "def cv(n):\r\n",
        "  return round(100*st.stdev(n)/st.mean(n), 2)\r\n",
        "\r\n",
        "print('Coeficiente Mandantes: ', cv(data['Gols Mandante']))\r\n",
        "print('Coeficiente Visitantes: ', cv(data['Gols Visitante']))"
      ],
      "execution_count": 13,
      "outputs": [
        {
          "output_type": "stream",
          "text": [
            "Coeficiente Mandantes:  78.37\n",
            "Coeficiente Visitantes:  98.78\n"
          ],
          "name": "stdout"
        }
      ]
    },
    {
      "cell_type": "markdown",
      "metadata": {
        "id": "DRPU-cVVlq-E"
      },
      "source": [
        "##Quartis"
      ]
    },
    {
      "cell_type": "code",
      "metadata": {
        "colab": {
          "base_uri": "https://localhost:8080/"
        },
        "id": "_ZI9uAvWlszh",
        "outputId": "ca3ca376-daea-4211-a9f7-67e17c1e6284"
      },
      "source": [
        "# Quartil\r\n",
        "\r\n",
        "print('Quartil Mandante: ', np.quantile(data['Gols Mandante'], [0, 0.25, 0.5, 0.75, 1]))\r\n",
        "print('Quartil Visitante: ', np.quantile(data['Gols Visitante'], [0, 0.25, 0.5, 0.75, 1]))"
      ],
      "execution_count": 14,
      "outputs": [
        {
          "output_type": "stream",
          "text": [
            "Quartil Mandante:  [0. 1. 1. 2. 7.]\n",
            "Quartil Visitante:  [0. 0. 1. 2. 7.]\n"
          ],
          "name": "stdout"
        }
      ]
    },
    {
      "cell_type": "markdown",
      "metadata": {
        "id": "NSu2zfoEl_Fp"
      },
      "source": [
        "##Describe"
      ]
    },
    {
      "cell_type": "markdown",
      "metadata": {
        "id": "wPAR4GZ5mSaK"
      },
      "source": [
        "Mandantes"
      ]
    },
    {
      "cell_type": "code",
      "metadata": {
        "colab": {
          "base_uri": "https://localhost:8080/"
        },
        "id": "ugBeOBzVmIjK",
        "outputId": "d083bf9c-e162-4def-e77e-667c4e0dab7f"
      },
      "source": [
        "stats.describe(data['Gols Mandante'])"
      ],
      "execution_count": 15,
      "outputs": [
        {
          "output_type": "execute_result",
          "data": {
            "text/plain": [
              "DescribeResult(nobs=7939, minmax=(0, 7), mean=1.5968006046101524, variance=1.5659308056635295, skewness=0.78700727276455, kurtosis=0.5524919467199347)"
            ]
          },
          "metadata": {
            "tags": []
          },
          "execution_count": 15
        }
      ]
    },
    {
      "cell_type": "markdown",
      "metadata": {
        "id": "1S2uCWgnmbtH"
      },
      "source": [
        "Visitantes"
      ]
    },
    {
      "cell_type": "code",
      "metadata": {
        "colab": {
          "base_uri": "https://localhost:8080/"
        },
        "id": "rd30brP-mdA0",
        "outputId": "4cfd4417-c2d1-4fb3-ab16-3c6d933afdd1"
      },
      "source": [
        "stats.describe(data['Gols Visitante'])"
      ],
      "execution_count": 16,
      "outputs": [
        {
          "output_type": "execute_result",
          "data": {
            "text/plain": [
              "DescribeResult(nobs=7939, minmax=(0, 7), mean=1.0525255069908048, variance=1.0810149739965775, skewness=1.0141576080837886, kurtosis=1.1642516688194249)"
            ]
          },
          "metadata": {
            "tags": []
          },
          "execution_count": 16
        }
      ]
    },
    {
      "cell_type": "markdown",
      "metadata": {
        "id": "anFDAYeJmqkx"
      },
      "source": [
        "##Boxplot"
      ]
    },
    {
      "cell_type": "code",
      "metadata": {
        "colab": {
          "base_uri": "https://localhost:8080/",
          "height": 366
        },
        "id": "-JsqaIUUmyCr",
        "outputId": "9f2380e8-fdcb-461b-fd4e-bc557f1d72fd"
      },
      "source": [
        "sns.boxplot(data['Gols Mandante']).set_title(\"Gols de Clubes Mandantes\")"
      ],
      "execution_count": null,
      "outputs": [
        {
          "output_type": "stream",
          "text": [
            "/usr/local/lib/python3.6/dist-packages/seaborn/_decorators.py:43: FutureWarning: Pass the following variable as a keyword arg: x. From version 0.12, the only valid positional argument will be `data`, and passing other arguments without an explicit keyword will result in an error or misinterpretation.\n",
            "  FutureWarning\n"
          ],
          "name": "stderr"
        },
        {
          "output_type": "execute_result",
          "data": {
            "text/plain": [
              "Text(0.5, 1.0, 'Gols de Clubes Mandantes')"
            ]
          },
          "metadata": {
            "tags": []
          },
          "execution_count": 25
        },
        {
          "output_type": "display_data",
          "data": {
            "image/png": "[encoded data removed]",
            "text/plain": [
              "<Figure size 432x288 with 1 Axes>"
            ]
          },
          "metadata": {
            "tags": [],
            "needs_background": "light"
          }
        }
      ]
    },
    {
      "cell_type": "code",
      "metadata": {
        "colab": {
          "base_uri": "https://localhost:8080/",
          "height": 366
        },
        "id": "YKnSr8MhnV0Y",
        "outputId": "d0afeb2e-e896-4da1-daf4-72bf0cb8c694"
      },
      "source": [
        "sns.boxplot(data['Gols Visitante']).set_title(\"Gols de clubes Visitantes\")"
      ],
      "execution_count": null,
      "outputs": [
        {
          "output_type": "stream",
          "text": [
            "/usr/local/lib/python3.6/dist-packages/seaborn/_decorators.py:43: FutureWarning: Pass the following variable as a keyword arg: x. From version 0.12, the only valid positional argument will be `data`, and passing other arguments without an explicit keyword will result in an error or misinterpretation.\n",
            "  FutureWarning\n"
          ],
          "name": "stderr"
        },
        {
          "output_type": "execute_result",
          "data": {
            "text/plain": [
              "Text(0.5, 1.0, 'Gols de clubes Visitantes')"
            ]
          },
          "metadata": {
            "tags": []
          },
          "execution_count": 26
        },
        {
          "output_type": "display_data",
          "data": {
            "image/png": "[encoded data removed]",
            "text/plain": [
              "<Figure size 432x288 with 1 Axes>"
            ]
          },
          "metadata": {
            "tags": [],
            "needs_background": "light"
          }
        }
      ]
    },
    {
      "cell_type": "markdown",
      "metadata": {
        "id": "AKqZIvIibM9p"
      },
      "source": [
        "#Estatísticas de Clubes Vencedores"
      ]
    },
    {
      "cell_type": "code",
      "metadata": {
        "id": "qi7FzJgBbwgR",
        "colab": {
          "base_uri": "https://localhost:8080/"
        },
        "outputId": "26fe08db-e695-4924-cbdd-edc91a308b9c"
      },
      "source": [
        "data_vencedores = data.groupby(['Vencedor']).size()\r\n",
        "data_vencedores.sort_values(ascending=False)"
      ],
      "execution_count": 17,
      "outputs": [
        {
          "output_type": "execute_result",
          "data": {
            "text/plain": [
              "Vencedor\n",
              "-                  2040\n",
              "São paulo           348\n",
              "Cruzeiro            326\n",
              "Santos              325\n",
              "Grêmio              308\n",
              "Internacional       303\n",
              "Flamengo            299\n",
              "Corinthians         296\n",
              "Fluminense          292\n",
              "Athlético-pr        291\n",
              "Atlético-mg         282\n",
              "Palmeiras           280\n",
              "Botafogo-rj         231\n",
              "Vasco               220\n",
              "Goiás               214\n",
              "Coritiba            187\n",
              "Vitória             152\n",
              "Figueirense         151\n",
              "Ponte preta         150\n",
              "Sport               129\n",
              "Bahia               123\n",
              "Paraná              104\n",
              "São caetano         103\n",
              "Juventude            96\n",
              "Chapecoense          69\n",
              "Guarani              63\n",
              "Portuguesa           58\n",
              "Avaí                 57\n",
              "Náutico              54\n",
              "Fortaleza            51\n",
              "Paysandu             50\n",
              "Criciúma             50\n",
              "Ceará                40\n",
              "Atlético-go          39\n",
              "América-mg           38\n",
              "Santa cruz           25\n",
              "Gama                 21\n",
              "Barueri              12\n",
              "Santo andré          11\n",
              "Brasiliense          10\n",
              "Ipatinga              9\n",
              "Csa                   8\n",
              "Joinville             7\n",
              "Grêmio prudente       7\n",
              "Botafogo-sp           6\n",
              "América-rn            4\n",
              "dtype: int64"
            ]
          },
          "metadata": {
            "tags": []
          },
          "execution_count": 17
        }
      ]
    },
    {
      "cell_type": "markdown",
      "metadata": {
        "id": "uKgfUfK9rG0k"
      },
      "source": [
        "Excluindo Empates"
      ]
    },
    {
      "cell_type": "code",
      "metadata": {
        "id": "oxIUwrKGrIvn"
      },
      "source": [
        "data_vencedores = data_vencedores.drop(labels=['-'])"
      ],
      "execution_count": 23,
      "outputs": []
    },
    {
      "cell_type": "code",
      "metadata": {
        "id": "l-5oyHeUmjV4",
        "colab": {
          "base_uri": "https://localhost:8080/"
        },
        "outputId": "6231210f-1795-4558-b2c5-2ebe94380987"
      },
      "source": [
        "data_vencedores.describe()"
      ],
      "execution_count": 24,
      "outputs": [
        {
          "output_type": "execute_result",
          "data": {
            "text/plain": [
              "count     45.000000\n",
              "mean     131.088889\n",
              "std      116.459478\n",
              "min        4.000000\n",
              "25%       38.000000\n",
              "50%       96.000000\n",
              "75%      231.000000\n",
              "max      348.000000\n",
              "dtype: float64"
            ]
          },
          "metadata": {
            "tags": []
          },
          "execution_count": 24
        }
      ]
    },
    {
      "cell_type": "markdown",
      "metadata": {
        "id": "NU6VNQHcosEO"
      },
      "source": [
        "Filtrar Clubes por quantidade de vitórias"
      ]
    },
    {
      "cell_type": "code",
      "metadata": {
        "id": "DmGaDcaBtTvi"
      },
      "source": [
        "#@title Quantidade de vitórias por clube\n",
        "win = 100 #@param {type:\"number\"}"
      ],
      "execution_count": 25,
      "outputs": []
    },
    {
      "cell_type": "code",
      "metadata": {
        "id": "MPpVNHEnoyiC",
        "colab": {
          "base_uri": "https://localhost:8080/"
        },
        "outputId": "00304588-bf22-4e62-a639-64381542940e"
      },
      "source": [
        "aux = data_vencedores > win\r\n",
        "data_vencedores[aux].sort_values(ascending=False)"
      ],
      "execution_count": 26,
      "outputs": [
        {
          "output_type": "execute_result",
          "data": {
            "text/plain": [
              "Vencedor\n",
              "São paulo        348\n",
              "Cruzeiro         326\n",
              "Santos           325\n",
              "Grêmio           308\n",
              "Internacional    303\n",
              "Flamengo         299\n",
              "Corinthians      296\n",
              "Fluminense       292\n",
              "Athlético-pr     291\n",
              "Atlético-mg      282\n",
              "Palmeiras        280\n",
              "Botafogo-rj      231\n",
              "Vasco            220\n",
              "Goiás            214\n",
              "Coritiba         187\n",
              "Vitória          152\n",
              "Figueirense      151\n",
              "Ponte preta      150\n",
              "Sport            129\n",
              "Bahia            123\n",
              "Paraná           104\n",
              "São caetano      103\n",
              "dtype: int64"
            ]
          },
          "metadata": {
            "tags": []
          },
          "execution_count": 26
        }
      ]
    },
    {
      "cell_type": "code",
      "metadata": {
        "id": "6eSG2YHPlozG",
        "colab": {
          "base_uri": "https://localhost:8080/",
          "height": 569
        },
        "outputId": "4a5c7620-f197-4196-93ae-40cd2b79d451"
      },
      "source": [
        "# gráfico de colunas\r\n",
        "data_vencedores[aux].sort_values(ascending=False).plot.bar(rot=90,color='gray',figsize=(12,8))"
      ],
      "execution_count": 27,
      "outputs": [
        {
          "output_type": "execute_result",
          "data": {
            "text/plain": [
              "<matplotlib.axes._subplots.AxesSubplot at 0x7f92ed1a3e10>"
            ]
          },
          "metadata": {
            "tags": []
          },
          "execution_count": 27
        },
        {
          "output_type": "display_data",
          "data": {
            "image/png": "[encoded data removed]",
            "text/plain": [
              "<Figure size 864x576 with 1 Axes>"
            ]
          },
          "metadata": {
            "tags": [],
            "needs_background": "light"
          }
        }
      ]
    },
    {
      "cell_type": "markdown",
      "metadata": {
        "id": "99CRFalWrGK_"
      },
      "source": [
        "##Estatística Estado Vencedor"
      ]
    },
    {
      "cell_type": "code",
      "metadata": {
        "id": "MwcjoBaGtYSP",
        "outputId": "7044bcf3-847e-4235-da8d-451b77f55a93",
        "colab": {
          "base_uri": "https://localhost:8080/",
          "height": 519
        }
      },
      "source": [
        "#Gráfico estado vencedor\r\n",
        "# sns.set_theme(style=\"darkgrid\")\r\n",
        "plt.figure(figsize=(15,8))\r\n",
        "sns.countplot(x='Estado Vencedor', data=data, palette='colorblind')"
      ],
      "execution_count": 46,
      "outputs": [
        {
          "output_type": "execute_result",
          "data": {
            "text/plain": [
              "<matplotlib.axes._subplots.AxesSubplot at 0x7f92ec70fe48>"
            ]
          },
          "metadata": {
            "tags": []
          },
          "execution_count": 46
        },
        {
          "output_type": "display_data",
          "data": {
            "image/png": "[encoded data removed]",
            "text/plain": [
              "<Figure size 1080x576 with 1 Axes>"
            ]
          },
          "metadata": {
            "tags": []
          }
        }
      ]
    },
    {
      "cell_type": "markdown",
      "metadata": {
        "id": "Yxhagy8BwkbZ"
      },
      "source": [
        "#Histogramas"
      ]
    },
    {
      "cell_type": "markdown",
      "metadata": {
        "id": "1kVOIARdwp_y"
      },
      "source": [
        "Gols"
      ]
    },
    {
      "cell_type": "code",
      "metadata": {
        "id": "TDiG18oDvq7u",
        "colab": {
          "base_uri": "https://localhost:8080/",
          "height": 366
        },
        "outputId": "cc8c14fd-8544-418a-aa20-c37f044aaa7e"
      },
      "source": [
        "sea.distplot(data['Gols Mandante']).set_title('Histograma Gols Mandante')"
      ],
      "execution_count": null,
      "outputs": [
        {
          "output_type": "stream",
          "text": [
            "/usr/local/lib/python3.6/dist-packages/seaborn/distributions.py:2551: FutureWarning: `distplot` is a deprecated function and will be removed in a future version. Please adapt your code to use either `displot` (a figure-level function with similar flexibility) or `histplot` (an axes-level function for histograms).\n",
            "  warnings.warn(msg, FutureWarning)\n"
          ],
          "name": "stderr"
        },
        {
          "output_type": "execute_result",
          "data": {
            "text/plain": [
              "Text(0.5, 1.0, 'Histograma Gols Mandante')"
            ]
          },
          "metadata": {
            "tags": []
          },
          "execution_count": 86
        },
        {
          "output_type": "display_data",
          "data": {
            "image/png": "[encoded data removed]",
            "text/plain": [
              "<Figure size 432x288 with 1 Axes>"
            ]
          },
          "metadata": {
            "tags": [],
            "needs_background": "light"
          }
        }
      ]
    },
    {
      "cell_type": "code",
      "metadata": {
        "id": "FbZlucHQwsPj",
        "colab": {
          "base_uri": "https://localhost:8080/",
          "height": 366
        },
        "outputId": "5dbf52dc-1071-40fa-9465-6cd3bca2b881"
      },
      "source": [
        "sea.distplot(data['Gols Visitante']).set_title('Histograma Gols Visitante')"
      ],
      "execution_count": null,
      "outputs": [
        {
          "output_type": "stream",
          "text": [
            "/usr/local/lib/python3.6/dist-packages/seaborn/distributions.py:2551: FutureWarning: `distplot` is a deprecated function and will be removed in a future version. Please adapt your code to use either `displot` (a figure-level function with similar flexibility) or `histplot` (an axes-level function for histograms).\n",
            "  warnings.warn(msg, FutureWarning)\n"
          ],
          "name": "stderr"
        },
        {
          "output_type": "execute_result",
          "data": {
            "text/plain": [
              "Text(0.5, 1.0, 'Histograma Gols Visitante')"
            ]
          },
          "metadata": {
            "tags": []
          },
          "execution_count": 87
        },
        {
          "output_type": "display_data",
          "data": {
            "image/png": "[encoded data removed]",
            "text/plain": [
              "<Figure size 432x288 with 1 Axes>"
            ]
          },
          "metadata": {
            "tags": [],
            "needs_background": "light"
          }
        }
      ]
    },
    {
      "cell_type": "code",
      "metadata": {
        "id": "630aYRe4w5q4",
        "colab": {
          "base_uri": "https://localhost:8080/",
          "height": 352
        },
        "outputId": "4d885fe6-b66b-4481-db3c-4a2aafa961bd"
      },
      "source": [
        "sea.distplot(data_vencedores).set_title('Histograma Clubes Vencedores')"
      ],
      "execution_count": null,
      "outputs": [
        {
          "output_type": "stream",
          "text": [
            "/usr/local/lib/python3.6/dist-packages/seaborn/distributions.py:2551: FutureWarning: `distplot` is a deprecated function and will be removed in a future version. Please adapt your code to use either `displot` (a figure-level function with similar flexibility) or `histplot` (an axes-level function for histograms).\n",
            "  warnings.warn(msg, FutureWarning)\n"
          ],
          "name": "stderr"
        },
        {
          "output_type": "execute_result",
          "data": {
            "text/plain": [
              "Text(0.5, 1.0, 'Histograma Clubes Vencedores')"
            ]
          },
          "metadata": {
            "tags": []
          },
          "execution_count": 92
        },
        {
          "output_type": "display_data",
          "data": {
            "image/png": "[encoded data removed]",
            "text/plain": [
              "<Figure size 432x288 with 1 Axes>"
            ]
          },
          "metadata": {
            "tags": [],
            "needs_background": "light"
          }
        }
      ]
    },
    {
      "cell_type": "markdown",
      "metadata": {
        "id": "8F1moIDYaFyj"
      },
      "source": [
        "# Cálculo Intervalo de Confiança a 95%"
      ]
    },
    {
      "cell_type": "code",
      "metadata": {
        "id": "CUGiChBtaUxE",
        "colab": {
          "base_uri": "https://localhost:8080/"
        },
        "outputId": "6b1faea3-fee6-462b-a152-bf9797e47457"
      },
      "source": [
        "#INTERVALO DE CONFIANÇA DO GOLS DOS TIMES MANDANTES\r\n",
        "#data['Gols Mandante'].describe()\r\n",
        "Zc = 1.96\r\n",
        "n = data['Gols Mandante'].count()\r\n",
        "\r\n",
        "varianciaMandante = st.pvariance(data['Gols Mandante'])\r\n",
        "sigmaMandante = math.sqrt(varianciaMandante)\r\n",
        "\r\n",
        "E = (Zc * sigmaMandante) / math.sqrt(n)\r\n",
        "\r\n",
        "print('x +- E = 1,597 +-', round(E,3))\r\n"
      ],
      "execution_count": null,
      "outputs": [
        {
          "output_type": "stream",
          "text": [
            "x +- E = 1,597 +- 0.028\n"
          ],
          "name": "stdout"
        }
      ]
    },
    {
      "cell_type": "code",
      "metadata": {
        "id": "Li9_oljqbzEP",
        "colab": {
          "base_uri": "https://localhost:8080/"
        },
        "outputId": "5e007812-f1c1-42ad-e577-4f500b41fd33"
      },
      "source": [
        "#INTERVALO DE CONFIANÇA DO GOLS DOS TIMES VISITANTES\r\n",
        "varianciaVisitante = st.pvariance(data['Gols Visitante'])\r\n",
        "sigmaVisitante = math.sqrt(varianciaVisitante)\r\n",
        "\r\n",
        "EVisitante = (Zc * sigmaVisitante) / math.sqrt(n)\r\n",
        "\r\n",
        "print('x +- E = 1,053 +-', round(EVisitante,3))\r\n"
      ],
      "execution_count": null,
      "outputs": [
        {
          "output_type": "stream",
          "text": [
            "x +- E = 1,053 +- 0.023\n"
          ],
          "name": "stdout"
        }
      ]
    }
  ]
}