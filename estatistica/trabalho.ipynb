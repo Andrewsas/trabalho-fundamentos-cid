{
  "nbformat": 4,
  "nbformat_minor": 0,
  "metadata": {
    "colab": {
      "name": "Probabilidade e Distribuições modulo3",
      "provenance": [],
      "collapsed_sections": [],
      "toc_visible": true
    },
    "kernelspec": {
      "display_name": "Python 3",
      "language": "python",
      "name": "python3"
    },
    "language_info": {
      "codemirror_mode": {
        "name": "ipython",
        "version": 3
      },
      "file_extension": ".py",
      "mimetype": "text/x-python",
      "name": "python",
      "nbconvert_exporter": "python",
      "pygments_lexer": "ipython3",
      "version": "3.8.3"
    }
  },
  "cells": [
    {
      "cell_type": "markdown",
      "metadata": {
        "id": "t5oLQNm_xilh"
      },
      "source": [
        "# Import de pacotes"
      ]
    },
    {
      "cell_type": "code",
      "metadata": {
        "id": "ZN1-V9Lrxv5V"
      },
      "source": [
        "from scipy.stats import binom, nbinom, poisson, uniform, expon, norm \n",
        "import numpy as np\n",
        "import matplotlib.pyplot as plt\n",
        "import seaborn as sea\n",
        "import statistics as st\n",
        "from scipy import stats\n",
        "from scipy.stats import t,norm\n",
        "from numpy import random\n",
        "import matplotlib.pyplot as plt\n",
        "import seaborn as sns\n",
        "import pandas as pd"
      ],
      "execution_count": 2,
      "outputs": []
    },
    {
      "cell_type": "markdown",
      "metadata": {
        "id": "m1k9arzVRyfP"
      },
      "source": [
        "# Obter Dataset"
      ]
    },
    {
      "cell_type": "code",
      "metadata": {
        "colab": {
          "base_uri": "https://localhost:8080/"
        },
        "id": "ddyg2141BSBf",
        "outputId": "3b0cfc53-5ceb-4a8e-8f0f-ac46f0794b57"
      },
      "source": [
        "!wget https://github.com/Andrewsas/trabalho-fundamentos-cid/blob/master/data/campeonato-brasileiro-full.csv?raw=true"
      ],
      "execution_count": 3,
      "outputs": [
        {
          "output_type": "stream",
          "text": [
            "--2020-12-18 01:01:08--  https://github.com/Andrewsas/trabalho-fundamentos-cid/blob/master/data/campeonato-brasileiro-full.csv?raw=true\n",
            "Resolving github.com (github.com)... 52.69.186.44\n",
            "Connecting to github.com (github.com)|52.69.186.44|:443... connected.\n",
            "HTTP request sent, awaiting response... 302 Found\n",
            "Location: https://github.com/Andrewsas/trabalho-fundamentos-cid/raw/master/data/campeonato-brasileiro-full.csv [following]\n",
            "--2020-12-18 01:01:09--  https://github.com/Andrewsas/trabalho-fundamentos-cid/raw/master/data/campeonato-brasileiro-full.csv\n",
            "Reusing existing connection to github.com:443.\n",
            "HTTP request sent, awaiting response... 302 Found\n",
            "Location: https://raw.githubusercontent.com/Andrewsas/trabalho-fundamentos-cid/master/data/campeonato-brasileiro-full.csv [following]\n",
            "--2020-12-18 01:01:09--  https://raw.githubusercontent.com/Andrewsas/trabalho-fundamentos-cid/master/data/campeonato-brasileiro-full.csv\n",
            "Resolving raw.githubusercontent.com (raw.githubusercontent.com)... 151.101.0.133, 151.101.64.133, 151.101.128.133, ...\n",
            "Connecting to raw.githubusercontent.com (raw.githubusercontent.com)|151.101.0.133|:443... connected.\n",
            "HTTP request sent, awaiting response... 200 OK\n",
            "Length: 740448 (723K) [text/plain]\n",
            "Saving to: ‘campeonato-brasileiro-full.csv?raw=true’\n",
            "\n",
            "campeonato-brasilei 100%[===================>] 723.09K  --.-KB/s    in 0.06s   \n",
            "\n",
            "2020-12-18 01:01:10 (11.6 MB/s) - ‘campeonato-brasileiro-full.csv?raw=true’ saved [740448/740448]\n",
            "\n"
          ],
          "name": "stdout"
        }
      ]
    },
    {
      "cell_type": "markdown",
      "metadata": {
        "id": "5Z6a3WS7DzNQ"
      },
      "source": [
        "##Abrir arquivo"
      ]
    },
    {
      "cell_type": "code",
      "metadata": {
        "colab": {
          "base_uri": "https://localhost:8080/"
        },
        "id": "m9PFrfYhD3mC",
        "outputId": "a470acde-021d-47c4-9270-0e51842f8021"
      },
      "source": [
        "#renomear arquivo\r\n",
        "!mv campeonato-brasileiro-full.csv?raw=true campeonato-brasileiro-full.csv\r\n",
        "\r\n",
        "#Ler arquivo\r\n",
        "data = pd.read_csv('./campeonato-brasileiro-full.csv', delimiter=\",\")"
      ],
      "execution_count": 7,
      "outputs": [
        {
          "output_type": "stream",
          "text": [
            "mv: cannot stat 'campeonato-brasileiro-full.csv?raw=true': No such file or directory\n"
          ],
          "name": "stdout"
        }
      ]
    },
    {
      "cell_type": "markdown",
      "metadata": {
        "id": "0iFQNPtpYHhp"
      },
      "source": [
        "##Preparar dados"
      ]
    },
    {
      "cell_type": "code",
      "metadata": {
        "id": "yp2PKz3sYKr2",
        "outputId": "20b2a751-c3b9-44cf-a504-cf4697062374",
        "colab": {
          "base_uri": "https://localhost:8080/"
        }
      },
      "source": [
        "## Explorar o banco de dados\r\n",
        "data.info()"
      ],
      "execution_count": 8,
      "outputs": [
        {
          "output_type": "stream",
          "text": [
            "<class 'pandas.core.frame.DataFrame'>\n",
            "RangeIndex: 7939 entries, 0 to 7938\n",
            "Data columns (total 13 columns):\n",
            " #   Column                 Non-Null Count  Dtype \n",
            "---  ------                 --------------  ----- \n",
            " 0   Horário                7582 non-null   object\n",
            " 1   Dia                    7939 non-null   object\n",
            " 2   Data                   7939 non-null   object\n",
            " 3   Clube 1                7939 non-null   object\n",
            " 4   Clube 2                7939 non-null   object\n",
            " 5   Vencedor               7939 non-null   object\n",
            " 6   Rodada                 7939 non-null   object\n",
            " 7   Arena                  7939 non-null   object\n",
            " 8   Clube 1 Gols           7939 non-null   int64 \n",
            " 9   Clube 2 Gols           7939 non-null   int64 \n",
            " 10  Clube 1 Estado         7939 non-null   object\n",
            " 11  Clube 2 Estado         7939 non-null   object\n",
            " 12  Estado Clube Vencedor  7939 non-null   object\n",
            "dtypes: int64(2), object(11)\n",
            "memory usage: 806.4+ KB\n"
          ],
          "name": "stdout"
        }
      ]
    },
    {
      "cell_type": "code",
      "metadata": {
        "id": "cUHTwI49YdOK",
        "outputId": "7c1c67d6-fde0-45c2-dc98-8770ac412523",
        "colab": {
          "base_uri": "https://localhost:8080/",
          "height": 626
        }
      },
      "source": [
        "# Renomear as colunas\r\n",
        "data.columns = [\"Horário\",\"Dia\",\"Data\",\"Mandante\",\"Visitante\",\"Vencedor\",\"Rodada\",\"Arena\",\"Gols Mandante\",\"Gols Visitante\",\"Estado Mandante\", \"Estado Visitante\", \"Estado Vencedor\"]\r\n",
        "data"
      ],
      "execution_count": 14,
      "outputs": [
        {
          "output_type": "execute_result",
          "data": {
            "text/html": [
              "<div>\n",
              "<style scoped>\n",
              "    .dataframe tbody tr th:only-of-type {\n",
              "        vertical-align: middle;\n",
              "    }\n",
              "\n",
              "    .dataframe tbody tr th {\n",
              "        vertical-align: top;\n",
              "    }\n",
              "\n",
              "    .dataframe thead th {\n",
              "        text-align: right;\n",
              "    }\n",
              "</style>\n",
              "<table border=\"1\" class=\"dataframe\">\n",
              "  <thead>\n",
              "    <tr style=\"text-align: right;\">\n",
              "      <th></th>\n",
              "      <th>Horário</th>\n",
              "      <th>Dia</th>\n",
              "      <th>Data</th>\n",
              "      <th>Mandante</th>\n",
              "      <th>Visitante</th>\n",
              "      <th>Vencedor</th>\n",
              "      <th>Rodada</th>\n",
              "      <th>Arena</th>\n",
              "      <th>Gols Mandante</th>\n",
              "      <th>Gols Visitante</th>\n",
              "      <th>Estado Mandante</th>\n",
              "      <th>Estado Visitante</th>\n",
              "      <th>Estado Vencedor</th>\n",
              "    </tr>\n",
              "  </thead>\n",
              "  <tbody>\n",
              "    <tr>\n",
              "      <th>0</th>\n",
              "      <td>16h00</td>\n",
              "      <td>Sábado</td>\n",
              "      <td>2000-07-29</td>\n",
              "      <td>Fluminense</td>\n",
              "      <td>Bahia</td>\n",
              "      <td>Fluminense</td>\n",
              "      <td>1ª Rodada</td>\n",
              "      <td>Maracanã</td>\n",
              "      <td>2</td>\n",
              "      <td>0</td>\n",
              "      <td>RJ</td>\n",
              "      <td>BA</td>\n",
              "      <td>RJ</td>\n",
              "    </tr>\n",
              "    <tr>\n",
              "      <th>1</th>\n",
              "      <td>16h00</td>\n",
              "      <td>Sábado</td>\n",
              "      <td>2000-07-29</td>\n",
              "      <td>Vasco</td>\n",
              "      <td>Sport</td>\n",
              "      <td>Sport</td>\n",
              "      <td>1ª Rodada</td>\n",
              "      <td>São Januário</td>\n",
              "      <td>0</td>\n",
              "      <td>2</td>\n",
              "      <td>RJ</td>\n",
              "      <td>PE</td>\n",
              "      <td>PE</td>\n",
              "    </tr>\n",
              "    <tr>\n",
              "      <th>2</th>\n",
              "      <td>16h00</td>\n",
              "      <td>Sábado</td>\n",
              "      <td>2000-07-29</td>\n",
              "      <td>Vitória</td>\n",
              "      <td>Palmeiras</td>\n",
              "      <td>Vitória</td>\n",
              "      <td>1ª Rodada</td>\n",
              "      <td>Barradão</td>\n",
              "      <td>4</td>\n",
              "      <td>1</td>\n",
              "      <td>ES</td>\n",
              "      <td>SP</td>\n",
              "      <td>ES</td>\n",
              "    </tr>\n",
              "    <tr>\n",
              "      <th>3</th>\n",
              "      <td>17h00</td>\n",
              "      <td>Domingo</td>\n",
              "      <td>2000-07-30</td>\n",
              "      <td>Botafogo-RJ</td>\n",
              "      <td>Atlético-MG</td>\n",
              "      <td>-</td>\n",
              "      <td>1ª Rodada</td>\n",
              "      <td>Caio Martins</td>\n",
              "      <td>0</td>\n",
              "      <td>0</td>\n",
              "      <td>RJ</td>\n",
              "      <td>MG</td>\n",
              "      <td>Empate</td>\n",
              "    </tr>\n",
              "    <tr>\n",
              "      <th>4</th>\n",
              "      <td>18h30</td>\n",
              "      <td>Domingo</td>\n",
              "      <td>2000-07-30</td>\n",
              "      <td>Juventude</td>\n",
              "      <td>Flamengo</td>\n",
              "      <td>-</td>\n",
              "      <td>1ª Rodada</td>\n",
              "      <td>Alfredo Jaconi</td>\n",
              "      <td>1</td>\n",
              "      <td>1</td>\n",
              "      <td>RS</td>\n",
              "      <td>RJ</td>\n",
              "      <td>Empate</td>\n",
              "    </tr>\n",
              "    <tr>\n",
              "      <th>...</th>\n",
              "      <td>...</td>\n",
              "      <td>...</td>\n",
              "      <td>...</td>\n",
              "      <td>...</td>\n",
              "      <td>...</td>\n",
              "      <td>...</td>\n",
              "      <td>...</td>\n",
              "      <td>...</td>\n",
              "      <td>...</td>\n",
              "      <td>...</td>\n",
              "      <td>...</td>\n",
              "      <td>...</td>\n",
              "      <td>...</td>\n",
              "    </tr>\n",
              "    <tr>\n",
              "      <th>7934</th>\n",
              "      <td>17:00</td>\n",
              "      <td>Domingo</td>\n",
              "      <td>2019-12-08</td>\n",
              "      <td>Goiás</td>\n",
              "      <td>Grêmio</td>\n",
              "      <td>Goiás</td>\n",
              "      <td>38ª Rodada</td>\n",
              "      <td>Serra Dourada</td>\n",
              "      <td>3</td>\n",
              "      <td>2</td>\n",
              "      <td>GO</td>\n",
              "      <td>RS</td>\n",
              "      <td>GO</td>\n",
              "    </tr>\n",
              "    <tr>\n",
              "      <th>7935</th>\n",
              "      <td>17:00</td>\n",
              "      <td>Domingo</td>\n",
              "      <td>2019-12-08</td>\n",
              "      <td>Internacional</td>\n",
              "      <td>Atlético-MG</td>\n",
              "      <td>Internacional</td>\n",
              "      <td>38ª Rodada</td>\n",
              "      <td>Beira Rio</td>\n",
              "      <td>2</td>\n",
              "      <td>1</td>\n",
              "      <td>RS</td>\n",
              "      <td>MG</td>\n",
              "      <td>RS</td>\n",
              "    </tr>\n",
              "    <tr>\n",
              "      <th>7936</th>\n",
              "      <td>17:00</td>\n",
              "      <td>Domingo</td>\n",
              "      <td>2019-12-08</td>\n",
              "      <td>Cruzeiro</td>\n",
              "      <td>Palmeiras</td>\n",
              "      <td>Palmeiras</td>\n",
              "      <td>38ª Rodada</td>\n",
              "      <td>Mineirão</td>\n",
              "      <td>0</td>\n",
              "      <td>2</td>\n",
              "      <td>MG</td>\n",
              "      <td>SP</td>\n",
              "      <td>SP</td>\n",
              "    </tr>\n",
              "    <tr>\n",
              "      <th>7937</th>\n",
              "      <td>17:00</td>\n",
              "      <td>Domingo</td>\n",
              "      <td>2019-12-08</td>\n",
              "      <td>Santos</td>\n",
              "      <td>Flamengo</td>\n",
              "      <td>Santos</td>\n",
              "      <td>38ª Rodada</td>\n",
              "      <td>Vila Belmiro</td>\n",
              "      <td>4</td>\n",
              "      <td>0</td>\n",
              "      <td>SP</td>\n",
              "      <td>RJ</td>\n",
              "      <td>SP</td>\n",
              "    </tr>\n",
              "    <tr>\n",
              "      <th>7938</th>\n",
              "      <td>17:00</td>\n",
              "      <td>Domingo</td>\n",
              "      <td>2019-12-08</td>\n",
              "      <td>CSA</td>\n",
              "      <td>São Paulo</td>\n",
              "      <td>São Paulo</td>\n",
              "      <td>38ª Rodada</td>\n",
              "      <td>Rei Pelé</td>\n",
              "      <td>1</td>\n",
              "      <td>2</td>\n",
              "      <td>AL</td>\n",
              "      <td>SP</td>\n",
              "      <td>SP</td>\n",
              "    </tr>\n",
              "  </tbody>\n",
              "</table>\n",
              "<p>7939 rows × 13 columns</p>\n",
              "</div>"
            ],
            "text/plain": [
              "     Horário      Dia  ... Estado Visitante Estado Vencedor\n",
              "0      16h00   Sábado  ...               BA              RJ\n",
              "1      16h00   Sábado  ...               PE              PE\n",
              "2      16h00   Sábado  ...               SP              ES\n",
              "3      17h00  Domingo  ...               MG          Empate\n",
              "4      18h30  Domingo  ...               RJ          Empate\n",
              "...      ...      ...  ...              ...             ...\n",
              "7934   17:00  Domingo  ...               RS              GO\n",
              "7935   17:00  Domingo  ...               MG              RS\n",
              "7936   17:00  Domingo  ...               SP              SP\n",
              "7937   17:00  Domingo  ...               RJ              SP\n",
              "7938   17:00  Domingo  ...               SP              SP\n",
              "\n",
              "[7939 rows x 13 columns]"
            ]
          },
          "metadata": {
            "tags": []
          },
          "execution_count": 14
        }
      ]
    },
    {
      "cell_type": "markdown",
      "metadata": {
        "id": "xbmjfUizdm3f"
      },
      "source": [
        "##Normalização do nome dos clubes"
      ]
    },
    {
      "cell_type": "code",
      "metadata": {
        "id": "5vRgeCYCdrJu"
      },
      "source": [
        "data['Mandante'] = data['Mandante'].str.capitalize()\r\n",
        "data['Visitante'] = data['Visitante'].str.capitalize()\r\n",
        "data['Vencedor'] = data['Vencedor'].str.capitalize()"
      ],
      "execution_count": 34,
      "outputs": []
    },
    {
      "cell_type": "markdown",
      "metadata": {
        "id": "sC3KzrsOhZSz"
      },
      "source": [
        "#Estatísticas de Gols"
      ]
    },
    {
      "cell_type": "markdown",
      "metadata": {
        "id": "x5t_ksR5isIo"
      },
      "source": [
        "##Média"
      ]
    },
    {
      "cell_type": "code",
      "metadata": {
        "colab": {
          "base_uri": "https://localhost:8080/"
        },
        "id": "y1CMNmd1hdRa",
        "outputId": "2a4fdb29-ed43-4c5d-ab6e-c625911bf5e6"
      },
      "source": [
        "# Média\r\n",
        "print('Média aritmética de Gols de Clubes Mandantes: ', round(st.mean(data['Gols Mandante']),3))\r\n",
        "print('Média aritmética de Gols de Clubes Visitantes: ', round(st.mean(data['Gols Visitante']),3))\r\n"
      ],
      "execution_count": 15,
      "outputs": [
        {
          "output_type": "stream",
          "text": [
            "Média aritmética de Gols de Clubes Mandantes:  1.597\n",
            "Média aritmética de Gols de Clubes Visitantes:  1.053\n"
          ],
          "name": "stdout"
        }
      ]
    },
    {
      "cell_type": "markdown",
      "metadata": {
        "id": "zLeJ6oyli-KH"
      },
      "source": [
        "##Mediana"
      ]
    },
    {
      "cell_type": "code",
      "metadata": {
        "colab": {
          "base_uri": "https://localhost:8080/"
        },
        "id": "BJHXMttAi_s9",
        "outputId": "a7544bfc-c647-47a8-fac2-4535fb539887"
      },
      "source": [
        "# Mediana\r\n",
        "print('Mediana de Gols de Clubes Mandantes: ', st.median(data['Gols Mandante']))\r\n",
        "print('Mediana de Gols de Clubes Visitantes: ', st.median(data['Gols Visitante']))"
      ],
      "execution_count": 16,
      "outputs": [
        {
          "output_type": "stream",
          "text": [
            "Mediana de Gols de Clubes Mandantes:  1\n",
            "Mediana de Gols de Clubes Visitantes:  1\n"
          ],
          "name": "stdout"
        }
      ]
    },
    {
      "cell_type": "markdown",
      "metadata": {
        "id": "0_I0HkXjjf5w"
      },
      "source": [
        "##Moda"
      ]
    },
    {
      "cell_type": "code",
      "metadata": {
        "colab": {
          "base_uri": "https://localhost:8080/"
        },
        "id": "1s4_KMYojhUI",
        "outputId": "8f28d636-8f0d-4ddd-c1dd-07468f0487b3"
      },
      "source": [
        "# Moda\r\n",
        "print('Moda Gols de Clubes Mandantes: ', st.mode(data['Gols Mandante']))\r\n",
        "print('Moda Gols de Clubes Visitantes: ', st.mode(data['Gols Visitante']))"
      ],
      "execution_count": 17,
      "outputs": [
        {
          "output_type": "stream",
          "text": [
            "Moda Gols de Clubes Mandantes:  1\n",
            "Moda Gols de Clubes Visitantes:  1\n"
          ],
          "name": "stdout"
        }
      ]
    },
    {
      "cell_type": "markdown",
      "metadata": {
        "id": "sNOgNz9PlBcD"
      },
      "source": [
        "##Variância e Desvio Padrão"
      ]
    },
    {
      "cell_type": "code",
      "metadata": {
        "colab": {
          "base_uri": "https://localhost:8080/"
        },
        "id": "SqBQ1jGzkTI6",
        "outputId": "da4aa0aa-d951-46dc-b765-2faeb82b2c10"
      },
      "source": [
        "# Variancia\r\n",
        "print('Variancia Gols de Clubes Mandantes: ', round(st.pvariance(data['Gols Mandante']),3))\r\n",
        "print('Desvio Gols de Clubes Mandantes: ', round(st.pstdev(data['Gols Mandante']),3))\r\n",
        "print('\\n')\r\n",
        "print('Variancia Gols de Clubes Visitantes:', round(st.variance(data['Gols Visitante']),3))\r\n",
        "print('Desvio Gols de Clubes Visitantes: ', round(st.pstdev(data['Gols Visitante']),3))"
      ],
      "execution_count": 18,
      "outputs": [
        {
          "output_type": "stream",
          "text": [
            "Variancia Gols de Clubes Mandantes:  1.566\n",
            "Desvio Gols de Clubes Mandantes:  1.251\n",
            "\n",
            "\n",
            "Variancia Gols de Clubes Visitantes: 1.081\n",
            "Desvio Gols de Clubes Visitantes:  1.04\n"
          ],
          "name": "stdout"
        }
      ]
    },
    {
      "cell_type": "markdown",
      "metadata": {
        "id": "Q9aThocOlLHL"
      },
      "source": [
        "##Coeficiente de Variação"
      ]
    },
    {
      "cell_type": "code",
      "metadata": {
        "colab": {
          "base_uri": "https://localhost:8080/"
        },
        "id": "H1-e4rZ5lQ6M",
        "outputId": "3ece0b92-6d4b-4d7d-9a2e-85b572a0a47a"
      },
      "source": [
        "# Coeficiente de variação\r\n",
        "\r\n",
        "def cv(n):\r\n",
        "  return round(100*st.stdev(n)/st.mean(n), 2)\r\n",
        "\r\n",
        "print('Coeficiente Mandantes: ', cv(data['Gols Mandante']))\r\n",
        "print('Coeficiente Visitantes: ', cv(data['Gols Visitante']))"
      ],
      "execution_count": 19,
      "outputs": [
        {
          "output_type": "stream",
          "text": [
            "Coeficiente Mandantes:  78.37\n",
            "Coeficiente Visitantes:  98.78\n"
          ],
          "name": "stdout"
        }
      ]
    },
    {
      "cell_type": "markdown",
      "metadata": {
        "id": "DRPU-cVVlq-E"
      },
      "source": [
        "##Quartis"
      ]
    },
    {
      "cell_type": "code",
      "metadata": {
        "colab": {
          "base_uri": "https://localhost:8080/"
        },
        "id": "_ZI9uAvWlszh",
        "outputId": "841fc308-ed45-4520-dd90-4067d0d21ff3"
      },
      "source": [
        "# Quartil\r\n",
        "\r\n",
        "print('Quartil Mandante: ', np.quantile(data['Gols Mandante'], [0, 0.25, 0.5, 0.75, 1]))\r\n",
        "print('Quartil Visitante: ', np.quantile(data['Gols Visitante'], [0, 0.25, 0.5, 0.75, 1]))"
      ],
      "execution_count": 21,
      "outputs": [
        {
          "output_type": "stream",
          "text": [
            "Quartil Mandante:  [0. 1. 1. 2. 7.]\n",
            "Quartil Visitante:  [0. 0. 1. 2. 7.]\n"
          ],
          "name": "stdout"
        }
      ]
    },
    {
      "cell_type": "markdown",
      "metadata": {
        "id": "NSu2zfoEl_Fp"
      },
      "source": [
        "##Describe"
      ]
    },
    {
      "cell_type": "markdown",
      "metadata": {
        "id": "wPAR4GZ5mSaK"
      },
      "source": [
        "Mandantes"
      ]
    },
    {
      "cell_type": "code",
      "metadata": {
        "colab": {
          "base_uri": "https://localhost:8080/"
        },
        "id": "ugBeOBzVmIjK",
        "outputId": "6ec8c2fe-73e3-4df3-80cd-dc55bf8cca29"
      },
      "source": [
        "stats.describe(data['Gols Mandante'])"
      ],
      "execution_count": 22,
      "outputs": [
        {
          "output_type": "execute_result",
          "data": {
            "text/plain": [
              "DescribeResult(nobs=7939, minmax=(0, 7), mean=1.5968006046101524, variance=1.5659308056635295, skewness=0.78700727276455, kurtosis=0.5524919467199347)"
            ]
          },
          "metadata": {
            "tags": []
          },
          "execution_count": 22
        }
      ]
    },
    {
      "cell_type": "markdown",
      "metadata": {
        "id": "1S2uCWgnmbtH"
      },
      "source": [
        "Visitantes"
      ]
    },
    {
      "cell_type": "code",
      "metadata": {
        "colab": {
          "base_uri": "https://localhost:8080/"
        },
        "id": "rd30brP-mdA0",
        "outputId": "0bb6c47b-c238-4ef1-bb68-39117d58e114"
      },
      "source": [
        "stats.describe(data['Gols Visitante'])"
      ],
      "execution_count": 23,
      "outputs": [
        {
          "output_type": "execute_result",
          "data": {
            "text/plain": [
              "DescribeResult(nobs=7939, minmax=(0, 7), mean=1.0525255069908048, variance=1.0810149739965775, skewness=1.0141576080837886, kurtosis=1.1642516688194249)"
            ]
          },
          "metadata": {
            "tags": []
          },
          "execution_count": 23
        }
      ]
    },
    {
      "cell_type": "markdown",
      "metadata": {
        "id": "anFDAYeJmqkx"
      },
      "source": [
        "##Boxplot"
      ]
    },
    {
      "cell_type": "code",
      "metadata": {
        "colab": {
          "base_uri": "https://localhost:8080/",
          "height": 366
        },
        "id": "-JsqaIUUmyCr",
        "outputId": "9f2380e8-fdcb-461b-fd4e-bc557f1d72fd"
      },
      "source": [
        "sns.boxplot(data['Gols Mandante']).set_title(\"Gols de Clubes Mandantes\")"
      ],
      "execution_count": 25,
      "outputs": [
        {
          "output_type": "stream",
          "text": [
            "/usr/local/lib/python3.6/dist-packages/seaborn/_decorators.py:43: FutureWarning: Pass the following variable as a keyword arg: x. From version 0.12, the only valid positional argument will be `data`, and passing other arguments without an explicit keyword will result in an error or misinterpretation.\n",
            "  FutureWarning\n"
          ],
          "name": "stderr"
        },
        {
          "output_type": "execute_result",
          "data": {
            "text/plain": [
              "Text(0.5, 1.0, 'Gols de Clubes Mandantes')"
            ]
          },
          "metadata": {
            "tags": []
          },
          "execution_count": 25
        },
        {
          "output_type": "display_data",
          "data": {
            "image/png": "[encoded data removed]",
            "text/plain": [
              "<Figure size 432x288 with 1 Axes>"
            ]
          },
          "metadata": {
            "tags": [],
            "needs_background": "light"
          }
        }
      ]
    },
    {
      "cell_type": "code",
      "metadata": {
        "colab": {
          "base_uri": "https://localhost:8080/",
          "height": 366
        },
        "id": "YKnSr8MhnV0Y",
        "outputId": "d0afeb2e-e896-4da1-daf4-72bf0cb8c694"
      },
      "source": [
        "sns.boxplot(data['Gols Visitante']).set_title(\"Gols de clubes Visitantes\")"
      ],
      "execution_count": 26,
      "outputs": [
        {
          "output_type": "stream",
          "text": [
            "/usr/local/lib/python3.6/dist-packages/seaborn/_decorators.py:43: FutureWarning: Pass the following variable as a keyword arg: x. From version 0.12, the only valid positional argument will be `data`, and passing other arguments without an explicit keyword will result in an error or misinterpretation.\n",
            "  FutureWarning\n"
          ],
          "name": "stderr"
        },
        {
          "output_type": "execute_result",
          "data": {
            "text/plain": [
              "Text(0.5, 1.0, 'Gols de clubes Visitantes')"
            ]
          },
          "metadata": {
            "tags": []
          },
          "execution_count": 26
        },
        {
          "output_type": "display_data",
          "data": {
            "image/png": "[encoded data removed]",
            "text/plain": [
              "<Figure size 432x288 with 1 Axes>"
            ]
          },
          "metadata": {
            "tags": [],
            "needs_background": "light"
          }
        }
      ]
    },
    {
      "cell_type": "markdown",
      "metadata": {
        "id": "AKqZIvIibM9p"
      },
      "source": [
        "#Estatísticas de Clubes Vencedores"
      ]
    },
    {
      "cell_type": "code",
      "metadata": {
        "id": "qi7FzJgBbwgR",
        "outputId": "ec2190b7-1066-44e6-d97e-a8c65cae694a",
        "colab": {
          "base_uri": "https://localhost:8080/"
        }
      },
      "source": [
        "data_vencedores = data.groupby(['Vencedor']).size()\r\n",
        "data_vencedores.sort_values(ascending=False)"
      ],
      "execution_count": 54,
      "outputs": [
        {
          "output_type": "execute_result",
          "data": {
            "text/plain": [
              "Vencedor\n",
              "-                  2040\n",
              "São paulo           348\n",
              "Cruzeiro            326\n",
              "Santos              325\n",
              "Grêmio              308\n",
              "Internacional       303\n",
              "Flamengo            299\n",
              "Corinthians         296\n",
              "Fluminense          292\n",
              "Athlético-pr        291\n",
              "Atlético-mg         282\n",
              "Palmeiras           280\n",
              "Botafogo-rj         231\n",
              "Vasco               220\n",
              "Goiás               214\n",
              "Coritiba            187\n",
              "Vitória             152\n",
              "Figueirense         151\n",
              "Ponte preta         150\n",
              "Sport               129\n",
              "Bahia               123\n",
              "Paraná              104\n",
              "São caetano         103\n",
              "Juventude            96\n",
              "Chapecoense          69\n",
              "Guarani              63\n",
              "Portuguesa           58\n",
              "Avaí                 57\n",
              "Náutico              54\n",
              "Fortaleza            51\n",
              "Paysandu             50\n",
              "Criciúma             50\n",
              "Ceará                40\n",
              "Atlético-go          39\n",
              "América-mg           38\n",
              "Santa cruz           25\n",
              "Gama                 21\n",
              "Barueri              12\n",
              "Santo andré          11\n",
              "Brasiliense          10\n",
              "Ipatinga              9\n",
              "Csa                   8\n",
              "Joinville             7\n",
              "Grêmio prudente       7\n",
              "Botafogo-sp           6\n",
              "América-rn            4\n",
              "dtype: int64"
            ]
          },
          "metadata": {
            "tags": []
          },
          "execution_count": 54
        }
      ]
    },
    {
      "cell_type": "markdown",
      "metadata": {
        "id": "uKgfUfK9rG0k"
      },
      "source": [
        "Excluindo Empates"
      ]
    },
    {
      "cell_type": "code",
      "metadata": {
        "id": "oxIUwrKGrIvn"
      },
      "source": [
        "data_vencedores = data_vencedores.drop(labels=['-'])"
      ],
      "execution_count": 56,
      "outputs": []
    },
    {
      "cell_type": "code",
      "metadata": {
        "id": "l-5oyHeUmjV4",
        "outputId": "27cd5768-cd18-4389-b0ef-22f72fe90985",
        "colab": {
          "base_uri": "https://localhost:8080/"
        }
      },
      "source": [
        "data_vencedores.describe()"
      ],
      "execution_count": 57,
      "outputs": [
        {
          "output_type": "execute_result",
          "data": {
            "text/plain": [
              "count     45.000000\n",
              "mean     131.088889\n",
              "std      116.459478\n",
              "min        4.000000\n",
              "25%       38.000000\n",
              "50%       96.000000\n",
              "75%      231.000000\n",
              "max      348.000000\n",
              "dtype: float64"
            ]
          },
          "metadata": {
            "tags": []
          },
          "execution_count": 57
        }
      ]
    },
    {
      "cell_type": "markdown",
      "metadata": {
        "id": "NU6VNQHcosEO"
      },
      "source": [
        "Filtrar Clubes por quantidade de vitórias"
      ]
    },
    {
      "cell_type": "code",
      "metadata": {
        "id": "DmGaDcaBtTvi"
      },
      "source": [
        "#@title Quantidade de vitórias por clube\n",
        "win = 100 #@param {type:\"number\"}"
      ],
      "execution_count": 65,
      "outputs": []
    },
    {
      "cell_type": "code",
      "metadata": {
        "id": "MPpVNHEnoyiC",
        "outputId": "9f1c7d4f-aa0f-446d-eec4-bf1d8737a875",
        "colab": {
          "base_uri": "https://localhost:8080/"
        }
      },
      "source": [
        "aux = data_vencedores > win\r\n",
        "data_vencedores[aux].sort_values(ascending=False)"
      ],
      "execution_count": 66,
      "outputs": [
        {
          "output_type": "execute_result",
          "data": {
            "text/plain": [
              "Vencedor\n",
              "São paulo        348\n",
              "Cruzeiro         326\n",
              "Santos           325\n",
              "Grêmio           308\n",
              "Internacional    303\n",
              "Flamengo         299\n",
              "Corinthians      296\n",
              "Fluminense       292\n",
              "Athlético-pr     291\n",
              "Atlético-mg      282\n",
              "Palmeiras        280\n",
              "Botafogo-rj      231\n",
              "Vasco            220\n",
              "Goiás            214\n",
              "Coritiba         187\n",
              "Vitória          152\n",
              "Figueirense      151\n",
              "Ponte preta      150\n",
              "Sport            129\n",
              "Bahia            123\n",
              "Paraná           104\n",
              "São caetano      103\n",
              "dtype: int64"
            ]
          },
          "metadata": {
            "tags": []
          },
          "execution_count": 66
        }
      ]
    },
    {
      "cell_type": "code",
      "metadata": {
        "id": "6eSG2YHPlozG",
        "outputId": "5316a7d3-8b80-4216-f834-67d611ab36ad",
        "colab": {
          "base_uri": "https://localhost:8080/",
          "height": 461
        }
      },
      "source": [
        "# gráfico de colunas\r\n",
        "data_vencedores[aux].sort_values(ascending=False).plot.bar(rot=90,color='gray',figsize=(8,6))"
      ],
      "execution_count": 80,
      "outputs": [
        {
          "output_type": "execute_result",
          "data": {
            "text/plain": [
              "<matplotlib.axes._subplots.AxesSubplot at 0x7fe35257b828>"
            ]
          },
          "metadata": {
            "tags": []
          },
          "execution_count": 80
        },
        {
          "output_type": "display_data",
          "data": {
            "image/png": "[encoded data removed]",
            "text/plain": [
              "<Figure size 576x432 with 1 Axes>"
            ]
          },
          "metadata": {
            "tags": [],
            "needs_background": "light"
          }
        }
      ]
    },
    {
      "cell_type": "markdown",
      "metadata": {
        "id": "Yxhagy8BwkbZ"
      },
      "source": [
        "#Histogramas"
      ]
    },
    {
      "cell_type": "markdown",
      "metadata": {
        "id": "1kVOIARdwp_y"
      },
      "source": [
        "Gols"
      ]
    },
    {
      "cell_type": "code",
      "metadata": {
        "id": "TDiG18oDvq7u",
        "outputId": "cc8c14fd-8544-418a-aa20-c37f044aaa7e",
        "colab": {
          "base_uri": "https://localhost:8080/",
          "height": 366
        }
      },
      "source": [
        "sea.distplot(data['Gols Mandante']).set_title('Histograma Gols Mandante')"
      ],
      "execution_count": 86,
      "outputs": [
        {
          "output_type": "stream",
          "text": [
            "/usr/local/lib/python3.6/dist-packages/seaborn/distributions.py:2551: FutureWarning: `distplot` is a deprecated function and will be removed in a future version. Please adapt your code to use either `displot` (a figure-level function with similar flexibility) or `histplot` (an axes-level function for histograms).\n",
            "  warnings.warn(msg, FutureWarning)\n"
          ],
          "name": "stderr"
        },
        {
          "output_type": "execute_result",
          "data": {
            "text/plain": [
              "Text(0.5, 1.0, 'Histograma Gols Mandante')"
            ]
          },
          "metadata": {
            "tags": []
          },
          "execution_count": 86
        },
        {
          "output_type": "display_data",
          "data": {
            "image/png": "[encoded data removed]",
            "text/plain": [
              "<Figure size 432x288 with 1 Axes>"
            ]
          },
          "metadata": {
            "tags": [],
            "needs_background": "light"
          }
        }
      ]
    },
    {
      "cell_type": "code",
      "metadata": {
        "id": "FbZlucHQwsPj",
        "outputId": "5dbf52dc-1071-40fa-9465-6cd3bca2b881",
        "colab": {
          "base_uri": "https://localhost:8080/",
          "height": 366
        }
      },
      "source": [
        "sea.distplot(data['Gols Visitante']).set_title('Histograma Gols Visitante')"
      ],
      "execution_count": 87,
      "outputs": [
        {
          "output_type": "stream",
          "text": [
            "/usr/local/lib/python3.6/dist-packages/seaborn/distributions.py:2551: FutureWarning: `distplot` is a deprecated function and will be removed in a future version. Please adapt your code to use either `displot` (a figure-level function with similar flexibility) or `histplot` (an axes-level function for histograms).\n",
            "  warnings.warn(msg, FutureWarning)\n"
          ],
          "name": "stderr"
        },
        {
          "output_type": "execute_result",
          "data": {
            "text/plain": [
              "Text(0.5, 1.0, 'Histograma Gols Visitante')"
            ]
          },
          "metadata": {
            "tags": []
          },
          "execution_count": 87
        },
        {
          "output_type": "display_data",
          "data": {
            "image/png": "[encoded data removed]",
            "text/plain": [
              "<Figure size 432x288 with 1 Axes>"
            ]
          },
          "metadata": {
            "tags": [],
            "needs_background": "light"
          }
        }
      ]
    },
    {
      "cell_type": "code",
      "metadata": {
        "id": "630aYRe4w5q4",
        "outputId": "4d885fe6-b66b-4481-db3c-4a2aafa961bd",
        "colab": {
          "base_uri": "https://localhost:8080/",
          "height": 352
        }
      },
      "source": [
        "sea.distplot(data_vencedores).set_title('Histograma Clubes Vencedores')"
      ],
      "execution_count": 92,
      "outputs": [
        {
          "output_type": "stream",
          "text": [
            "/usr/local/lib/python3.6/dist-packages/seaborn/distributions.py:2551: FutureWarning: `distplot` is a deprecated function and will be removed in a future version. Please adapt your code to use either `displot` (a figure-level function with similar flexibility) or `histplot` (an axes-level function for histograms).\n",
            "  warnings.warn(msg, FutureWarning)\n"
          ],
          "name": "stderr"
        },
        {
          "output_type": "execute_result",
          "data": {
            "text/plain": [
              "Text(0.5, 1.0, 'Histograma Clubes Vencedores')"
            ]
          },
          "metadata": {
            "tags": []
          },
          "execution_count": 92
        },
        {
          "output_type": "display_data",
          "data": {
            "image/png": "[encoded data removed]",
            "text/plain": [
              "<Figure size 432x288 with 1 Axes>"
            ]
          },
          "metadata": {
            "tags": [],
            "needs_background": "light"
          }
        }
      ]
    }
  ]
}