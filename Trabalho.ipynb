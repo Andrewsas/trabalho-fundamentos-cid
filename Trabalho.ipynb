{
  "nbformat": 4,
  "nbformat_minor": 0,
  "metadata": {
    "colab": {
      "name": "Trabalho",
      "provenance": [],
      "collapsed_sections": [],
      "include_colab_link": true
    },
    "kernelspec": {
      "name": "python3",
      "display_name": "Python 3"
    }
  },
  "cells": [
    {
      "cell_type": "markdown",
      "metadata": {
        "id": "view-in-github",
        "colab_type": "text"
      },
      "source": [
        "<a href=\"https://colab.research.google.com/github/Andrewsas/trabalho-fundamentos-cid/blob/master/Trabalho.ipynb\" target=\"_parent\"><img src=\"https://colab.research.google.com/assets/colab-badge.svg\" alt=\"Open In Colab\"/></a>"
      ]
    },
    {
      "cell_type": "markdown",
      "metadata": {
        "id": "zTHz0U-a4-8s"
      },
      "source": [
        "#Instalação de pacotes"
      ]
    },
    {
      "cell_type": "code",
      "metadata": {
        "id": "C6k3JBwo5EOJ",
        "outputId": "60598b43-a8f0-4dba-e8f2-bb597295e61e",
        "colab": {
          "base_uri": "https://localhost:8080/"
        }
      },
      "source": [
        "!python -m textblob.download_corpora"
      ],
      "execution_count": 1,
      "outputs": [
        {
          "output_type": "stream",
          "text": [
            "[nltk_data] Downloading package brown to /root/nltk_data...\n",
            "[nltk_data]   Unzipping corpora/brown.zip.\n",
            "[nltk_data] Downloading package punkt to /root/nltk_data...\n",
            "[nltk_data]   Unzipping tokenizers/punkt.zip.\n",
            "[nltk_data] Downloading package wordnet to /root/nltk_data...\n",
            "[nltk_data]   Unzipping corpora/wordnet.zip.\n",
            "[nltk_data] Downloading package averaged_perceptron_tagger to\n",
            "[nltk_data]     /root/nltk_data...\n",
            "[nltk_data]   Unzipping taggers/averaged_perceptron_tagger.zip.\n",
            "[nltk_data] Downloading package conll2000 to /root/nltk_data...\n",
            "[nltk_data]   Unzipping corpora/conll2000.zip.\n",
            "[nltk_data] Downloading package movie_reviews to /root/nltk_data...\n",
            "[nltk_data]   Unzipping corpora/movie_reviews.zip.\n",
            "Finished.\n"
          ],
          "name": "stdout"
        }
      ]
    },
    {
      "cell_type": "markdown",
      "metadata": {
        "id": "ptQ2xYYXY3IY"
      },
      "source": [
        "#Importar pacotes\n"
      ]
    },
    {
      "cell_type": "code",
      "metadata": {
        "id": "N0PSqN8vZN5d"
      },
      "source": [
        "import pandas as pd\n",
        "import string\n",
        "import time\n",
        "import csv\n",
        "from ast import literal_eval\n",
        "from textblob import TextBlob\n",
        "from google.colab import drive\n"
      ],
      "execution_count": 23,
      "outputs": []
    },
    {
      "cell_type": "markdown",
      "metadata": {
        "id": "fOTCU_X1ZxEk"
      },
      "source": [
        "#Baixar dataset"
      ]
    },
    {
      "cell_type": "code",
      "metadata": {
        "id": "Jw3FouMkK9r8",
        "outputId": "114fb209-b7b8-42f4-d3b7-e7a63b068f8e",
        "colab": {
          "base_uri": "https://localhost:8080/"
        }
      },
      "source": [
        "#baixa o arquivo do dataset para o ambiente colab\n",
        "!wget \"http://tiagodemelo.info/datasets/dataset-v2.dat\"\n",
        "\n"
      ],
      "execution_count": 3,
      "outputs": [
        {
          "output_type": "stream",
          "text": [
            "--2020-11-11 00:17:48--  http://tiagodemelo.info/datasets/dataset-v2.dat\n",
            "Resolving tiagodemelo.info (tiagodemelo.info)... 108.167.188.189\n",
            "Connecting to tiagodemelo.info (tiagodemelo.info)|108.167.188.189|:80... connected.\n",
            "HTTP request sent, awaiting response... 200 OK\n",
            "Length: 89773865 (86M)\n",
            "Saving to: ‘dataset-v2.dat’\n",
            "\n",
            "dataset-v2.dat      100%[===================>]  85.61M  20.3MB/s    in 4.7s    \n",
            "\n",
            "2020-11-11 00:17:54 (18.1 MB/s) - ‘dataset-v2.dat’ saved [89773865/89773865]\n",
            "\n"
          ],
          "name": "stdout"
        }
      ]
    },
    {
      "cell_type": "code",
      "metadata": {
        "id": "1ir_cFOyTZbQ"
      },
      "source": [
        "# ler o arquivo com dos dados do dataset baixado\n",
        "file = open(\"./dataset-v2.dat\",'r')\n",
        "\n",
        "# sepera em linhas os dados\n",
        "rows = file.readlines()\n",
        "\n",
        "# fecha o arquivo\n",
        "file.close()\n",
        "\n",
        "# criar uma lista para salvar os dicionarios\n",
        "dictionaries = []\n",
        "\n",
        "for row in rows:\n",
        "  #transforma literal em dicionario\n",
        "  saveDic = literal_eval(row)\n",
        "\n",
        "  #adiciona atributos de subdicionarios no dicionario mais externo\n",
        "  saveDic.update(saveDic['itemReviewed'].items())\n",
        "  saveDic.update(saveDic['itemReviewed']['address'].items())\n",
        "\n",
        "  # #delete subdicionarios\n",
        "  del saveDic['address']\n",
        "  del saveDic['itemReviewed']\n",
        "\n",
        "  #adiciona na lista de dicionarios\n",
        "  dictionaries.append(saveDic)\n",
        "\n",
        "\n"
      ],
      "execution_count": 4,
      "outputs": []
    },
    {
      "cell_type": "code",
      "metadata": {
        "id": "LsQPEbPBMg_w",
        "outputId": "e854847d-6d88-41e4-c306-15fd5489d512",
        "colab": {
          "base_uri": "https://localhost:8080/",
          "height": 564
        }
      },
      "source": [
        "# transforma a lista de dicionario em dataframe\n",
        "data = pd.DataFrame(dictionaries)\n",
        "\n",
        "data.head()"
      ],
      "execution_count": 5,
      "outputs": [
        {
          "output_type": "execute_result",
          "data": {
            "text/html": [
              "<div>\n",
              "<style scoped>\n",
              "    .dataframe tbody tr th:only-of-type {\n",
              "        vertical-align: middle;\n",
              "    }\n",
              "\n",
              "    .dataframe tbody tr th {\n",
              "        vertical-align: top;\n",
              "    }\n",
              "\n",
              "    .dataframe thead th {\n",
              "        text-align: right;\n",
              "    }\n",
              "</style>\n",
              "<table border=\"1\" class=\"dataframe\">\n",
              "  <thead>\n",
              "    <tr style=\"text-align: right;\">\n",
              "      <th></th>\n",
              "      <th>title</th>\n",
              "      <th>reviewId</th>\n",
              "      <th>restaurantId</th>\n",
              "      <th>author</th>\n",
              "      <th>reviewBody</th>\n",
              "      <th>language</th>\n",
              "      <th>mobileDevice</th>\n",
              "      <th>userLocation</th>\n",
              "      <th>publicationDate</th>\n",
              "      <th>visitDate</th>\n",
              "      <th>ratingValue</th>\n",
              "      <th>name</th>\n",
              "      <th>website</th>\n",
              "      <th>email</th>\n",
              "      <th>phoneNumber</th>\n",
              "      <th>averageRating</th>\n",
              "      <th>streetAddress</th>\n",
              "      <th>addressLocality</th>\n",
              "      <th>addressRegion</th>\n",
              "      <th>postalCode</th>\n",
              "      <th>country</th>\n",
              "    </tr>\n",
              "  </thead>\n",
              "  <tbody>\n",
              "    <tr>\n",
              "      <th>0</th>\n",
              "      <td>Jantar</td>\n",
              "      <td>692856288</td>\n",
              "      <td>2344932</td>\n",
              "      <td>larinhavercosa222</td>\n",
              "      <td>Comida maravilhosa, lugar do verdadeiro chicle...</td>\n",
              "      <td>pt</td>\n",
              "      <td>True</td>\n",
              "      <td>São Carlos, SP</td>\n",
              "      <td>26/07/2019</td>\n",
              "      <td>07/2019</td>\n",
              "      <td>5</td>\n",
              "      <td>Imperador dos Camarões</td>\n",
              "      <td>http://www.imperadordoscamaroes.com.br</td>\n",
              "      <td>contato@imperadordoscamaroes.com.br</td>\n",
              "      <td>+55 82 3231-4134</td>\n",
              "      <td>4.5</td>\n",
              "      <td>Avenida Doutor Antônio Gouveia</td>\n",
              "      <td></td>\n",
              "      <td>Alagoas</td>\n",
              "      <td>57030-170</td>\n",
              "      <td>Brasil</td>\n",
              "    </tr>\n",
              "    <tr>\n",
              "      <th>1</th>\n",
              "      <td>Uma boa experiência.</td>\n",
              "      <td>229208487</td>\n",
              "      <td>3720906</td>\n",
              "      <td>Pano P</td>\n",
              "      <td>Comida boa, drinks legais e um ambiente bem ac...</td>\n",
              "      <td>pt</td>\n",
              "      <td>True</td>\n",
              "      <td>Manaus, AM</td>\n",
              "      <td>16/09/2014</td>\n",
              "      <td>None</td>\n",
              "      <td>4</td>\n",
              "      <td>Guacamole Natal</td>\n",
              "      <td>http://www.facebook.com/GuacamoleNatal</td>\n",
              "      <td>guacamolenatal@gmail.com</td>\n",
              "      <td>+55 84 3219-3646</td>\n",
              "      <td>4.5</td>\n",
              "      <td>Avenida Praia de Ponta Negra 9068 Ponta Negra</td>\n",
              "      <td></td>\n",
              "      <td>Rio Grande do Norte</td>\n",
              "      <td>59092-100</td>\n",
              "      <td>Brasil</td>\n",
              "    </tr>\n",
              "    <tr>\n",
              "      <th>2</th>\n",
              "      <td>Otimo self service</td>\n",
              "      <td>679002332</td>\n",
              "      <td>2248105</td>\n",
              "      <td>Magma100</td>\n",
              "      <td>Excelente pra ir com a família! Ótima Comida, ...</td>\n",
              "      <td>pt</td>\n",
              "      <td>True</td>\n",
              "      <td>Goiânia, GO</td>\n",
              "      <td>04/06/2019</td>\n",
              "      <td>07/2018</td>\n",
              "      <td>4</td>\n",
              "      <td>Chica Pitanga</td>\n",
              "      <td>http://www.chicapitanga.com.br</td>\n",
              "      <td>chicapitanga@chicapitanga.com.br</td>\n",
              "      <td>+55 81 3334-8260</td>\n",
              "      <td>4.5</td>\n",
              "      <td>Rua Petrolina 19</td>\n",
              "      <td>Recife</td>\n",
              "      <td>Pernambuco</td>\n",
              "      <td>51021-250</td>\n",
              "      <td>Brasil</td>\n",
              "    </tr>\n",
              "    <tr>\n",
              "      <th>3</th>\n",
              "      <td>O sorvete mais tradicional do estado</td>\n",
              "      <td>355671519</td>\n",
              "      <td>8168302</td>\n",
              "      <td>Yurie M</td>\n",
              "      <td>Tomo sorvete na Visabor faz mais de 30 anos. S...</td>\n",
              "      <td>pt</td>\n",
              "      <td>False</td>\n",
              "      <td>Aracaju, SE</td>\n",
              "      <td>15/03/2016</td>\n",
              "      <td>01/2016</td>\n",
              "      <td>5</td>\n",
              "      <td>Sorvetes Vi Sabor</td>\n",
              "      <td>None</td>\n",
              "      <td>None</td>\n",
              "      <td>None</td>\n",
              "      <td>4.0</td>\n",
              "      <td>Avenida Francisco Porto 59 Grageru</td>\n",
              "      <td>Aracaju</td>\n",
              "      <td>Sergipe</td>\n",
              "      <td></td>\n",
              "      <td>Brasil</td>\n",
              "    </tr>\n",
              "    <tr>\n",
              "      <th>4</th>\n",
              "      <td>Melhor hamburger!</td>\n",
              "      <td>268741921</td>\n",
              "      <td>5395141</td>\n",
              "      <td>Debora_C85</td>\n",
              "      <td>O melhor hamburger que já comi! Excelente aten...</td>\n",
              "      <td>pt</td>\n",
              "      <td>False</td>\n",
              "      <td>Rio de Janeiro, RJ</td>\n",
              "      <td>28/04/2015</td>\n",
              "      <td>04/2015</td>\n",
              "      <td>5</td>\n",
              "      <td>Z Deli Sandwich Shop</td>\n",
              "      <td>http://www.facebook.com/zdelisandwichshop/</td>\n",
              "      <td>None</td>\n",
              "      <td>551130830021</td>\n",
              "      <td>4.5</td>\n",
              "      <td>Rua Haddock Lobo 1386 Jardins</td>\n",
              "      <td>São Paulo</td>\n",
              "      <td>Estado de São Paulo</td>\n",
              "      <td>01414-002</td>\n",
              "      <td>Brasil</td>\n",
              "    </tr>\n",
              "  </tbody>\n",
              "</table>\n",
              "</div>"
            ],
            "text/plain": [
              "                                  title   reviewId  ... postalCode country\n",
              "0                               Jantar   692856288  ...  57030-170  Brasil\n",
              "1                  Uma boa experiência.  229208487  ...  59092-100  Brasil\n",
              "2                    Otimo self service  679002332  ...  51021-250  Brasil\n",
              "3  O sorvete mais tradicional do estado  355671519  ...             Brasil\n",
              "4                     Melhor hamburger!  268741921  ...  01414-002  Brasil\n",
              "\n",
              "[5 rows x 21 columns]"
            ]
          },
          "metadata": {
            "tags": []
          },
          "execution_count": 5
        }
      ]
    },
    {
      "cell_type": "markdown",
      "metadata": {
        "id": "0MSpPqASBP26"
      },
      "source": [
        "#Tratamento de Comentários Vazios"
      ]
    },
    {
      "cell_type": "code",
      "metadata": {
        "id": "onZNoesDBUxQ",
        "outputId": "12c2681b-9f74-4f47-eb6f-0ef2d56a382a",
        "colab": {
          "base_uri": "https://localhost:8080/",
          "height": 168
        }
      },
      "source": [
        "#seleciona tuplas vazias\n",
        "data[pd.isnull(data.reviewBody)]"
      ],
      "execution_count": 6,
      "outputs": [
        {
          "output_type": "execute_result",
          "data": {
            "text/html": [
              "<div>\n",
              "<style scoped>\n",
              "    .dataframe tbody tr th:only-of-type {\n",
              "        vertical-align: middle;\n",
              "    }\n",
              "\n",
              "    .dataframe tbody tr th {\n",
              "        vertical-align: top;\n",
              "    }\n",
              "\n",
              "    .dataframe thead th {\n",
              "        text-align: right;\n",
              "    }\n",
              "</style>\n",
              "<table border=\"1\" class=\"dataframe\">\n",
              "  <thead>\n",
              "    <tr style=\"text-align: right;\">\n",
              "      <th></th>\n",
              "      <th>title</th>\n",
              "      <th>reviewId</th>\n",
              "      <th>restaurantId</th>\n",
              "      <th>author</th>\n",
              "      <th>reviewBody</th>\n",
              "      <th>language</th>\n",
              "      <th>mobileDevice</th>\n",
              "      <th>userLocation</th>\n",
              "      <th>publicationDate</th>\n",
              "      <th>visitDate</th>\n",
              "      <th>ratingValue</th>\n",
              "      <th>name</th>\n",
              "      <th>website</th>\n",
              "      <th>email</th>\n",
              "      <th>phoneNumber</th>\n",
              "      <th>averageRating</th>\n",
              "      <th>streetAddress</th>\n",
              "      <th>addressLocality</th>\n",
              "      <th>addressRegion</th>\n",
              "      <th>postalCode</th>\n",
              "      <th>country</th>\n",
              "    </tr>\n",
              "  </thead>\n",
              "  <tbody>\n",
              "    <tr>\n",
              "      <th>8528</th>\n",
              "      <td>Vale a pena conhecer!</td>\n",
              "      <td>224445539</td>\n",
              "      <td>NaN</td>\n",
              "      <td>NaN</td>\n",
              "      <td>NaN</td>\n",
              "      <td>pt</td>\n",
              "      <td>False</td>\n",
              "      <td>Recife, PE</td>\n",
              "      <td>25/08/2014</td>\n",
              "      <td>12/2013</td>\n",
              "      <td>4</td>\n",
              "      <td>Outback Steakhouse - Shopping RioMar Recife</td>\n",
              "      <td>https://www.outback.com.br/restaurantes/shoppi...</td>\n",
              "      <td>faleconosco@outback.com.br</td>\n",
              "      <td>+55 81 3035-0930</td>\n",
              "      <td>4.5</td>\n",
              "      <td>Av República do Líbano, 256 Shopping RioMar Re...</td>\n",
              "      <td>Recife</td>\n",
              "      <td>Pernambuco</td>\n",
              "      <td>51110-160</td>\n",
              "      <td>Brasil</td>\n",
              "    </tr>\n",
              "  </tbody>\n",
              "</table>\n",
              "</div>"
            ],
            "text/plain": [
              "                      title   reviewId  ... postalCode country\n",
              "8528  Vale a pena conhecer!  224445539  ...  51110-160  Brasil\n",
              "\n",
              "[1 rows x 21 columns]"
            ]
          },
          "metadata": {
            "tags": []
          },
          "execution_count": 6
        }
      ]
    },
    {
      "cell_type": "code",
      "metadata": {
        "id": "xeG28eLrBnsm",
        "outputId": "0d966e2e-8b86-4eed-ab76-6c829d9df315",
        "colab": {
          "base_uri": "https://localhost:8080/",
          "height": 35
        }
      },
      "source": [
        "data.reviewBody.fillna('VAZIO')\n",
        "\n",
        "data.reviewBody[8].encode('utf-16', 'surrogatepass').decode('utf-16')"
      ],
      "execution_count": 7,
      "outputs": [
        {
          "output_type": "execute_result",
          "data": {
            "application/vnd.google.colaboratory.intrinsic+json": {
              "type": "string"
            },
            "text/plain": [
              "'Ambiente agradável, preço totalmente acessível, e adoro o cardápio de lá! Sem falar no atendimento maravilhoso! Voltarei sempre 😘'"
            ]
          },
          "metadata": {
            "tags": []
          },
          "execution_count": 7
        }
      ]
    },
    {
      "cell_type": "markdown",
      "metadata": {
        "id": "Fc2lMU7xaFXE"
      },
      "source": [
        "#Obter sentenças"
      ]
    },
    {
      "cell_type": "markdown",
      "metadata": {
        "id": "3g5FucK7aRxw"
      },
      "source": [
        "**Text Blob**"
      ]
    },
    {
      "cell_type": "code",
      "metadata": {
        "id": "jqwbEuWjaplq"
      },
      "source": [
        "# criar uma lista para salvar os blobs\n",
        "comentario_blob = []\n",
        "\n",
        "#Obter lista dos comentários\n",
        "comentarios = data.reviewBody\n",
        "\n",
        "# Iteração em cada review\n",
        "for comentario in comentarios:\n",
        "  #Obter sentenças tratando emojis\n",
        "  aux = TextBlob(str(comentario).encode('utf-16', 'surrogatepass').decode('utf-16'))\n",
        "  for sentence in aux.sentences:\n",
        "    if sentence != \"!\" and sentence != \".\" and sentence != \"..\" and sentence != \"rs\" and sentence != \"Aff.\" :\n",
        "      comentario_blob.append(sentence)"
      ],
      "execution_count": 66,
      "outputs": []
    },
    {
      "cell_type": "code",
      "metadata": {
        "id": "yDbiAMChEPos",
        "outputId": "b80c1239-aa52-4b98-b009-482ef58092f0",
        "colab": {
          "base_uri": "https://localhost:8080/"
        }
      },
      "source": [
        "#Imprima as 10 primeiras sentenças\n",
        "comentario_blob[:10]"
      ],
      "execution_count": 67,
      "outputs": [
        {
          "output_type": "execute_result",
          "data": {
            "text/plain": [
              "[Sentence(\"Comida maravilhosa, lugar do verdadeiro chiclete de camarão.\"),\n",
              " Sentence(\"O garçom Éric Lima nos atendeu muito bem, pretendemos voltar assim que possível.\"),\n",
              " Sentence(\"Comida boa, drinks legais e um ambiente bem aconchegante.\"),\n",
              " Sentence(\"Provamos muitas coisas e tudo nos agradou.\"),\n",
              " Sentence(\"Principalmente um pato servido em um dos pratos da casa, sensacional!\"),\n",
              " Sentence(\"Excelente pra ir com a família!\"),\n",
              " Sentence(\"Ótima Comida, ambiente agradável, bom atendimento e estacionamento.\"),\n",
              " Sentence(\"Vale a pena conhecer\"),\n",
              " Sentence(\"Tomo sorvete na Visabor faz mais de 30 anos.\"),\n",
              " Sentence(\"Sabores de frutas ou artificiais.\")]"
            ]
          },
          "metadata": {
            "tags": []
          },
          "execution_count": 67
        }
      ]
    },
    {
      "cell_type": "markdown",
      "metadata": {
        "id": "aUsUUofkp6jd"
      },
      "source": [
        "#Salvar no Drive"
      ]
    },
    {
      "cell_type": "markdown",
      "metadata": {
        "id": "qEOoCP_9rSjk"
      },
      "source": [
        "Montar drive"
      ]
    },
    {
      "cell_type": "code",
      "metadata": {
        "id": "JnDYRXkhrVxk",
        "outputId": "78d2775c-b943-4379-ae61-59e7ea4d4f63",
        "colab": {
          "base_uri": "https://localhost:8080/"
        }
      },
      "source": [
        "drive.mount('/content/drive/', force_remount='true')"
      ],
      "execution_count": 68,
      "outputs": [
        {
          "output_type": "stream",
          "text": [
            "Mounted at /content/drive/\n"
          ],
          "name": "stdout"
        }
      ]
    },
    {
      "cell_type": "markdown",
      "metadata": {
        "id": "r86-owtv2-kn"
      },
      "source": [
        "Salvar no drive documento com comentários para tradução posterior. "
      ]
    },
    {
      "cell_type": "code",
      "metadata": {
        "id": "ly4TDcaop_Us",
        "outputId": "d57eeb2f-7bfc-4a86-8732-62dd231f971d",
        "colab": {
          "base_uri": "https://localhost:8080/",
          "height": 455
        }
      },
      "source": [
        "!ls -la 'drive/My Drive/sentiment_analysis_project/'\n",
        "\n",
        "drive_file = \"drive/My Drive/sentiment_analysis_project/translate.csv\" \n",
        "file = open(drive_file,'r')\n",
        "\n",
        "data_translate = pd.read_csv(file)\n",
        "\n",
        "# Iteração em cada review\n",
        "for cmt in comentarios:\n",
        "  try:\n",
        "    #Obter sentenças tratando emojis\n",
        "    comment_aux = str(cmt).encode('utf-16', 'surrogatepass').decode('utf-16')\n",
        "    #cria objeto para adicionar ao dataframe\n",
        "    obj_aux = { 'review': comment_aux, 'review_us': 'EMPTY' }\n",
        "    # adiciona ao dataframe\n",
        "    data_translate = data_translate.append(obj_aux, ignore_index=True)\n",
        "  except:\n",
        "    print(\"exception: \" + cmt)\n",
        "\n",
        "# Salva arquivo no google Drive\n",
        "data_translate.to_csv(drive_file, index=False, header=True)    \n",
        "data_translate"
      ],
      "execution_count": 104,
      "outputs": [
        {
          "output_type": "stream",
          "text": [
            "total 1\n",
            "-rw------- 1 root root 18 Nov 11 01:16 translate.csv\n"
          ],
          "name": "stdout"
        },
        {
          "output_type": "execute_result",
          "data": {
            "text/html": [
              "<div>\n",
              "<style scoped>\n",
              "    .dataframe tbody tr th:only-of-type {\n",
              "        vertical-align: middle;\n",
              "    }\n",
              "\n",
              "    .dataframe tbody tr th {\n",
              "        vertical-align: top;\n",
              "    }\n",
              "\n",
              "    .dataframe thead th {\n",
              "        text-align: right;\n",
              "    }\n",
              "</style>\n",
              "<table border=\"1\" class=\"dataframe\">\n",
              "  <thead>\n",
              "    <tr style=\"text-align: right;\">\n",
              "      <th></th>\n",
              "      <th>review</th>\n",
              "      <th>review_us</th>\n",
              "    </tr>\n",
              "  </thead>\n",
              "  <tbody>\n",
              "    <tr>\n",
              "      <th>0</th>\n",
              "      <td>Comida maravilhosa, lugar do verdadeiro chicle...</td>\n",
              "      <td>EMPTY</td>\n",
              "    </tr>\n",
              "    <tr>\n",
              "      <th>1</th>\n",
              "      <td>Comida boa, drinks legais e um ambiente bem ac...</td>\n",
              "      <td>EMPTY</td>\n",
              "    </tr>\n",
              "    <tr>\n",
              "      <th>2</th>\n",
              "      <td>Excelente pra ir com a família! Ótima Comida, ...</td>\n",
              "      <td>EMPTY</td>\n",
              "    </tr>\n",
              "    <tr>\n",
              "      <th>3</th>\n",
              "      <td>Tomo sorvete na Visabor faz mais de 30 anos. S...</td>\n",
              "      <td>EMPTY</td>\n",
              "    </tr>\n",
              "    <tr>\n",
              "      <th>4</th>\n",
              "      <td>O melhor hamburger que já comi! Excelente aten...</td>\n",
              "      <td>EMPTY</td>\n",
              "    </tr>\n",
              "    <tr>\n",
              "      <th>...</th>\n",
              "      <td>...</td>\n",
              "      <td>...</td>\n",
              "    </tr>\n",
              "    <tr>\n",
              "      <th>99995</th>\n",
              "      <td>Ainda não inaugurado oficialmente, está atende...</td>\n",
              "      <td>EMPTY</td>\n",
              "    </tr>\n",
              "    <tr>\n",
              "      <th>99996</th>\n",
              "      <td>Bom atendimento, lugar bonito, comida muito go...</td>\n",
              "      <td>EMPTY</td>\n",
              "    </tr>\n",
              "    <tr>\n",
              "      <th>99997</th>\n",
              "      <td>O Rio Scenarium é uma das baladas mais famosas...</td>\n",
              "      <td>EMPTY</td>\n",
              "    </tr>\n",
              "    <tr>\n",
              "      <th>99998</th>\n",
              "      <td>Fui por indicação e com boa expectativa!\\n116,...</td>\n",
              "      <td>EMPTY</td>\n",
              "    </tr>\n",
              "    <tr>\n",
              "      <th>99999</th>\n",
              "      <td>Experiência fantástica com comida deliciosa e ...</td>\n",
              "      <td>EMPTY</td>\n",
              "    </tr>\n",
              "  </tbody>\n",
              "</table>\n",
              "<p>100000 rows × 2 columns</p>\n",
              "</div>"
            ],
            "text/plain": [
              "                                                  review review_us\n",
              "0      Comida maravilhosa, lugar do verdadeiro chicle...     EMPTY\n",
              "1      Comida boa, drinks legais e um ambiente bem ac...     EMPTY\n",
              "2      Excelente pra ir com a família! Ótima Comida, ...     EMPTY\n",
              "3      Tomo sorvete na Visabor faz mais de 30 anos. S...     EMPTY\n",
              "4      O melhor hamburger que já comi! Excelente aten...     EMPTY\n",
              "...                                                  ...       ...\n",
              "99995  Ainda não inaugurado oficialmente, está atende...     EMPTY\n",
              "99996  Bom atendimento, lugar bonito, comida muito go...     EMPTY\n",
              "99997  O Rio Scenarium é uma das baladas mais famosas...     EMPTY\n",
              "99998  Fui por indicação e com boa expectativa!\\n116,...     EMPTY\n",
              "99999  Experiência fantástica com comida deliciosa e ...     EMPTY\n",
              "\n",
              "[100000 rows x 2 columns]"
            ]
          },
          "metadata": {
            "tags": []
          },
          "execution_count": 104
        }
      ]
    },
    {
      "cell_type": "markdown",
      "metadata": {
        "id": "-Kj9cclkF4tH"
      },
      "source": [
        "#Traduzir sentenças"
      ]
    },
    {
      "cell_type": "markdown",
      "metadata": {
        "id": "E7_ICscSGBOc"
      },
      "source": [
        "Comentários traduzidos para Inglês (US) a partir de CSV no google drive."
      ]
    },
    {
      "cell_type": "code",
      "metadata": {
        "id": "-VI627JfA8ar",
        "outputId": "4df3f6c5-39fb-4ae4-f8b3-c447279daf3e",
        "colab": {
          "base_uri": "https://localhost:8080/",
          "height": 565
        }
      },
      "source": [
        "drive_file = \"drive/My Drive/sentiment_analysis_project/translate_us.csv\" \n",
        "\n",
        "data_translate = pd.read_csv(drive_file)\n",
        "\n",
        "dt = data_translate.loc[data_translate['review_us'] == 'EMPTY']\n",
        "\n",
        "#Obter lista dos comentários\n",
        "comentarios = dt.review\n",
        "\n",
        "# Iteração em cada review. Colocar o número de interações que deseja realizar.\n",
        "for comentario in comentarios[:5]:\n",
        "  try:\n",
        "    time.sleep(1)\n",
        "    # Obter sentenças tratando emojis\n",
        "    txt_blob_aux = TextBlob(str(comentario).encode('utf-16', 'surrogatepass').decode('utf-16'))\n",
        "    aux_us = str(txt_blob_aux.translate(to='us'))\n",
        "    print(aux_us)\n",
        "\n",
        "    # Atualiza dataframe\n",
        "    data_translate.at[(data_translate['review'] == comentario), 'review_us'] = aux_us\n",
        "  except:\n",
        "      print(\"EXCEPTION: \" + str(txt_blob_aux))\n",
        "\n",
        "\n",
        "# Salva arquivo no google Drive\n",
        "data_translate.to_csv(drive_file, index=False, header=True)\n",
        "\n",
        "data_translate"
      ],
      "execution_count": 133,
      "outputs": [
        {
          "output_type": "stream",
          "text": [
            "I have had ice cream at Visabor for over 30 years. Fruit or artificial flavors. Crunchy cone and simple atmosphere. Very good prices. I recommend\n",
            "The best hamburger I've ever eaten! Excellent service, the food was great. The restaurant is quite small, but nice and fun.\n",
            "The restaurant is new, super cozy and charming with great service. The portions are generous, very tasty and at a fair price. Good selection of wines. I highly recommend the seafood spaghetti, bolognese, carbonara and risotto. The tiramisu is also fantastic.\n",
            "Every time I went with my boyfriend, but it is an excellent environment to take family or friends.\n",
            "We went on a Saturday, elegant atmosphere, kind and friendly staff. We ate a very tasty curry, but the filet was not filet. The dessert (pineapple wonton with pepper jelly and ice cream) was great.\n",
            "Great food with good attendance and with a lot of good things to take your wife and girlfriend and family because the food portions are good!\n",
            "thank you\n"
          ],
          "name": "stdout"
        },
        {
          "output_type": "execute_result",
          "data": {
            "text/html": [
              "<div>\n",
              "<style scoped>\n",
              "    .dataframe tbody tr th:only-of-type {\n",
              "        vertical-align: middle;\n",
              "    }\n",
              "\n",
              "    .dataframe tbody tr th {\n",
              "        vertical-align: top;\n",
              "    }\n",
              "\n",
              "    .dataframe thead th {\n",
              "        text-align: right;\n",
              "    }\n",
              "</style>\n",
              "<table border=\"1\" class=\"dataframe\">\n",
              "  <thead>\n",
              "    <tr style=\"text-align: right;\">\n",
              "      <th></th>\n",
              "      <th>review</th>\n",
              "      <th>review_us</th>\n",
              "    </tr>\n",
              "  </thead>\n",
              "  <tbody>\n",
              "    <tr>\n",
              "      <th>0</th>\n",
              "      <td>Comida maravilhosa, lugar do verdadeiro chicle...</td>\n",
              "      <td>Wonderful food, the place for real shrimp gum....</td>\n",
              "    </tr>\n",
              "    <tr>\n",
              "      <th>1</th>\n",
              "      <td>Comida boa, drinks legais e um ambiente bem ac...</td>\n",
              "      <td>Good food, nice drinks and a very cozy atmosph...</td>\n",
              "    </tr>\n",
              "    <tr>\n",
              "      <th>2</th>\n",
              "      <td>Excelente pra ir com a família! Ótima Comida, ...</td>\n",
              "      <td>Excellent to go with the family! Great food, p...</td>\n",
              "    </tr>\n",
              "    <tr>\n",
              "      <th>3</th>\n",
              "      <td>Tomo sorvete na Visabor faz mais de 30 anos. S...</td>\n",
              "      <td>I have had ice cream at Visabor for over 30 ye...</td>\n",
              "    </tr>\n",
              "    <tr>\n",
              "      <th>4</th>\n",
              "      <td>O melhor hamburger que já comi! Excelente aten...</td>\n",
              "      <td>The best hamburger I've ever eaten! Excellent ...</td>\n",
              "    </tr>\n",
              "    <tr>\n",
              "      <th>...</th>\n",
              "      <td>...</td>\n",
              "      <td>...</td>\n",
              "    </tr>\n",
              "    <tr>\n",
              "      <th>99995</th>\n",
              "      <td>Ainda não inaugurado oficialmente, está atende...</td>\n",
              "      <td>EMPTY</td>\n",
              "    </tr>\n",
              "    <tr>\n",
              "      <th>99996</th>\n",
              "      <td>Bom atendimento, lugar bonito, comida muito go...</td>\n",
              "      <td>EMPTY</td>\n",
              "    </tr>\n",
              "    <tr>\n",
              "      <th>99997</th>\n",
              "      <td>O Rio Scenarium é uma das baladas mais famosas...</td>\n",
              "      <td>EMPTY</td>\n",
              "    </tr>\n",
              "    <tr>\n",
              "      <th>99998</th>\n",
              "      <td>Fui por indicação e com boa expectativa!\\n116,...</td>\n",
              "      <td>EMPTY</td>\n",
              "    </tr>\n",
              "    <tr>\n",
              "      <th>99999</th>\n",
              "      <td>Experiência fantástica com comida deliciosa e ...</td>\n",
              "      <td>EMPTY</td>\n",
              "    </tr>\n",
              "  </tbody>\n",
              "</table>\n",
              "<p>100000 rows × 2 columns</p>\n",
              "</div>"
            ],
            "text/plain": [
              "                                                  review                                          review_us\n",
              "0      Comida maravilhosa, lugar do verdadeiro chicle...  Wonderful food, the place for real shrimp gum....\n",
              "1      Comida boa, drinks legais e um ambiente bem ac...  Good food, nice drinks and a very cozy atmosph...\n",
              "2      Excelente pra ir com a família! Ótima Comida, ...  Excellent to go with the family! Great food, p...\n",
              "3      Tomo sorvete na Visabor faz mais de 30 anos. S...  I have had ice cream at Visabor for over 30 ye...\n",
              "4      O melhor hamburger que já comi! Excelente aten...  The best hamburger I've ever eaten! Excellent ...\n",
              "...                                                  ...                                                ...\n",
              "99995  Ainda não inaugurado oficialmente, está atende...                                              EMPTY\n",
              "99996  Bom atendimento, lugar bonito, comida muito go...                                              EMPTY\n",
              "99997  O Rio Scenarium é uma das baladas mais famosas...                                              EMPTY\n",
              "99998  Fui por indicação e com boa expectativa!\\n116,...                                              EMPTY\n",
              "99999  Experiência fantástica com comida deliciosa e ...                                              EMPTY\n",
              "\n",
              "[100000 rows x 2 columns]"
            ]
          },
          "metadata": {
            "tags": []
          },
          "execution_count": 133
        }
      ]
    }
  ]
}