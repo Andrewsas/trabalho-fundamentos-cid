{
  "nbformat": 4,
  "nbformat_minor": 0,
  "metadata": {
    "colab": {
      "name": "Trabalho",
      "provenance": [],
      "collapsed_sections": [],
      "authorship_tag": "ABX9TyNKjpBAlvMBQ0orImQSfITr",
      "include_colab_link": true
    },
    "kernelspec": {
      "name": "python3",
      "display_name": "Python 3"
    }
  },
  "cells": [
    {
      "cell_type": "markdown",
      "metadata": {
        "id": "view-in-github",
        "colab_type": "text"
      },
      "source": [
        "<a href=\"https://colab.research.google.com/github/Andrewsas/trabalho-fundamentos-cid/blob/master/Trabalho.ipynb\" target=\"_parent\"><img src=\"https://colab.research.google.com/assets/colab-badge.svg\" alt=\"Open In Colab\"/></a>"
      ]
    },
    {
      "cell_type": "code",
      "metadata": {
        "id": "Jw3FouMkK9r8",
        "outputId": "22fc5e91-80c3-471b-b545-1b88e85e7a11",
        "colab": {
          "base_uri": "https://localhost:8080/"
        }
      },
      "source": [
        "import pandas as pd\n",
        "\n",
        "#baixa o arquivo do dataset para o ambiente colab\n",
        "!wget \"http://tiagodemelo.info/datasets/dataset-v2.dat\"\n",
        "\n"
      ],
      "execution_count": 11,
      "outputs": [
        {
          "output_type": "stream",
          "text": [
            "--2020-11-07 19:04:44--  http://tiagodemelo.info/datasets/dataset-v2.dat\n",
            "Resolving tiagodemelo.info (tiagodemelo.info)... 108.167.188.189\n",
            "Connecting to tiagodemelo.info (tiagodemelo.info)|108.167.188.189|:80... connected.\n",
            "HTTP request sent, awaiting response... 200 OK\n",
            "Length: 89773865 (86M)\n",
            "Saving to: ‘dataset-v2.dat’\n",
            "\n",
            "dataset-v2.dat      100%[===================>]  85.61M  52.7MB/s    in 1.6s    \n",
            "\n",
            "2020-11-07 19:04:46 (52.7 MB/s) - ‘dataset-v2.dat’ saved [89773865/89773865]\n",
            "\n"
          ],
          "name": "stdout"
        }
      ]
    },
    {
      "cell_type": "code",
      "metadata": {
        "id": "hnihZGMku7C0",
        "outputId": "ee289a1e-105d-4646-eb0b-ebaf71a2da2b",
        "colab": {
          "base_uri": "https://localhost:8080/"
        }
      },
      "source": [
        ""
      ],
      "execution_count": 10,
      "outputs": [
        {
          "output_type": "execute_result",
          "data": {
            "text/plain": [
              "['--2020-11-07 19:03:39--  http://tiagodemelo.info/datasets/dataset-v2.dat',\n",
              " 'Resolving tiagodemelo.info (tiagodemelo.info)... 108.167.188.189',\n",
              " 'Connecting to tiagodemelo.info (tiagodemelo.info)|108.167.188.189|:80... connected.',\n",
              " 'HTTP request sent, awaiting response... 200 OK',\n",
              " 'Length: 89773865 (86M)',\n",
              " 'Saving to: ‘dataset-v2.dat.1’',\n",
              " '',\n",
              " '',\n",
              " 'dataset-v2.dat.1      0%[                    ]       0  --.-KB/s               ',\n",
              " 'dataset-v2.dat.1      0%[                    ] 371.87K  1.73MB/s               ',\n",
              " 'dataset-v2.dat.1      8%[>                   ]   7.70M  18.5MB/s               ',\n",
              " 'dataset-v2.dat.1     24%[===>                ]  20.97M  33.7MB/s               ',\n",
              " 'dataset-v2.dat.1     40%[=======>            ]  34.71M  42.0MB/s               ',\n",
              " 'dataset-v2.dat.1     57%[==========>         ]  49.34M  47.8MB/s               ',\n",
              " 'dataset-v2.dat.1     74%[=============>      ]  63.45M  51.2MB/s               ',\n",
              " 'dataset-v2.dat.1     90%[=================>  ]  77.68M  53.8MB/s               ',\n",
              " 'dataset-v2.dat.1    100%[===================>]  85.61M  55.6MB/s    in 1.5s    ',\n",
              " '',\n",
              " '2020-11-07 19:03:41 (55.6 MB/s) - ‘dataset-v2.dat.1’ saved [89773865/89773865]',\n",
              " '']"
            ]
          },
          "metadata": {
            "tags": []
          },
          "execution_count": 10
        }
      ]
    },
    {
      "cell_type": "code",
      "metadata": {
        "id": "1ir_cFOyTZbQ"
      },
      "source": [
        "from ast import literal_eval\n",
        "\n",
        "# ler o arquivo com dos dados do dataset baixado\n",
        "file = open(\"./dataset-v2.dat\",'r')\n",
        "\n",
        "# sepera em linhas os dados\n",
        "rows = file.readlines()\n",
        "\n",
        "# fecha o arquivo\n",
        "file.close()\n",
        "\n",
        "# criar uma lista para salvar os dicionarios\n",
        "dictionaries = []\n",
        "\n",
        "for row in rows:\n",
        "  #transforma literal em dicionario\n",
        "  saveDic = literal_eval(row)\n",
        "\n",
        "  #adiciona atributos de subdicionarios no dicionario mais externo\n",
        "  saveDic.update(dic['itemReviewed'].items())\n",
        "  saveDic.update(dic['itemReviewed']['address'].items())\n",
        "\n",
        "  #delete subdicionarios\n",
        "  del saveDic['address']\n",
        "  del saveDic['itemReviewed']\n",
        "\n",
        "  #adiciona na lista de dicionarios\n",
        "  dictionaries.append(saveDic)\n",
        "\n",
        "\n"
      ],
      "execution_count": 81,
      "outputs": []
    },
    {
      "cell_type": "code",
      "metadata": {
        "id": "LsQPEbPBMg_w",
        "outputId": "a5652bf2-bd73-4cf5-e90c-92f3bb607498",
        "colab": {
          "base_uri": "https://localhost:8080/",
          "height": 547
        }
      },
      "source": [
        "# transforma a lista de dicionario em dataframe\n",
        "data = pd.DataFrame(dictionaries)\n",
        "\n",
        "data.head()"
      ],
      "execution_count": 82,
      "outputs": [
        {
          "output_type": "execute_result",
          "data": {
            "text/html": [
              "<div>\n",
              "<style scoped>\n",
              "    .dataframe tbody tr th:only-of-type {\n",
              "        vertical-align: middle;\n",
              "    }\n",
              "\n",
              "    .dataframe tbody tr th {\n",
              "        vertical-align: top;\n",
              "    }\n",
              "\n",
              "    .dataframe thead th {\n",
              "        text-align: right;\n",
              "    }\n",
              "</style>\n",
              "<table border=\"1\" class=\"dataframe\">\n",
              "  <thead>\n",
              "    <tr style=\"text-align: right;\">\n",
              "      <th></th>\n",
              "      <th>title</th>\n",
              "      <th>reviewId</th>\n",
              "      <th>restaurantId</th>\n",
              "      <th>author</th>\n",
              "      <th>reviewBody</th>\n",
              "      <th>language</th>\n",
              "      <th>mobileDevice</th>\n",
              "      <th>userLocation</th>\n",
              "      <th>publicationDate</th>\n",
              "      <th>visitDate</th>\n",
              "      <th>ratingValue</th>\n",
              "      <th>name</th>\n",
              "      <th>website</th>\n",
              "      <th>email</th>\n",
              "      <th>phoneNumber</th>\n",
              "      <th>averageRating</th>\n",
              "      <th>streetAddress</th>\n",
              "      <th>addressLocality</th>\n",
              "      <th>addressRegion</th>\n",
              "      <th>postalCode</th>\n",
              "      <th>country</th>\n",
              "    </tr>\n",
              "  </thead>\n",
              "  <tbody>\n",
              "    <tr>\n",
              "      <th>0</th>\n",
              "      <td>Jantar</td>\n",
              "      <td>692856288</td>\n",
              "      <td>2344932</td>\n",
              "      <td>larinhavercosa222</td>\n",
              "      <td>Comida maravilhosa, lugar do verdadeiro chicle...</td>\n",
              "      <td>pt</td>\n",
              "      <td>True</td>\n",
              "      <td>São Carlos, SP</td>\n",
              "      <td>26/07/2019</td>\n",
              "      <td>07/2019</td>\n",
              "      <td>5</td>\n",
              "      <td>Imperador dos Camarões</td>\n",
              "      <td>http://www.imperadordoscamaroes.com.br</td>\n",
              "      <td>contato@imperadordoscamaroes.com.br</td>\n",
              "      <td>+55 82 3231-4134</td>\n",
              "      <td>4.5</td>\n",
              "      <td>Avenida Doutor Antônio Gouveia</td>\n",
              "      <td></td>\n",
              "      <td>Alagoas</td>\n",
              "      <td>57030-170</td>\n",
              "      <td>Brasil</td>\n",
              "    </tr>\n",
              "    <tr>\n",
              "      <th>1</th>\n",
              "      <td>Uma boa experiência.</td>\n",
              "      <td>229208487</td>\n",
              "      <td>3720906</td>\n",
              "      <td>Pano P</td>\n",
              "      <td>Comida boa, drinks legais e um ambiente bem ac...</td>\n",
              "      <td>pt</td>\n",
              "      <td>True</td>\n",
              "      <td>Manaus, AM</td>\n",
              "      <td>16/09/2014</td>\n",
              "      <td>None</td>\n",
              "      <td>4</td>\n",
              "      <td>Imperador dos Camarões</td>\n",
              "      <td>http://www.imperadordoscamaroes.com.br</td>\n",
              "      <td>contato@imperadordoscamaroes.com.br</td>\n",
              "      <td>+55 82 3231-4134</td>\n",
              "      <td>4.5</td>\n",
              "      <td>Avenida Doutor Antônio Gouveia</td>\n",
              "      <td></td>\n",
              "      <td>Alagoas</td>\n",
              "      <td>57030-170</td>\n",
              "      <td>Brasil</td>\n",
              "    </tr>\n",
              "    <tr>\n",
              "      <th>2</th>\n",
              "      <td>Otimo self service</td>\n",
              "      <td>679002332</td>\n",
              "      <td>2248105</td>\n",
              "      <td>Magma100</td>\n",
              "      <td>Excelente pra ir com a família! Ótima Comida, ...</td>\n",
              "      <td>pt</td>\n",
              "      <td>True</td>\n",
              "      <td>Goiânia, GO</td>\n",
              "      <td>04/06/2019</td>\n",
              "      <td>07/2018</td>\n",
              "      <td>4</td>\n",
              "      <td>Imperador dos Camarões</td>\n",
              "      <td>http://www.imperadordoscamaroes.com.br</td>\n",
              "      <td>contato@imperadordoscamaroes.com.br</td>\n",
              "      <td>+55 82 3231-4134</td>\n",
              "      <td>4.5</td>\n",
              "      <td>Avenida Doutor Antônio Gouveia</td>\n",
              "      <td></td>\n",
              "      <td>Alagoas</td>\n",
              "      <td>57030-170</td>\n",
              "      <td>Brasil</td>\n",
              "    </tr>\n",
              "    <tr>\n",
              "      <th>3</th>\n",
              "      <td>O sorvete mais tradicional do estado</td>\n",
              "      <td>355671519</td>\n",
              "      <td>8168302</td>\n",
              "      <td>Yurie M</td>\n",
              "      <td>Tomo sorvete na Visabor faz mais de 30 anos. S...</td>\n",
              "      <td>pt</td>\n",
              "      <td>False</td>\n",
              "      <td>Aracaju, SE</td>\n",
              "      <td>15/03/2016</td>\n",
              "      <td>01/2016</td>\n",
              "      <td>5</td>\n",
              "      <td>Imperador dos Camarões</td>\n",
              "      <td>http://www.imperadordoscamaroes.com.br</td>\n",
              "      <td>contato@imperadordoscamaroes.com.br</td>\n",
              "      <td>+55 82 3231-4134</td>\n",
              "      <td>4.5</td>\n",
              "      <td>Avenida Doutor Antônio Gouveia</td>\n",
              "      <td></td>\n",
              "      <td>Alagoas</td>\n",
              "      <td>57030-170</td>\n",
              "      <td>Brasil</td>\n",
              "    </tr>\n",
              "    <tr>\n",
              "      <th>4</th>\n",
              "      <td>Melhor hamburger!</td>\n",
              "      <td>268741921</td>\n",
              "      <td>5395141</td>\n",
              "      <td>Debora_C85</td>\n",
              "      <td>O melhor hamburger que já comi! Excelente aten...</td>\n",
              "      <td>pt</td>\n",
              "      <td>False</td>\n",
              "      <td>Rio de Janeiro, RJ</td>\n",
              "      <td>28/04/2015</td>\n",
              "      <td>04/2015</td>\n",
              "      <td>5</td>\n",
              "      <td>Imperador dos Camarões</td>\n",
              "      <td>http://www.imperadordoscamaroes.com.br</td>\n",
              "      <td>contato@imperadordoscamaroes.com.br</td>\n",
              "      <td>+55 82 3231-4134</td>\n",
              "      <td>4.5</td>\n",
              "      <td>Avenida Doutor Antônio Gouveia</td>\n",
              "      <td></td>\n",
              "      <td>Alagoas</td>\n",
              "      <td>57030-170</td>\n",
              "      <td>Brasil</td>\n",
              "    </tr>\n",
              "  </tbody>\n",
              "</table>\n",
              "</div>"
            ],
            "text/plain": [
              "                                  title   reviewId  ... postalCode country\n",
              "0                               Jantar   692856288  ...  57030-170  Brasil\n",
              "1                  Uma boa experiência.  229208487  ...  57030-170  Brasil\n",
              "2                    Otimo self service  679002332  ...  57030-170  Brasil\n",
              "3  O sorvete mais tradicional do estado  355671519  ...  57030-170  Brasil\n",
              "4                     Melhor hamburger!  268741921  ...  57030-170  Brasil\n",
              "\n",
              "[5 rows x 21 columns]"
            ]
          },
          "metadata": {
            "tags": []
          },
          "execution_count": 82
        }
      ]
    },
    {
      "cell_type": "code",
      "metadata": {
        "id": "VBnNGBl9IGqp"
      },
      "source": [
        ""
      ],
      "execution_count": null,
      "outputs": []
    }
  ]
}