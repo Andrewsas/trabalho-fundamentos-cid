{
  "nbformat": 4,
  "nbformat_minor": 0,
  "metadata": {
    "colab": {
      "name": "Trabalho",
      "provenance": [],
      "collapsed_sections": [],
      "toc_visible": true,
      "include_colab_link": true
    },
    "kernelspec": {
      "name": "python3",
      "display_name": "Python 3"
    }
  },
  "cells": [
    {
      "cell_type": "markdown",
      "metadata": {
        "id": "view-in-github",
        "colab_type": "text"
      },
      "source": [
        "<a href=\"https://colab.research.google.com/github/Andrewsas/trabalho-fundamentos-cid/blob/master/Trabalho.ipynb\" target=\"_parent\"><img src=\"https://colab.research.google.com/assets/colab-badge.svg\" alt=\"Open In Colab\"/></a>"
      ]
    },
    {
      "cell_type": "markdown",
      "metadata": {
        "id": "zTHz0U-a4-8s"
      },
      "source": [
        "#Instalação de pacotes"
      ]
    },
    {
      "cell_type": "code",
      "metadata": {
        "id": "C6k3JBwo5EOJ",
        "colab": {
          "base_uri": "https://localhost:8080/"
        },
        "outputId": "2b727616-5e65-4608-8294-66761be78ff3"
      },
      "source": [
        "!python -m textblob.download_corpora"
      ],
      "execution_count": null,
      "outputs": [
        {
          "output_type": "stream",
          "text": [
            "[nltk_data] Downloading package brown to /root/nltk_data...\n",
            "[nltk_data]   Unzipping corpora/brown.zip.\n",
            "[nltk_data] Downloading package punkt to /root/nltk_data...\n",
            "[nltk_data]   Unzipping tokenizers/punkt.zip.\n",
            "[nltk_data] Downloading package wordnet to /root/nltk_data...\n",
            "[nltk_data]   Unzipping corpora/wordnet.zip.\n",
            "[nltk_data] Downloading package averaged_perceptron_tagger to\n",
            "[nltk_data]     /root/nltk_data...\n",
            "[nltk_data]   Unzipping taggers/averaged_perceptron_tagger.zip.\n",
            "[nltk_data] Downloading package conll2000 to /root/nltk_data...\n",
            "[nltk_data]   Unzipping corpora/conll2000.zip.\n",
            "[nltk_data] Downloading package movie_reviews to /root/nltk_data...\n",
            "[nltk_data]   Unzipping corpora/movie_reviews.zip.\n",
            "Finished.\n"
          ],
          "name": "stdout"
        }
      ]
    },
    {
      "cell_type": "markdown",
      "metadata": {
        "id": "ptQ2xYYXY3IY"
      },
      "source": [
        "#Importar pacotes\n"
      ]
    },
    {
      "cell_type": "code",
      "metadata": {
        "id": "N0PSqN8vZN5d",
        "outputId": "00eb50e1-12da-425f-865f-00e4c1144324",
        "colab": {
          "base_uri": "https://localhost:8080/"
        }
      },
      "source": [
        "import pandas as pd\n",
        "import string\n",
        "import time\n",
        "import csv\n",
        "import random\n",
        "from ast import literal_eval\n",
        "from textblob import TextBlob\n",
        "from google.colab import drive\n",
        "\n",
        "#import para mitigar erro au acessar aux.sentences\n",
        "import nltk\n",
        "nltk.download('punkt')\n",
        "\n"
      ],
      "execution_count": 3,
      "outputs": [
        {
          "output_type": "stream",
          "text": [
            "[nltk_data] Downloading package punkt to /root/nltk_data...\n",
            "[nltk_data]   Package punkt is already up-to-date!\n"
          ],
          "name": "stdout"
        },
        {
          "output_type": "execute_result",
          "data": {
            "text/plain": [
              "True"
            ]
          },
          "metadata": {
            "tags": []
          },
          "execution_count": 3
        }
      ]
    },
    {
      "cell_type": "markdown",
      "metadata": {
        "id": "fOTCU_X1ZxEk"
      },
      "source": [
        "#Baixar dataset"
      ]
    },
    {
      "cell_type": "code",
      "metadata": {
        "id": "Jw3FouMkK9r8",
        "colab": {
          "base_uri": "https://localhost:8080/"
        },
        "outputId": "5ff42fef-adee-4844-ebf8-0613a62b8a6e"
      },
      "source": [
        "#baixa o arquivo do dataset para o ambiente colab\n",
        "!wget \"http://tiagodemelo.info/datasets/dataset-v2.dat\"\n",
        "\n"
      ],
      "execution_count": null,
      "outputs": [
        {
          "output_type": "stream",
          "text": [
            "--2020-11-20 15:12:29--  http://tiagodemelo.info/datasets/dataset-v2.dat\n",
            "Resolving tiagodemelo.info (tiagodemelo.info)... 108.167.188.189\n",
            "Connecting to tiagodemelo.info (tiagodemelo.info)|108.167.188.189|:80... connected.\n",
            "HTTP request sent, awaiting response... 200 OK\n",
            "Length: 89773865 (86M)\n",
            "Saving to: ‘dataset-v2.dat’\n",
            "\n",
            "dataset-v2.dat      100%[===================>]  85.61M  17.4MB/s    in 4.9s    \n",
            "\n",
            "2020-11-20 15:12:34 (17.4 MB/s) - ‘dataset-v2.dat’ saved [89773865/89773865]\n",
            "\n"
          ],
          "name": "stdout"
        }
      ]
    },
    {
      "cell_type": "code",
      "metadata": {
        "id": "1ir_cFOyTZbQ"
      },
      "source": [
        "# ler o arquivo com dos dados do dataset baixado\n",
        "file = open(\"./dataset-v2.dat\",'r')\n",
        "\n",
        "# sepera em linhas os dados\n",
        "rows = file.readlines()\n",
        "\n",
        "# fecha o arquivo\n",
        "file.close()\n",
        "\n",
        "# criar uma lista para salvar os dicionarios\n",
        "dictionaries = []\n",
        "\n",
        "for row in rows:\n",
        "  #transforma literal em dicionario\n",
        "  saveDic = literal_eval(row)\n",
        "\n",
        "  #adiciona atributos de subdicionarios no dicionario mais externo\n",
        "  saveDic.update(saveDic['itemReviewed'].items())\n",
        "  saveDic.update(saveDic['itemReviewed']['address'].items())\n",
        "\n",
        "  # #delete subdicionarios\n",
        "  del saveDic['address']\n",
        "  del saveDic['itemReviewed']\n",
        "\n",
        "  #adiciona na lista de dicionarios\n",
        "  dictionaries.append(saveDic)\n",
        "\n",
        "\n"
      ],
      "execution_count": null,
      "outputs": []
    },
    {
      "cell_type": "code",
      "metadata": {
        "id": "LsQPEbPBMg_w",
        "colab": {
          "base_uri": "https://localhost:8080/",
          "height": 564
        },
        "outputId": "4ca97fa9-571c-4829-c2f4-1047a3f2c7f8"
      },
      "source": [
        "# transforma a lista de dicionario em dataframe\n",
        "data = pd.DataFrame(dictionaries)\n",
        "\n",
        "data.head()"
      ],
      "execution_count": null,
      "outputs": [
        {
          "output_type": "execute_result",
          "data": {
            "text/html": [
              "<div>\n",
              "<style scoped>\n",
              "    .dataframe tbody tr th:only-of-type {\n",
              "        vertical-align: middle;\n",
              "    }\n",
              "\n",
              "    .dataframe tbody tr th {\n",
              "        vertical-align: top;\n",
              "    }\n",
              "\n",
              "    .dataframe thead th {\n",
              "        text-align: right;\n",
              "    }\n",
              "</style>\n",
              "<table border=\"1\" class=\"dataframe\">\n",
              "  <thead>\n",
              "    <tr style=\"text-align: right;\">\n",
              "      <th></th>\n",
              "      <th>title</th>\n",
              "      <th>reviewId</th>\n",
              "      <th>restaurantId</th>\n",
              "      <th>author</th>\n",
              "      <th>reviewBody</th>\n",
              "      <th>language</th>\n",
              "      <th>mobileDevice</th>\n",
              "      <th>userLocation</th>\n",
              "      <th>publicationDate</th>\n",
              "      <th>visitDate</th>\n",
              "      <th>ratingValue</th>\n",
              "      <th>name</th>\n",
              "      <th>website</th>\n",
              "      <th>email</th>\n",
              "      <th>phoneNumber</th>\n",
              "      <th>averageRating</th>\n",
              "      <th>streetAddress</th>\n",
              "      <th>addressLocality</th>\n",
              "      <th>addressRegion</th>\n",
              "      <th>postalCode</th>\n",
              "      <th>country</th>\n",
              "    </tr>\n",
              "  </thead>\n",
              "  <tbody>\n",
              "    <tr>\n",
              "      <th>0</th>\n",
              "      <td>Jantar</td>\n",
              "      <td>692856288</td>\n",
              "      <td>2344932</td>\n",
              "      <td>larinhavercosa222</td>\n",
              "      <td>Comida maravilhosa, lugar do verdadeiro chicle...</td>\n",
              "      <td>pt</td>\n",
              "      <td>True</td>\n",
              "      <td>São Carlos, SP</td>\n",
              "      <td>26/07/2019</td>\n",
              "      <td>07/2019</td>\n",
              "      <td>5</td>\n",
              "      <td>Imperador dos Camarões</td>\n",
              "      <td>http://www.imperadordoscamaroes.com.br</td>\n",
              "      <td>contato@imperadordoscamaroes.com.br</td>\n",
              "      <td>+55 82 3231-4134</td>\n",
              "      <td>4.5</td>\n",
              "      <td>Avenida Doutor Antônio Gouveia</td>\n",
              "      <td></td>\n",
              "      <td>Alagoas</td>\n",
              "      <td>57030-170</td>\n",
              "      <td>Brasil</td>\n",
              "    </tr>\n",
              "    <tr>\n",
              "      <th>1</th>\n",
              "      <td>Uma boa experiência.</td>\n",
              "      <td>229208487</td>\n",
              "      <td>3720906</td>\n",
              "      <td>Pano P</td>\n",
              "      <td>Comida boa, drinks legais e um ambiente bem ac...</td>\n",
              "      <td>pt</td>\n",
              "      <td>True</td>\n",
              "      <td>Manaus, AM</td>\n",
              "      <td>16/09/2014</td>\n",
              "      <td>None</td>\n",
              "      <td>4</td>\n",
              "      <td>Guacamole Natal</td>\n",
              "      <td>http://www.facebook.com/GuacamoleNatal</td>\n",
              "      <td>guacamolenatal@gmail.com</td>\n",
              "      <td>+55 84 3219-3646</td>\n",
              "      <td>4.5</td>\n",
              "      <td>Avenida Praia de Ponta Negra 9068 Ponta Negra</td>\n",
              "      <td></td>\n",
              "      <td>Rio Grande do Norte</td>\n",
              "      <td>59092-100</td>\n",
              "      <td>Brasil</td>\n",
              "    </tr>\n",
              "    <tr>\n",
              "      <th>2</th>\n",
              "      <td>Otimo self service</td>\n",
              "      <td>679002332</td>\n",
              "      <td>2248105</td>\n",
              "      <td>Magma100</td>\n",
              "      <td>Excelente pra ir com a família! Ótima Comida, ...</td>\n",
              "      <td>pt</td>\n",
              "      <td>True</td>\n",
              "      <td>Goiânia, GO</td>\n",
              "      <td>04/06/2019</td>\n",
              "      <td>07/2018</td>\n",
              "      <td>4</td>\n",
              "      <td>Chica Pitanga</td>\n",
              "      <td>http://www.chicapitanga.com.br</td>\n",
              "      <td>chicapitanga@chicapitanga.com.br</td>\n",
              "      <td>+55 81 3334-8260</td>\n",
              "      <td>4.5</td>\n",
              "      <td>Rua Petrolina 19</td>\n",
              "      <td>Recife</td>\n",
              "      <td>Pernambuco</td>\n",
              "      <td>51021-250</td>\n",
              "      <td>Brasil</td>\n",
              "    </tr>\n",
              "    <tr>\n",
              "      <th>3</th>\n",
              "      <td>O sorvete mais tradicional do estado</td>\n",
              "      <td>355671519</td>\n",
              "      <td>8168302</td>\n",
              "      <td>Yurie M</td>\n",
              "      <td>Tomo sorvete na Visabor faz mais de 30 anos. S...</td>\n",
              "      <td>pt</td>\n",
              "      <td>False</td>\n",
              "      <td>Aracaju, SE</td>\n",
              "      <td>15/03/2016</td>\n",
              "      <td>01/2016</td>\n",
              "      <td>5</td>\n",
              "      <td>Sorvetes Vi Sabor</td>\n",
              "      <td>None</td>\n",
              "      <td>None</td>\n",
              "      <td>None</td>\n",
              "      <td>4.0</td>\n",
              "      <td>Avenida Francisco Porto 59 Grageru</td>\n",
              "      <td>Aracaju</td>\n",
              "      <td>Sergipe</td>\n",
              "      <td></td>\n",
              "      <td>Brasil</td>\n",
              "    </tr>\n",
              "    <tr>\n",
              "      <th>4</th>\n",
              "      <td>Melhor hamburger!</td>\n",
              "      <td>268741921</td>\n",
              "      <td>5395141</td>\n",
              "      <td>Debora_C85</td>\n",
              "      <td>O melhor hamburger que já comi! Excelente aten...</td>\n",
              "      <td>pt</td>\n",
              "      <td>False</td>\n",
              "      <td>Rio de Janeiro, RJ</td>\n",
              "      <td>28/04/2015</td>\n",
              "      <td>04/2015</td>\n",
              "      <td>5</td>\n",
              "      <td>Z Deli Sandwich Shop</td>\n",
              "      <td>http://www.facebook.com/zdelisandwichshop/</td>\n",
              "      <td>None</td>\n",
              "      <td>551130830021</td>\n",
              "      <td>4.5</td>\n",
              "      <td>Rua Haddock Lobo 1386 Jardins</td>\n",
              "      <td>São Paulo</td>\n",
              "      <td>Estado de São Paulo</td>\n",
              "      <td>01414-002</td>\n",
              "      <td>Brasil</td>\n",
              "    </tr>\n",
              "  </tbody>\n",
              "</table>\n",
              "</div>"
            ],
            "text/plain": [
              "                                  title   reviewId  ... postalCode country\n",
              "0                               Jantar   692856288  ...  57030-170  Brasil\n",
              "1                  Uma boa experiência.  229208487  ...  59092-100  Brasil\n",
              "2                    Otimo self service  679002332  ...  51021-250  Brasil\n",
              "3  O sorvete mais tradicional do estado  355671519  ...             Brasil\n",
              "4                     Melhor hamburger!  268741921  ...  01414-002  Brasil\n",
              "\n",
              "[5 rows x 21 columns]"
            ]
          },
          "metadata": {
            "tags": []
          },
          "execution_count": 4
        }
      ]
    },
    {
      "cell_type": "markdown",
      "metadata": {
        "id": "0MSpPqASBP26"
      },
      "source": [
        "#Tratamento de Comentários Vazios"
      ]
    },
    {
      "cell_type": "code",
      "metadata": {
        "id": "onZNoesDBUxQ",
        "colab": {
          "base_uri": "https://localhost:8080/",
          "height": 168
        },
        "outputId": "116de098-1d78-401a-b330-906b7f24c8e9"
      },
      "source": [
        "#seleciona tuplas vazias\n",
        "data[pd.isnull(data.reviewBody)]"
      ],
      "execution_count": null,
      "outputs": [
        {
          "output_type": "execute_result",
          "data": {
            "text/html": [
              "<div>\n",
              "<style scoped>\n",
              "    .dataframe tbody tr th:only-of-type {\n",
              "        vertical-align: middle;\n",
              "    }\n",
              "\n",
              "    .dataframe tbody tr th {\n",
              "        vertical-align: top;\n",
              "    }\n",
              "\n",
              "    .dataframe thead th {\n",
              "        text-align: right;\n",
              "    }\n",
              "</style>\n",
              "<table border=\"1\" class=\"dataframe\">\n",
              "  <thead>\n",
              "    <tr style=\"text-align: right;\">\n",
              "      <th></th>\n",
              "      <th>title</th>\n",
              "      <th>reviewId</th>\n",
              "      <th>restaurantId</th>\n",
              "      <th>author</th>\n",
              "      <th>reviewBody</th>\n",
              "      <th>language</th>\n",
              "      <th>mobileDevice</th>\n",
              "      <th>userLocation</th>\n",
              "      <th>publicationDate</th>\n",
              "      <th>visitDate</th>\n",
              "      <th>ratingValue</th>\n",
              "      <th>name</th>\n",
              "      <th>website</th>\n",
              "      <th>email</th>\n",
              "      <th>phoneNumber</th>\n",
              "      <th>averageRating</th>\n",
              "      <th>streetAddress</th>\n",
              "      <th>addressLocality</th>\n",
              "      <th>addressRegion</th>\n",
              "      <th>postalCode</th>\n",
              "      <th>country</th>\n",
              "    </tr>\n",
              "  </thead>\n",
              "  <tbody>\n",
              "    <tr>\n",
              "      <th>8528</th>\n",
              "      <td>Vale a pena conhecer!</td>\n",
              "      <td>224445539</td>\n",
              "      <td>NaN</td>\n",
              "      <td>NaN</td>\n",
              "      <td>NaN</td>\n",
              "      <td>pt</td>\n",
              "      <td>False</td>\n",
              "      <td>Recife, PE</td>\n",
              "      <td>25/08/2014</td>\n",
              "      <td>12/2013</td>\n",
              "      <td>4</td>\n",
              "      <td>Outback Steakhouse - Shopping RioMar Recife</td>\n",
              "      <td>https://www.outback.com.br/restaurantes/shoppi...</td>\n",
              "      <td>faleconosco@outback.com.br</td>\n",
              "      <td>+55 81 3035-0930</td>\n",
              "      <td>4.5</td>\n",
              "      <td>Av República do Líbano, 256 Shopping RioMar Re...</td>\n",
              "      <td>Recife</td>\n",
              "      <td>Pernambuco</td>\n",
              "      <td>51110-160</td>\n",
              "      <td>Brasil</td>\n",
              "    </tr>\n",
              "  </tbody>\n",
              "</table>\n",
              "</div>"
            ],
            "text/plain": [
              "                      title   reviewId  ... postalCode country\n",
              "8528  Vale a pena conhecer!  224445539  ...  51110-160  Brasil\n",
              "\n",
              "[1 rows x 21 columns]"
            ]
          },
          "metadata": {
            "tags": []
          },
          "execution_count": 5
        }
      ]
    },
    {
      "cell_type": "code",
      "metadata": {
        "id": "xeG28eLrBnsm",
        "colab": {
          "base_uri": "https://localhost:8080/",
          "height": 52
        },
        "outputId": "7a683585-b630-44bb-c2d5-689f30846d3a"
      },
      "source": [
        "data.reviewBody.fillna('VAZIO')\n",
        "\n",
        "data.reviewBody[8].encode('utf-16', 'surrogatepass').decode('utf-16')"
      ],
      "execution_count": null,
      "outputs": [
        {
          "output_type": "execute_result",
          "data": {
            "application/vnd.google.colaboratory.intrinsic+json": {
              "type": "string"
            },
            "text/plain": [
              "'Ambiente agradável, preço totalmente acessível, e adoro o cardápio de lá! Sem falar no atendimento maravilhoso! Voltarei sempre 😘'"
            ]
          },
          "metadata": {
            "tags": []
          },
          "execution_count": 8
        }
      ]
    },
    {
      "cell_type": "markdown",
      "metadata": {
        "id": "vUWgjJXpikNY"
      },
      "source": [
        "# Obter Comentarios\n"
      ]
    },
    {
      "cell_type": "code",
      "metadata": {
        "id": "7TsQ7ozWi2fa"
      },
      "source": [
        "# listagens de comentarios\n",
        "comments_blob = []\n",
        "\n",
        "#Obter lista dos comentários\n",
        "comentarios = data.reviewBody\n",
        "\n",
        "# Iteração em cada comentário\n",
        "for comentario in comentarios:\n",
        "  # Obter sentenças tratando emojis\n",
        "  aux = TextBlob(str(comentario).encode('utf-16', 'surrogatepass').decode('utf-16'))\n",
        "  comments_blob.append(aux)"
      ],
      "execution_count": null,
      "outputs": []
    },
    {
      "cell_type": "markdown",
      "metadata": {
        "id": "Fc2lMU7xaFXE"
      },
      "source": [
        "#Obter sentenças"
      ]
    },
    {
      "cell_type": "code",
      "metadata": {
        "colab": {
          "base_uri": "https://localhost:8080/"
        },
        "id": "opRa0BYkQvjs",
        "outputId": "08707d4d-a97b-4f12-968d-4e6cab3b6eeb"
      },
      "source": [
        "# criar uma lista para  salvar sentenças //salvar os blobs//\n",
        "comentario_blob = []\n",
        "sentences_pt = []\n",
        "\n",
        "# Iteração em cada review\n",
        "for aux in comments_blob:\n",
        "  for sentence in aux.sentences:\n",
        "    # elimina sentenças irrelevantes\n",
        "    if sentence != \"!\" and sentence != \".\" and sentence != \"..\" and sentence != \"rs\" and sentence != \"Aff.\" :\n",
        "      comentario_blob.append(sentence)\n",
        "      sentences_pt.append(sentence)\n",
        "\n",
        "comentario_blob[:10]\n"
      ],
      "execution_count": null,
      "outputs": [
        {
          "output_type": "execute_result",
          "data": {
            "text/plain": [
              "[Sentence(\"Comida maravilhosa, lugar do verdadeiro chiclete de camarão.\"),\n",
              " Sentence(\"O garçom Éric Lima nos atendeu muito bem, pretendemos voltar assim que possível.\"),\n",
              " Sentence(\"Comida boa, drinks legais e um ambiente bem aconchegante.\"),\n",
              " Sentence(\"Provamos muitas coisas e tudo nos agradou.\"),\n",
              " Sentence(\"Principalmente um pato servido em um dos pratos da casa, sensacional!\"),\n",
              " Sentence(\"Excelente pra ir com a família!\"),\n",
              " Sentence(\"Ótima Comida, ambiente agradável, bom atendimento e estacionamento.\"),\n",
              " Sentence(\"Vale a pena conhecer\"),\n",
              " Sentence(\"Tomo sorvete na Visabor faz mais de 30 anos.\"),\n",
              " Sentence(\"Sabores de frutas ou artificiais.\")]"
            ]
          },
          "metadata": {
            "tags": []
          },
          "execution_count": 22
        }
      ]
    },
    {
      "cell_type": "markdown",
      "metadata": {
        "id": "aUsUUofkp6jd"
      },
      "source": [
        "#Salvar no Drive"
      ]
    },
    {
      "cell_type": "markdown",
      "metadata": {
        "id": "qEOoCP_9rSjk"
      },
      "source": [
        "Montar drive"
      ]
    },
    {
      "cell_type": "code",
      "metadata": {
        "id": "JnDYRXkhrVxk",
        "colab": {
          "base_uri": "https://localhost:8080/"
        },
        "outputId": "dac897d1-c1cc-4332-c7bb-d43ee67d8937"
      },
      "source": [
        "drive.mount('/content/drive/', force_remount='true')"
      ],
      "execution_count": null,
      "outputs": [
        {
          "output_type": "stream",
          "text": [
            "Mounted at /content/drive/\n"
          ],
          "name": "stdout"
        }
      ]
    },
    {
      "cell_type": "markdown",
      "metadata": {
        "id": "r86-owtv2-kn"
      },
      "source": [
        "Salvar no drive documento com comentários para tradução posterior. "
      ]
    },
    {
      "cell_type": "code",
      "metadata": {
        "id": "ly4TDcaop_Us",
        "colab": {
          "base_uri": "https://localhost:8080/",
          "height": 455
        },
        "outputId": "d57eeb2f-7bfc-4a86-8732-62dd231f971d"
      },
      "source": [
        "!ls -la 'drive/My Drive/sentiment_analysis_project/'\n",
        "\n",
        "drive_file = \"drive/My Drive/sentiment_analysis_project/translate.csv\" \n",
        "file = open(drive_file,'r')\n",
        "\n",
        "data_translate = pd.read_csv(file)\n",
        "\n",
        "# Iteração em cada review\n",
        "for cmt in comentarios:\n",
        "  try:\n",
        "    #Obter sentenças tratando emojis\n",
        "    comment_aux = str(cmt).encode('utf-16', 'surrogatepass').decode('utf-16')\n",
        "    #cria objeto para adicionar ao dataframe\n",
        "    obj_aux = { 'review': comment_aux, 'review_us': 'EMPTY' }\n",
        "    # adiciona ao dataframe\n",
        "    data_translate = data_translate.append(obj_aux, ignore_index=True)\n",
        "  except:\n",
        "    print(\"exception: \" + cmt)\n",
        "\n",
        "# Salva arquivo no google Drive\n",
        "data_translate.to_csv(drive_file, index=False, header=True)    \n",
        "data_translate"
      ],
      "execution_count": null,
      "outputs": [
        {
          "output_type": "stream",
          "text": [
            "total 1\n",
            "-rw------- 1 root root 18 Nov 11 01:16 translate.csv\n"
          ],
          "name": "stdout"
        },
        {
          "output_type": "execute_result",
          "data": {
            "text/html": [
              "<div>\n",
              "<style scoped>\n",
              "    .dataframe tbody tr th:only-of-type {\n",
              "        vertical-align: middle;\n",
              "    }\n",
              "\n",
              "    .dataframe tbody tr th {\n",
              "        vertical-align: top;\n",
              "    }\n",
              "\n",
              "    .dataframe thead th {\n",
              "        text-align: right;\n",
              "    }\n",
              "</style>\n",
              "<table border=\"1\" class=\"dataframe\">\n",
              "  <thead>\n",
              "    <tr style=\"text-align: right;\">\n",
              "      <th></th>\n",
              "      <th>review</th>\n",
              "      <th>review_us</th>\n",
              "    </tr>\n",
              "  </thead>\n",
              "  <tbody>\n",
              "    <tr>\n",
              "      <th>0</th>\n",
              "      <td>Comida maravilhosa, lugar do verdadeiro chicle...</td>\n",
              "      <td>EMPTY</td>\n",
              "    </tr>\n",
              "    <tr>\n",
              "      <th>1</th>\n",
              "      <td>Comida boa, drinks legais e um ambiente bem ac...</td>\n",
              "      <td>EMPTY</td>\n",
              "    </tr>\n",
              "    <tr>\n",
              "      <th>2</th>\n",
              "      <td>Excelente pra ir com a família! Ótima Comida, ...</td>\n",
              "      <td>EMPTY</td>\n",
              "    </tr>\n",
              "    <tr>\n",
              "      <th>3</th>\n",
              "      <td>Tomo sorvete na Visabor faz mais de 30 anos. S...</td>\n",
              "      <td>EMPTY</td>\n",
              "    </tr>\n",
              "    <tr>\n",
              "      <th>4</th>\n",
              "      <td>O melhor hamburger que já comi! Excelente aten...</td>\n",
              "      <td>EMPTY</td>\n",
              "    </tr>\n",
              "    <tr>\n",
              "      <th>...</th>\n",
              "      <td>...</td>\n",
              "      <td>...</td>\n",
              "    </tr>\n",
              "    <tr>\n",
              "      <th>99995</th>\n",
              "      <td>Ainda não inaugurado oficialmente, está atende...</td>\n",
              "      <td>EMPTY</td>\n",
              "    </tr>\n",
              "    <tr>\n",
              "      <th>99996</th>\n",
              "      <td>Bom atendimento, lugar bonito, comida muito go...</td>\n",
              "      <td>EMPTY</td>\n",
              "    </tr>\n",
              "    <tr>\n",
              "      <th>99997</th>\n",
              "      <td>O Rio Scenarium é uma das baladas mais famosas...</td>\n",
              "      <td>EMPTY</td>\n",
              "    </tr>\n",
              "    <tr>\n",
              "      <th>99998</th>\n",
              "      <td>Fui por indicação e com boa expectativa!\\n116,...</td>\n",
              "      <td>EMPTY</td>\n",
              "    </tr>\n",
              "    <tr>\n",
              "      <th>99999</th>\n",
              "      <td>Experiência fantástica com comida deliciosa e ...</td>\n",
              "      <td>EMPTY</td>\n",
              "    </tr>\n",
              "  </tbody>\n",
              "</table>\n",
              "<p>100000 rows × 2 columns</p>\n",
              "</div>"
            ],
            "text/plain": [
              "                                                  review review_us\n",
              "0      Comida maravilhosa, lugar do verdadeiro chicle...     EMPTY\n",
              "1      Comida boa, drinks legais e um ambiente bem ac...     EMPTY\n",
              "2      Excelente pra ir com a família! Ótima Comida, ...     EMPTY\n",
              "3      Tomo sorvete na Visabor faz mais de 30 anos. S...     EMPTY\n",
              "4      O melhor hamburger que já comi! Excelente aten...     EMPTY\n",
              "...                                                  ...       ...\n",
              "99995  Ainda não inaugurado oficialmente, está atende...     EMPTY\n",
              "99996  Bom atendimento, lugar bonito, comida muito go...     EMPTY\n",
              "99997  O Rio Scenarium é uma das baladas mais famosas...     EMPTY\n",
              "99998  Fui por indicação e com boa expectativa!\\n116,...     EMPTY\n",
              "99999  Experiência fantástica com comida deliciosa e ...     EMPTY\n",
              "\n",
              "[100000 rows x 2 columns]"
            ]
          },
          "metadata": {
            "tags": []
          },
          "execution_count": 104
        }
      ]
    },
    {
      "cell_type": "markdown",
      "metadata": {
        "id": "-Kj9cclkF4tH"
      },
      "source": [
        "#Traduzir comentario //sentenças//"
      ]
    },
    {
      "cell_type": "markdown",
      "metadata": {
        "id": "E7_ICscSGBOc"
      },
      "source": [
        "Comentários traduzidos para Inglês (US) a partir de CSV no google drive."
      ]
    },
    {
      "cell_type": "code",
      "metadata": {
        "id": "-VI627JfA8ar",
        "colab": {
          "base_uri": "https://localhost:8080/",
          "height": 442
        },
        "outputId": "47ec23a5-0ff3-4129-ab91-e413b1f5eaab"
      },
      "source": [
        "drive_file = \"drive/My Drive/sentiment_analysis_project/translate_us.csv\" \n",
        "data_translate = pd.read_csv(drive_file)\n",
        "\n",
        "dt = data_translate.loc[data_translate['review_us'] == 'EMPTY']\n",
        "\n",
        "#Informação sobre quantos faltam\n",
        "print(dt.describe())\n",
        "#Obter lista dos comentários\n",
        "comentarios = dt.review\n",
        "\n",
        "# Iteração em cada review. Colocar o número de interações que deseja realizar.\n",
        "# QTDE   | Minutos\n",
        "# 500    | 4,5\n",
        "# 1000   | 8,9\n",
        "# 1500   | 13,51\n",
        "# 3000   | 26,86\n",
        "# 5000   | 44,73\n",
        "for comentario in comentarios[:50]:\n",
        "  try:\n",
        "    time.sleep(0.5)\n",
        "    # Obter sentenças tratando emojis\n",
        "    txt_blob_aux = TextBlob(str(comentario).encode('utf-16', 'surrogatepass').decode('utf-16'))\n",
        "    aux_us = str(txt_blob_aux.translate(to='us'))\n",
        "    print(aux_us)\n",
        "\n",
        "    # Atualiza dataframe\n",
        "    data_translate.at[(data_translate['review'] == comentario), 'review_us'] = aux_us\n",
        "  except:\n",
        "    print(\"EXCEPTION: \" + str(txt_blob_aux))\n",
        "    if txt_blob_aux.detect_language() == 'en':\n",
        "      # Atualiza dataframe\n",
        "      data_translate.at[(data_translate['review'] == comentario), 'review_us'] = str(txt_blob_aux)\n",
        "      print(\"Up-to-date: \" + str(txt_blob_aux))\n",
        "      \n",
        "\n",
        "\n",
        "# Salva arquivo no google Drive\n",
        "data_translate.to_csv(drive_file, index=False, header=True)\n",
        "\n",
        "data_translate"
      ],
      "execution_count": null,
      "outputs": [
        {
          "output_type": "error",
          "ename": "FileNotFoundError",
          "evalue": "ignored",
          "traceback": [
            "\u001b[0;31m---------------------------------------------------------------------------\u001b[0m",
            "\u001b[0;31mFileNotFoundError\u001b[0m                         Traceback (most recent call last)",
            "\u001b[0;32m<ipython-input-29-d697860967ad>\u001b[0m in \u001b[0;36m<module>\u001b[0;34m()\u001b[0m\n\u001b[1;32m      1\u001b[0m \u001b[0mdrive_file\u001b[0m \u001b[0;34m=\u001b[0m \u001b[0;34m\"drive/My Drive/sentiment_analysis_project/translate_us.csv\"\u001b[0m\u001b[0;34m\u001b[0m\u001b[0;34m\u001b[0m\u001b[0m\n\u001b[0;32m----> 2\u001b[0;31m \u001b[0mdata_translate\u001b[0m \u001b[0;34m=\u001b[0m \u001b[0mpd\u001b[0m\u001b[0;34m.\u001b[0m\u001b[0mread_csv\u001b[0m\u001b[0;34m(\u001b[0m\u001b[0mdrive_file\u001b[0m\u001b[0;34m)\u001b[0m\u001b[0;34m\u001b[0m\u001b[0;34m\u001b[0m\u001b[0m\n\u001b[0m\u001b[1;32m      3\u001b[0m \u001b[0;34m\u001b[0m\u001b[0m\n\u001b[1;32m      4\u001b[0m \u001b[0mdt\u001b[0m \u001b[0;34m=\u001b[0m \u001b[0mdata_translate\u001b[0m\u001b[0;34m.\u001b[0m\u001b[0mloc\u001b[0m\u001b[0;34m[\u001b[0m\u001b[0mdata_translate\u001b[0m\u001b[0;34m[\u001b[0m\u001b[0;34m'review_us'\u001b[0m\u001b[0;34m]\u001b[0m \u001b[0;34m==\u001b[0m \u001b[0;34m'EMPTY'\u001b[0m\u001b[0;34m]\u001b[0m\u001b[0;34m\u001b[0m\u001b[0;34m\u001b[0m\u001b[0m\n\u001b[1;32m      5\u001b[0m \u001b[0;34m\u001b[0m\u001b[0m\n",
            "\u001b[0;32m/usr/local/lib/python3.6/dist-packages/pandas/io/parsers.py\u001b[0m in \u001b[0;36mread_csv\u001b[0;34m(filepath_or_buffer, sep, delimiter, header, names, index_col, usecols, squeeze, prefix, mangle_dupe_cols, dtype, engine, converters, true_values, false_values, skipinitialspace, skiprows, skipfooter, nrows, na_values, keep_default_na, na_filter, verbose, skip_blank_lines, parse_dates, infer_datetime_format, keep_date_col, date_parser, dayfirst, cache_dates, iterator, chunksize, compression, thousands, decimal, lineterminator, quotechar, quoting, doublequote, escapechar, comment, encoding, dialect, error_bad_lines, warn_bad_lines, delim_whitespace, low_memory, memory_map, float_precision)\u001b[0m\n\u001b[1;32m    686\u001b[0m     )\n\u001b[1;32m    687\u001b[0m \u001b[0;34m\u001b[0m\u001b[0m\n\u001b[0;32m--> 688\u001b[0;31m     \u001b[0;32mreturn\u001b[0m \u001b[0m_read\u001b[0m\u001b[0;34m(\u001b[0m\u001b[0mfilepath_or_buffer\u001b[0m\u001b[0;34m,\u001b[0m \u001b[0mkwds\u001b[0m\u001b[0;34m)\u001b[0m\u001b[0;34m\u001b[0m\u001b[0;34m\u001b[0m\u001b[0m\n\u001b[0m\u001b[1;32m    689\u001b[0m \u001b[0;34m\u001b[0m\u001b[0m\n\u001b[1;32m    690\u001b[0m \u001b[0;34m\u001b[0m\u001b[0m\n",
            "\u001b[0;32m/usr/local/lib/python3.6/dist-packages/pandas/io/parsers.py\u001b[0m in \u001b[0;36m_read\u001b[0;34m(filepath_or_buffer, kwds)\u001b[0m\n\u001b[1;32m    452\u001b[0m \u001b[0;34m\u001b[0m\u001b[0m\n\u001b[1;32m    453\u001b[0m     \u001b[0;31m# Create the parser.\u001b[0m\u001b[0;34m\u001b[0m\u001b[0;34m\u001b[0m\u001b[0;34m\u001b[0m\u001b[0m\n\u001b[0;32m--> 454\u001b[0;31m     \u001b[0mparser\u001b[0m \u001b[0;34m=\u001b[0m \u001b[0mTextFileReader\u001b[0m\u001b[0;34m(\u001b[0m\u001b[0mfp_or_buf\u001b[0m\u001b[0;34m,\u001b[0m \u001b[0;34m**\u001b[0m\u001b[0mkwds\u001b[0m\u001b[0;34m)\u001b[0m\u001b[0;34m\u001b[0m\u001b[0;34m\u001b[0m\u001b[0m\n\u001b[0m\u001b[1;32m    455\u001b[0m \u001b[0;34m\u001b[0m\u001b[0m\n\u001b[1;32m    456\u001b[0m     \u001b[0;32mif\u001b[0m \u001b[0mchunksize\u001b[0m \u001b[0;32mor\u001b[0m \u001b[0miterator\u001b[0m\u001b[0;34m:\u001b[0m\u001b[0;34m\u001b[0m\u001b[0;34m\u001b[0m\u001b[0m\n",
            "\u001b[0;32m/usr/local/lib/python3.6/dist-packages/pandas/io/parsers.py\u001b[0m in \u001b[0;36m__init__\u001b[0;34m(self, f, engine, **kwds)\u001b[0m\n\u001b[1;32m    946\u001b[0m             \u001b[0mself\u001b[0m\u001b[0;34m.\u001b[0m\u001b[0moptions\u001b[0m\u001b[0;34m[\u001b[0m\u001b[0;34m\"has_index_names\"\u001b[0m\u001b[0;34m]\u001b[0m \u001b[0;34m=\u001b[0m \u001b[0mkwds\u001b[0m\u001b[0;34m[\u001b[0m\u001b[0;34m\"has_index_names\"\u001b[0m\u001b[0;34m]\u001b[0m\u001b[0;34m\u001b[0m\u001b[0;34m\u001b[0m\u001b[0m\n\u001b[1;32m    947\u001b[0m \u001b[0;34m\u001b[0m\u001b[0m\n\u001b[0;32m--> 948\u001b[0;31m         \u001b[0mself\u001b[0m\u001b[0;34m.\u001b[0m\u001b[0m_make_engine\u001b[0m\u001b[0;34m(\u001b[0m\u001b[0mself\u001b[0m\u001b[0;34m.\u001b[0m\u001b[0mengine\u001b[0m\u001b[0;34m)\u001b[0m\u001b[0;34m\u001b[0m\u001b[0;34m\u001b[0m\u001b[0m\n\u001b[0m\u001b[1;32m    949\u001b[0m \u001b[0;34m\u001b[0m\u001b[0m\n\u001b[1;32m    950\u001b[0m     \u001b[0;32mdef\u001b[0m \u001b[0mclose\u001b[0m\u001b[0;34m(\u001b[0m\u001b[0mself\u001b[0m\u001b[0;34m)\u001b[0m\u001b[0;34m:\u001b[0m\u001b[0;34m\u001b[0m\u001b[0;34m\u001b[0m\u001b[0m\n",
            "\u001b[0;32m/usr/local/lib/python3.6/dist-packages/pandas/io/parsers.py\u001b[0m in \u001b[0;36m_make_engine\u001b[0;34m(self, engine)\u001b[0m\n\u001b[1;32m   1178\u001b[0m     \u001b[0;32mdef\u001b[0m \u001b[0m_make_engine\u001b[0m\u001b[0;34m(\u001b[0m\u001b[0mself\u001b[0m\u001b[0;34m,\u001b[0m \u001b[0mengine\u001b[0m\u001b[0;34m=\u001b[0m\u001b[0;34m\"c\"\u001b[0m\u001b[0;34m)\u001b[0m\u001b[0;34m:\u001b[0m\u001b[0;34m\u001b[0m\u001b[0;34m\u001b[0m\u001b[0m\n\u001b[1;32m   1179\u001b[0m         \u001b[0;32mif\u001b[0m \u001b[0mengine\u001b[0m \u001b[0;34m==\u001b[0m \u001b[0;34m\"c\"\u001b[0m\u001b[0;34m:\u001b[0m\u001b[0;34m\u001b[0m\u001b[0;34m\u001b[0m\u001b[0m\n\u001b[0;32m-> 1180\u001b[0;31m             \u001b[0mself\u001b[0m\u001b[0;34m.\u001b[0m\u001b[0m_engine\u001b[0m \u001b[0;34m=\u001b[0m \u001b[0mCParserWrapper\u001b[0m\u001b[0;34m(\u001b[0m\u001b[0mself\u001b[0m\u001b[0;34m.\u001b[0m\u001b[0mf\u001b[0m\u001b[0;34m,\u001b[0m \u001b[0;34m**\u001b[0m\u001b[0mself\u001b[0m\u001b[0;34m.\u001b[0m\u001b[0moptions\u001b[0m\u001b[0;34m)\u001b[0m\u001b[0;34m\u001b[0m\u001b[0;34m\u001b[0m\u001b[0m\n\u001b[0m\u001b[1;32m   1181\u001b[0m         \u001b[0;32melse\u001b[0m\u001b[0;34m:\u001b[0m\u001b[0;34m\u001b[0m\u001b[0;34m\u001b[0m\u001b[0m\n\u001b[1;32m   1182\u001b[0m             \u001b[0;32mif\u001b[0m \u001b[0mengine\u001b[0m \u001b[0;34m==\u001b[0m \u001b[0;34m\"python\"\u001b[0m\u001b[0;34m:\u001b[0m\u001b[0;34m\u001b[0m\u001b[0;34m\u001b[0m\u001b[0m\n",
            "\u001b[0;32m/usr/local/lib/python3.6/dist-packages/pandas/io/parsers.py\u001b[0m in \u001b[0;36m__init__\u001b[0;34m(self, src, **kwds)\u001b[0m\n\u001b[1;32m   2008\u001b[0m         \u001b[0mkwds\u001b[0m\u001b[0;34m[\u001b[0m\u001b[0;34m\"usecols\"\u001b[0m\u001b[0;34m]\u001b[0m \u001b[0;34m=\u001b[0m \u001b[0mself\u001b[0m\u001b[0;34m.\u001b[0m\u001b[0musecols\u001b[0m\u001b[0;34m\u001b[0m\u001b[0;34m\u001b[0m\u001b[0m\n\u001b[1;32m   2009\u001b[0m \u001b[0;34m\u001b[0m\u001b[0m\n\u001b[0;32m-> 2010\u001b[0;31m         \u001b[0mself\u001b[0m\u001b[0;34m.\u001b[0m\u001b[0m_reader\u001b[0m \u001b[0;34m=\u001b[0m \u001b[0mparsers\u001b[0m\u001b[0;34m.\u001b[0m\u001b[0mTextReader\u001b[0m\u001b[0;34m(\u001b[0m\u001b[0msrc\u001b[0m\u001b[0;34m,\u001b[0m \u001b[0;34m**\u001b[0m\u001b[0mkwds\u001b[0m\u001b[0;34m)\u001b[0m\u001b[0;34m\u001b[0m\u001b[0;34m\u001b[0m\u001b[0m\n\u001b[0m\u001b[1;32m   2011\u001b[0m         \u001b[0mself\u001b[0m\u001b[0;34m.\u001b[0m\u001b[0munnamed_cols\u001b[0m \u001b[0;34m=\u001b[0m \u001b[0mself\u001b[0m\u001b[0;34m.\u001b[0m\u001b[0m_reader\u001b[0m\u001b[0;34m.\u001b[0m\u001b[0munnamed_cols\u001b[0m\u001b[0;34m\u001b[0m\u001b[0;34m\u001b[0m\u001b[0m\n\u001b[1;32m   2012\u001b[0m \u001b[0;34m\u001b[0m\u001b[0m\n",
            "\u001b[0;32mpandas/_libs/parsers.pyx\u001b[0m in \u001b[0;36mpandas._libs.parsers.TextReader.__cinit__\u001b[0;34m()\u001b[0m\n",
            "\u001b[0;32mpandas/_libs/parsers.pyx\u001b[0m in \u001b[0;36mpandas._libs.parsers.TextReader._setup_parser_source\u001b[0;34m()\u001b[0m\n",
            "\u001b[0;31mFileNotFoundError\u001b[0m: [Errno 2] No such file or directory: 'drive/My Drive/sentiment_analysis_project/translate_us.csv'"
          ]
        }
      ]
    },
    {
      "cell_type": "markdown",
      "metadata": {
        "id": "1RjSoF1EJTpE"
      },
      "source": [
        ""
      ]
    },
    {
      "cell_type": "markdown",
      "metadata": {
        "id": "odBE6TuYJTrn"
      },
      "source": [
        "##Sugestão de Refactory"
      ]
    },
    {
      "cell_type": "code",
      "metadata": {
        "id": "0a5_MWVFJR-1"
      },
      "source": [
        "# criar uma lista de comentarios traduzidos\n",
        "comments_blob_us = []\n",
        "\n",
        "for txt_blob in comments_blob[:10]:\n",
        "  try:\n",
        "    blob_us = txt_blob.translate(to='us')\n",
        "    comments_blob_us.append(blob_us)\n",
        "    time.sleep(1)\n",
        "  except:\n",
        "    print('erro: ' + txt_blob)\n",
        "    \n",
        "comments_blob_us"
      ],
      "execution_count": null,
      "outputs": []
    },
    {
      "cell_type": "markdown",
      "metadata": {
        "id": "mOfhQgpElsmT"
      },
      "source": [
        "#Gerar Senteças aleatórias"
      ]
    },
    {
      "cell_type": "code",
      "metadata": {
        "id": "7pPp7B9-l4LS",
        "colab": {
          "base_uri": "https://localhost:8080/",
          "height": 1000
        },
        "outputId": "edd7e1ff-cba1-4d66-fa1f-0d684a1a86aa"
      },
      "source": [
        "# comentários com tradução\n",
        "drive_file = \"drive/My Drive/sentiment_analysis_project/translate_us.csv\" \n",
        "data_random = pd.read_csv(drive_file)\n",
        "# gerar novo dataset\n",
        "data_sentencas = pd.DataFrame(columns= ['review', 'subjetividade', 'classificacao'])\n",
        "# Tamanho do dataset de comentários em pt_br e us\n",
        "size = len(data_random)\n",
        "# auxiliares loop\n",
        "max_sentences = 200\n",
        "current = 0\n",
        "array_pos = []\n",
        "\n",
        "while current < max_sentences:\n",
        "  i = random.randint(0, size)\n",
        "  # Valida se a posição randômica já foi utilizada\n",
        "  if i not in array_pos:\n",
        "    #Obter sentenças tratando emojis\n",
        "    comment_aux = data_random.iloc[i]\n",
        "    txtb_review = TextBlob(str(comment_aux.review).encode('utf-16', 'surrogatepass').decode('utf-16'))\n",
        "    # obter uma sentença aleatória do review sorteado\n",
        "    sentence_br = random.choice(txtb_review.sentences)\n",
        "    print('REVIEW: '+ str(txtb_review))\n",
        "    print('SENTENÇA: '+ str(sentence_br))\n",
        "\n",
        "    #cria objeto para adicionar ao dataframe\n",
        "    if sentence_br != \\\"!\\\" and sentence_br != \\\".\\\" and sentence_br != \\\"..\\\" and sentence_br != \\\"rs\\\" and sentence_br != \\\"Aff.\\\" :\n",
        "      obj_aux = { 'review': sentence_br, 'subjetividade': '', 'classificacao': '' }\n",
        "      # adiciona ao dataframe\n",
        "      data_sentencas = data_sentencas.append(obj_aux, ignore_index=True)\n",
        "      current += 1\n",
        "    \n",
        "  array_pos.append(i)\n",
        "  print(array_pos)\n",
        "\n",
        "# Salvar no drive\n",
        "data_sentencas.to_csv('drive/My Drive/sentiment_analysis_project/ground_truth.csv', index=False)\n",
        "data_sentencas\n",
        "\n"
      ],
      "execution_count": null,
      "outputs": [
        {
          "output_type": "stream",
          "text": [
            "O lugar é despretensioso, mas limpo, e cada vez que vou ao local tem um tipo de cachorro quente diferente, atraindo cada vez mais clientela.\n",
            "Os combos do lanche de 22 cm, mais refrigerante e um churros (de doce de leite ou chocolate) são super em conta e montam uma refeição completa!\n",
            "[46782]\n",
            "Já estive em vários restaurantes de comida japonesa, mas até hoje nenhum se comparou ao Kawa da Alameda Lorena.\n",
            "Os pratos são deliciosos e diferentes e o atendimento é ótimo.\n",
            "Além disso, o Kawa da Lorena é um restaurante conceito e a decoração é moderna e sofisticada.\n",
            "Recomendo!\n",
            "[46782, 19187]\n",
            "Excelentes hambúrgueres que são montados conforme a escolha de ingredientes feita pelo cliente.\n",
            "Carta de cervejas importadas e nacionais muito bem sortida.\n",
            "Atendimento atencioso e cortês.\n",
            "Ambiente agradável.\n",
            "Preço justo.\n",
            "Ótima opção para refeição informal com amigos ou família.\n",
            "[46782, 19187, 49839]\n",
            "Restaurante francês de muito boa qualidade.\n",
            "Necessita reserva previa.\n",
            "Vale a pena conferir.\n",
            "Cozinha com o chef fica na entrada em local visível.\n",
            "[46782, 19187, 49839, 99960]\n",
            "Deliciosa pizza de abobrinha, leve e saborosíssima!!\n",
            "Ambiente agradável e familiar!!\n",
            "Garçon super simpático e atencioso!!!\n",
            "Recomendo esse lugar, preço justo!!\n",
            "!\n",
            "[46782, 19187, 49839, 99960, 52079]\n",
            "Restaurante com um ambiente muito bom e ótimo atendimento.\n",
            "A comida é excelente, muito bem servida e com preço justo, além de chegarem a mesa bem rapido.\n",
            "A coxinha de costela é maravilhosa, uma ótima pedida.\n",
            "O restaurante abre as 12h, mas as 11h40 já está lotado, então, o conselho é chegar cedo.\n",
            "No mais, experiência excelente e recomendo muito a visita!\n",
            "[46782, 19187, 49839, 99960, 52079, 39247]\n",
            "Ambiente aconchegante,familiar.Serviço perfeito.Delícia de gastronomia.Recomendo a todos que gostam de comer bem!\n",
            "[46782, 19187, 49839, 99960, 52079, 39247, 79268]\n",
            "O Restaurante fica dentro de um Shopping, o ambiente é bonito e oferece uma boa vista da cidade, a comida é muito gostosa e sofisticada, são pratos individuais.\n",
            "O atendimento é muito bom, tenho a intenção de voltar e provar outros pratos.\n",
            "Indico principalmente para um almoço de sábado.\n",
            "[46782, 19187, 49839, 99960, 52079, 39247, 79268, 2088]\n",
            "Deliciosos petiscos do mar\n",
            "Na orla sul de Aracaju\n",
            "Atendimento nota dez\n",
            "Instalações perfeitas e confortáveis\n",
            "Atendimento excelente\n",
            "Preços condiz com o ambiente\n",
            "Super indico\n",
            "[46782, 19187, 49839, 99960, 52079, 39247, 79268, 2088, 41131]\n",
            "O restaurante fica dentro do Shopping Moinhos e funciona no esquema de buffet.\n",
            "Achei pequena a variedade de comidas e o preço alto pelo que oferece.\n",
            "[46782, 19187, 49839, 99960, 52079, 39247, 79268, 2088, 41131, 12262]\n",
            "Tradicional.\n",
            "Preço justo.\n",
            "Muito saborosa a comida.\n",
            "O atendimento foi demais.\n",
            "Recomendo.\n",
            "Várias opções veggies e não veggies, agrada a todos.\n",
            "[46782, 19187, 49839, 99960, 52079, 39247, 79268, 2088, 41131, 12262, 58682]\n",
            "Comida excelente, variado cardapio com boas opçoes.\n",
            "Local agradavel, bem decorado.\n",
            "Bom  atendimento.\n",
            "Recomendo um dos melhores locais de Campo Grande para comer\n",
            "[46782, 19187, 49839, 99960, 52079, 39247, 79268, 2088, 41131, 12262, 58682, 28104]\n",
            "Restaurante francês.\n",
            "Ambiente de\n",
            "Bistrô.\n",
            "Aconchegante.\n",
            "Comida muito boa.\n",
            "Atendimento correto e preços proporcionais ao serviço oferecido.\n",
            "Recomendo.\n",
            "[46782, 19187, 49839, 99960, 52079, 39247, 79268, 2088, 41131, 12262, 58682, 28104, 47875]\n",
            "Amei a experiência!\n",
            "Fomos muito bem atendidos por Fran!\n",
            "Indicou várias opções que amamos!\n",
            "Deixou a gente extremante a vontade, além de sempre volta a mesa para saber se precisamos de mais alguma coisa.\n",
            "Os pratos saíram rápidos, e de excelente qualidade.\n",
            "O único ponto que não gostamos é que embora o cardapio seja farto, muitas opções não podem servir no rodízio!\n",
            "Mas com certeza, iremos voltar!\n",
            "[46782, 19187, 49839, 99960, 52079, 39247, 79268, 2088, 41131, 12262, 58682, 28104, 47875, 52292]\n",
            "A comida foi muito farta e o preço é ótimo.Apesar disso o atendimento era bem fraco e os vendedores da praia ofereciam produtos a cada segundo, eu e minha família não conseguíamos sequer conversar.Apesar disso era o melhor preço e a comida muito boa.\n",
            "[46782, 19187, 49839, 99960, 52079, 39247, 79268, 2088, 41131, 12262, 58682, 28104, 47875, 52292, 60167]\n",
            "O melhor lugar para saborear a autêntica comida baiana em terras pernambucanas.\n",
            "Boas opções de petiscos e entradas e pratos principais saborosos.\n",
            "Destaque para as moquecas de camarão e de polvo.\n",
            "Mas, o peixe ao forno, recheado, também é delicioso.\n",
            "É preciso chegar cedo para o almoço, pois o restaurante lota sempre.\n",
            "Quem chegar depois das 12h, certamente irá para a fila de espera.\n",
            "[46782, 19187, 49839, 99960, 52079, 39247, 79268, 2088, 41131, 12262, 58682, 28104, 47875, 52292, 60167, 13590]\n",
            "Fui com meu namorado num pós praia para comer algo e ficamos decepcionados.\n",
            "O ambiente é legal, a vista é bonita, localizado numa parte privilegiada da praia de Ipanema e o atendimento ok. Lemos o cardápio e ficamos empolgados com as opções que pareciam ser deliciosas e com preço compatível com a região.\n",
            "Resolvemos pedir uma porção chamada “Fritura do Mar” (aprox R$ 79) que na descrição do menu informava que era composta por Camarões, Lulas e Manjubinha, e foi essa nossa decepção.\n",
            "A porção veio repleta de Lulas e com apenas 03, sim, foi possível contar, apenas 03 Camarões (tamanho médio).\n",
            "Além disso, não estava saborosa, sem tempero e as Lulas mal empanadas.\n",
            "Pela experiência ruim, não tivemos vontade de experimentar outros itens do cardápio e resolvemos ir embora.\n",
            "De toda forma, desejamos que o restaurante reveja alguns pontos pois tem potencial para ser uma parada certa em Ipanema.\n",
            "[46782, 19187, 49839, 99960, 52079, 39247, 79268, 2088, 41131, 12262, 58682, 28104, 47875, 52292, 60167, 13590, 5685]\n",
            "Tudo muito bem feito.\n",
            "Atendimento excelente.\n",
            "Rápidos na entrega também.\n",
            "O ponto ruim é que você vai ao restaurante e, por conta da pouca ventilação, fica com cheiro de comida na roupa o dia todo!!!\n",
            "!\n",
            "[46782, 19187, 49839, 99960, 52079, 39247, 79268, 2088, 41131, 12262, 58682, 28104, 47875, 52292, 60167, 13590, 5685, 14682]\n",
            "Estive no final de semana no restaurante e solicitei uma lasanha á bolonhesa e adorei.\n",
            "Tudo muito gostoso e rápido,com um bom serviço e um boas espaço também.\n",
            "O preço é razoável,onde não indico para pessoas com o orçamento limitado.\n",
            "[46782, 19187, 49839, 99960, 52079, 39247, 79268, 2088, 41131, 12262, 58682, 28104, 47875, 52292, 60167, 13590, 5685, 14682, 56729]\n",
            "Faz jus a avaliação da Veja SP.\n",
            "O restaurante tem o mérito de reiventar o conceito de churrascaria.\n",
            "Seria uma ofensa falar em rodízio .\n",
            "Menu degustação com vários tipos de carnes: vácio, ancho, bife de chorizo e muito mais.\n",
            "Atendimento impecável, carta de vinhos adequada com preços justos.\n",
            "Ambiente agradável.\n",
            "Esqueça as churrascarias de rodízio, este é um novo e mais elevado patamar!\n",
            "[46782, 19187, 49839, 99960, 52079, 39247, 79268, 2088, 41131, 12262, 58682, 28104, 47875, 52292, 60167, 13590, 5685, 14682, 56729, 73115]\n",
            "Cardápio e bebidas variadas e excelentes.\n",
            "Local muito agradável , ambiente com e sem ar condicionado .\n",
            "Há quase 30 anos em Maceió e sempre em alta .\n",
            "Não deixe de ir.\n",
            "[46782, 19187, 49839, 99960, 52079, 39247, 79268, 2088, 41131, 12262, 58682, 28104, 47875, 52292, 60167, 13590, 5685, 14682, 56729, 73115, 70809]\n",
            "Minha Pizzaria preferida!\n",
            "Comida de qualidade, atendimento ótimo, preço justo, fica melhor ainda com os cupons de desconto!\n",
            "[46782, 19187, 49839, 99960, 52079, 39247, 79268, 2088, 41131, 12262, 58682, 28104, 47875, 52292, 60167, 13590, 5685, 14682, 56729, 73115, 70809, 82693]\n",
            "Restaurante legal para ir com casais amigos, ter um excelente pate-papo e se deliciar com o cardápio.\n",
            "No verão sempre freqüento o de Pirangi Praia.\n",
            "[46782, 19187, 49839, 99960, 52079, 39247, 79268, 2088, 41131, 12262, 58682, 28104, 47875, 52292, 60167, 13590, 5685, 14682, 56729, 73115, 70809, 82693, 91055]\n",
            "Picanha boa e cerveja gelada, você encontra aqui.\n",
            "E a um preço justo.\n",
            "A picanah nacional é a pedida da casa... com u maconhamento perfeito.\n",
            "Vale muito a pena.\n",
            "[46782, 19187, 49839, 99960, 52079, 39247, 79268, 2088, 41131, 12262, 58682, 28104, 47875, 52292, 60167, 13590, 5685, 14682, 56729, 73115, 70809, 82693, 91055, 84146]\n",
            "Para quem gosta de frutos do mar e uma cerveja bem gelada, este é um dos poucos lugares a beira mar de recife.\n",
            "Vale a pena se inteirar das promoções, tipo clone  etc etc.\n",
            "[46782, 19187, 49839, 99960, 52079, 39247, 79268, 2088, 41131, 12262, 58682, 28104, 47875, 52292, 60167, 13590, 5685, 14682, 56729, 73115, 70809, 82693, 91055, 84146, 57738]\n",
            "São dois salões excelentes de extremo bom gosto.\n",
            "Área externa também muito boa.\n",
            "Pratos rápidos, quantidade boa.\n",
            "Proprietários sempre presentes e garçons atenciosos.\n",
            "Bom estacionamento, localização privilegiada.Com certeza volto.\n",
            "[46782, 19187, 49839, 99960, 52079, 39247, 79268, 2088, 41131, 12262, 58682, 28104, 47875, 52292, 60167, 13590, 5685, 14682, 56729, 73115, 70809, 82693, 91055, 84146, 57738, 83845]\n",
            "Esta é uma casa colonial situada no Pátio de São Pedro.\n",
            "Funciona como um ponto de comida pernambucana.\n",
            "Um prato serve ate servem até três pessoas e a conta é amigável.\n",
            "A galinha à cabidela é a melhor.\n",
            "[46782, 19187, 49839, 99960, 52079, 39247, 79268, 2088, 41131, 12262, 58682, 28104, 47875, 52292, 60167, 13590, 5685, 14682, 56729, 73115, 70809, 82693, 91055, 84146, 57738, 83845, 22834]\n",
            "Melhor experiência!\n",
            "Comida, drinks e local ótimos.\n",
            "Achei o preço super justo.\n",
            "Recebemos um ótimo atendimento do Tibu!\n",
            "[46782, 19187, 49839, 99960, 52079, 39247, 79268, 2088, 41131, 12262, 58682, 28104, 47875, 52292, 60167, 13590, 5685, 14682, 56729, 73115, 70809, 82693, 91055, 84146, 57738, 83845, 22834, 62393]\n",
            "restaurante elegante e aconchegante.\n",
            "fomos uma noite para um jantar com um casal de amigos e conseguimos aproveitar bastante.\n",
            "a comida e muito boa e a decoração é bem clássica.\n",
            "vale a pena conhecer.\n",
            "[46782, 19187, 49839, 99960, 52079, 39247, 79268, 2088, 41131, 12262, 58682, 28104, 47875, 52292, 60167, 13590, 5685, 14682, 56729, 73115, 70809, 82693, 91055, 84146, 57738, 83845, 22834, 62393, 9628]\n",
            "Ambiente agradável, serviços e atendimento muito bom, cardápio excelente e boa carta de vinhos.\n",
            "Recomendo.\n",
            "[46782, 19187, 49839, 99960, 52079, 39247, 79268, 2088, 41131, 12262, 58682, 28104, 47875, 52292, 60167, 13590, 5685, 14682, 56729, 73115, 70809, 82693, 91055, 84146, 57738, 83845, 22834, 62393, 9628, 28499]\n",
            "Ambiente muito agradável, atendimento espetacular e muito, muito sabor!\n",
            "O chef é muito simpático!\n",
            "Super recomendo!\n",
            "[46782, 19187, 49839, 99960, 52079, 39247, 79268, 2088, 41131, 12262, 58682, 28104, 47875, 52292, 60167, 13590, 5685, 14682, 56729, 73115, 70809, 82693, 91055, 84146, 57738, 83845, 22834, 62393, 9628, 28499, 48641]\n",
            "Estive no Imaculada no última sábado e fui muito bem atendida.\n",
            "O local é limpo, e a comida é muito bem servida.\n",
            "Comi a picanha e adorei!\n",
            "O local é uma atração a parte.\n",
            "Recomendo!\n",
            "[46782, 19187, 49839, 99960, 52079, 39247, 79268, 2088, 41131, 12262, 58682, 28104, 47875, 52292, 60167, 13590, 5685, 14682, 56729, 73115, 70809, 82693, 91055, 84146, 57738, 83845, 22834, 62393, 9628, 28499, 48641, 41427]\n",
            "Apesar dos elogios no TripAdvisor, foi surpreendido com padrão de atendimento, qualidade dos pratos e infraestrutura.\n",
            "O preço é muito justo.\n",
            "Recomendo de entrada os pães de produção própria e como sobremesa Maria Bonita.\n",
            "Muito bom!\n",
            "!\n",
            "[46782, 19187, 49839, 99960, 52079, 39247, 79268, 2088, 41131, 12262, 58682, 28104, 47875, 52292, 60167, 13590, 5685, 14682, 56729, 73115, 70809, 82693, 91055, 84146, 57738, 83845, 22834, 62393, 9628, 28499, 48641, 41427, 51353]\n",
            "Passei na Palmeiras porque precisava fazer uma hora mas também não tinha muito tempo para esperar.\n",
            "O atendimento foi prestativo e, assim que me sentei, havia um cardápio em minha mesa.\n",
            "Pedi um X Salada muito bem servido e temperado, pena que não acompanha fritas.\n",
            "A Coca Cola KS estava na temperatura certa.\n",
            "O local tem um espaço não muito grande e, imagino que deva ficar bem cheio no horário de pico, mas quando fui estava confortável.\n",
            "Voltarei mais vezes para provar as opções a lá carte que, pelo que vi, são muito bem servidas e cheirosas.\n",
            "[46782, 19187, 49839, 99960, 52079, 39247, 79268, 2088, 41131, 12262, 58682, 28104, 47875, 52292, 60167, 13590, 5685, 14682, 56729, 73115, 70809, 82693, 91055, 84146, 57738, 83845, 22834, 62393, 9628, 28499, 48641, 41427, 51353, 65647]\n",
            "Compramos um cupom promocional e fomos bem atendidos.\n",
            "Com exceção do frango, o estava tudo muito bom.Tomamos um drink Mojico que estava muito bem feito.\n",
            "E o atendimento foi satisfatório.\n",
            "[46782, 19187, 49839, 99960, 52079, 39247, 79268, 2088, 41131, 12262, 58682, 28104, 47875, 52292, 60167, 13590, 5685, 14682, 56729, 73115, 70809, 82693, 91055, 84146, 57738, 83845, 22834, 62393, 9628, 28499, 48641, 41427, 51353, 65647, 53477]\n",
            "Atendimento nota 1000!\n",
            "Muitas carnes maravilhosas, dá pra provar tudo.\n",
            "Tiro o chapéu para os cortes: bife ancho e vazio.\n",
            "O pudim de sobremesa é a cereja do bolo!\n",
            "[46782, 19187, 49839, 99960, 52079, 39247, 79268, 2088, 41131, 12262, 58682, 28104, 47875, 52292, 60167, 13590, 5685, 14682, 56729, 73115, 70809, 82693, 91055, 84146, 57738, 83845, 22834, 62393, 9628, 28499, 48641, 41427, 51353, 65647, 53477, 31880]\n",
            "Maravilha de comida e atendimento!\n",
            "Localização também especial!\n",
            "Tudo bem natural e com sabor inigualável!\n",
            "[46782, 19187, 49839, 99960, 52079, 39247, 79268, 2088, 41131, 12262, 58682, 28104, 47875, 52292, 60167, 13590, 5685, 14682, 56729, 73115, 70809, 82693, 91055, 84146, 57738, 83845, 22834, 62393, 9628, 28499, 48641, 41427, 51353, 65647, 53477, 31880, 66167]\n",
            "restaurante belicismo, com um atendimento acima da media, com uma culinária indescritível, alem de ser uma ambiente aconchegante e muito requintado.\n",
            "[46782, 19187, 49839, 99960, 52079, 39247, 79268, 2088, 41131, 12262, 58682, 28104, 47875, 52292, 60167, 13590, 5685, 14682, 56729, 73115, 70809, 82693, 91055, 84146, 57738, 83845, 22834, 62393, 9628, 28499, 48641, 41427, 51353, 65647, 53477, 31880, 66167, 61764]\n",
            "Um dos lugares/bar/restaurante mais bem frequentado em Fortaleza.\n",
            "De gastronomia regional elaborada alto standard.\n",
            "É sempre muito lotado, te deixam esperando muito.\n",
            "Mas se vc não estar com pressa vale a pena esperar.\n",
            "Tem música boa,   ao vivo quase sempre.\n",
            "O serviço é muito bom e o Garçom marroquino é 10+ \n",
            "\n",
            "O preço é bom,  justo para o produto.\n",
            "Localização fantástica!\n",
            "Perto de tudo, bem localizado, no bairro mais  nobre da cidade o Meireles, também muito próximo da zona turística.\n",
            "De negativo o tempo de espera e  a música  alta de mais!\n",
            "[46782, 19187, 49839, 99960, 52079, 39247, 79268, 2088, 41131, 12262, 58682, 28104, 47875, 52292, 60167, 13590, 5685, 14682, 56729, 73115, 70809, 82693, 91055, 84146, 57738, 83845, 22834, 62393, 9628, 28499, 48641, 41427, 51353, 65647, 53477, 31880, 66167, 61764, 64035]\n",
            "Começo falando do atendimento mas o que a casa oferece não fica atrás não!\n",
            "Ótimas opções de cervejas regionais e um cardápio bem elaborado para acompanhar.\n",
            "VISITEM!\n",
            "[46782, 19187, 49839, 99960, 52079, 39247, 79268, 2088, 41131, 12262, 58682, 28104, 47875, 52292, 60167, 13590, 5685, 14682, 56729, 73115, 70809, 82693, 91055, 84146, 57738, 83845, 22834, 62393, 9628, 28499, 48641, 41427, 51353, 65647, 53477, 31880, 66167, 61764, 64035, 92566]\n",
            "As porções são fartas e os pratos são saborosos.\n",
            "Tem que ter paciência para a espera, mas tem a vista para confortar a ansiedade.\n",
            "[46782, 19187, 49839, 99960, 52079, 39247, 79268, 2088, 41131, 12262, 58682, 28104, 47875, 52292, 60167, 13590, 5685, 14682, 56729, 73115, 70809, 82693, 91055, 84146, 57738, 83845, 22834, 62393, 9628, 28499, 48641, 41427, 51353, 65647, 53477, 31880, 66167, 61764, 64035, 92566, 73436]\n",
            "Tem várias opções de pratos e todos saborosos.\n",
            "O preço é bom e o atendimento tranquilo.\n",
            "O ambiente é limpo.\n",
            "[46782, 19187, 49839, 99960, 52079, 39247, 79268, 2088, 41131, 12262, 58682, 28104, 47875, 52292, 60167, 13590, 5685, 14682, 56729, 73115, 70809, 82693, 91055, 84146, 57738, 83845, 22834, 62393, 9628, 28499, 48641, 41427, 51353, 65647, 53477, 31880, 66167, 61764, 64035, 92566, 73436, 9565]\n",
            "o restaurante tem uma área de espera muito bonita, o serviço de garçons é excelente, atenciosos .\n",
            "A comida  foi com certeza melhor que provei em Maceió.\n",
            "Da entrada a sobremesa.\n",
            "[46782, 19187, 49839, 99960, 52079, 39247, 79268, 2088, 41131, 12262, 58682, 28104, 47875, 52292, 60167, 13590, 5685, 14682, 56729, 73115, 70809, 82693, 91055, 84146, 57738, 83845, 22834, 62393, 9628, 28499, 48641, 41427, 51353, 65647, 53477, 31880, 66167, 61764, 64035, 92566, 73436, 9565, 73335]\n",
            "Comida gostosa, variada, atendimento simpático tanto dos garçons quanto da recepcionista!\n",
            "Sucos da fruta com preço bem bacana!\n",
            "!\n",
            "[46782, 19187, 49839, 99960, 52079, 39247, 79268, 2088, 41131, 12262, 58682, 28104, 47875, 52292, 60167, 13590, 5685, 14682, 56729, 73115, 70809, 82693, 91055, 84146, 57738, 83845, 22834, 62393, 9628, 28499, 48641, 41427, 51353, 65647, 53477, 31880, 66167, 61764, 64035, 92566, 73436, 9565, 73335, 26529]\n",
            "Caros amigos viajantes\n",
            "Lugar maravilhoso o Limoncello.\n",
            "Pessoal maravilhoso.\n",
            "Atendimento Nota 10.\n",
            "Tente o Fettuccine com Camarões e também Camarões com risoto de Maçã verde.\n",
            "Carta de vinhos muito boa.\n",
            "Ambiente romântico e muito aconchegante.\n",
            "Estando em Brasília vá até lá.\n",
            "Garanto que vc vai gostar muito.\n",
            "O preço é o normal para uma cidade igual Brasília\n",
            "[46782, 19187, 49839, 99960, 52079, 39247, 79268, 2088, 41131, 12262, 58682, 28104, 47875, 52292, 60167, 13590, 5685, 14682, 56729, 73115, 70809, 82693, 91055, 84146, 57738, 83845, 22834, 62393, 9628, 28499, 48641, 41427, 51353, 65647, 53477, 31880, 66167, 61764, 64035, 92566, 73436, 9565, 73335, 26529, 99856]\n",
            "Stand up muito ruim dia de terça, quando ofertam caipirinhas dobradas.\n",
            "Mesas muito apertadas e serviço questionável pois o som é muito alto.\n",
            "[46782, 19187, 49839, 99960, 52079, 39247, 79268, 2088, 41131, 12262, 58682, 28104, 47875, 52292, 60167, 13590, 5685, 14682, 56729, 73115, 70809, 82693, 91055, 84146, 57738, 83845, 22834, 62393, 9628, 28499, 48641, 41427, 51353, 65647, 53477, 31880, 66167, 61764, 64035, 92566, 73436, 9565, 73335, 26529, 99856, 36653]\n",
            "Sempre que venho a Aracaju, passo no Cariri!!\n",
            "Já é uma parada obrigatória e, na minha ultima visita, não foi diferente!!\n",
            "Atendimento rápido e atencioso, comida gostosa, cerveja gelada e diversão garantida!!!\n",
            "Continuem assim!!!\n",
            "Se o seu desejo é ir num local despojado, para se divertir e comer bem na orla de Atalaia, não existe lugar melhor...\n",
            "[46782, 19187, 49839, 99960, 52079, 39247, 79268, 2088, 41131, 12262, 58682, 28104, 47875, 52292, 60167, 13590, 5685, 14682, 56729, 73115, 70809, 82693, 91055, 84146, 57738, 83845, 22834, 62393, 9628, 28499, 48641, 41427, 51353, 65647, 53477, 31880, 66167, 61764, 64035, 92566, 73436, 9565, 73335, 26529, 99856, 36653, 99344]\n",
            "Primeiramente quero deixar claro que a nota baixa é pelo custo beneficio.\n",
            "Fomos bem atendidos, lugar agradável e funcionários muito simpáticos.\n",
            "A comida foi boa de emtrada (queijo brie com geleia de frutas vermelhas), mas os pratos principais foram bem regulares de gosto (robalo limoncello e camarões com risoto açafrão) e quantidade pequena, e 2 sucos.\n",
            "A conta deu 357 reais, 2 vezes mais caro que a média com comida nota 5... nos surpreendemos, custo beneficio infelizmente não valeu.\n",
            "Conversamos com conhecidos que tinham ido outras vezes e tiveram mesma opinião... surpreso com as notas boas do tripadvisor!\n",
            "Enfim, fica a opinião ;)\n",
            "[46782, 19187, 49839, 99960, 52079, 39247, 79268, 2088, 41131, 12262, 58682, 28104, 47875, 52292, 60167, 13590, 5685, 14682, 56729, 73115, 70809, 82693, 91055, 84146, 57738, 83845, 22834, 62393, 9628, 28499, 48641, 41427, 51353, 65647, 53477, 31880, 66167, 61764, 64035, 92566, 73436, 9565, 73335, 26529, 99856, 36653, 99344, 64158]\n",
            "Bistrô muito bacana, ambiente bem harmonioso com o clima de Natal (cidade) rss.\n",
            "decoração de bom gosto e aconchegante.\n",
            "Atendimento muito bom e competente.\n",
            "Cardápio completo, entradas, pratos e sobremesas muito bem apresentadas e saborosas, valor compatível com a entrega.\n",
            "Recomendo sem ressalvas.\n",
            "[46782, 19187, 49839, 99960, 52079, 39247, 79268, 2088, 41131, 12262, 58682, 28104, 47875, 52292, 60167, 13590, 5685, 14682, 56729, 73115, 70809, 82693, 91055, 84146, 57738, 83845, 22834, 62393, 9628, 28499, 48641, 41427, 51353, 65647, 53477, 31880, 66167, 61764, 64035, 92566, 73436, 9565, 73335, 26529, 99856, 36653, 99344, 64158, 35084]\n",
            "A melhor casa de samba da Lapa, lugar maravilhoso, com aperitivos e drinks muito bons.\n",
            "Frequentados por turistas nacionais e internacionais.\n",
            "Diversão garantida e uma ótima noite no estilo carioca.\n",
            "[46782, 19187, 49839, 99960, 52079, 39247, 79268, 2088, 41131, 12262, 58682, 28104, 47875, 52292, 60167, 13590, 5685, 14682, 56729, 73115, 70809, 82693, 91055, 84146, 57738, 83845, 22834, 62393, 9628, 28499, 48641, 41427, 51353, 65647, 53477, 31880, 66167, 61764, 64035, 92566, 73436, 9565, 73335, 26529, 99856, 36653, 99344, 64158, 35084, 75137]\n",
            "Os sanduíches são muito bom, gosto muito e vou várias vezes durante o mês, recomendo a todos, principalmente aqueles que são amantes de um sanduíche saudável.\n",
            "[46782, 19187, 49839, 99960, 52079, 39247, 79268, 2088, 41131, 12262, 58682, 28104, 47875, 52292, 60167, 13590, 5685, 14682, 56729, 73115, 70809, 82693, 91055, 84146, 57738, 83845, 22834, 62393, 9628, 28499, 48641, 41427, 51353, 65647, 53477, 31880, 66167, 61764, 64035, 92566, 73436, 9565, 73335, 26529, 99856, 36653, 99344, 64158, 35084, 75137, 50147]\n",
            "Estive com amigos para desfrutar um farto almoço após um dia na praia.\n",
            "Foi bem legal a experiência de sentar e comer sem culpa uma deliciosa comida regional.\n",
            "[46782, 19187, 49839, 99960, 52079, 39247, 79268, 2088, 41131, 12262, 58682, 28104, 47875, 52292, 60167, 13590, 5685, 14682, 56729, 73115, 70809, 82693, 91055, 84146, 57738, 83845, 22834, 62393, 9628, 28499, 48641, 41427, 51353, 65647, 53477, 31880, 66167, 61764, 64035, 92566, 73436, 9565, 73335, 26529, 99856, 36653, 99344, 64158, 35084, 75137, 50147, 54132]\n"
          ],
          "name": "stdout"
        },
        {
          "output_type": "execute_result",
          "data": {
            "text/html": [
              "<div>\n",
              "<style scoped>\n",
              "    .dataframe tbody tr th:only-of-type {\n",
              "        vertical-align: middle;\n",
              "    }\n",
              "\n",
              "    .dataframe tbody tr th {\n",
              "        vertical-align: top;\n",
              "    }\n",
              "\n",
              "    .dataframe thead th {\n",
              "        text-align: right;\n",
              "    }\n",
              "</style>\n",
              "<table border=\"1\" class=\"dataframe\">\n",
              "  <thead>\n",
              "    <tr style=\"text-align: right;\">\n",
              "      <th></th>\n",
              "      <th>review</th>\n",
              "      <th>review_us</th>\n",
              "      <th>subjetividade</th>\n",
              "    </tr>\n",
              "  </thead>\n",
              "  <tbody>\n",
              "    <tr>\n",
              "      <th>0</th>\n",
              "      <td>(O,  , l, u, g, a, r,  , é,  , d, e, s, p, r, ...</td>\n",
              "      <td>(T, h, e,  , p, l, a, c, e,  , i, s,  , u, n, ...</td>\n",
              "      <td></td>\n",
              "    </tr>\n",
              "    <tr>\n",
              "      <th>1</th>\n",
              "      <td>(O, s,  , c, o, m, b, o, s,  , d, o,  , l, a, ...</td>\n",
              "      <td>(T, h, e,  , 2, 2,  , c, m,  , s, n, a, c, k, ...</td>\n",
              "      <td></td>\n",
              "    </tr>\n",
              "    <tr>\n",
              "      <th>2</th>\n",
              "      <td>(J, á,  , e, s, t, i, v, e,  , e, m,  , v, á, ...</td>\n",
              "      <td>(I,  , h, a, v, e,  , b, e, e, n,  , t, o,  , ...</td>\n",
              "      <td></td>\n",
              "    </tr>\n",
              "    <tr>\n",
              "      <th>3</th>\n",
              "      <td>(O, s,  , p, r, a, t, o, s,  , s, ã, o,  , d, ...</td>\n",
              "      <td>(T, h, e,  , d, i, s, h, e, s,  , a, r, e,  , ...</td>\n",
              "      <td></td>\n",
              "    </tr>\n",
              "    <tr>\n",
              "      <th>4</th>\n",
              "      <td>(A, l, é, m,  , d, i, s, s, o, ,,  , o,  , K, ...</td>\n",
              "      <td>(I, n,  , a, d, d, i, t, i, o, n, ,,  , K, a, ...</td>\n",
              "      <td></td>\n",
              "    </tr>\n",
              "    <tr>\n",
              "      <th>...</th>\n",
              "      <td>...</td>\n",
              "      <td>...</td>\n",
              "      <td>...</td>\n",
              "    </tr>\n",
              "    <tr>\n",
              "      <th>195</th>\n",
              "      <td>(F, r, e, q, u, e, n, t, a, d, o, s,  , p, o, ...</td>\n",
              "      <td>(F, r, e, q, u, e, n, t, e, d,  , b, y,  , n, ...</td>\n",
              "      <td></td>\n",
              "    </tr>\n",
              "    <tr>\n",
              "      <th>196</th>\n",
              "      <td>(D, i, v, e, r, s, ã, o,  , g, a, r, a, n, t, ...</td>\n",
              "      <td>(G, u, a, r, a, n, t, e, e, d,  , f, u, n,  , ...</td>\n",
              "      <td></td>\n",
              "    </tr>\n",
              "    <tr>\n",
              "      <th>197</th>\n",
              "      <td>(O, s,  , s, a, n, d, u, í, c, h, e, s,  , s, ...</td>\n",
              "      <td>(T, h, e,  , s, a, n, d, w, i, c, h, e, s,  , ...</td>\n",
              "      <td></td>\n",
              "    </tr>\n",
              "    <tr>\n",
              "      <th>198</th>\n",
              "      <td>(E, s, t, i, v, e,  , c, o, m,  , a, m, i, g, ...</td>\n",
              "      <td>(I,  , w, a, s,  , w, i, t, h,  , f, r, i, e, ...</td>\n",
              "      <td></td>\n",
              "    </tr>\n",
              "    <tr>\n",
              "      <th>199</th>\n",
              "      <td>(F, o, i,  , b, e, m,  , l, e, g, a, l,  , a, ...</td>\n",
              "      <td>(I, t,  , w, a, s,  , a,  , r, e, a, l, l, y, ...</td>\n",
              "      <td></td>\n",
              "    </tr>\n",
              "  </tbody>\n",
              "</table>\n",
              "<p>200 rows × 3 columns</p>\n",
              "</div>"
            ],
            "text/plain": [
              "                                                review  ... subjetividade\n",
              "0    (O,  , l, u, g, a, r,  , é,  , d, e, s, p, r, ...  ...              \n",
              "1    (O, s,  , c, o, m, b, o, s,  , d, o,  , l, a, ...  ...              \n",
              "2    (J, á,  , e, s, t, i, v, e,  , e, m,  , v, á, ...  ...              \n",
              "3    (O, s,  , p, r, a, t, o, s,  , s, ã, o,  , d, ...  ...              \n",
              "4    (A, l, é, m,  , d, i, s, s, o, ,,  , o,  , K, ...  ...              \n",
              "..                                                 ...  ...           ...\n",
              "195  (F, r, e, q, u, e, n, t, a, d, o, s,  , p, o, ...  ...              \n",
              "196  (D, i, v, e, r, s, ã, o,  , g, a, r, a, n, t, ...  ...              \n",
              "197  (O, s,  , s, a, n, d, u, í, c, h, e, s,  , s, ...  ...              \n",
              "198  (E, s, t, i, v, e,  , c, o, m,  , a, m, i, g, ...  ...              \n",
              "199  (F, o, i,  , b, e, m,  , l, e, g, a, l,  , a, ...  ...              \n",
              "\n",
              "[200 rows x 3 columns]"
            ]
          },
          "metadata": {
            "tags": []
          },
          "execution_count": 42
        }
      ]
    },
    {
      "cell_type": "markdown",
      "metadata": {
        "id": "avzCq9DZIKGk"
      },
      "source": [
        "##Sugestão de Refactory"
      ]
    },
    {
      "cell_type": "code",
      "metadata": {
        "id": "0HbRE4WgITAb",
        "outputId": "26c46b54-6f2d-4006-c028-9f45d6895b5a",
        "colab": {
          "base_uri": "https://localhost:8080/",
          "height": 231
        }
      },
      "source": [
        "import random\n",
        "\n",
        "# gera 200 index aleatorios não repetidos\n",
        "indexRandom = []\n",
        "\n",
        "while len(indexRandom) < 200:\n",
        "  n = random.randint(0, len(comments_blob) -1)\n",
        "  if not n in indexRandom:\n",
        "    indexRandom.append(n)\n",
        "\n",
        "len(indexRandom)"
      ],
      "execution_count": 1,
      "outputs": [
        {
          "output_type": "error",
          "ename": "NameError",
          "evalue": "ignored",
          "traceback": [
            "\u001b[0;31m---------------------------------------------------------------------------\u001b[0m",
            "\u001b[0;31mNameError\u001b[0m                                 Traceback (most recent call last)",
            "\u001b[0;32m<ipython-input-1-1e9472be7ed6>\u001b[0m in \u001b[0;36m<module>\u001b[0;34m()\u001b[0m\n\u001b[1;32m      5\u001b[0m \u001b[0;34m\u001b[0m\u001b[0m\n\u001b[1;32m      6\u001b[0m \u001b[0;32mwhile\u001b[0m \u001b[0mlen\u001b[0m\u001b[0;34m(\u001b[0m\u001b[0mindexRandom\u001b[0m\u001b[0;34m)\u001b[0m \u001b[0;34m<\u001b[0m \u001b[0;36m200\u001b[0m\u001b[0;34m:\u001b[0m\u001b[0;34m\u001b[0m\u001b[0;34m\u001b[0m\u001b[0m\n\u001b[0;32m----> 7\u001b[0;31m   \u001b[0mn\u001b[0m \u001b[0;34m=\u001b[0m \u001b[0mrandom\u001b[0m\u001b[0;34m.\u001b[0m\u001b[0mrandint\u001b[0m\u001b[0;34m(\u001b[0m\u001b[0;36m0\u001b[0m\u001b[0;34m,\u001b[0m \u001b[0mlen\u001b[0m\u001b[0;34m(\u001b[0m\u001b[0mcomments_blob\u001b[0m\u001b[0;34m)\u001b[0m \u001b[0;34m-\u001b[0m\u001b[0;36m1\u001b[0m\u001b[0;34m)\u001b[0m\u001b[0;34m\u001b[0m\u001b[0;34m\u001b[0m\u001b[0m\n\u001b[0m\u001b[1;32m      8\u001b[0m   \u001b[0;32mif\u001b[0m \u001b[0;32mnot\u001b[0m \u001b[0mn\u001b[0m \u001b[0;32min\u001b[0m \u001b[0mindexRandom\u001b[0m\u001b[0;34m:\u001b[0m\u001b[0;34m\u001b[0m\u001b[0;34m\u001b[0m\u001b[0m\n\u001b[1;32m      9\u001b[0m     \u001b[0mindexRandom\u001b[0m\u001b[0;34m.\u001b[0m\u001b[0mappend\u001b[0m\u001b[0;34m(\u001b[0m\u001b[0mn\u001b[0m\u001b[0;34m)\u001b[0m\u001b[0;34m\u001b[0m\u001b[0;34m\u001b[0m\u001b[0m\n",
            "\u001b[0;31mNameError\u001b[0m: name 'comments_blob' is not defined"
          ]
        }
      ]
    },
    {
      "cell_type": "code",
      "metadata": {
        "id": "xI46des6Iazy"
      },
      "source": [
        "list_sentences = [];\n",
        "\n",
        "for i in indexRandom:\n",
        "  if len(list_sentences) == 200:\n",
        "      break\n",
        "  # Descomentar somente se tiver sido feito a traducao no 'comments_blob_us'\n",
        "  # for sentence_br, sentence in zip(comments_blob_limite[i].sentences, comments_blob_us[i].sentences):\n",
        "  for sentence_br in comments_blob[i].sentences:\n",
        "    newSentence = {\n",
        "        \"sentence_pt\": str(sentence_br).encode('utf-16', 'surrogatepass').decode('utf-16'),\n",
        "        # \"sentence_us\": str(sentence).encode('utf-16', 'surrogatepass').decode('utf-16'),\n",
        "        # \"subjectivity\": sentence.sentiment.subjectivity,\n",
        "        # \"subjectivity\": sentence.sentiment.polarity,\n",
        "        # \"index_comment\": i\n",
        "    }\n",
        "    list_sentences.append(newSentence)\n",
        "    if len(list_sentences) == 200:\n",
        "      break\n",
        "\n",
        "len(list_sentences)"
      ],
      "execution_count": null,
      "outputs": []
    },
    {
      "cell_type": "code",
      "metadata": {
        "id": "a0V1CTusIdmc"
      },
      "source": [
        "#datasete sentences\n",
        "dtSentence = pd.DataFrame(list_sentences)\n",
        "\n",
        "dtSentence.head()\n",
        "\n",
        "dtSentence.to_csv(r'sentences.csv')"
      ],
      "execution_count": null,
      "outputs": []
    },
    {
      "cell_type": "markdown",
      "metadata": {
        "id": "2DS2BtOoJmmQ"
      },
      "source": [
        "# Ground Truth Comparativo\n",
        "\n"
      ]
    },
    {
      "cell_type": "code",
      "metadata": {
        "id": "1l_hBnZQJ5pX",
        "outputId": "c00966f8-8e0e-4092-dffa-855e69e5f4f1",
        "colab": {
          "base_uri": "https://localhost:8080/",
          "height": 204
        }
      },
      "source": [
        "\n",
        "fonte = \"https://github.com/Andrewsas/trabalho-fundamentos-cid/blob/master/data/ground_truth.csv?raw=true\"\n",
        "\n",
        "dt_ground = pd.read_csv(fonte)\n",
        "dt_ground.columns = ['comments_pt', 'subjectivity', 'polarity']\n",
        "dt_ground.head()"
      ],
      "execution_count": 5,
      "outputs": [
        {
          "output_type": "execute_result",
          "data": {
            "text/html": [
              "<div>\n",
              "<style scoped>\n",
              "    .dataframe tbody tr th:only-of-type {\n",
              "        vertical-align: middle;\n",
              "    }\n",
              "\n",
              "    .dataframe tbody tr th {\n",
              "        vertical-align: top;\n",
              "    }\n",
              "\n",
              "    .dataframe thead th {\n",
              "        text-align: right;\n",
              "    }\n",
              "</style>\n",
              "<table border=\"1\" class=\"dataframe\">\n",
              "  <thead>\n",
              "    <tr style=\"text-align: right;\">\n",
              "      <th></th>\n",
              "      <th>comments_pt</th>\n",
              "      <th>subjectivity</th>\n",
              "      <th>polarity</th>\n",
              "    </tr>\n",
              "  </thead>\n",
              "  <tbody>\n",
              "    <tr>\n",
              "      <th>0</th>\n",
              "      <td>comida excelente, atendimento bom é perto do c...</td>\n",
              "      <td>NaN</td>\n",
              "      <td>NaN</td>\n",
              "    </tr>\n",
              "    <tr>\n",
              "      <th>1</th>\n",
              "      <td>Parabens Camarada!</td>\n",
              "      <td>NaN</td>\n",
              "      <td>NaN</td>\n",
              "    </tr>\n",
              "    <tr>\n",
              "      <th>2</th>\n",
              "      <td>Restaurante fantástico, ambiente aconchegante,...</td>\n",
              "      <td>NaN</td>\n",
              "      <td>NaN</td>\n",
              "    </tr>\n",
              "    <tr>\n",
              "      <th>3</th>\n",
              "      <td>O restaurante possui um espaço kids muito segu...</td>\n",
              "      <td>NaN</td>\n",
              "      <td>NaN</td>\n",
              "    </tr>\n",
              "    <tr>\n",
              "      <th>4</th>\n",
              "      <td>O preço cobrado é justo.</td>\n",
              "      <td>NaN</td>\n",
              "      <td>NaN</td>\n",
              "    </tr>\n",
              "  </tbody>\n",
              "</table>\n",
              "</div>"
            ],
            "text/plain": [
              "                                         comments_pt  subjectivity  polarity\n",
              "0  comida excelente, atendimento bom é perto do c...           NaN       NaN\n",
              "1                                 Parabens Camarada!           NaN       NaN\n",
              "2  Restaurante fantástico, ambiente aconchegante,...           NaN       NaN\n",
              "3  O restaurante possui um espaço kids muito segu...           NaN       NaN\n",
              "4                           O preço cobrado é justo.           NaN       NaN"
            ]
          },
          "metadata": {
            "tags": []
          },
          "execution_count": 5
        }
      ]
    },
    {
      "cell_type": "markdown",
      "metadata": {
        "id": "ywWRmV-rhy-R"
      },
      "source": [
        "# Cálculo da subjetividade"
      ]
    },
    {
      "cell_type": "code",
      "metadata": {
        "id": "Eya0aGF5ka6E"
      },
      "source": [
        "# coloquei para teste, uso as sentenças dos dez primeiros comentarios\n",
        "# O valor da subjetividade é um número real entre [0.0, 1.0], onde 0.0 o texto é indicado como muito objetivo e 1.0 o texto é indicado como muito subjetivo.\n",
        "for i in range(10):\n",
        "  for sentence_br, sentence in zip(comments_blob_limite[i].sentences, comments_blob_us[i].sentences):\n",
        "    print(sentence_br, ':', sentence.sentiment.subjectivity)"
      ],
      "execution_count": null,
      "outputs": []
    },
    {
      "cell_type": "markdown",
      "metadata": {
        "id": "QiBTiHyPj6Rb"
      },
      "source": [
        "# Cálculo da polaridade"
      ]
    },
    {
      "cell_type": "code",
      "metadata": {
        "id": "LPx4W9B5h0Xc"
      },
      "source": [
        "# coloquei para teste, uso as sentenças dos dez primeiros comentarios\n",
        "# O valor da polaridade é um número real entre os valores [-1.0, 1.0].\n",
        "for i in range(10):\n",
        "  for sentence_br, sentence in zip(comments_blob_limite[i].sentences, comments_blob_us[i].sentences):\n",
        "    print(sentence_br, ':', sentence.sentiment.polarity)"
      ],
      "execution_count": null,
      "outputs": []
    },
    {
      "cell_type": "markdown",
      "metadata": {
        "id": "h0TiTgXXl1iS"
      },
      "source": [
        "Obter dataset traduzido com textblob e gerar sentenças aleatórias para o ***ground-truth***/"
      ]
    }
  ]
}