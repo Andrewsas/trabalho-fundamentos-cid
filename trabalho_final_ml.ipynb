{
  "nbformat": 4,
  "nbformat_minor": 0,
  "metadata": {
    "colab": {
      "name": "trabalho-final-ml",
      "provenance": [],
      "toc_visible": true
    },
    "kernelspec": {
      "name": "python3",
      "display_name": "Python 3"
    },
    "language_info": {
      "name": "python"
    }
  },
  "cells": [
    {
      "cell_type": "markdown",
      "metadata": {
        "id": "5KRH58LaoVuF"
      },
      "source": [
        "# Trabalho Final"
      ]
    },
    {
      "cell_type": "markdown",
      "metadata": {
        "id": "E6sPu1JnoeOd"
      },
      "source": [
        "## Informações do Dataset\n",
        "\n",
        "Os dados (amostra) foram coletados em São Paulo - Brasil, em uma área universitária, onde acontecem algumas festas com turmas de alunos de 18 a 28 anos (média). O conjunto de dados utilizado para esta atividade possui 7 atributos, sendo uma Meta, com período de um ano.\n",
        "\n",
        "Dataset: https://www.kaggle.com/dongeorge/beer-consumption-sao-paulo\n",
        "\n",
        "1.   Data\n",
        "2.   Temperatura média (C)\n",
        "3.   Temperatura mínima (C)\n",
        "4.   Temperatura máxima (C)\n",
        "5.   Precipitação (mm)\n",
        "6.   Final de semana\n",
        "7.   Consumo de cerveja (litros)\n",
        "\n"
      ]
    },
    {
      "cell_type": "code",
      "metadata": {
        "id": "LWf6oFk_ZgFk"
      },
      "source": [
        "# Carregando repositório com dataset\n",
        "!git clone https://github.com/Andrewsas/trabalho-fundamentos-cid.git\n",
        "\n",
        "# Importando bibliotecas\n",
        "import pandas as pd\n",
        "import seaborn as sns \n",
        "import matplotlib.pyplot as plt\n",
        "\n",
        "# Renomeando dataset\n",
        "!mv './trabalho-fundamentos-cid/data/Consumo_cerveja.csv' 'dataset_consumo_cerveja.csv'\n",
        "\n",
        "# Criando dataframe\n",
        "df_consumo_cerveja = pd.read_csv('dataset_consumo_cerveja.csv')"
      ],
      "execution_count": null,
      "outputs": []
    },
    {
      "cell_type": "markdown",
      "metadata": {
        "id": "dmw0CAEarDOp"
      },
      "source": [
        "# Normalização de Dados"
      ]
    },
    {
      "cell_type": "code",
      "metadata": {
        "colab": {
          "base_uri": "https://localhost:8080/",
          "height": 419
        },
        "id": "6uERGYvBrG2A",
        "outputId": "4f95220b-7761-42f9-a01a-d09cd036e100"
      },
      "source": [
        "# Dados iniciais\n",
        "df_consumo_cerveja"
      ],
      "execution_count": 30,
      "outputs": [
        {
          "output_type": "execute_result",
          "data": {
            "text/html": [
              "<div>\n",
              "<style scoped>\n",
              "    .dataframe tbody tr th:only-of-type {\n",
              "        vertical-align: middle;\n",
              "    }\n",
              "\n",
              "    .dataframe tbody tr th {\n",
              "        vertical-align: top;\n",
              "    }\n",
              "\n",
              "    .dataframe thead th {\n",
              "        text-align: right;\n",
              "    }\n",
              "</style>\n",
              "<table border=\"1\" class=\"dataframe\">\n",
              "  <thead>\n",
              "    <tr style=\"text-align: right;\">\n",
              "      <th></th>\n",
              "      <th>Data</th>\n",
              "      <th>Temperatura Media (C)</th>\n",
              "      <th>Temperatura Minima (C)</th>\n",
              "      <th>Temperatura Maxima (C)</th>\n",
              "      <th>Precipitacao (mm)</th>\n",
              "      <th>Final de Semana</th>\n",
              "      <th>Consumo de cerveja (litros)</th>\n",
              "    </tr>\n",
              "  </thead>\n",
              "  <tbody>\n",
              "    <tr>\n",
              "      <th>0</th>\n",
              "      <td>2015-01-01</td>\n",
              "      <td>27,3</td>\n",
              "      <td>23,9</td>\n",
              "      <td>32,5</td>\n",
              "      <td>0</td>\n",
              "      <td>0.0</td>\n",
              "      <td>25.461</td>\n",
              "    </tr>\n",
              "    <tr>\n",
              "      <th>1</th>\n",
              "      <td>2015-01-02</td>\n",
              "      <td>27,02</td>\n",
              "      <td>24,5</td>\n",
              "      <td>33,5</td>\n",
              "      <td>0</td>\n",
              "      <td>0.0</td>\n",
              "      <td>28.972</td>\n",
              "    </tr>\n",
              "    <tr>\n",
              "      <th>2</th>\n",
              "      <td>2015-01-03</td>\n",
              "      <td>24,82</td>\n",
              "      <td>22,4</td>\n",
              "      <td>29,9</td>\n",
              "      <td>0</td>\n",
              "      <td>1.0</td>\n",
              "      <td>30.814</td>\n",
              "    </tr>\n",
              "    <tr>\n",
              "      <th>3</th>\n",
              "      <td>2015-01-04</td>\n",
              "      <td>23,98</td>\n",
              "      <td>21,5</td>\n",
              "      <td>28,6</td>\n",
              "      <td>1,2</td>\n",
              "      <td>1.0</td>\n",
              "      <td>29.799</td>\n",
              "    </tr>\n",
              "    <tr>\n",
              "      <th>4</th>\n",
              "      <td>2015-01-05</td>\n",
              "      <td>23,82</td>\n",
              "      <td>21</td>\n",
              "      <td>28,3</td>\n",
              "      <td>0</td>\n",
              "      <td>0.0</td>\n",
              "      <td>28.900</td>\n",
              "    </tr>\n",
              "    <tr>\n",
              "      <th>...</th>\n",
              "      <td>...</td>\n",
              "      <td>...</td>\n",
              "      <td>...</td>\n",
              "      <td>...</td>\n",
              "      <td>...</td>\n",
              "      <td>...</td>\n",
              "      <td>...</td>\n",
              "    </tr>\n",
              "    <tr>\n",
              "      <th>936</th>\n",
              "      <td>NaN</td>\n",
              "      <td>NaN</td>\n",
              "      <td>NaN</td>\n",
              "      <td>NaN</td>\n",
              "      <td>NaN</td>\n",
              "      <td>NaN</td>\n",
              "      <td>NaN</td>\n",
              "    </tr>\n",
              "    <tr>\n",
              "      <th>937</th>\n",
              "      <td>NaN</td>\n",
              "      <td>NaN</td>\n",
              "      <td>NaN</td>\n",
              "      <td>NaN</td>\n",
              "      <td>NaN</td>\n",
              "      <td>NaN</td>\n",
              "      <td>NaN</td>\n",
              "    </tr>\n",
              "    <tr>\n",
              "      <th>938</th>\n",
              "      <td>NaN</td>\n",
              "      <td>NaN</td>\n",
              "      <td>NaN</td>\n",
              "      <td>NaN</td>\n",
              "      <td>NaN</td>\n",
              "      <td>NaN</td>\n",
              "      <td>NaN</td>\n",
              "    </tr>\n",
              "    <tr>\n",
              "      <th>939</th>\n",
              "      <td>NaN</td>\n",
              "      <td>NaN</td>\n",
              "      <td>NaN</td>\n",
              "      <td>NaN</td>\n",
              "      <td>NaN</td>\n",
              "      <td>NaN</td>\n",
              "      <td>NaN</td>\n",
              "    </tr>\n",
              "    <tr>\n",
              "      <th>940</th>\n",
              "      <td>NaN</td>\n",
              "      <td>NaN</td>\n",
              "      <td>NaN</td>\n",
              "      <td>NaN</td>\n",
              "      <td>NaN</td>\n",
              "      <td>NaN</td>\n",
              "      <td>NaN</td>\n",
              "    </tr>\n",
              "  </tbody>\n",
              "</table>\n",
              "<p>941 rows × 7 columns</p>\n",
              "</div>"
            ],
            "text/plain": [
              "           Data  ... Consumo de cerveja (litros)\n",
              "0    2015-01-01  ...                      25.461\n",
              "1    2015-01-02  ...                      28.972\n",
              "2    2015-01-03  ...                      30.814\n",
              "3    2015-01-04  ...                      29.799\n",
              "4    2015-01-05  ...                      28.900\n",
              "..          ...  ...                         ...\n",
              "936         NaN  ...                         NaN\n",
              "937         NaN  ...                         NaN\n",
              "938         NaN  ...                         NaN\n",
              "939         NaN  ...                         NaN\n",
              "940         NaN  ...                         NaN\n",
              "\n",
              "[941 rows x 7 columns]"
            ]
          },
          "metadata": {
            "tags": []
          },
          "execution_count": 30
        }
      ]
    },
    {
      "cell_type": "code",
      "metadata": {
        "colab": {
          "base_uri": "https://localhost:8080/"
        },
        "id": "JdXrodVfrW8Q",
        "outputId": "6e6c8c04-6dda-4518-afaa-3dc6ebeefc81"
      },
      "source": [
        "# Identificando se existe valores nulos no dataframe\n",
        "df_consumo_cerveja.isnull().sum()"
      ],
      "execution_count": 32,
      "outputs": [
        {
          "output_type": "execute_result",
          "data": {
            "text/plain": [
              "Data                           576\n",
              "Temperatura Media (C)          576\n",
              "Temperatura Minima (C)         576\n",
              "Temperatura Maxima (C)         576\n",
              "Precipitacao (mm)              576\n",
              "Final de Semana                576\n",
              "Consumo de cerveja (litros)    576\n",
              "dtype: int64"
            ]
          },
          "metadata": {
            "tags": []
          },
          "execution_count": 32
        }
      ]
    },
    {
      "cell_type": "code",
      "metadata": {
        "colab": {
          "base_uri": "https://localhost:8080/",
          "height": 419
        },
        "id": "Us384vZ0rycU",
        "outputId": "8998f707-f822-49c7-f3ab-abb2ff09d80b"
      },
      "source": [
        "# Removendo valores nulos\n",
        "df_consumo_cerveja.dropna(inplace=True)\n",
        "\n",
        "# Apresentando dataframe normalizado\n",
        "df_consumo_cerveja"
      ],
      "execution_count": 36,
      "outputs": [
        {
          "output_type": "execute_result",
          "data": {
            "text/html": [
              "<div>\n",
              "<style scoped>\n",
              "    .dataframe tbody tr th:only-of-type {\n",
              "        vertical-align: middle;\n",
              "    }\n",
              "\n",
              "    .dataframe tbody tr th {\n",
              "        vertical-align: top;\n",
              "    }\n",
              "\n",
              "    .dataframe thead th {\n",
              "        text-align: right;\n",
              "    }\n",
              "</style>\n",
              "<table border=\"1\" class=\"dataframe\">\n",
              "  <thead>\n",
              "    <tr style=\"text-align: right;\">\n",
              "      <th></th>\n",
              "      <th>Data</th>\n",
              "      <th>Temperatura Media (C)</th>\n",
              "      <th>Temperatura Minima (C)</th>\n",
              "      <th>Temperatura Maxima (C)</th>\n",
              "      <th>Precipitacao (mm)</th>\n",
              "      <th>Final de Semana</th>\n",
              "      <th>Consumo de cerveja (litros)</th>\n",
              "    </tr>\n",
              "  </thead>\n",
              "  <tbody>\n",
              "    <tr>\n",
              "      <th>0</th>\n",
              "      <td>2015-01-01</td>\n",
              "      <td>27,3</td>\n",
              "      <td>23,9</td>\n",
              "      <td>32,5</td>\n",
              "      <td>0</td>\n",
              "      <td>0.0</td>\n",
              "      <td>25.461</td>\n",
              "    </tr>\n",
              "    <tr>\n",
              "      <th>1</th>\n",
              "      <td>2015-01-02</td>\n",
              "      <td>27,02</td>\n",
              "      <td>24,5</td>\n",
              "      <td>33,5</td>\n",
              "      <td>0</td>\n",
              "      <td>0.0</td>\n",
              "      <td>28.972</td>\n",
              "    </tr>\n",
              "    <tr>\n",
              "      <th>2</th>\n",
              "      <td>2015-01-03</td>\n",
              "      <td>24,82</td>\n",
              "      <td>22,4</td>\n",
              "      <td>29,9</td>\n",
              "      <td>0</td>\n",
              "      <td>1.0</td>\n",
              "      <td>30.814</td>\n",
              "    </tr>\n",
              "    <tr>\n",
              "      <th>3</th>\n",
              "      <td>2015-01-04</td>\n",
              "      <td>23,98</td>\n",
              "      <td>21,5</td>\n",
              "      <td>28,6</td>\n",
              "      <td>1,2</td>\n",
              "      <td>1.0</td>\n",
              "      <td>29.799</td>\n",
              "    </tr>\n",
              "    <tr>\n",
              "      <th>4</th>\n",
              "      <td>2015-01-05</td>\n",
              "      <td>23,82</td>\n",
              "      <td>21</td>\n",
              "      <td>28,3</td>\n",
              "      <td>0</td>\n",
              "      <td>0.0</td>\n",
              "      <td>28.900</td>\n",
              "    </tr>\n",
              "    <tr>\n",
              "      <th>...</th>\n",
              "      <td>...</td>\n",
              "      <td>...</td>\n",
              "      <td>...</td>\n",
              "      <td>...</td>\n",
              "      <td>...</td>\n",
              "      <td>...</td>\n",
              "      <td>...</td>\n",
              "    </tr>\n",
              "    <tr>\n",
              "      <th>360</th>\n",
              "      <td>2015-12-27</td>\n",
              "      <td>24</td>\n",
              "      <td>21,1</td>\n",
              "      <td>28,2</td>\n",
              "      <td>13,6</td>\n",
              "      <td>1.0</td>\n",
              "      <td>32.307</td>\n",
              "    </tr>\n",
              "    <tr>\n",
              "      <th>361</th>\n",
              "      <td>2015-12-28</td>\n",
              "      <td>22,64</td>\n",
              "      <td>21,1</td>\n",
              "      <td>26,7</td>\n",
              "      <td>0</td>\n",
              "      <td>0.0</td>\n",
              "      <td>26.095</td>\n",
              "    </tr>\n",
              "    <tr>\n",
              "      <th>362</th>\n",
              "      <td>2015-12-29</td>\n",
              "      <td>21,68</td>\n",
              "      <td>20,3</td>\n",
              "      <td>24,1</td>\n",
              "      <td>10,3</td>\n",
              "      <td>0.0</td>\n",
              "      <td>22.309</td>\n",
              "    </tr>\n",
              "    <tr>\n",
              "      <th>363</th>\n",
              "      <td>2015-12-30</td>\n",
              "      <td>21,38</td>\n",
              "      <td>19,3</td>\n",
              "      <td>22,4</td>\n",
              "      <td>6,3</td>\n",
              "      <td>0.0</td>\n",
              "      <td>20.467</td>\n",
              "    </tr>\n",
              "    <tr>\n",
              "      <th>364</th>\n",
              "      <td>2015-12-31</td>\n",
              "      <td>24,76</td>\n",
              "      <td>20,2</td>\n",
              "      <td>29</td>\n",
              "      <td>0</td>\n",
              "      <td>0.0</td>\n",
              "      <td>22.446</td>\n",
              "    </tr>\n",
              "  </tbody>\n",
              "</table>\n",
              "<p>365 rows × 7 columns</p>\n",
              "</div>"
            ],
            "text/plain": [
              "           Data  ... Consumo de cerveja (litros)\n",
              "0    2015-01-01  ...                      25.461\n",
              "1    2015-01-02  ...                      28.972\n",
              "2    2015-01-03  ...                      30.814\n",
              "3    2015-01-04  ...                      29.799\n",
              "4    2015-01-05  ...                      28.900\n",
              "..          ...  ...                         ...\n",
              "360  2015-12-27  ...                      32.307\n",
              "361  2015-12-28  ...                      26.095\n",
              "362  2015-12-29  ...                      22.309\n",
              "363  2015-12-30  ...                      20.467\n",
              "364  2015-12-31  ...                      22.446\n",
              "\n",
              "[365 rows x 7 columns]"
            ]
          },
          "metadata": {
            "tags": []
          },
          "execution_count": 36
        }
      ]
    },
    {
      "cell_type": "code",
      "metadata": {
        "colab": {
          "base_uri": "https://localhost:8080/"
        },
        "id": "WfjkHN9gsam8",
        "outputId": "cb0148e4-0af0-4bc4-b31f-e16316e828d8"
      },
      "source": [
        "# Informações do dataframe\n",
        "df_consumo_cerveja.info()"
      ],
      "execution_count": 37,
      "outputs": [
        {
          "output_type": "stream",
          "text": [
            "<class 'pandas.core.frame.DataFrame'>\n",
            "Int64Index: 365 entries, 0 to 364\n",
            "Data columns (total 7 columns):\n",
            " #   Column                       Non-Null Count  Dtype  \n",
            "---  ------                       --------------  -----  \n",
            " 0   Data                         365 non-null    object \n",
            " 1   Temperatura Media (C)        365 non-null    object \n",
            " 2   Temperatura Minima (C)       365 non-null    object \n",
            " 3   Temperatura Maxima (C)       365 non-null    object \n",
            " 4   Precipitacao (mm)            365 non-null    object \n",
            " 5   Final de Semana              365 non-null    float64\n",
            " 6   Consumo de cerveja (litros)  365 non-null    float64\n",
            "dtypes: float64(2), object(5)\n",
            "memory usage: 22.8+ KB\n"
          ],
          "name": "stdout"
        }
      ]
    },
    {
      "cell_type": "markdown",
      "metadata": {
        "id": "6brNy_GytZlQ"
      },
      "source": [
        "# Análise exploratória"
      ]
    },
    {
      "cell_type": "code",
      "metadata": {
        "colab": {
          "base_uri": "https://localhost:8080/",
          "height": 571
        },
        "id": "KuIyW_RptcOb",
        "outputId": "29df6603-b1be-4c46-d2b8-c262ec7552e0"
      },
      "source": [
        "# Analisar distribuição e identificar outliers\n",
        "sns.set(rc={'figure.figsize':(11.7,8.27)})\n",
        "sns.distplot(df_consumo_cerveja['Consumo de cerveja (litros)'], bins=30)\n",
        "plt.show()"
      ],
      "execution_count": 39,
      "outputs": [
        {
          "output_type": "stream",
          "text": [
            "/usr/local/lib/python3.7/dist-packages/seaborn/distributions.py:2557: FutureWarning: `distplot` is a deprecated function and will be removed in a future version. Please adapt your code to use either `displot` (a figure-level function with similar flexibility) or `histplot` (an axes-level function for histograms).\n",
            "  warnings.warn(msg, FutureWarning)\n"
          ],
          "name": "stderr"
        },
        {
          "output_type": "display_data",
          "data": {
            "image/png": "[encoded data removed]",
            "text/plain": [
              "<Figure size 842.4x595.44 with 1 Axes>"
            ]
          },
          "metadata": {
            "tags": []
          }
        }
      ]
    },
    {
      "cell_type": "code",
      "metadata": {
        "colab": {
          "base_uri": "https://localhost:8080/",
          "height": 538
        },
        "id": "4DWpf7DBuM7k",
        "outputId": "627f469b-0d05-4d6a-f562-1b8273d44427"
      },
      "source": [
        "#Correlação de variáveis\n",
        "\n",
        "correlation_matrix = df_consumo_cerveja.corr().round(2)\n",
        "\n",
        "sns.heatmap(data=correlation_matrix, annot=True)"
      ],
      "execution_count": 43,
      "outputs": [
        {
          "output_type": "execute_result",
          "data": {
            "text/plain": [
              "<matplotlib.axes._subplots.AxesSubplot at 0x7f18fa6e69d0>"
            ]
          },
          "metadata": {
            "tags": []
          },
          "execution_count": 43
        },
        {
          "output_type": "display_data",
          "data": {
            "image/png": "[encoded data removed]",
            "text/plain": [
              "<Figure size 842.4x595.44 with 2 Axes>"
            ]
          },
          "metadata": {
            "tags": []
          }
        }
      ]
    }
  ]
}