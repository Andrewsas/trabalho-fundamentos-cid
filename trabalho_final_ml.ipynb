{
  "nbformat": 4,
  "nbformat_minor": 0,
  "metadata": {
    "colab": {
      "name": "trabalho-final-ml",
      "provenance": []
    },
    "kernelspec": {
      "name": "python3",
      "display_name": "Python 3"
    },
    "language_info": {
      "name": "python"
    }
  },
  "cells": [
    {
      "cell_type": "markdown",
      "metadata": {
        "id": "5KRH58LaoVuF"
      },
      "source": [
        "# Trabalho Final"
      ]
    },
    {
      "cell_type": "markdown",
      "metadata": {
        "id": "E6sPu1JnoeOd"
      },
      "source": [
        "## Informações do Dataset\n",
        "\n",
        "Os dados (amostra) foram coletados em São Paulo - Brasil, em uma área universitária, onde acontecem algumas festas com turmas de alunos de 18 a 28 anos (média). O conjunto de dados utilizado para esta atividade possui 7 atributos, sendo uma Meta, com período de um ano.\n",
        "\n",
        "Dataset: https://www.kaggle.com/dongeorge/beer-consumption-sao-paulo\n",
        "\n",
        "1.   Data\n",
        "2.   Temperatura média (C)\n",
        "3.   Temperatura mínima (C)\n",
        "4.   Temperatura máxima (C)\n",
        "5.   Precipitação (mm)\n",
        "6.   Final de semana\n",
        "7.   Consumo de cerveja (litros)\n",
        "\n"
      ]
    },
    {
      "cell_type": "code",
      "metadata": {
        "id": "O6a5K0iZ3eP0"
      },
      "source": [
        "# Importando bibliotecas\n",
        "import pandas as pd\n",
        "import seaborn as sns \n",
        "import matplotlib.pyplot as plt\n",
        "import numpy as np"
      ],
      "execution_count": 13,
      "outputs": []
    },
    {
      "cell_type": "code",
      "metadata": {
        "id": "LWf6oFk_ZgFk",
        "colab": {
          "base_uri": "https://localhost:8080/"
        },
        "outputId": "c7b579cc-f251-47f6-de29-17c60bb0b46a"
      },
      "source": [
        "# Carregando repositório com dataset\n",
        "!wget https://github.com/Andrewsas/trabalho-fundamentos-cid/blob/master/data/Consumo_cerveja.csv?raw=true\n",
        "\n",
        "# Renomeando dataset\n",
        "!mv './Consumo_cerveja.csv?raw=true' 'dataset_consumo_cerveja.csv'\n",
        "\n",
        "# Criando dataframe\n",
        "df_consumo_cerveja = pd.read_csv('dataset_consumo_cerveja.csv')"
      ],
      "execution_count": 4,
      "outputs": [
        {
          "output_type": "stream",
          "text": [
            "--2021-06-23 20:51:52--  https://github.com/Andrewsas/trabalho-fundamentos-cid/blob/master/data/Consumo_cerveja.csv?raw=true\n",
            "Resolving github.com (github.com)... 140.82.121.4\n",
            "Connecting to github.com (github.com)|140.82.121.4|:443... connected.\n",
            "HTTP request sent, awaiting response... 302 Found\n",
            "Location: https://github.com/Andrewsas/trabalho-fundamentos-cid/raw/master/data/Consumo_cerveja.csv [following]\n",
            "--2021-06-23 20:51:52--  https://github.com/Andrewsas/trabalho-fundamentos-cid/raw/master/data/Consumo_cerveja.csv\n",
            "Reusing existing connection to github.com:443.\n",
            "HTTP request sent, awaiting response... 302 Found\n",
            "Location: https://raw.githubusercontent.com/Andrewsas/trabalho-fundamentos-cid/master/data/Consumo_cerveja.csv [following]\n",
            "--2021-06-23 20:51:52--  https://raw.githubusercontent.com/Andrewsas/trabalho-fundamentos-cid/master/data/Consumo_cerveja.csv\n",
            "Resolving raw.githubusercontent.com (raw.githubusercontent.com)... 185.199.109.133, 185.199.110.133, 185.199.111.133, ...\n",
            "Connecting to raw.githubusercontent.com (raw.githubusercontent.com)|185.199.109.133|:443... connected.\n",
            "HTTP request sent, awaiting response... 200 OK\n",
            "Length: 20376 (20K) [text/plain]\n",
            "Saving to: ‘Consumo_cerveja.csv?raw=true’\n",
            "\n",
            "Consumo_cerveja.csv 100%[===================>]  19.90K  --.-KB/s    in 0s      \n",
            "\n",
            "2021-06-23 20:51:52 (118 MB/s) - ‘Consumo_cerveja.csv?raw=true’ saved [20376/20376]\n",
            "\n"
          ],
          "name": "stdout"
        }
      ]
    },
    {
      "cell_type": "markdown",
      "metadata": {
        "id": "dmw0CAEarDOp"
      },
      "source": [
        "# Normalização de Dados"
      ]
    },
    {
      "cell_type": "code",
      "metadata": {
        "colab": {
          "base_uri": "https://localhost:8080/",
          "height": 419
        },
        "id": "6uERGYvBrG2A",
        "outputId": "181bb154-51c5-4bfc-c97a-4069d5adf2bf"
      },
      "source": [
        "# Dados iniciais\n",
        "df_consumo_cerveja"
      ],
      "execution_count": 5,
      "outputs": [
        {
          "output_type": "execute_result",
          "data": {
            "text/html": [
              "<div>\n",
              "<style scoped>\n",
              "    .dataframe tbody tr th:only-of-type {\n",
              "        vertical-align: middle;\n",
              "    }\n",
              "\n",
              "    .dataframe tbody tr th {\n",
              "        vertical-align: top;\n",
              "    }\n",
              "\n",
              "    .dataframe thead th {\n",
              "        text-align: right;\n",
              "    }\n",
              "</style>\n",
              "<table border=\"1\" class=\"dataframe\">\n",
              "  <thead>\n",
              "    <tr style=\"text-align: right;\">\n",
              "      <th></th>\n",
              "      <th>Data</th>\n",
              "      <th>Temperatura Media (C)</th>\n",
              "      <th>Temperatura Minima (C)</th>\n",
              "      <th>Temperatura Maxima (C)</th>\n",
              "      <th>Precipitacao (mm)</th>\n",
              "      <th>Final de Semana</th>\n",
              "      <th>Consumo de cerveja (litros)</th>\n",
              "    </tr>\n",
              "  </thead>\n",
              "  <tbody>\n",
              "    <tr>\n",
              "      <th>0</th>\n",
              "      <td>2015-01-01</td>\n",
              "      <td>27,3</td>\n",
              "      <td>23,9</td>\n",
              "      <td>32,5</td>\n",
              "      <td>0</td>\n",
              "      <td>0.0</td>\n",
              "      <td>25.461</td>\n",
              "    </tr>\n",
              "    <tr>\n",
              "      <th>1</th>\n",
              "      <td>2015-01-02</td>\n",
              "      <td>27,02</td>\n",
              "      <td>24,5</td>\n",
              "      <td>33,5</td>\n",
              "      <td>0</td>\n",
              "      <td>0.0</td>\n",
              "      <td>28.972</td>\n",
              "    </tr>\n",
              "    <tr>\n",
              "      <th>2</th>\n",
              "      <td>2015-01-03</td>\n",
              "      <td>24,82</td>\n",
              "      <td>22,4</td>\n",
              "      <td>29,9</td>\n",
              "      <td>0</td>\n",
              "      <td>1.0</td>\n",
              "      <td>30.814</td>\n",
              "    </tr>\n",
              "    <tr>\n",
              "      <th>3</th>\n",
              "      <td>2015-01-04</td>\n",
              "      <td>23,98</td>\n",
              "      <td>21,5</td>\n",
              "      <td>28,6</td>\n",
              "      <td>1,2</td>\n",
              "      <td>1.0</td>\n",
              "      <td>29.799</td>\n",
              "    </tr>\n",
              "    <tr>\n",
              "      <th>4</th>\n",
              "      <td>2015-01-05</td>\n",
              "      <td>23,82</td>\n",
              "      <td>21</td>\n",
              "      <td>28,3</td>\n",
              "      <td>0</td>\n",
              "      <td>0.0</td>\n",
              "      <td>28.900</td>\n",
              "    </tr>\n",
              "    <tr>\n",
              "      <th>...</th>\n",
              "      <td>...</td>\n",
              "      <td>...</td>\n",
              "      <td>...</td>\n",
              "      <td>...</td>\n",
              "      <td>...</td>\n",
              "      <td>...</td>\n",
              "      <td>...</td>\n",
              "    </tr>\n",
              "    <tr>\n",
              "      <th>936</th>\n",
              "      <td>NaN</td>\n",
              "      <td>NaN</td>\n",
              "      <td>NaN</td>\n",
              "      <td>NaN</td>\n",
              "      <td>NaN</td>\n",
              "      <td>NaN</td>\n",
              "      <td>NaN</td>\n",
              "    </tr>\n",
              "    <tr>\n",
              "      <th>937</th>\n",
              "      <td>NaN</td>\n",
              "      <td>NaN</td>\n",
              "      <td>NaN</td>\n",
              "      <td>NaN</td>\n",
              "      <td>NaN</td>\n",
              "      <td>NaN</td>\n",
              "      <td>NaN</td>\n",
              "    </tr>\n",
              "    <tr>\n",
              "      <th>938</th>\n",
              "      <td>NaN</td>\n",
              "      <td>NaN</td>\n",
              "      <td>NaN</td>\n",
              "      <td>NaN</td>\n",
              "      <td>NaN</td>\n",
              "      <td>NaN</td>\n",
              "      <td>NaN</td>\n",
              "    </tr>\n",
              "    <tr>\n",
              "      <th>939</th>\n",
              "      <td>NaN</td>\n",
              "      <td>NaN</td>\n",
              "      <td>NaN</td>\n",
              "      <td>NaN</td>\n",
              "      <td>NaN</td>\n",
              "      <td>NaN</td>\n",
              "      <td>NaN</td>\n",
              "    </tr>\n",
              "    <tr>\n",
              "      <th>940</th>\n",
              "      <td>NaN</td>\n",
              "      <td>NaN</td>\n",
              "      <td>NaN</td>\n",
              "      <td>NaN</td>\n",
              "      <td>NaN</td>\n",
              "      <td>NaN</td>\n",
              "      <td>NaN</td>\n",
              "    </tr>\n",
              "  </tbody>\n",
              "</table>\n",
              "<p>941 rows × 7 columns</p>\n",
              "</div>"
            ],
            "text/plain": [
              "           Data  ... Consumo de cerveja (litros)\n",
              "0    2015-01-01  ...                      25.461\n",
              "1    2015-01-02  ...                      28.972\n",
              "2    2015-01-03  ...                      30.814\n",
              "3    2015-01-04  ...                      29.799\n",
              "4    2015-01-05  ...                      28.900\n",
              "..          ...  ...                         ...\n",
              "936         NaN  ...                         NaN\n",
              "937         NaN  ...                         NaN\n",
              "938         NaN  ...                         NaN\n",
              "939         NaN  ...                         NaN\n",
              "940         NaN  ...                         NaN\n",
              "\n",
              "[941 rows x 7 columns]"
            ]
          },
          "metadata": {
            "tags": []
          },
          "execution_count": 5
        }
      ]
    },
    {
      "cell_type": "code",
      "metadata": {
        "colab": {
          "base_uri": "https://localhost:8080/"
        },
        "id": "JdXrodVfrW8Q",
        "outputId": "e4fcf91e-ea68-4502-a3d8-498c6fd80416"
      },
      "source": [
        "# Identificando se existe valores nulos no dataframe\n",
        "df_consumo_cerveja.isnull().sum()"
      ],
      "execution_count": 6,
      "outputs": [
        {
          "output_type": "execute_result",
          "data": {
            "text/plain": [
              "Data                           576\n",
              "Temperatura Media (C)          576\n",
              "Temperatura Minima (C)         576\n",
              "Temperatura Maxima (C)         576\n",
              "Precipitacao (mm)              576\n",
              "Final de Semana                576\n",
              "Consumo de cerveja (litros)    576\n",
              "dtype: int64"
            ]
          },
          "metadata": {
            "tags": []
          },
          "execution_count": 6
        }
      ]
    },
    {
      "cell_type": "code",
      "metadata": {
        "colab": {
          "base_uri": "https://localhost:8080/",
          "height": 422
        },
        "id": "Us384vZ0rycU",
        "outputId": "03a8e0a8-e90a-4b88-dda4-f8432890a4a4"
      },
      "source": [
        "# Removendo valores nulos\n",
        "df_consumo_cerveja.dropna(inplace=True)\n",
        "\n",
        "#Treat numeric values from dataframe\n",
        "def str_to_num(df_aux, index):\n",
        "  for i in index:\n",
        "    col_name = df_aux.columns[i]\n",
        "    df_aux[col_name] = df_aux[col_name].str.replace('.', '')\n",
        "    df_aux[col_name] = df_aux[col_name].str.replace(',', '.')\n",
        "    df_aux[col_name] = pd.to_numeric(df_aux[col_name])\n",
        "  return df_aux\n",
        "\n",
        "#transform field types\n",
        "df_consumo_cerveja = str_to_num(df_consumo_cerveja, [1, 2, 3, 4])\n",
        "\n",
        "#rename column\n",
        "df_consumo_cerveja = df_consumo_cerveja.rename(columns={\"Consumo de cerveja (litros)\": \"Consumo de cerveja (Kl)\"})\n",
        "\n",
        "# Apresentando dataframe normalizado\n",
        "df_consumo_cerveja = df_consumo_cerveja.round(2)\n",
        "df_consumo_cerveja"
      ],
      "execution_count": 6,
      "outputs": [
        {
          "output_type": "execute_result",
          "data": {
            "text/html": [
              "<div>\n",
              "<style scoped>\n",
              "    .dataframe tbody tr th:only-of-type {\n",
              "        vertical-align: middle;\n",
              "    }\n",
              "\n",
              "    .dataframe tbody tr th {\n",
              "        vertical-align: top;\n",
              "    }\n",
              "\n",
              "    .dataframe thead th {\n",
              "        text-align: right;\n",
              "    }\n",
              "</style>\n",
              "<table border=\"1\" class=\"dataframe\">\n",
              "  <thead>\n",
              "    <tr style=\"text-align: right;\">\n",
              "      <th></th>\n",
              "      <th>Data</th>\n",
              "      <th>Temperatura Media (C)</th>\n",
              "      <th>Temperatura Minima (C)</th>\n",
              "      <th>Temperatura Maxima (C)</th>\n",
              "      <th>Precipitacao (mm)</th>\n",
              "      <th>Final de Semana</th>\n",
              "      <th>Consumo de cerveja (Kl)</th>\n",
              "    </tr>\n",
              "  </thead>\n",
              "  <tbody>\n",
              "    <tr>\n",
              "      <th>0</th>\n",
              "      <td>2015-01-01</td>\n",
              "      <td>27.30</td>\n",
              "      <td>23.9</td>\n",
              "      <td>32.5</td>\n",
              "      <td>0.0</td>\n",
              "      <td>0.0</td>\n",
              "      <td>25.46</td>\n",
              "    </tr>\n",
              "    <tr>\n",
              "      <th>1</th>\n",
              "      <td>2015-01-02</td>\n",
              "      <td>27.02</td>\n",
              "      <td>24.5</td>\n",
              "      <td>33.5</td>\n",
              "      <td>0.0</td>\n",
              "      <td>0.0</td>\n",
              "      <td>28.97</td>\n",
              "    </tr>\n",
              "    <tr>\n",
              "      <th>2</th>\n",
              "      <td>2015-01-03</td>\n",
              "      <td>24.82</td>\n",
              "      <td>22.4</td>\n",
              "      <td>29.9</td>\n",
              "      <td>0.0</td>\n",
              "      <td>1.0</td>\n",
              "      <td>30.81</td>\n",
              "    </tr>\n",
              "    <tr>\n",
              "      <th>3</th>\n",
              "      <td>2015-01-04</td>\n",
              "      <td>23.98</td>\n",
              "      <td>21.5</td>\n",
              "      <td>28.6</td>\n",
              "      <td>1.2</td>\n",
              "      <td>1.0</td>\n",
              "      <td>29.80</td>\n",
              "    </tr>\n",
              "    <tr>\n",
              "      <th>4</th>\n",
              "      <td>2015-01-05</td>\n",
              "      <td>23.82</td>\n",
              "      <td>21.0</td>\n",
              "      <td>28.3</td>\n",
              "      <td>0.0</td>\n",
              "      <td>0.0</td>\n",
              "      <td>28.90</td>\n",
              "    </tr>\n",
              "    <tr>\n",
              "      <th>...</th>\n",
              "      <td>...</td>\n",
              "      <td>...</td>\n",
              "      <td>...</td>\n",
              "      <td>...</td>\n",
              "      <td>...</td>\n",
              "      <td>...</td>\n",
              "      <td>...</td>\n",
              "    </tr>\n",
              "    <tr>\n",
              "      <th>360</th>\n",
              "      <td>2015-12-27</td>\n",
              "      <td>24.00</td>\n",
              "      <td>21.1</td>\n",
              "      <td>28.2</td>\n",
              "      <td>13.6</td>\n",
              "      <td>1.0</td>\n",
              "      <td>32.31</td>\n",
              "    </tr>\n",
              "    <tr>\n",
              "      <th>361</th>\n",
              "      <td>2015-12-28</td>\n",
              "      <td>22.64</td>\n",
              "      <td>21.1</td>\n",
              "      <td>26.7</td>\n",
              "      <td>0.0</td>\n",
              "      <td>0.0</td>\n",
              "      <td>26.10</td>\n",
              "    </tr>\n",
              "    <tr>\n",
              "      <th>362</th>\n",
              "      <td>2015-12-29</td>\n",
              "      <td>21.68</td>\n",
              "      <td>20.3</td>\n",
              "      <td>24.1</td>\n",
              "      <td>10.3</td>\n",
              "      <td>0.0</td>\n",
              "      <td>22.31</td>\n",
              "    </tr>\n",
              "    <tr>\n",
              "      <th>363</th>\n",
              "      <td>2015-12-30</td>\n",
              "      <td>21.38</td>\n",
              "      <td>19.3</td>\n",
              "      <td>22.4</td>\n",
              "      <td>6.3</td>\n",
              "      <td>0.0</td>\n",
              "      <td>20.47</td>\n",
              "    </tr>\n",
              "    <tr>\n",
              "      <th>364</th>\n",
              "      <td>2015-12-31</td>\n",
              "      <td>24.76</td>\n",
              "      <td>20.2</td>\n",
              "      <td>29.0</td>\n",
              "      <td>0.0</td>\n",
              "      <td>0.0</td>\n",
              "      <td>22.45</td>\n",
              "    </tr>\n",
              "  </tbody>\n",
              "</table>\n",
              "<p>365 rows × 7 columns</p>\n",
              "</div>"
            ],
            "text/plain": [
              "           Data  ...  Consumo de cerveja (Kl)\n",
              "0    2015-01-01  ...                    25.46\n",
              "1    2015-01-02  ...                    28.97\n",
              "2    2015-01-03  ...                    30.81\n",
              "3    2015-01-04  ...                    29.80\n",
              "4    2015-01-05  ...                    28.90\n",
              "..          ...  ...                      ...\n",
              "360  2015-12-27  ...                    32.31\n",
              "361  2015-12-28  ...                    26.10\n",
              "362  2015-12-29  ...                    22.31\n",
              "363  2015-12-30  ...                    20.47\n",
              "364  2015-12-31  ...                    22.45\n",
              "\n",
              "[365 rows x 7 columns]"
            ]
          },
          "metadata": {
            "tags": []
          },
          "execution_count": 6
        }
      ]
    },
    {
      "cell_type": "markdown",
      "metadata": {
        "id": "_OA2YFdprtcq"
      },
      "source": [
        "Convertendo Valores para Numéricos"
      ]
    },
    {
      "cell_type": "code",
      "metadata": {
        "id": "-3MN6xap5YzZ"
      },
      "source": [
        "columns_aux = [\"Temperatura Media (C)\", \"Temperatura Minima (C)\", \"Temperatura Maxima (C)\", \"Precipitacao (mm)\", \"Final de Semana\"]\n",
        "df_consumo_cerveja[columns_aux] = \\\n",
        "    df_consumo_cerveja[columns_aux].apply(pd.to_numeric)"
      ],
      "execution_count": 7,
      "outputs": []
    },
    {
      "cell_type": "code",
      "metadata": {
        "colab": {
          "base_uri": "https://localhost:8080/"
        },
        "id": "WfjkHN9gsam8",
        "outputId": "8770ae81-6322-4f2d-cfad-c953b21103c5"
      },
      "source": [
        "# Informações do dataframe\n",
        "df_consumo_cerveja.info()"
      ],
      "execution_count": 8,
      "outputs": [
        {
          "output_type": "stream",
          "text": [
            "<class 'pandas.core.frame.DataFrame'>\n",
            "Int64Index: 365 entries, 0 to 364\n",
            "Data columns (total 7 columns):\n",
            " #   Column                   Non-Null Count  Dtype  \n",
            "---  ------                   --------------  -----  \n",
            " 0   Data                     365 non-null    object \n",
            " 1   Temperatura Media (C)    365 non-null    float64\n",
            " 2   Temperatura Minima (C)   365 non-null    float64\n",
            " 3   Temperatura Maxima (C)   365 non-null    float64\n",
            " 4   Precipitacao (mm)        365 non-null    float64\n",
            " 5   Final de Semana          365 non-null    float64\n",
            " 6   Consumo de cerveja (Kl)  365 non-null    float64\n",
            "dtypes: float64(6), object(1)\n",
            "memory usage: 22.8+ KB\n"
          ],
          "name": "stdout"
        }
      ]
    },
    {
      "cell_type": "code",
      "metadata": {
        "id": "44bS8GJopMUO",
        "colab": {
          "base_uri": "https://localhost:8080/",
          "height": 299
        },
        "outputId": "cadd2768-3c6b-494c-9e34-d78239320f77"
      },
      "source": [
        "df_consumo_cerveja.describe().round(2)"
      ],
      "execution_count": 9,
      "outputs": [
        {
          "output_type": "execute_result",
          "data": {
            "text/html": [
              "<div>\n",
              "<style scoped>\n",
              "    .dataframe tbody tr th:only-of-type {\n",
              "        vertical-align: middle;\n",
              "    }\n",
              "\n",
              "    .dataframe tbody tr th {\n",
              "        vertical-align: top;\n",
              "    }\n",
              "\n",
              "    .dataframe thead th {\n",
              "        text-align: right;\n",
              "    }\n",
              "</style>\n",
              "<table border=\"1\" class=\"dataframe\">\n",
              "  <thead>\n",
              "    <tr style=\"text-align: right;\">\n",
              "      <th></th>\n",
              "      <th>Temperatura Media (C)</th>\n",
              "      <th>Temperatura Minima (C)</th>\n",
              "      <th>Temperatura Maxima (C)</th>\n",
              "      <th>Precipitacao (mm)</th>\n",
              "      <th>Final de Semana</th>\n",
              "      <th>Consumo de cerveja (Kl)</th>\n",
              "    </tr>\n",
              "  </thead>\n",
              "  <tbody>\n",
              "    <tr>\n",
              "      <th>count</th>\n",
              "      <td>365.00</td>\n",
              "      <td>365.00</td>\n",
              "      <td>365.00</td>\n",
              "      <td>365.00</td>\n",
              "      <td>365.00</td>\n",
              "      <td>365.00</td>\n",
              "    </tr>\n",
              "    <tr>\n",
              "      <th>mean</th>\n",
              "      <td>21.23</td>\n",
              "      <td>17.46</td>\n",
              "      <td>26.61</td>\n",
              "      <td>5.20</td>\n",
              "      <td>0.28</td>\n",
              "      <td>25.40</td>\n",
              "    </tr>\n",
              "    <tr>\n",
              "      <th>std</th>\n",
              "      <td>3.18</td>\n",
              "      <td>2.83</td>\n",
              "      <td>4.32</td>\n",
              "      <td>12.42</td>\n",
              "      <td>0.45</td>\n",
              "      <td>4.40</td>\n",
              "    </tr>\n",
              "    <tr>\n",
              "      <th>min</th>\n",
              "      <td>12.90</td>\n",
              "      <td>10.60</td>\n",
              "      <td>14.50</td>\n",
              "      <td>0.00</td>\n",
              "      <td>0.00</td>\n",
              "      <td>14.34</td>\n",
              "    </tr>\n",
              "    <tr>\n",
              "      <th>25%</th>\n",
              "      <td>19.02</td>\n",
              "      <td>15.30</td>\n",
              "      <td>23.80</td>\n",
              "      <td>0.00</td>\n",
              "      <td>0.00</td>\n",
              "      <td>22.01</td>\n",
              "    </tr>\n",
              "    <tr>\n",
              "      <th>50%</th>\n",
              "      <td>21.38</td>\n",
              "      <td>17.90</td>\n",
              "      <td>26.90</td>\n",
              "      <td>0.00</td>\n",
              "      <td>0.00</td>\n",
              "      <td>24.87</td>\n",
              "    </tr>\n",
              "    <tr>\n",
              "      <th>75%</th>\n",
              "      <td>23.28</td>\n",
              "      <td>19.60</td>\n",
              "      <td>29.40</td>\n",
              "      <td>3.20</td>\n",
              "      <td>1.00</td>\n",
              "      <td>28.63</td>\n",
              "    </tr>\n",
              "    <tr>\n",
              "      <th>max</th>\n",
              "      <td>28.86</td>\n",
              "      <td>24.50</td>\n",
              "      <td>36.50</td>\n",
              "      <td>94.80</td>\n",
              "      <td>1.00</td>\n",
              "      <td>37.94</td>\n",
              "    </tr>\n",
              "  </tbody>\n",
              "</table>\n",
              "</div>"
            ],
            "text/plain": [
              "       Temperatura Media (C)  ...  Consumo de cerveja (Kl)\n",
              "count                 365.00  ...                   365.00\n",
              "mean                   21.23  ...                    25.40\n",
              "std                     3.18  ...                     4.40\n",
              "min                    12.90  ...                    14.34\n",
              "25%                    19.02  ...                    22.01\n",
              "50%                    21.38  ...                    24.87\n",
              "75%                    23.28  ...                    28.63\n",
              "max                    28.86  ...                    37.94\n",
              "\n",
              "[8 rows x 6 columns]"
            ]
          },
          "metadata": {
            "tags": []
          },
          "execution_count": 9
        }
      ]
    },
    {
      "cell_type": "markdown",
      "metadata": {
        "id": "6brNy_GytZlQ"
      },
      "source": [
        "# Análise exploratória"
      ]
    },
    {
      "cell_type": "code",
      "metadata": {
        "colab": {
          "base_uri": "https://localhost:8080/",
          "height": 574
        },
        "id": "KuIyW_RptcOb",
        "outputId": "f06211d3-8462-4d18-a2e2-c0bcbee02d04"
      },
      "source": [
        "# Analisar distribuição e identificar outliers\n",
        "sns.set(rc={'figure.figsize':(11.7,8.27)})\n",
        "sns.distplot(df_consumo_cerveja['Consumo de cerveja (Kl)'], bins=30)\n",
        "plt.show()"
      ],
      "execution_count": 16,
      "outputs": [
        {
          "output_type": "stream",
          "text": [
            "/usr/local/lib/python3.7/dist-packages/seaborn/distributions.py:2557: FutureWarning: `distplot` is a deprecated function and will be removed in a future version. Please adapt your code to use either `displot` (a figure-level function with similar flexibility) or `histplot` (an axes-level function for histograms).\n",
            "  warnings.warn(msg, FutureWarning)\n"
          ],
          "name": "stderr"
        },
        {
          "output_type": "display_data",
          "data": {
            "image/png": "[encoded data removed]",
            "text/plain": [
              "<Figure size 842.4x595.44 with 1 Axes>"
            ]
          },
          "metadata": {
            "tags": []
          }
        }
      ]
    },
    {
      "cell_type": "code",
      "metadata": {
        "colab": {
          "base_uri": "https://localhost:8080/",
          "height": 813
        },
        "id": "4DWpf7DBuM7k",
        "outputId": "60aa6217-ba56-4ac4-cdfe-8683f3b63fb0"
      },
      "source": [
        "#Correlação de variáveis\n",
        "correlation_matrix = df_consumo_cerveja.corr().round(2)\n",
        "print(correlation_matrix)\n",
        "sns.heatmap(data=correlation_matrix, annot=True)"
      ],
      "execution_count": 17,
      "outputs": [
        {
          "output_type": "stream",
          "text": [
            "                         Temperatura Media (C)  ...  Consumo de cerveja (Kl)\n",
            "Temperatura Media (C)                     1.00  ...                     0.57\n",
            "Temperatura Minima (C)                    0.86  ...                     0.39\n",
            "Temperatura Maxima (C)                    0.92  ...                     0.64\n",
            "Precipitacao (mm)                         0.02  ...                    -0.19\n",
            "Final de Semana                          -0.05  ...                     0.51\n",
            "Consumo de cerveja (Kl)                   0.57  ...                     1.00\n",
            "\n",
            "[6 rows x 6 columns]\n"
          ],
          "name": "stdout"
        },
        {
          "output_type": "execute_result",
          "data": {
            "text/plain": [
              "<matplotlib.axes._subplots.AxesSubplot at 0x7fc74d104d90>"
            ]
          },
          "metadata": {
            "tags": []
          },
          "execution_count": 17
        },
        {
          "output_type": "display_data",
          "data": {
            "image/png": "[encoded data removed]",
            "text/plain": [
              "<Figure size 842.4x595.44 with 2 Axes>"
            ]
          },
          "metadata": {
            "tags": []
          }
        }
      ]
    },
    {
      "cell_type": "markdown",
      "metadata": {
        "id": "rHC1shvhoZ6W"
      },
      "source": [
        "# Dataset para teste do modelo"
      ]
    },
    {
      "cell_type": "markdown",
      "metadata": {
        "id": "x5Fh8SGSwnk4"
      },
      "source": [
        "Dataset obtido do site https://pt.climate-data.org/"
      ]
    },
    {
      "cell_type": "markdown",
      "metadata": {
        "id": "AViW02H6ogPx"
      },
      "source": [
        "## Carregamento do dataset"
      ]
    },
    {
      "cell_type": "code",
      "metadata": {
        "id": "Lb4-HkYIojKg",
        "outputId": "3056d92e-4ef8-4c49-90c3-6f10d3374a59",
        "colab": {
          "base_uri": "https://localhost:8080/"
        }
      },
      "source": [
        "# Carregando repositório com dataset\n",
        "!wget https://github.com/Andrewsas/trabalho-fundamentos-cid/blob/master/data/dados%20climaticos.xlsx?raw=true\n",
        "\n",
        "# Renomeando dataset\n",
        "!mv './dados climaticos.xlsx?raw=true' 'dataset_dados_climaticos.xlsx'"
      ],
      "execution_count": 15,
      "outputs": [
        {
          "output_type": "stream",
          "text": [
            "--2021-06-23 21:11:23--  https://github.com/Andrewsas/trabalho-fundamentos-cid/blob/master/data/dados%20climaticos.xlsx?raw=true\n",
            "Resolving github.com (github.com)... 140.82.121.4\n",
            "Connecting to github.com (github.com)|140.82.121.4|:443... connected.\n",
            "HTTP request sent, awaiting response... 302 Found\n",
            "Location: https://github.com/Andrewsas/trabalho-fundamentos-cid/raw/master/data/dados%20climaticos.xlsx [following]\n",
            "--2021-06-23 21:11:23--  https://github.com/Andrewsas/trabalho-fundamentos-cid/raw/master/data/dados%20climaticos.xlsx\n",
            "Reusing existing connection to github.com:443.\n",
            "HTTP request sent, awaiting response... 302 Found\n",
            "Location: https://raw.githubusercontent.com/Andrewsas/trabalho-fundamentos-cid/master/data/dados%20climaticos.xlsx [following]\n",
            "--2021-06-23 21:11:23--  https://raw.githubusercontent.com/Andrewsas/trabalho-fundamentos-cid/master/data/dados%20climaticos.xlsx\n",
            "Resolving raw.githubusercontent.com (raw.githubusercontent.com)... 185.199.108.133, 185.199.109.133, 185.199.110.133, ...\n",
            "Connecting to raw.githubusercontent.com (raw.githubusercontent.com)|185.199.108.133|:443... connected.\n",
            "HTTP request sent, awaiting response... 200 OK\n",
            "Length: 26521 (26K) [application/octet-stream]\n",
            "Saving to: ‘dados climaticos.xlsx?raw=true’\n",
            "\n",
            "dados climaticos.xl 100%[===================>]  25.90K  --.-KB/s    in 0.001s  \n",
            "\n",
            "2021-06-23 21:11:24 (38.3 MB/s) - ‘dados climaticos.xlsx?raw=true’ saved [26521/26521]\n",
            "\n"
          ],
          "name": "stdout"
        }
      ]
    },
    {
      "cell_type": "code",
      "metadata": {
        "id": "GMJIm_nCpalj",
        "outputId": "fd4d05b6-d48e-4b9d-cbd3-2f56aef8290e",
        "colab": {
          "base_uri": "https://localhost:8080/",
          "height": 422
        }
      },
      "source": [
        "# Criando dataframe\n",
        "df_dados_climaticos = pd.read_excel('dataset_dados_climaticos.xlsx')\n",
        "\n",
        "df_dados_climaticos"
      ],
      "execution_count": 22,
      "outputs": [
        {
          "output_type": "execute_result",
          "data": {
            "text/html": [
              "<div>\n",
              "<style scoped>\n",
              "    .dataframe tbody tr th:only-of-type {\n",
              "        vertical-align: middle;\n",
              "    }\n",
              "\n",
              "    .dataframe tbody tr th {\n",
              "        vertical-align: top;\n",
              "    }\n",
              "\n",
              "    .dataframe thead th {\n",
              "        text-align: right;\n",
              "    }\n",
              "</style>\n",
              "<table border=\"1\" class=\"dataframe\">\n",
              "  <thead>\n",
              "    <tr style=\"text-align: right;\">\n",
              "      <th></th>\n",
              "      <th>Data</th>\n",
              "      <th>Temperatura Media ( C )</th>\n",
              "      <th>Temperatura Maxima ( C )</th>\n",
              "      <th>Temperatura Minima ( C )</th>\n",
              "      <th>Precipitacao (mm)</th>\n",
              "      <th>Cidade</th>\n",
              "    </tr>\n",
              "  </thead>\n",
              "  <tbody>\n",
              "    <tr>\n",
              "      <th>0</th>\n",
              "      <td>1. Junho</td>\n",
              "      <td>26</td>\n",
              "      <td>29</td>\n",
              "      <td>24</td>\n",
              "      <td>7.8</td>\n",
              "      <td>Manaus</td>\n",
              "    </tr>\n",
              "    <tr>\n",
              "      <th>1</th>\n",
              "      <td>2. Junho</td>\n",
              "      <td>26</td>\n",
              "      <td>29</td>\n",
              "      <td>24</td>\n",
              "      <td>8.6</td>\n",
              "      <td>Manaus</td>\n",
              "    </tr>\n",
              "    <tr>\n",
              "      <th>2</th>\n",
              "      <td>3. Junho</td>\n",
              "      <td>26</td>\n",
              "      <td>29</td>\n",
              "      <td>24</td>\n",
              "      <td>7.9</td>\n",
              "      <td>Manaus</td>\n",
              "    </tr>\n",
              "    <tr>\n",
              "      <th>3</th>\n",
              "      <td>4. Junho</td>\n",
              "      <td>26</td>\n",
              "      <td>29</td>\n",
              "      <td>24</td>\n",
              "      <td>7.3</td>\n",
              "      <td>Manaus</td>\n",
              "    </tr>\n",
              "    <tr>\n",
              "      <th>4</th>\n",
              "      <td>5. Junho</td>\n",
              "      <td>26</td>\n",
              "      <td>29</td>\n",
              "      <td>24</td>\n",
              "      <td>6.9</td>\n",
              "      <td>Manaus</td>\n",
              "    </tr>\n",
              "    <tr>\n",
              "      <th>...</th>\n",
              "      <td>...</td>\n",
              "      <td>...</td>\n",
              "      <td>...</td>\n",
              "      <td>...</td>\n",
              "      <td>...</td>\n",
              "      <td>...</td>\n",
              "    </tr>\n",
              "    <tr>\n",
              "      <th>805</th>\n",
              "      <td>26. Junho</td>\n",
              "      <td>26</td>\n",
              "      <td>32</td>\n",
              "      <td>21</td>\n",
              "      <td>0.0</td>\n",
              "      <td>Palmas</td>\n",
              "    </tr>\n",
              "    <tr>\n",
              "      <th>806</th>\n",
              "      <td>27. Junho</td>\n",
              "      <td>27</td>\n",
              "      <td>32</td>\n",
              "      <td>21</td>\n",
              "      <td>0.0</td>\n",
              "      <td>Palmas</td>\n",
              "    </tr>\n",
              "    <tr>\n",
              "      <th>807</th>\n",
              "      <td>28. Junho</td>\n",
              "      <td>27</td>\n",
              "      <td>32</td>\n",
              "      <td>21</td>\n",
              "      <td>0.0</td>\n",
              "      <td>Palmas</td>\n",
              "    </tr>\n",
              "    <tr>\n",
              "      <th>808</th>\n",
              "      <td>29. Junho</td>\n",
              "      <td>27</td>\n",
              "      <td>32</td>\n",
              "      <td>21</td>\n",
              "      <td>0.0</td>\n",
              "      <td>Palmas</td>\n",
              "    </tr>\n",
              "    <tr>\n",
              "      <th>809</th>\n",
              "      <td>30. Junho</td>\n",
              "      <td>27</td>\n",
              "      <td>32</td>\n",
              "      <td>21</td>\n",
              "      <td>0.0</td>\n",
              "      <td>Palmas</td>\n",
              "    </tr>\n",
              "  </tbody>\n",
              "</table>\n",
              "<p>810 rows × 6 columns</p>\n",
              "</div>"
            ],
            "text/plain": [
              "          Data  Temperatura Media ( C )  ...  Precipitacao (mm)  Cidade\n",
              "0     1. Junho                       26  ...                7.8  Manaus\n",
              "1     2. Junho                       26  ...                8.6  Manaus\n",
              "2     3. Junho                       26  ...                7.9  Manaus\n",
              "3     4. Junho                       26  ...                7.3  Manaus\n",
              "4     5. Junho                       26  ...                6.9  Manaus\n",
              "..         ...                      ...  ...                ...     ...\n",
              "805  26. Junho                       26  ...                0.0  Palmas\n",
              "806  27. Junho                       27  ...                0.0  Palmas\n",
              "807  28. Junho                       27  ...                0.0  Palmas\n",
              "808  29. Junho                       27  ...                0.0  Palmas\n",
              "809  30. Junho                       27  ...                0.0  Palmas\n",
              "\n",
              "[810 rows x 6 columns]"
            ]
          },
          "metadata": {
            "tags": []
          },
          "execution_count": 22
        }
      ]
    },
    {
      "cell_type": "code",
      "metadata": {
        "id": "01YC292DvZ5A",
        "outputId": "572750bd-9aad-4054-f5a6-e2ad173f4e4d",
        "colab": {
          "base_uri": "https://localhost:8080/"
        }
      },
      "source": [
        "df_dados_climaticos.info()"
      ],
      "execution_count": 26,
      "outputs": [
        {
          "output_type": "stream",
          "text": [
            "<class 'pandas.core.frame.DataFrame'>\n",
            "RangeIndex: 810 entries, 0 to 809\n",
            "Data columns (total 6 columns):\n",
            " #   Column                    Non-Null Count  Dtype  \n",
            "---  ------                    --------------  -----  \n",
            " 0   Data                      810 non-null    object \n",
            " 1   Temperatura Media ( C )   810 non-null    int64  \n",
            " 2   Temperatura Maxima ( C )  810 non-null    int64  \n",
            " 3   Temperatura Minima ( C )  810 non-null    int64  \n",
            " 4   Precipitacao (mm)         810 non-null    float64\n",
            " 5   Cidade                    810 non-null    object \n",
            "dtypes: float64(1), int64(3), object(2)\n",
            "memory usage: 38.1+ KB\n"
          ],
          "name": "stdout"
        }
      ]
    },
    {
      "cell_type": "markdown",
      "metadata": {
        "id": "Kj3Su1pBphmi"
      },
      "source": [
        "## Informação de Final de Semana"
      ]
    },
    {
      "cell_type": "code",
      "metadata": {
        "id": "LuCfgR4ppuCn",
        "outputId": "751e2938-b90c-4556-802a-cb59aefd2b4f",
        "colab": {
          "base_uri": "https://localhost:8080/"
        }
      },
      "source": [
        "# print(df_dados_climaticos['Data'].str.startswith('5', na=False))\n",
        "df_dados_climaticos['Final de Semana'] = np.where( \\\n",
        "                                                  df_dados_climaticos['Data'].str.startswith('5.', na=False) |\n",
        "                                                  df_dados_climaticos['Data'].str.startswith('6.', na=False) |\n",
        "                                                  df_dados_climaticos['Data'].str.startswith('12.', na=False) |\n",
        "                                                  df_dados_climaticos['Data'].str.startswith('13.', na=False) |\n",
        "                                                  df_dados_climaticos['Data'].str.startswith('19.', na=False) |\n",
        "                                                  df_dados_climaticos['Data'].str.startswith('20.', na=False) |\n",
        "                                                  df_dados_climaticos['Data'].str.startswith('26.', na=False) |\n",
        "                                                  df_dados_climaticos['Data'].str.startswith('27.', na=False), \\\n",
        "                                                  1, 0)\n",
        "print(df_dados_climaticos)"
      ],
      "execution_count": 29,
      "outputs": [
        {
          "output_type": "stream",
          "text": [
            "          Data  Temperatura Media ( C )  ...  Cidade  Final de Semana\n",
            "0     1. Junho                       26  ...  Manaus                0\n",
            "1     2. Junho                       26  ...  Manaus                0\n",
            "2     3. Junho                       26  ...  Manaus                0\n",
            "3     4. Junho                       26  ...  Manaus                0\n",
            "4     5. Junho                       26  ...  Manaus                1\n",
            "..         ...                      ...  ...     ...              ...\n",
            "805  26. Junho                       26  ...  Palmas                1\n",
            "806  27. Junho                       27  ...  Palmas                1\n",
            "807  28. Junho                       27  ...  Palmas                0\n",
            "808  29. Junho                       27  ...  Palmas                0\n",
            "809  30. Junho                       27  ...  Palmas                0\n",
            "\n",
            "[810 rows x 7 columns]\n"
          ],
          "name": "stdout"
        }
      ]
    }
  ]
}