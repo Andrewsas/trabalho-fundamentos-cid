{
  "nbformat": 4,
  "nbformat_minor": 0,
  "metadata": {
    "colab": {
      "name": "trabalho-final-ml",
      "provenance": []
    },
    "kernelspec": {
      "name": "python3",
      "display_name": "Python 3"
    },
    "language_info": {
      "name": "python"
    }
  },
  "cells": [
    {
      "cell_type": "markdown",
      "metadata": {
        "id": "5KRH58LaoVuF"
      },
      "source": [
        "# Trabalho Final"
      ]
    },
    {
      "cell_type": "markdown",
      "metadata": {
        "id": "E6sPu1JnoeOd"
      },
      "source": [
        "## Informações do Dataset\n",
        "\n",
        "Os dados (amostra) foram coletados em São Paulo - Brasil, em uma área universitária, onde acontecem algumas festas com turmas de alunos de 18 a 28 anos (média). O conjunto de dados utilizado para esta atividade possui 7 atributos, sendo uma Meta, com período de um ano.\n",
        "\n",
        "Dataset: https://www.kaggle.com/dongeorge/beer-consumption-sao-paulo\n",
        "\n",
        "1.   Data\n",
        "2.   Temperatura média (C)\n",
        "3.   Temperatura mínima (C)\n",
        "4.   Temperatura máxima (C)\n",
        "5.   Precipitação (mm)\n",
        "6.   Final de semana\n",
        "7.   Consumo de cerveja (litros)\n",
        "\n"
      ]
    },
    {
      "cell_type": "code",
      "metadata": {
        "id": "LWf6oFk_ZgFk",
        "outputId": "08fadc4a-ef33-4f91-b069-976f75228c00",
        "colab": {
          "base_uri": "https://localhost:8080/"
        }
      },
      "source": [
        "# Carregando repositório com dataset\n",
        "!git clone https://github.com/Andrewsas/trabalho-fundamentos-cid.git\n",
        "\n",
        "# Importando bibliotecas\n",
        "import pandas as pd\n",
        "import seaborn as sns \n",
        "import matplotlib.pyplot as plt\n",
        "\n",
        "# Renomeando dataset\n",
        "!mv './trabalho-fundamentos-cid/data/Consumo_cerveja.csv' 'dataset_consumo_cerveja.csv'\n",
        "\n",
        "# Criando dataframe\n",
        "df_consumo_cerveja = pd.read_csv('dataset_consumo_cerveja.csv')"
      ],
      "execution_count": 12,
      "outputs": [
        {
          "output_type": "stream",
          "text": [
            "fatal: destination path 'trabalho-fundamentos-cid' already exists and is not an empty directory.\n",
            "mv: cannot stat './trabalho-fundamentos-cid/data/Consumo_cerveja.csv': No such file or directory\n"
          ],
          "name": "stdout"
        }
      ]
    },
    {
      "cell_type": "markdown",
      "metadata": {
        "id": "dmw0CAEarDOp"
      },
      "source": [
        "# Normalização de Dados"
      ]
    },
    {
      "cell_type": "code",
      "metadata": {
        "colab": {
          "base_uri": "https://localhost:8080/",
          "height": 419
        },
        "id": "6uERGYvBrG2A",
        "outputId": "96454fcd-017d-40c9-c37e-efda00bd456d"
      },
      "source": [
        "# Dados iniciais\n",
        "df_consumo_cerveja"
      ],
      "execution_count": 13,
      "outputs": [
        {
          "output_type": "execute_result",
          "data": {
            "text/html": [
              "<div>\n",
              "<style scoped>\n",
              "    .dataframe tbody tr th:only-of-type {\n",
              "        vertical-align: middle;\n",
              "    }\n",
              "\n",
              "    .dataframe tbody tr th {\n",
              "        vertical-align: top;\n",
              "    }\n",
              "\n",
              "    .dataframe thead th {\n",
              "        text-align: right;\n",
              "    }\n",
              "</style>\n",
              "<table border=\"1\" class=\"dataframe\">\n",
              "  <thead>\n",
              "    <tr style=\"text-align: right;\">\n",
              "      <th></th>\n",
              "      <th>Data</th>\n",
              "      <th>Temperatura Media (C)</th>\n",
              "      <th>Temperatura Minima (C)</th>\n",
              "      <th>Temperatura Maxima (C)</th>\n",
              "      <th>Precipitacao (mm)</th>\n",
              "      <th>Final de Semana</th>\n",
              "      <th>Consumo de cerveja (litros)</th>\n",
              "    </tr>\n",
              "  </thead>\n",
              "  <tbody>\n",
              "    <tr>\n",
              "      <th>0</th>\n",
              "      <td>2015-01-01</td>\n",
              "      <td>27,3</td>\n",
              "      <td>23,9</td>\n",
              "      <td>32,5</td>\n",
              "      <td>0</td>\n",
              "      <td>0.0</td>\n",
              "      <td>25.461</td>\n",
              "    </tr>\n",
              "    <tr>\n",
              "      <th>1</th>\n",
              "      <td>2015-01-02</td>\n",
              "      <td>27,02</td>\n",
              "      <td>24,5</td>\n",
              "      <td>33,5</td>\n",
              "      <td>0</td>\n",
              "      <td>0.0</td>\n",
              "      <td>28.972</td>\n",
              "    </tr>\n",
              "    <tr>\n",
              "      <th>2</th>\n",
              "      <td>2015-01-03</td>\n",
              "      <td>24,82</td>\n",
              "      <td>22,4</td>\n",
              "      <td>29,9</td>\n",
              "      <td>0</td>\n",
              "      <td>1.0</td>\n",
              "      <td>30.814</td>\n",
              "    </tr>\n",
              "    <tr>\n",
              "      <th>3</th>\n",
              "      <td>2015-01-04</td>\n",
              "      <td>23,98</td>\n",
              "      <td>21,5</td>\n",
              "      <td>28,6</td>\n",
              "      <td>1,2</td>\n",
              "      <td>1.0</td>\n",
              "      <td>29.799</td>\n",
              "    </tr>\n",
              "    <tr>\n",
              "      <th>4</th>\n",
              "      <td>2015-01-05</td>\n",
              "      <td>23,82</td>\n",
              "      <td>21</td>\n",
              "      <td>28,3</td>\n",
              "      <td>0</td>\n",
              "      <td>0.0</td>\n",
              "      <td>28.900</td>\n",
              "    </tr>\n",
              "    <tr>\n",
              "      <th>...</th>\n",
              "      <td>...</td>\n",
              "      <td>...</td>\n",
              "      <td>...</td>\n",
              "      <td>...</td>\n",
              "      <td>...</td>\n",
              "      <td>...</td>\n",
              "      <td>...</td>\n",
              "    </tr>\n",
              "    <tr>\n",
              "      <th>936</th>\n",
              "      <td>NaN</td>\n",
              "      <td>NaN</td>\n",
              "      <td>NaN</td>\n",
              "      <td>NaN</td>\n",
              "      <td>NaN</td>\n",
              "      <td>NaN</td>\n",
              "      <td>NaN</td>\n",
              "    </tr>\n",
              "    <tr>\n",
              "      <th>937</th>\n",
              "      <td>NaN</td>\n",
              "      <td>NaN</td>\n",
              "      <td>NaN</td>\n",
              "      <td>NaN</td>\n",
              "      <td>NaN</td>\n",
              "      <td>NaN</td>\n",
              "      <td>NaN</td>\n",
              "    </tr>\n",
              "    <tr>\n",
              "      <th>938</th>\n",
              "      <td>NaN</td>\n",
              "      <td>NaN</td>\n",
              "      <td>NaN</td>\n",
              "      <td>NaN</td>\n",
              "      <td>NaN</td>\n",
              "      <td>NaN</td>\n",
              "      <td>NaN</td>\n",
              "    </tr>\n",
              "    <tr>\n",
              "      <th>939</th>\n",
              "      <td>NaN</td>\n",
              "      <td>NaN</td>\n",
              "      <td>NaN</td>\n",
              "      <td>NaN</td>\n",
              "      <td>NaN</td>\n",
              "      <td>NaN</td>\n",
              "      <td>NaN</td>\n",
              "    </tr>\n",
              "    <tr>\n",
              "      <th>940</th>\n",
              "      <td>NaN</td>\n",
              "      <td>NaN</td>\n",
              "      <td>NaN</td>\n",
              "      <td>NaN</td>\n",
              "      <td>NaN</td>\n",
              "      <td>NaN</td>\n",
              "      <td>NaN</td>\n",
              "    </tr>\n",
              "  </tbody>\n",
              "</table>\n",
              "<p>941 rows × 7 columns</p>\n",
              "</div>"
            ],
            "text/plain": [
              "           Data  ... Consumo de cerveja (litros)\n",
              "0    2015-01-01  ...                      25.461\n",
              "1    2015-01-02  ...                      28.972\n",
              "2    2015-01-03  ...                      30.814\n",
              "3    2015-01-04  ...                      29.799\n",
              "4    2015-01-05  ...                      28.900\n",
              "..          ...  ...                         ...\n",
              "936         NaN  ...                         NaN\n",
              "937         NaN  ...                         NaN\n",
              "938         NaN  ...                         NaN\n",
              "939         NaN  ...                         NaN\n",
              "940         NaN  ...                         NaN\n",
              "\n",
              "[941 rows x 7 columns]"
            ]
          },
          "metadata": {
            "tags": []
          },
          "execution_count": 13
        }
      ]
    },
    {
      "cell_type": "code",
      "metadata": {
        "colab": {
          "base_uri": "https://localhost:8080/"
        },
        "id": "JdXrodVfrW8Q",
        "outputId": "c243d844-e569-4578-9210-8e55ea0f677e"
      },
      "source": [
        "# Identificando se existe valores nulos no dataframe\n",
        "df_consumo_cerveja.isnull().sum()"
      ],
      "execution_count": 14,
      "outputs": [
        {
          "output_type": "execute_result",
          "data": {
            "text/plain": [
              "Data                           576\n",
              "Temperatura Media (C)          576\n",
              "Temperatura Minima (C)         576\n",
              "Temperatura Maxima (C)         576\n",
              "Precipitacao (mm)              576\n",
              "Final de Semana                576\n",
              "Consumo de cerveja (litros)    576\n",
              "dtype: int64"
            ]
          },
          "metadata": {
            "tags": []
          },
          "execution_count": 14
        }
      ]
    },
    {
      "cell_type": "code",
      "metadata": {
        "colab": {
          "base_uri": "https://localhost:8080/",
          "height": 419
        },
        "id": "Us384vZ0rycU",
        "outputId": "b9376844-809e-4767-c892-6c73d4e30a1a"
      },
      "source": [
        "# Removendo valores nulos\n",
        "df_consumo_cerveja.dropna(inplace=True)\n",
        "\n",
        "#Treat numeric values from dataframe\n",
        "def str_to_num(df_aux, index):\n",
        "  for i in index:\n",
        "    col_name = df_aux.columns[i]\n",
        "    df_aux[col_name] = df_aux[col_name].str.replace('.', '')\n",
        "    df_aux[col_name] = df_aux[col_name].str.replace(',', '.')\n",
        "    df_aux[col_name] = pd.to_numeric(df_aux[col_name])\n",
        "  return df_aux\n",
        "\n",
        "#transform field types\n",
        "df_consumo_cerveja = str_to_num(df_consumo_cerveja, [1, 2, 3, 4])\n",
        "\n",
        "# Apresentando dataframe normalizado\n",
        "df_consumo_cerveja"
      ],
      "execution_count": 22,
      "outputs": [
        {
          "output_type": "execute_result",
          "data": {
            "text/html": [
              "<div>\n",
              "<style scoped>\n",
              "    .dataframe tbody tr th:only-of-type {\n",
              "        vertical-align: middle;\n",
              "    }\n",
              "\n",
              "    .dataframe tbody tr th {\n",
              "        vertical-align: top;\n",
              "    }\n",
              "\n",
              "    .dataframe thead th {\n",
              "        text-align: right;\n",
              "    }\n",
              "</style>\n",
              "<table border=\"1\" class=\"dataframe\">\n",
              "  <thead>\n",
              "    <tr style=\"text-align: right;\">\n",
              "      <th></th>\n",
              "      <th>Data</th>\n",
              "      <th>Temperatura Media (C)</th>\n",
              "      <th>Temperatura Minima (C)</th>\n",
              "      <th>Temperatura Maxima (C)</th>\n",
              "      <th>Precipitacao (mm)</th>\n",
              "      <th>Final de Semana</th>\n",
              "      <th>Consumo de cerveja (litros)</th>\n",
              "    </tr>\n",
              "  </thead>\n",
              "  <tbody>\n",
              "    <tr>\n",
              "      <th>0</th>\n",
              "      <td>2015-01-01</td>\n",
              "      <td>27.30</td>\n",
              "      <td>23.9</td>\n",
              "      <td>32.5</td>\n",
              "      <td>0.0</td>\n",
              "      <td>0.0</td>\n",
              "      <td>25.461</td>\n",
              "    </tr>\n",
              "    <tr>\n",
              "      <th>1</th>\n",
              "      <td>2015-01-02</td>\n",
              "      <td>27.02</td>\n",
              "      <td>24.5</td>\n",
              "      <td>33.5</td>\n",
              "      <td>0.0</td>\n",
              "      <td>0.0</td>\n",
              "      <td>28.972</td>\n",
              "    </tr>\n",
              "    <tr>\n",
              "      <th>2</th>\n",
              "      <td>2015-01-03</td>\n",
              "      <td>24.82</td>\n",
              "      <td>22.4</td>\n",
              "      <td>29.9</td>\n",
              "      <td>0.0</td>\n",
              "      <td>1.0</td>\n",
              "      <td>30.814</td>\n",
              "    </tr>\n",
              "    <tr>\n",
              "      <th>3</th>\n",
              "      <td>2015-01-04</td>\n",
              "      <td>23.98</td>\n",
              "      <td>21.5</td>\n",
              "      <td>28.6</td>\n",
              "      <td>1.2</td>\n",
              "      <td>1.0</td>\n",
              "      <td>29.799</td>\n",
              "    </tr>\n",
              "    <tr>\n",
              "      <th>4</th>\n",
              "      <td>2015-01-05</td>\n",
              "      <td>23.82</td>\n",
              "      <td>21.0</td>\n",
              "      <td>28.3</td>\n",
              "      <td>0.0</td>\n",
              "      <td>0.0</td>\n",
              "      <td>28.900</td>\n",
              "    </tr>\n",
              "    <tr>\n",
              "      <th>...</th>\n",
              "      <td>...</td>\n",
              "      <td>...</td>\n",
              "      <td>...</td>\n",
              "      <td>...</td>\n",
              "      <td>...</td>\n",
              "      <td>...</td>\n",
              "      <td>...</td>\n",
              "    </tr>\n",
              "    <tr>\n",
              "      <th>360</th>\n",
              "      <td>2015-12-27</td>\n",
              "      <td>24.00</td>\n",
              "      <td>21.1</td>\n",
              "      <td>28.2</td>\n",
              "      <td>13.6</td>\n",
              "      <td>1.0</td>\n",
              "      <td>32.307</td>\n",
              "    </tr>\n",
              "    <tr>\n",
              "      <th>361</th>\n",
              "      <td>2015-12-28</td>\n",
              "      <td>22.64</td>\n",
              "      <td>21.1</td>\n",
              "      <td>26.7</td>\n",
              "      <td>0.0</td>\n",
              "      <td>0.0</td>\n",
              "      <td>26.095</td>\n",
              "    </tr>\n",
              "    <tr>\n",
              "      <th>362</th>\n",
              "      <td>2015-12-29</td>\n",
              "      <td>21.68</td>\n",
              "      <td>20.3</td>\n",
              "      <td>24.1</td>\n",
              "      <td>10.3</td>\n",
              "      <td>0.0</td>\n",
              "      <td>22.309</td>\n",
              "    </tr>\n",
              "    <tr>\n",
              "      <th>363</th>\n",
              "      <td>2015-12-30</td>\n",
              "      <td>21.38</td>\n",
              "      <td>19.3</td>\n",
              "      <td>22.4</td>\n",
              "      <td>6.3</td>\n",
              "      <td>0.0</td>\n",
              "      <td>20.467</td>\n",
              "    </tr>\n",
              "    <tr>\n",
              "      <th>364</th>\n",
              "      <td>2015-12-31</td>\n",
              "      <td>24.76</td>\n",
              "      <td>20.2</td>\n",
              "      <td>29.0</td>\n",
              "      <td>0.0</td>\n",
              "      <td>0.0</td>\n",
              "      <td>22.446</td>\n",
              "    </tr>\n",
              "  </tbody>\n",
              "</table>\n",
              "<p>365 rows × 7 columns</p>\n",
              "</div>"
            ],
            "text/plain": [
              "           Data  ...  Consumo de cerveja (litros)\n",
              "0    2015-01-01  ...                       25.461\n",
              "1    2015-01-02  ...                       28.972\n",
              "2    2015-01-03  ...                       30.814\n",
              "3    2015-01-04  ...                       29.799\n",
              "4    2015-01-05  ...                       28.900\n",
              "..          ...  ...                          ...\n",
              "360  2015-12-27  ...                       32.307\n",
              "361  2015-12-28  ...                       26.095\n",
              "362  2015-12-29  ...                       22.309\n",
              "363  2015-12-30  ...                       20.467\n",
              "364  2015-12-31  ...                       22.446\n",
              "\n",
              "[365 rows x 7 columns]"
            ]
          },
          "metadata": {
            "tags": []
          },
          "execution_count": 22
        }
      ]
    },
    {
      "cell_type": "markdown",
      "metadata": {
        "id": "_OA2YFdprtcq"
      },
      "source": [
        "Convertendo Valores para Numéricos"
      ]
    },
    {
      "cell_type": "code",
      "metadata": {
        "id": "-3MN6xap5YzZ"
      },
      "source": [
        "df_consumo_cerveja[[\"Temperatura Media (C)\", \"Temperatura Minima (C)\", \"Temperatura Maxima (C)\", \"Precipitacao (mm)\", \"Final de Semana\"]] = \\\n",
        "    df_consumo_cerveja[[\"Temperatura Media (C)\", \"Temperatura Minima (C)\", \"Temperatura Maxima (C)\", \"Precipitacao (mm)\", \"Final de Semana\"]].apply(pd.to_numeric)"
      ],
      "execution_count": 23,
      "outputs": []
    },
    {
      "cell_type": "code",
      "metadata": {
        "colab": {
          "base_uri": "https://localhost:8080/"
        },
        "id": "WfjkHN9gsam8",
        "outputId": "ee85a6d0-9955-4c29-a86b-32470e12376f"
      },
      "source": [
        "# Informações do dataframe\n",
        "df_consumo_cerveja.info()"
      ],
      "execution_count": 24,
      "outputs": [
        {
          "output_type": "stream",
          "text": [
            "<class 'pandas.core.frame.DataFrame'>\n",
            "Int64Index: 365 entries, 0 to 364\n",
            "Data columns (total 7 columns):\n",
            " #   Column                       Non-Null Count  Dtype  \n",
            "---  ------                       --------------  -----  \n",
            " 0   Data                         365 non-null    object \n",
            " 1   Temperatura Media (C)        365 non-null    float64\n",
            " 2   Temperatura Minima (C)       365 non-null    float64\n",
            " 3   Temperatura Maxima (C)       365 non-null    float64\n",
            " 4   Precipitacao (mm)            365 non-null    float64\n",
            " 5   Final de Semana              365 non-null    float64\n",
            " 6   Consumo de cerveja (litros)  365 non-null    float64\n",
            "dtypes: float64(6), object(1)\n",
            "memory usage: 22.8+ KB\n"
          ],
          "name": "stdout"
        }
      ]
    },
    {
      "cell_type": "code",
      "metadata": {
        "id": "44bS8GJopMUO",
        "outputId": "136ad341-0154-46ff-9ca3-163a2fa4d05d",
        "colab": {
          "base_uri": "https://localhost:8080/",
          "height": 297
        }
      },
      "source": [
        "df_consumo_cerveja.describe().round(2)"
      ],
      "execution_count": 25,
      "outputs": [
        {
          "output_type": "execute_result",
          "data": {
            "text/html": [
              "<div>\n",
              "<style scoped>\n",
              "    .dataframe tbody tr th:only-of-type {\n",
              "        vertical-align: middle;\n",
              "    }\n",
              "\n",
              "    .dataframe tbody tr th {\n",
              "        vertical-align: top;\n",
              "    }\n",
              "\n",
              "    .dataframe thead th {\n",
              "        text-align: right;\n",
              "    }\n",
              "</style>\n",
              "<table border=\"1\" class=\"dataframe\">\n",
              "  <thead>\n",
              "    <tr style=\"text-align: right;\">\n",
              "      <th></th>\n",
              "      <th>Temperatura Media (C)</th>\n",
              "      <th>Temperatura Minima (C)</th>\n",
              "      <th>Temperatura Maxima (C)</th>\n",
              "      <th>Precipitacao (mm)</th>\n",
              "      <th>Final de Semana</th>\n",
              "      <th>Consumo de cerveja (litros)</th>\n",
              "    </tr>\n",
              "  </thead>\n",
              "  <tbody>\n",
              "    <tr>\n",
              "      <th>count</th>\n",
              "      <td>365.00</td>\n",
              "      <td>365.00</td>\n",
              "      <td>365.00</td>\n",
              "      <td>365.00</td>\n",
              "      <td>365.00</td>\n",
              "      <td>365.00</td>\n",
              "    </tr>\n",
              "    <tr>\n",
              "      <th>mean</th>\n",
              "      <td>21.23</td>\n",
              "      <td>17.46</td>\n",
              "      <td>26.61</td>\n",
              "      <td>5.20</td>\n",
              "      <td>0.28</td>\n",
              "      <td>25.40</td>\n",
              "    </tr>\n",
              "    <tr>\n",
              "      <th>std</th>\n",
              "      <td>3.18</td>\n",
              "      <td>2.83</td>\n",
              "      <td>4.32</td>\n",
              "      <td>12.42</td>\n",
              "      <td>0.45</td>\n",
              "      <td>4.40</td>\n",
              "    </tr>\n",
              "    <tr>\n",
              "      <th>min</th>\n",
              "      <td>12.90</td>\n",
              "      <td>10.60</td>\n",
              "      <td>14.50</td>\n",
              "      <td>0.00</td>\n",
              "      <td>0.00</td>\n",
              "      <td>14.34</td>\n",
              "    </tr>\n",
              "    <tr>\n",
              "      <th>25%</th>\n",
              "      <td>19.02</td>\n",
              "      <td>15.30</td>\n",
              "      <td>23.80</td>\n",
              "      <td>0.00</td>\n",
              "      <td>0.00</td>\n",
              "      <td>22.01</td>\n",
              "    </tr>\n",
              "    <tr>\n",
              "      <th>50%</th>\n",
              "      <td>21.38</td>\n",
              "      <td>17.90</td>\n",
              "      <td>26.90</td>\n",
              "      <td>0.00</td>\n",
              "      <td>0.00</td>\n",
              "      <td>24.87</td>\n",
              "    </tr>\n",
              "    <tr>\n",
              "      <th>75%</th>\n",
              "      <td>23.28</td>\n",
              "      <td>19.60</td>\n",
              "      <td>29.40</td>\n",
              "      <td>3.20</td>\n",
              "      <td>1.00</td>\n",
              "      <td>28.63</td>\n",
              "    </tr>\n",
              "    <tr>\n",
              "      <th>max</th>\n",
              "      <td>28.86</td>\n",
              "      <td>24.50</td>\n",
              "      <td>36.50</td>\n",
              "      <td>94.80</td>\n",
              "      <td>1.00</td>\n",
              "      <td>37.94</td>\n",
              "    </tr>\n",
              "  </tbody>\n",
              "</table>\n",
              "</div>"
            ],
            "text/plain": [
              "       Temperatura Media (C)  ...  Consumo de cerveja (litros)\n",
              "count                 365.00  ...                       365.00\n",
              "mean                   21.23  ...                        25.40\n",
              "std                     3.18  ...                         4.40\n",
              "min                    12.90  ...                        14.34\n",
              "25%                    19.02  ...                        22.01\n",
              "50%                    21.38  ...                        24.87\n",
              "75%                    23.28  ...                        28.63\n",
              "max                    28.86  ...                        37.94\n",
              "\n",
              "[8 rows x 6 columns]"
            ]
          },
          "metadata": {
            "tags": []
          },
          "execution_count": 25
        }
      ]
    },
    {
      "cell_type": "markdown",
      "metadata": {
        "id": "6brNy_GytZlQ"
      },
      "source": [
        "# Análise exploratória"
      ]
    },
    {
      "cell_type": "code",
      "metadata": {
        "colab": {
          "base_uri": "https://localhost:8080/",
          "height": 571
        },
        "id": "KuIyW_RptcOb",
        "outputId": "fdc5d0e2-5587-41a6-be92-b59fe66d2f36"
      },
      "source": [
        "# Analisar distribuição e identificar outliers\n",
        "sns.set(rc={'figure.figsize':(11.7,8.27)})\n",
        "sns.distplot(df_consumo_cerveja['Consumo de cerveja (litros)'], bins=30)\n",
        "plt.show()"
      ],
      "execution_count": 6,
      "outputs": [
        {
          "output_type": "stream",
          "text": [
            "/usr/local/lib/python3.7/dist-packages/seaborn/distributions.py:2557: FutureWarning: `distplot` is a deprecated function and will be removed in a future version. Please adapt your code to use either `displot` (a figure-level function with similar flexibility) or `histplot` (an axes-level function for histograms).\n",
            "  warnings.warn(msg, FutureWarning)\n"
          ],
          "name": "stderr"
        },
        {
          "output_type": "display_data",
          "data": {
            "image/png": "[encoded data removed]",
            "text/plain": [
              "<Figure size 842.4x595.44 with 1 Axes>"
            ]
          },
          "metadata": {
            "tags": []
          }
        }
      ]
    },
    {
      "cell_type": "code",
      "metadata": {
        "colab": {
          "base_uri": "https://localhost:8080/",
          "height": 817
        },
        "id": "4DWpf7DBuM7k",
        "outputId": "c1282e68-3a71-41b1-e455-6d46d2c5612e"
      },
      "source": [
        "#Correlação de variáveis\n",
        "correlation_matrix = df_consumo_cerveja.corr().round(2)\n",
        "print(correlation_matrix)\n",
        "sns.heatmap(data=correlation_matrix, annot=True)"
      ],
      "execution_count": 26,
      "outputs": [
        {
          "output_type": "stream",
          "text": [
            "                             Temperatura Media (C)  ...  Consumo de cerveja (litros)\n",
            "Temperatura Media (C)                         1.00  ...                         0.57\n",
            "Temperatura Minima (C)                        0.86  ...                         0.39\n",
            "Temperatura Maxima (C)                        0.92  ...                         0.64\n",
            "Precipitacao (mm)                             0.02  ...                        -0.19\n",
            "Final de Semana                              -0.05  ...                         0.51\n",
            "Consumo de cerveja (litros)                   0.57  ...                         1.00\n",
            "\n",
            "[6 rows x 6 columns]\n"
          ],
          "name": "stdout"
        },
        {
          "output_type": "execute_result",
          "data": {
            "text/plain": [
              "<matplotlib.axes._subplots.AxesSubplot at 0x7f23de187210>"
            ]
          },
          "metadata": {
            "tags": []
          },
          "execution_count": 26
        },
        {
          "output_type": "display_data",
          "data": {
            "image/png": "[encoded data removed]",
            "text/plain": [
              "<Figure size 842.4x595.44 with 2 Axes>"
            ]
          },
          "metadata": {
            "tags": []
          }
        }
      ]
    }
  ]
}