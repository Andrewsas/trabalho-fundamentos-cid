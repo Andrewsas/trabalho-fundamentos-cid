{
  "nbformat": 4,
  "nbformat_minor": 0,
  "metadata": {
    "colab": {
      "name": "trabalho-final-ml",
      "provenance": [],
      "toc_visible": true
    },
    "kernelspec": {
      "name": "python3",
      "display_name": "Python 3"
    },
    "language_info": {
      "name": "python"
    }
  },
  "cells": [
    {
      "cell_type": "markdown",
      "metadata": {
        "id": "5KRH58LaoVuF"
      },
      "source": [
        "# Trabalho Final"
      ]
    },
    {
      "cell_type": "markdown",
      "metadata": {
        "id": "E6sPu1JnoeOd"
      },
      "source": [
        "## Informações do Dataset\n",
        "\n",
        "Os dados (amostra) foram coletados em São Paulo - Brasil, em uma área universitária, onde acontecem algumas festas com turmas de alunos de 18 a 28 anos (média). O conjunto de dados utilizado para esta atividade possui 7 atributos, sendo uma Meta, com período de um ano.\n",
        "\n",
        "Dataset: https://www.kaggle.com/dongeorge/beer-consumption-sao-paulo\n",
        "\n",
        "1.   Data\n",
        "2.   Temperatura média (C)\n",
        "3.   Temperatura mínima (C)\n",
        "4.   Temperatura máxima (C)\n",
        "5.   Precipitação (mm)\n",
        "6.   Final de semana\n",
        "7.   Consumo de cerveja (litros)\n",
        "\n"
      ]
    },
    {
      "cell_type": "code",
      "metadata": {
        "id": "O6a5K0iZ3eP0"
      },
      "source": [
        "# Importando bibliotecas\n",
        "import pandas as pd\n",
        "import seaborn as sns \n",
        "import matplotlib.pyplot as plt\n",
        "import numpy as np"
      ],
      "execution_count": 1,
      "outputs": []
    },
    {
      "cell_type": "code",
      "metadata": {
        "id": "LWf6oFk_ZgFk",
        "colab": {
          "base_uri": "https://localhost:8080/"
        },
        "outputId": "7fe4ee1b-9f74-4708-db4c-9a3e3a18f796"
      },
      "source": [
        "# Carregando repositório com dataset\n",
        "!wget https://github.com/Andrewsas/trabalho-fundamentos-cid/blob/master/data/Consumo_cerveja.csv?raw=true\n",
        "\n",
        "# Renomeando dataset\n",
        "!mv './Consumo_cerveja.csv?raw=true' 'dataset_consumo_cerveja.csv'\n",
        "\n",
        "# Criando dataframe\n",
        "df_consumo_cerveja = pd.read_csv('dataset_consumo_cerveja.csv')"
      ],
      "execution_count": 2,
      "outputs": [
        {
          "output_type": "stream",
          "text": [
            "--2021-06-24 21:41:56--  https://github.com/Andrewsas/trabalho-fundamentos-cid/blob/master/data/Consumo_cerveja.csv?raw=true\n",
            "Resolving github.com (github.com)... 140.82.121.4\n",
            "Connecting to github.com (github.com)|140.82.121.4|:443... connected.\n",
            "HTTP request sent, awaiting response... 302 Found\n",
            "Location: https://github.com/Andrewsas/trabalho-fundamentos-cid/raw/master/data/Consumo_cerveja.csv [following]\n",
            "--2021-06-24 21:41:56--  https://github.com/Andrewsas/trabalho-fundamentos-cid/raw/master/data/Consumo_cerveja.csv\n",
            "Reusing existing connection to github.com:443.\n",
            "HTTP request sent, awaiting response... 302 Found\n",
            "Location: https://raw.githubusercontent.com/Andrewsas/trabalho-fundamentos-cid/master/data/Consumo_cerveja.csv [following]\n",
            "--2021-06-24 21:41:56--  https://raw.githubusercontent.com/Andrewsas/trabalho-fundamentos-cid/master/data/Consumo_cerveja.csv\n",
            "Resolving raw.githubusercontent.com (raw.githubusercontent.com)... 185.199.110.133, 185.199.111.133, 185.199.109.133, ...\n",
            "Connecting to raw.githubusercontent.com (raw.githubusercontent.com)|185.199.110.133|:443... connected.\n",
            "HTTP request sent, awaiting response... 200 OK\n",
            "Length: 20376 (20K) [text/plain]\n",
            "Saving to: ‘Consumo_cerveja.csv?raw=true’\n",
            "\n",
            "Consumo_cerveja.csv 100%[===================>]  19.90K  --.-KB/s    in 0s      \n",
            "\n",
            "2021-06-24 21:41:56 (133 MB/s) - ‘Consumo_cerveja.csv?raw=true’ saved [20376/20376]\n",
            "\n"
          ],
          "name": "stdout"
        }
      ]
    },
    {
      "cell_type": "markdown",
      "metadata": {
        "id": "dmw0CAEarDOp"
      },
      "source": [
        "# Normalização de Dados"
      ]
    },
    {
      "cell_type": "code",
      "metadata": {
        "colab": {
          "base_uri": "https://localhost:8080/",
          "height": 419
        },
        "id": "6uERGYvBrG2A",
        "outputId": "90333081-1edf-480f-95a2-867a6d892382"
      },
      "source": [
        "# Dados iniciais\n",
        "df_consumo_cerveja"
      ],
      "execution_count": 3,
      "outputs": [
        {
          "output_type": "execute_result",
          "data": {
            "text/html": [
              "<div>\n",
              "<style scoped>\n",
              "    .dataframe tbody tr th:only-of-type {\n",
              "        vertical-align: middle;\n",
              "    }\n",
              "\n",
              "    .dataframe tbody tr th {\n",
              "        vertical-align: top;\n",
              "    }\n",
              "\n",
              "    .dataframe thead th {\n",
              "        text-align: right;\n",
              "    }\n",
              "</style>\n",
              "<table border=\"1\" class=\"dataframe\">\n",
              "  <thead>\n",
              "    <tr style=\"text-align: right;\">\n",
              "      <th></th>\n",
              "      <th>Data</th>\n",
              "      <th>Temperatura Media (C)</th>\n",
              "      <th>Temperatura Minima (C)</th>\n",
              "      <th>Temperatura Maxima (C)</th>\n",
              "      <th>Precipitacao (mm)</th>\n",
              "      <th>Final de Semana</th>\n",
              "      <th>Consumo de cerveja (litros)</th>\n",
              "    </tr>\n",
              "  </thead>\n",
              "  <tbody>\n",
              "    <tr>\n",
              "      <th>0</th>\n",
              "      <td>2015-01-01</td>\n",
              "      <td>27,3</td>\n",
              "      <td>23,9</td>\n",
              "      <td>32,5</td>\n",
              "      <td>0</td>\n",
              "      <td>0.0</td>\n",
              "      <td>25.461</td>\n",
              "    </tr>\n",
              "    <tr>\n",
              "      <th>1</th>\n",
              "      <td>2015-01-02</td>\n",
              "      <td>27,02</td>\n",
              "      <td>24,5</td>\n",
              "      <td>33,5</td>\n",
              "      <td>0</td>\n",
              "      <td>0.0</td>\n",
              "      <td>28.972</td>\n",
              "    </tr>\n",
              "    <tr>\n",
              "      <th>2</th>\n",
              "      <td>2015-01-03</td>\n",
              "      <td>24,82</td>\n",
              "      <td>22,4</td>\n",
              "      <td>29,9</td>\n",
              "      <td>0</td>\n",
              "      <td>1.0</td>\n",
              "      <td>30.814</td>\n",
              "    </tr>\n",
              "    <tr>\n",
              "      <th>3</th>\n",
              "      <td>2015-01-04</td>\n",
              "      <td>23,98</td>\n",
              "      <td>21,5</td>\n",
              "      <td>28,6</td>\n",
              "      <td>1,2</td>\n",
              "      <td>1.0</td>\n",
              "      <td>29.799</td>\n",
              "    </tr>\n",
              "    <tr>\n",
              "      <th>4</th>\n",
              "      <td>2015-01-05</td>\n",
              "      <td>23,82</td>\n",
              "      <td>21</td>\n",
              "      <td>28,3</td>\n",
              "      <td>0</td>\n",
              "      <td>0.0</td>\n",
              "      <td>28.900</td>\n",
              "    </tr>\n",
              "    <tr>\n",
              "      <th>...</th>\n",
              "      <td>...</td>\n",
              "      <td>...</td>\n",
              "      <td>...</td>\n",
              "      <td>...</td>\n",
              "      <td>...</td>\n",
              "      <td>...</td>\n",
              "      <td>...</td>\n",
              "    </tr>\n",
              "    <tr>\n",
              "      <th>936</th>\n",
              "      <td>NaN</td>\n",
              "      <td>NaN</td>\n",
              "      <td>NaN</td>\n",
              "      <td>NaN</td>\n",
              "      <td>NaN</td>\n",
              "      <td>NaN</td>\n",
              "      <td>NaN</td>\n",
              "    </tr>\n",
              "    <tr>\n",
              "      <th>937</th>\n",
              "      <td>NaN</td>\n",
              "      <td>NaN</td>\n",
              "      <td>NaN</td>\n",
              "      <td>NaN</td>\n",
              "      <td>NaN</td>\n",
              "      <td>NaN</td>\n",
              "      <td>NaN</td>\n",
              "    </tr>\n",
              "    <tr>\n",
              "      <th>938</th>\n",
              "      <td>NaN</td>\n",
              "      <td>NaN</td>\n",
              "      <td>NaN</td>\n",
              "      <td>NaN</td>\n",
              "      <td>NaN</td>\n",
              "      <td>NaN</td>\n",
              "      <td>NaN</td>\n",
              "    </tr>\n",
              "    <tr>\n",
              "      <th>939</th>\n",
              "      <td>NaN</td>\n",
              "      <td>NaN</td>\n",
              "      <td>NaN</td>\n",
              "      <td>NaN</td>\n",
              "      <td>NaN</td>\n",
              "      <td>NaN</td>\n",
              "      <td>NaN</td>\n",
              "    </tr>\n",
              "    <tr>\n",
              "      <th>940</th>\n",
              "      <td>NaN</td>\n",
              "      <td>NaN</td>\n",
              "      <td>NaN</td>\n",
              "      <td>NaN</td>\n",
              "      <td>NaN</td>\n",
              "      <td>NaN</td>\n",
              "      <td>NaN</td>\n",
              "    </tr>\n",
              "  </tbody>\n",
              "</table>\n",
              "<p>941 rows × 7 columns</p>\n",
              "</div>"
            ],
            "text/plain": [
              "           Data  ... Consumo de cerveja (litros)\n",
              "0    2015-01-01  ...                      25.461\n",
              "1    2015-01-02  ...                      28.972\n",
              "2    2015-01-03  ...                      30.814\n",
              "3    2015-01-04  ...                      29.799\n",
              "4    2015-01-05  ...                      28.900\n",
              "..          ...  ...                         ...\n",
              "936         NaN  ...                         NaN\n",
              "937         NaN  ...                         NaN\n",
              "938         NaN  ...                         NaN\n",
              "939         NaN  ...                         NaN\n",
              "940         NaN  ...                         NaN\n",
              "\n",
              "[941 rows x 7 columns]"
            ]
          },
          "metadata": {
            "tags": []
          },
          "execution_count": 3
        }
      ]
    },
    {
      "cell_type": "code",
      "metadata": {
        "colab": {
          "base_uri": "https://localhost:8080/"
        },
        "id": "JdXrodVfrW8Q",
        "outputId": "912a1304-26b5-4bd4-dd03-790d5d50472b"
      },
      "source": [
        "# Identificando se existe valores nulos no dataframe\n",
        "df_consumo_cerveja.isnull().sum()"
      ],
      "execution_count": 4,
      "outputs": [
        {
          "output_type": "execute_result",
          "data": {
            "text/plain": [
              "Data                           576\n",
              "Temperatura Media (C)          576\n",
              "Temperatura Minima (C)         576\n",
              "Temperatura Maxima (C)         576\n",
              "Precipitacao (mm)              576\n",
              "Final de Semana                576\n",
              "Consumo de cerveja (litros)    576\n",
              "dtype: int64"
            ]
          },
          "metadata": {
            "tags": []
          },
          "execution_count": 4
        }
      ]
    },
    {
      "cell_type": "code",
      "metadata": {
        "colab": {
          "base_uri": "https://localhost:8080/",
          "height": 419
        },
        "id": "Us384vZ0rycU",
        "outputId": "039e8196-7493-452a-844b-6f393b99daf4"
      },
      "source": [
        "# Removendo valores nulos\n",
        "df_consumo_cerveja.dropna(inplace=True)\n",
        "\n",
        "#Treat numeric values from dataframe\n",
        "def str_to_num(df_aux, index):\n",
        "  for i in index:\n",
        "    col_name = df_aux.columns[i]\n",
        "    df_aux[col_name] = df_aux[col_name].str.replace('.', '')\n",
        "    df_aux[col_name] = df_aux[col_name].str.replace(',', '.')\n",
        "    df_aux[col_name] = pd.to_numeric(df_aux[col_name])\n",
        "  return df_aux\n",
        "\n",
        "#transform field types\n",
        "df_consumo_cerveja = str_to_num(df_consumo_cerveja, [1, 2, 3, 4])\n",
        "\n",
        "#rename column\n",
        "df_consumo_cerveja = df_consumo_cerveja.rename(columns={\"Consumo de cerveja (litros)\": \"Consumo de cerveja (Kl)\"})\n",
        "\n",
        "# Apresentando dataframe normalizado\n",
        "df_consumo_cerveja = df_consumo_cerveja.round(2)\n",
        "df_consumo_cerveja"
      ],
      "execution_count": 5,
      "outputs": [
        {
          "output_type": "execute_result",
          "data": {
            "text/html": [
              "<div>\n",
              "<style scoped>\n",
              "    .dataframe tbody tr th:only-of-type {\n",
              "        vertical-align: middle;\n",
              "    }\n",
              "\n",
              "    .dataframe tbody tr th {\n",
              "        vertical-align: top;\n",
              "    }\n",
              "\n",
              "    .dataframe thead th {\n",
              "        text-align: right;\n",
              "    }\n",
              "</style>\n",
              "<table border=\"1\" class=\"dataframe\">\n",
              "  <thead>\n",
              "    <tr style=\"text-align: right;\">\n",
              "      <th></th>\n",
              "      <th>Data</th>\n",
              "      <th>Temperatura Media (C)</th>\n",
              "      <th>Temperatura Minima (C)</th>\n",
              "      <th>Temperatura Maxima (C)</th>\n",
              "      <th>Precipitacao (mm)</th>\n",
              "      <th>Final de Semana</th>\n",
              "      <th>Consumo de cerveja (Kl)</th>\n",
              "    </tr>\n",
              "  </thead>\n",
              "  <tbody>\n",
              "    <tr>\n",
              "      <th>0</th>\n",
              "      <td>2015-01-01</td>\n",
              "      <td>27.30</td>\n",
              "      <td>23.9</td>\n",
              "      <td>32.5</td>\n",
              "      <td>0.0</td>\n",
              "      <td>0.0</td>\n",
              "      <td>25.46</td>\n",
              "    </tr>\n",
              "    <tr>\n",
              "      <th>1</th>\n",
              "      <td>2015-01-02</td>\n",
              "      <td>27.02</td>\n",
              "      <td>24.5</td>\n",
              "      <td>33.5</td>\n",
              "      <td>0.0</td>\n",
              "      <td>0.0</td>\n",
              "      <td>28.97</td>\n",
              "    </tr>\n",
              "    <tr>\n",
              "      <th>2</th>\n",
              "      <td>2015-01-03</td>\n",
              "      <td>24.82</td>\n",
              "      <td>22.4</td>\n",
              "      <td>29.9</td>\n",
              "      <td>0.0</td>\n",
              "      <td>1.0</td>\n",
              "      <td>30.81</td>\n",
              "    </tr>\n",
              "    <tr>\n",
              "      <th>3</th>\n",
              "      <td>2015-01-04</td>\n",
              "      <td>23.98</td>\n",
              "      <td>21.5</td>\n",
              "      <td>28.6</td>\n",
              "      <td>1.2</td>\n",
              "      <td>1.0</td>\n",
              "      <td>29.80</td>\n",
              "    </tr>\n",
              "    <tr>\n",
              "      <th>4</th>\n",
              "      <td>2015-01-05</td>\n",
              "      <td>23.82</td>\n",
              "      <td>21.0</td>\n",
              "      <td>28.3</td>\n",
              "      <td>0.0</td>\n",
              "      <td>0.0</td>\n",
              "      <td>28.90</td>\n",
              "    </tr>\n",
              "    <tr>\n",
              "      <th>...</th>\n",
              "      <td>...</td>\n",
              "      <td>...</td>\n",
              "      <td>...</td>\n",
              "      <td>...</td>\n",
              "      <td>...</td>\n",
              "      <td>...</td>\n",
              "      <td>...</td>\n",
              "    </tr>\n",
              "    <tr>\n",
              "      <th>360</th>\n",
              "      <td>2015-12-27</td>\n",
              "      <td>24.00</td>\n",
              "      <td>21.1</td>\n",
              "      <td>28.2</td>\n",
              "      <td>13.6</td>\n",
              "      <td>1.0</td>\n",
              "      <td>32.31</td>\n",
              "    </tr>\n",
              "    <tr>\n",
              "      <th>361</th>\n",
              "      <td>2015-12-28</td>\n",
              "      <td>22.64</td>\n",
              "      <td>21.1</td>\n",
              "      <td>26.7</td>\n",
              "      <td>0.0</td>\n",
              "      <td>0.0</td>\n",
              "      <td>26.10</td>\n",
              "    </tr>\n",
              "    <tr>\n",
              "      <th>362</th>\n",
              "      <td>2015-12-29</td>\n",
              "      <td>21.68</td>\n",
              "      <td>20.3</td>\n",
              "      <td>24.1</td>\n",
              "      <td>10.3</td>\n",
              "      <td>0.0</td>\n",
              "      <td>22.31</td>\n",
              "    </tr>\n",
              "    <tr>\n",
              "      <th>363</th>\n",
              "      <td>2015-12-30</td>\n",
              "      <td>21.38</td>\n",
              "      <td>19.3</td>\n",
              "      <td>22.4</td>\n",
              "      <td>6.3</td>\n",
              "      <td>0.0</td>\n",
              "      <td>20.47</td>\n",
              "    </tr>\n",
              "    <tr>\n",
              "      <th>364</th>\n",
              "      <td>2015-12-31</td>\n",
              "      <td>24.76</td>\n",
              "      <td>20.2</td>\n",
              "      <td>29.0</td>\n",
              "      <td>0.0</td>\n",
              "      <td>0.0</td>\n",
              "      <td>22.45</td>\n",
              "    </tr>\n",
              "  </tbody>\n",
              "</table>\n",
              "<p>365 rows × 7 columns</p>\n",
              "</div>"
            ],
            "text/plain": [
              "           Data  ...  Consumo de cerveja (Kl)\n",
              "0    2015-01-01  ...                    25.46\n",
              "1    2015-01-02  ...                    28.97\n",
              "2    2015-01-03  ...                    30.81\n",
              "3    2015-01-04  ...                    29.80\n",
              "4    2015-01-05  ...                    28.90\n",
              "..          ...  ...                      ...\n",
              "360  2015-12-27  ...                    32.31\n",
              "361  2015-12-28  ...                    26.10\n",
              "362  2015-12-29  ...                    22.31\n",
              "363  2015-12-30  ...                    20.47\n",
              "364  2015-12-31  ...                    22.45\n",
              "\n",
              "[365 rows x 7 columns]"
            ]
          },
          "metadata": {
            "tags": []
          },
          "execution_count": 5
        }
      ]
    },
    {
      "cell_type": "markdown",
      "metadata": {
        "id": "_OA2YFdprtcq"
      },
      "source": [
        "Convertendo Valores para Numéricos"
      ]
    },
    {
      "cell_type": "code",
      "metadata": {
        "id": "-3MN6xap5YzZ"
      },
      "source": [
        "columns_aux = [\"Temperatura Media (C)\", \"Temperatura Minima (C)\", \"Temperatura Maxima (C)\", \"Precipitacao (mm)\", \"Final de Semana\"]\n",
        "df_consumo_cerveja[columns_aux] = \\\n",
        "    df_consumo_cerveja[columns_aux].apply(pd.to_numeric)"
      ],
      "execution_count": 6,
      "outputs": []
    },
    {
      "cell_type": "code",
      "metadata": {
        "colab": {
          "base_uri": "https://localhost:8080/"
        },
        "id": "WfjkHN9gsam8",
        "outputId": "5c9f57b6-7e13-4d95-81e4-54eafcdc7ff2"
      },
      "source": [
        "# Informações do dataframe\n",
        "df_consumo_cerveja.info()"
      ],
      "execution_count": 7,
      "outputs": [
        {
          "output_type": "stream",
          "text": [
            "<class 'pandas.core.frame.DataFrame'>\n",
            "Int64Index: 365 entries, 0 to 364\n",
            "Data columns (total 7 columns):\n",
            " #   Column                   Non-Null Count  Dtype  \n",
            "---  ------                   --------------  -----  \n",
            " 0   Data                     365 non-null    object \n",
            " 1   Temperatura Media (C)    365 non-null    float64\n",
            " 2   Temperatura Minima (C)   365 non-null    float64\n",
            " 3   Temperatura Maxima (C)   365 non-null    float64\n",
            " 4   Precipitacao (mm)        365 non-null    float64\n",
            " 5   Final de Semana          365 non-null    float64\n",
            " 6   Consumo de cerveja (Kl)  365 non-null    float64\n",
            "dtypes: float64(6), object(1)\n",
            "memory usage: 22.8+ KB\n"
          ],
          "name": "stdout"
        }
      ]
    },
    {
      "cell_type": "code",
      "metadata": {
        "id": "44bS8GJopMUO",
        "colab": {
          "base_uri": "https://localhost:8080/",
          "height": 297
        },
        "outputId": "8ec5b38a-b9e9-4d5a-a776-35851eca908d"
      },
      "source": [
        "df_consumo_cerveja.describe().round(2)"
      ],
      "execution_count": 8,
      "outputs": [
        {
          "output_type": "execute_result",
          "data": {
            "text/html": [
              "<div>\n",
              "<style scoped>\n",
              "    .dataframe tbody tr th:only-of-type {\n",
              "        vertical-align: middle;\n",
              "    }\n",
              "\n",
              "    .dataframe tbody tr th {\n",
              "        vertical-align: top;\n",
              "    }\n",
              "\n",
              "    .dataframe thead th {\n",
              "        text-align: right;\n",
              "    }\n",
              "</style>\n",
              "<table border=\"1\" class=\"dataframe\">\n",
              "  <thead>\n",
              "    <tr style=\"text-align: right;\">\n",
              "      <th></th>\n",
              "      <th>Temperatura Media (C)</th>\n",
              "      <th>Temperatura Minima (C)</th>\n",
              "      <th>Temperatura Maxima (C)</th>\n",
              "      <th>Precipitacao (mm)</th>\n",
              "      <th>Final de Semana</th>\n",
              "      <th>Consumo de cerveja (Kl)</th>\n",
              "    </tr>\n",
              "  </thead>\n",
              "  <tbody>\n",
              "    <tr>\n",
              "      <th>count</th>\n",
              "      <td>365.00</td>\n",
              "      <td>365.00</td>\n",
              "      <td>365.00</td>\n",
              "      <td>365.00</td>\n",
              "      <td>365.00</td>\n",
              "      <td>365.00</td>\n",
              "    </tr>\n",
              "    <tr>\n",
              "      <th>mean</th>\n",
              "      <td>21.23</td>\n",
              "      <td>17.46</td>\n",
              "      <td>26.61</td>\n",
              "      <td>5.20</td>\n",
              "      <td>0.28</td>\n",
              "      <td>25.40</td>\n",
              "    </tr>\n",
              "    <tr>\n",
              "      <th>std</th>\n",
              "      <td>3.18</td>\n",
              "      <td>2.83</td>\n",
              "      <td>4.32</td>\n",
              "      <td>12.42</td>\n",
              "      <td>0.45</td>\n",
              "      <td>4.40</td>\n",
              "    </tr>\n",
              "    <tr>\n",
              "      <th>min</th>\n",
              "      <td>12.90</td>\n",
              "      <td>10.60</td>\n",
              "      <td>14.50</td>\n",
              "      <td>0.00</td>\n",
              "      <td>0.00</td>\n",
              "      <td>14.34</td>\n",
              "    </tr>\n",
              "    <tr>\n",
              "      <th>25%</th>\n",
              "      <td>19.02</td>\n",
              "      <td>15.30</td>\n",
              "      <td>23.80</td>\n",
              "      <td>0.00</td>\n",
              "      <td>0.00</td>\n",
              "      <td>22.01</td>\n",
              "    </tr>\n",
              "    <tr>\n",
              "      <th>50%</th>\n",
              "      <td>21.38</td>\n",
              "      <td>17.90</td>\n",
              "      <td>26.90</td>\n",
              "      <td>0.00</td>\n",
              "      <td>0.00</td>\n",
              "      <td>24.87</td>\n",
              "    </tr>\n",
              "    <tr>\n",
              "      <th>75%</th>\n",
              "      <td>23.28</td>\n",
              "      <td>19.60</td>\n",
              "      <td>29.40</td>\n",
              "      <td>3.20</td>\n",
              "      <td>1.00</td>\n",
              "      <td>28.63</td>\n",
              "    </tr>\n",
              "    <tr>\n",
              "      <th>max</th>\n",
              "      <td>28.86</td>\n",
              "      <td>24.50</td>\n",
              "      <td>36.50</td>\n",
              "      <td>94.80</td>\n",
              "      <td>1.00</td>\n",
              "      <td>37.94</td>\n",
              "    </tr>\n",
              "  </tbody>\n",
              "</table>\n",
              "</div>"
            ],
            "text/plain": [
              "       Temperatura Media (C)  ...  Consumo de cerveja (Kl)\n",
              "count                 365.00  ...                   365.00\n",
              "mean                   21.23  ...                    25.40\n",
              "std                     3.18  ...                     4.40\n",
              "min                    12.90  ...                    14.34\n",
              "25%                    19.02  ...                    22.01\n",
              "50%                    21.38  ...                    24.87\n",
              "75%                    23.28  ...                    28.63\n",
              "max                    28.86  ...                    37.94\n",
              "\n",
              "[8 rows x 6 columns]"
            ]
          },
          "metadata": {
            "tags": []
          },
          "execution_count": 8
        }
      ]
    },
    {
      "cell_type": "markdown",
      "metadata": {
        "id": "6brNy_GytZlQ"
      },
      "source": [
        "# Análise exploratória"
      ]
    },
    {
      "cell_type": "code",
      "metadata": {
        "id": "KuIyW_RptcOb"
      },
      "source": [
        "# Analisar distribuição e identificar outliers\n",
        "sns.set(rc={'figure.figsize':(11.7,8.27)})\n",
        "sns.distplot(df_consumo_cerveja['Consumo de cerveja (Kl)'], bins=30)\n",
        "plt.show()"
      ],
      "execution_count": null,
      "outputs": []
    },
    {
      "cell_type": "code",
      "metadata": {
        "id": "4DWpf7DBuM7k"
      },
      "source": [
        "#Correlação de variáveis\n",
        "correlation_matrix = df_consumo_cerveja.corr().round(2)\n",
        "print(correlation_matrix)\n",
        "sns.heatmap(data=correlation_matrix, annot=True)"
      ],
      "execution_count": null,
      "outputs": []
    },
    {
      "cell_type": "markdown",
      "metadata": {
        "id": "nwRpD6d47hoI"
      },
      "source": [
        "# Regrassão Linear"
      ]
    },
    {
      "cell_type": "markdown",
      "metadata": {
        "id": "a-vyqZ_r7qhf"
      },
      "source": [
        "A análise de regressão diz respeito ao estudo da dependência de uma variável (a variável dependente) em relação a uma ou mais variáveis, as variáveis explanatórias, visando estimar e/ou prever o valor médio da primeira em termos dos valores conhecidos ou fixados das segundas."
      ]
    },
    {
      "cell_type": "markdown",
      "metadata": {
        "id": "5CiInujd7tUT"
      },
      "source": [
        "## scikit-learn (https://scikit-learn.org/stable/)"
      ]
    },
    {
      "cell_type": "markdown",
      "metadata": {
        "id": "CFm0uwrG7-mT"
      },
      "source": [
        "O *scikit-learn* é um módulo Python especializado em soluções para *machine learning*."
      ]
    },
    {
      "cell_type": "code",
      "metadata": {
        "id": "rPRHmDgY9LzP",
        "outputId": "8ec443d1-ff50-4aa8-a226-f427f496f257",
        "colab": {
          "base_uri": "https://localhost:8080/"
        }
      },
      "source": [
        "from sklearn import linear_model\n",
        "# Criando modelo\n",
        "modelo = linear_model.LinearRegression(normalize = False, fit_intercept = True)\n",
        "\n",
        "# Define os valores de x e y\n",
        "num_observ = len(df_consumo_cerveja)\n",
        "X = df_consumo_cerveja['Temperatura Maxima (C)'].values.reshape((num_observ, 1)) \n",
        "y = df_consumo_cerveja['Consumo de cerveja (Kl)'].values \n",
        "\n",
        "# Treinamento do modelo - fit()\n",
        "modelo.fit(X,y)"
      ],
      "execution_count": 15,
      "outputs": [
        {
          "output_type": "execute_result",
          "data": {
            "text/plain": [
              "LinearRegression(copy_X=True, fit_intercept=True, n_jobs=None, normalize=False)"
            ]
          },
          "metadata": {
            "tags": []
          },
          "execution_count": 15
        }
      ]
    },
    {
      "cell_type": "code",
      "metadata": {
        "id": "0OHHNCWY-yln",
        "outputId": "e380b59b-c911-4d2d-cb26-26ad3a0db3a6",
        "colab": {
          "base_uri": "https://localhost:8080/"
        }
      },
      "source": [
        "# Imprime as previsões\n",
        "print (modelo.predict(X))"
      ],
      "execution_count": 16,
      "outputs": [
        {
          "output_type": "stream",
          "text": [
            "[29.25733594 29.91214803 27.55482452 26.7035688  26.50712518 27.94771177\n",
            " 30.04311045 29.45377957 30.23955407 30.37051649 30.76340374 31.15629099\n",
            " 30.76340374 30.23955407 29.45377957 29.38829836 31.41821583 31.28725341\n",
            " 31.87658429 31.28725341 28.2096366  25.06653858 25.06653858 27.22741847\n",
            " 27.62030572 26.76905001 26.76905001 27.55482452 27.09645605 25.59038825\n",
            " 23.88787683 26.31068155 25.32846342 28.34059902 23.49498958 22.97113991\n",
            " 24.60817012 26.76905001 27.29289968 28.07867418 26.96549364 27.88223056\n",
            " 29.38829836 28.99541111 28.66800506 26.04875671 25.85231309 26.31068155\n",
            " 25.26298221 26.63808759 26.44164397 28.34059902 28.14415539 28.53704265\n",
            " 28.86444869 27.16193726 27.81674935 28.53704265 26.11423792 25.197501\n",
            " 27.09645605 27.29289968 27.94771177 28.66800506 26.63808759 25.39394463\n",
            " 23.95335804 23.23306474 25.59038825 26.37616276 25.59038825 25.39394463\n",
            " 26.24520034 25.52490705 27.22741847 24.73913254 23.75691441 25.72135067\n",
            " 26.44164397 24.54268891 22.9056587  23.23306474 25.197501   26.24520034\n",
            " 27.48934331 28.14415539 27.29289968 25.39394463 24.93557617 26.96549364\n",
            " 25.98327551 25.13201979 25.78683188 27.22741847 25.26298221 26.11423792\n",
            " 21.07218485 23.88787683 24.73913254 24.67365133 26.57260638 24.80461375\n",
            " 24.80461375 26.83453122 25.9177943  25.45942584 25.65586946 27.16193726\n",
            " 25.78683188 27.09645605 26.96549364 22.11988419 24.28076408 26.37616276\n",
            " 23.23306474 23.49498958 24.28076408 25.59038825 22.84017749 20.22092914\n",
            " 22.38180903 25.26298221 25.197501   22.57825265 21.59603452 21.33410969\n",
            " 22.1853654  20.54833518 25.06653858 21.72699694 21.46507211 22.1853654\n",
            " 20.35189156 21.72699694 22.05440298 22.57825265 22.64373386 21.92344057\n",
            " 22.97113991 23.23306474 24.34624529 24.60817012 23.95335804 25.197501\n",
            " 25.9177943  24.21528287 25.72135067 23.16758353 22.31632782 22.97113991\n",
            " 20.02448551 19.76256068 19.43515464 22.1853654  23.75691441 24.54268891\n",
            " 25.06653858 25.13201979 25.26298221 25.00105738 25.13201979 25.59038825\n",
            " 23.36402716 25.9177943  25.85231309 23.29854595 19.82804189 24.4117265\n",
            " 25.13201979 19.56611705 21.33410969 24.08432045 24.08432045 24.67365133\n",
            " 19.76256068 19.36967343 21.66151573 21.59603452 22.25084661 23.95335804\n",
            " 24.4117265  21.3995909  21.00670365 20.02448551 21.72699694 17.47071838\n",
            " 21.46507211 21.20314727 20.22092914 21.33410969 24.60817012 20.94122244\n",
            " 25.9177943  26.76905001 27.16193726 26.04875671 24.87009496 23.88787683\n",
            " 23.56047078 24.93557617 24.4117265  21.98892178 18.51841771 21.46507211\n",
            " 24.87009496 19.69707947 22.97113991 23.82239562 24.01883925 23.56047078\n",
            " 25.45942584 25.39394463 25.26298221 25.197501   25.59038825 25.9177943\n",
            " 25.78683188 26.11423792 26.90001243 26.17971913 25.13201979 26.31068155\n",
            " 25.78683188 25.39394463 26.37616276 26.04875671 26.17971913 25.78683188\n",
            " 26.31068155 25.32846342 26.50712518 20.81026002 22.44729024 25.13201979\n",
            " 27.62030572 21.3995909  21.3995909  23.6914332  20.94122244 22.44729024\n",
            " 25.45942584 28.9299299  29.06089232 28.07867418 21.20314727 24.34624529\n",
            " 20.61381639 20.08996672 21.00670365 23.95335804 20.54833518 22.97113991\n",
            " 24.73913254 22.25084661 18.19101167 18.51841771 22.70921507 27.68578693\n",
            " 29.32281715 29.58474198 30.56696012 31.2217722  29.78118561 29.45377957\n",
            " 29.78118561 30.23955407 31.09080978 27.81674935 24.28076408 28.01319298\n",
            " 23.42950837 25.72135067 26.04875671 25.26298221 29.38829836 24.34624529\n",
            " 21.92344057 22.64373386 24.14980166 29.32281715 30.23955407 26.96549364\n",
            " 26.31068155 27.62030572 27.35838089 26.04875671 26.63808759 31.41821583\n",
            " 31.35273462 27.09645605 20.54833518 25.78683188 31.09080978 28.9299299\n",
            " 22.9056587  25.85231309 21.85795936 20.54833518 26.63808759 26.57260638\n",
            " 23.62595199 24.21528287 28.40608023 27.16193726 22.64373386 25.78683188\n",
            " 24.73913254 25.9177943  24.21528287 22.9056587  21.07218485 23.62595199\n",
            " 27.29289968 28.79896748 29.38829836 28.79896748 27.35838089 27.88223056\n",
            " 27.4238621  24.28076408 27.4238621  27.94771177 27.88223056 25.65586946\n",
            " 23.95335804 26.83453122 23.42950837 22.77469628 24.21528287 25.9177943\n",
            " 26.57260638 27.48934331 25.00105738 23.23306474 24.87009496 27.22741847\n",
            " 25.06653858 27.03097485 28.01319298 26.31068155 23.62595199 26.31068155\n",
            " 26.24520034 26.11423792 27.81674935 28.14415539 28.27511781 29.25733594\n",
            " 29.45377957 24.21528287 26.76905001 29.91214803 28.47156144 26.96549364\n",
            " 27.03097485 29.19185473 29.19185473 28.60252385 28.27511781 27.48934331\n",
            " 26.44164397 25.45942584 23.75691441 22.64373386 26.96549364]\n"
          ],
          "name": "stdout"
        }
      ]
    },
    {
      "cell_type": "code",
      "metadata": {
        "id": "G1zYVW_C-5JX",
        "outputId": "374a6c24-ccd4-47e4-cce6-36a1399fa981",
        "colab": {
          "base_uri": "https://localhost:8080/"
        }
      },
      "source": [
        "# Fazendo previsões com o modelo treinado\n",
        "TM = 33\n",
        "Xp = np.array(TM).reshape(-1, 1)\n",
        "print (\"Se Temperatura Máxima = %01.f nosso modelo prevê que o consumo de bebida é %0.1f\" % (TM, modelo.predict(Xp)))"
      ],
      "execution_count": 17,
      "outputs": [
        {
          "output_type": "stream",
          "text": [
            "Se Temperatura Máxima = 33 nosso modelo prevê que o consumo de bebida é 29.6\n"
          ],
          "name": "stdout"
        }
      ]
    },
    {
      "cell_type": "markdown",
      "metadata": {
        "id": "rHC1shvhoZ6W"
      },
      "source": [
        "# Dataset para teste do modelo"
      ]
    },
    {
      "cell_type": "markdown",
      "metadata": {
        "id": "x5Fh8SGSwnk4"
      },
      "source": [
        "Dataset obtido do site https://pt.climate-data.org/"
      ]
    },
    {
      "cell_type": "markdown",
      "metadata": {
        "id": "AViW02H6ogPx"
      },
      "source": [
        "## Carregamento do dataset"
      ]
    },
    {
      "cell_type": "code",
      "metadata": {
        "id": "Lb4-HkYIojKg",
        "colab": {
          "base_uri": "https://localhost:8080/"
        },
        "outputId": "3056d92e-4ef8-4c49-90c3-6f10d3374a59"
      },
      "source": [
        "# Carregando repositório com dataset\n",
        "!wget https://github.com/Andrewsas/trabalho-fundamentos-cid/blob/master/data/dados%20climaticos.xlsx?raw=true\n",
        "\n",
        "# Renomeando dataset\n",
        "!mv './dados climaticos.xlsx?raw=true' 'dataset_dados_climaticos.xlsx'"
      ],
      "execution_count": null,
      "outputs": [
        {
          "output_type": "stream",
          "text": [
            "--2021-06-23 21:11:23--  https://github.com/Andrewsas/trabalho-fundamentos-cid/blob/master/data/dados%20climaticos.xlsx?raw=true\n",
            "Resolving github.com (github.com)... 140.82.121.4\n",
            "Connecting to github.com (github.com)|140.82.121.4|:443... connected.\n",
            "HTTP request sent, awaiting response... 302 Found\n",
            "Location: https://github.com/Andrewsas/trabalho-fundamentos-cid/raw/master/data/dados%20climaticos.xlsx [following]\n",
            "--2021-06-23 21:11:23--  https://github.com/Andrewsas/trabalho-fundamentos-cid/raw/master/data/dados%20climaticos.xlsx\n",
            "Reusing existing connection to github.com:443.\n",
            "HTTP request sent, awaiting response... 302 Found\n",
            "Location: https://raw.githubusercontent.com/Andrewsas/trabalho-fundamentos-cid/master/data/dados%20climaticos.xlsx [following]\n",
            "--2021-06-23 21:11:23--  https://raw.githubusercontent.com/Andrewsas/trabalho-fundamentos-cid/master/data/dados%20climaticos.xlsx\n",
            "Resolving raw.githubusercontent.com (raw.githubusercontent.com)... 185.199.108.133, 185.199.109.133, 185.199.110.133, ...\n",
            "Connecting to raw.githubusercontent.com (raw.githubusercontent.com)|185.199.108.133|:443... connected.\n",
            "HTTP request sent, awaiting response... 200 OK\n",
            "Length: 26521 (26K) [application/octet-stream]\n",
            "Saving to: ‘dados climaticos.xlsx?raw=true’\n",
            "\n",
            "dados climaticos.xl 100%[===================>]  25.90K  --.-KB/s    in 0.001s  \n",
            "\n",
            "2021-06-23 21:11:24 (38.3 MB/s) - ‘dados climaticos.xlsx?raw=true’ saved [26521/26521]\n",
            "\n"
          ],
          "name": "stdout"
        }
      ]
    },
    {
      "cell_type": "code",
      "metadata": {
        "id": "GMJIm_nCpalj",
        "colab": {
          "base_uri": "https://localhost:8080/",
          "height": 422
        },
        "outputId": "fd4d05b6-d48e-4b9d-cbd3-2f56aef8290e"
      },
      "source": [
        "# Criando dataframe\n",
        "df_dados_climaticos = pd.read_excel('dataset_dados_climaticos.xlsx')\n",
        "\n",
        "df_dados_climaticos"
      ],
      "execution_count": null,
      "outputs": [
        {
          "output_type": "execute_result",
          "data": {
            "text/html": [
              "<div>\n",
              "<style scoped>\n",
              "    .dataframe tbody tr th:only-of-type {\n",
              "        vertical-align: middle;\n",
              "    }\n",
              "\n",
              "    .dataframe tbody tr th {\n",
              "        vertical-align: top;\n",
              "    }\n",
              "\n",
              "    .dataframe thead th {\n",
              "        text-align: right;\n",
              "    }\n",
              "</style>\n",
              "<table border=\"1\" class=\"dataframe\">\n",
              "  <thead>\n",
              "    <tr style=\"text-align: right;\">\n",
              "      <th></th>\n",
              "      <th>Data</th>\n",
              "      <th>Temperatura Media ( C )</th>\n",
              "      <th>Temperatura Maxima ( C )</th>\n",
              "      <th>Temperatura Minima ( C )</th>\n",
              "      <th>Precipitacao (mm)</th>\n",
              "      <th>Cidade</th>\n",
              "    </tr>\n",
              "  </thead>\n",
              "  <tbody>\n",
              "    <tr>\n",
              "      <th>0</th>\n",
              "      <td>1. Junho</td>\n",
              "      <td>26</td>\n",
              "      <td>29</td>\n",
              "      <td>24</td>\n",
              "      <td>7.8</td>\n",
              "      <td>Manaus</td>\n",
              "    </tr>\n",
              "    <tr>\n",
              "      <th>1</th>\n",
              "      <td>2. Junho</td>\n",
              "      <td>26</td>\n",
              "      <td>29</td>\n",
              "      <td>24</td>\n",
              "      <td>8.6</td>\n",
              "      <td>Manaus</td>\n",
              "    </tr>\n",
              "    <tr>\n",
              "      <th>2</th>\n",
              "      <td>3. Junho</td>\n",
              "      <td>26</td>\n",
              "      <td>29</td>\n",
              "      <td>24</td>\n",
              "      <td>7.9</td>\n",
              "      <td>Manaus</td>\n",
              "    </tr>\n",
              "    <tr>\n",
              "      <th>3</th>\n",
              "      <td>4. Junho</td>\n",
              "      <td>26</td>\n",
              "      <td>29</td>\n",
              "      <td>24</td>\n",
              "      <td>7.3</td>\n",
              "      <td>Manaus</td>\n",
              "    </tr>\n",
              "    <tr>\n",
              "      <th>4</th>\n",
              "      <td>5. Junho</td>\n",
              "      <td>26</td>\n",
              "      <td>29</td>\n",
              "      <td>24</td>\n",
              "      <td>6.9</td>\n",
              "      <td>Manaus</td>\n",
              "    </tr>\n",
              "    <tr>\n",
              "      <th>...</th>\n",
              "      <td>...</td>\n",
              "      <td>...</td>\n",
              "      <td>...</td>\n",
              "      <td>...</td>\n",
              "      <td>...</td>\n",
              "      <td>...</td>\n",
              "    </tr>\n",
              "    <tr>\n",
              "      <th>805</th>\n",
              "      <td>26. Junho</td>\n",
              "      <td>26</td>\n",
              "      <td>32</td>\n",
              "      <td>21</td>\n",
              "      <td>0.0</td>\n",
              "      <td>Palmas</td>\n",
              "    </tr>\n",
              "    <tr>\n",
              "      <th>806</th>\n",
              "      <td>27. Junho</td>\n",
              "      <td>27</td>\n",
              "      <td>32</td>\n",
              "      <td>21</td>\n",
              "      <td>0.0</td>\n",
              "      <td>Palmas</td>\n",
              "    </tr>\n",
              "    <tr>\n",
              "      <th>807</th>\n",
              "      <td>28. Junho</td>\n",
              "      <td>27</td>\n",
              "      <td>32</td>\n",
              "      <td>21</td>\n",
              "      <td>0.0</td>\n",
              "      <td>Palmas</td>\n",
              "    </tr>\n",
              "    <tr>\n",
              "      <th>808</th>\n",
              "      <td>29. Junho</td>\n",
              "      <td>27</td>\n",
              "      <td>32</td>\n",
              "      <td>21</td>\n",
              "      <td>0.0</td>\n",
              "      <td>Palmas</td>\n",
              "    </tr>\n",
              "    <tr>\n",
              "      <th>809</th>\n",
              "      <td>30. Junho</td>\n",
              "      <td>27</td>\n",
              "      <td>32</td>\n",
              "      <td>21</td>\n",
              "      <td>0.0</td>\n",
              "      <td>Palmas</td>\n",
              "    </tr>\n",
              "  </tbody>\n",
              "</table>\n",
              "<p>810 rows × 6 columns</p>\n",
              "</div>"
            ],
            "text/plain": [
              "          Data  Temperatura Media ( C )  ...  Precipitacao (mm)  Cidade\n",
              "0     1. Junho                       26  ...                7.8  Manaus\n",
              "1     2. Junho                       26  ...                8.6  Manaus\n",
              "2     3. Junho                       26  ...                7.9  Manaus\n",
              "3     4. Junho                       26  ...                7.3  Manaus\n",
              "4     5. Junho                       26  ...                6.9  Manaus\n",
              "..         ...                      ...  ...                ...     ...\n",
              "805  26. Junho                       26  ...                0.0  Palmas\n",
              "806  27. Junho                       27  ...                0.0  Palmas\n",
              "807  28. Junho                       27  ...                0.0  Palmas\n",
              "808  29. Junho                       27  ...                0.0  Palmas\n",
              "809  30. Junho                       27  ...                0.0  Palmas\n",
              "\n",
              "[810 rows x 6 columns]"
            ]
          },
          "metadata": {
            "tags": []
          },
          "execution_count": 22
        }
      ]
    },
    {
      "cell_type": "code",
      "metadata": {
        "id": "01YC292DvZ5A",
        "colab": {
          "base_uri": "https://localhost:8080/"
        },
        "outputId": "572750bd-9aad-4054-f5a6-e2ad173f4e4d"
      },
      "source": [
        "df_dados_climaticos.info()"
      ],
      "execution_count": null,
      "outputs": [
        {
          "output_type": "stream",
          "text": [
            "<class 'pandas.core.frame.DataFrame'>\n",
            "RangeIndex: 810 entries, 0 to 809\n",
            "Data columns (total 6 columns):\n",
            " #   Column                    Non-Null Count  Dtype  \n",
            "---  ------                    --------------  -----  \n",
            " 0   Data                      810 non-null    object \n",
            " 1   Temperatura Media ( C )   810 non-null    int64  \n",
            " 2   Temperatura Maxima ( C )  810 non-null    int64  \n",
            " 3   Temperatura Minima ( C )  810 non-null    int64  \n",
            " 4   Precipitacao (mm)         810 non-null    float64\n",
            " 5   Cidade                    810 non-null    object \n",
            "dtypes: float64(1), int64(3), object(2)\n",
            "memory usage: 38.1+ KB\n"
          ],
          "name": "stdout"
        }
      ]
    },
    {
      "cell_type": "markdown",
      "metadata": {
        "id": "Kj3Su1pBphmi"
      },
      "source": [
        "## Informação de Final de Semana"
      ]
    },
    {
      "cell_type": "code",
      "metadata": {
        "id": "LuCfgR4ppuCn",
        "colab": {
          "base_uri": "https://localhost:8080/"
        },
        "outputId": "751e2938-b90c-4556-802a-cb59aefd2b4f"
      },
      "source": [
        "# print(df_dados_climaticos['Data'].str.startswith('5', na=False))\n",
        "df_dados_climaticos['Final de Semana'] = np.where( \\\n",
        "                                                  df_dados_climaticos['Data'].str.startswith('5.', na=False) |\n",
        "                                                  df_dados_climaticos['Data'].str.startswith('6.', na=False) |\n",
        "                                                  df_dados_climaticos['Data'].str.startswith('12.', na=False) |\n",
        "                                                  df_dados_climaticos['Data'].str.startswith('13.', na=False) |\n",
        "                                                  df_dados_climaticos['Data'].str.startswith('19.', na=False) |\n",
        "                                                  df_dados_climaticos['Data'].str.startswith('20.', na=False) |\n",
        "                                                  df_dados_climaticos['Data'].str.startswith('26.', na=False) |\n",
        "                                                  df_dados_climaticos['Data'].str.startswith('27.', na=False), \\\n",
        "                                                  1, 0)\n",
        "print(df_dados_climaticos)"
      ],
      "execution_count": null,
      "outputs": [
        {
          "output_type": "stream",
          "text": [
            "          Data  Temperatura Media ( C )  ...  Cidade  Final de Semana\n",
            "0     1. Junho                       26  ...  Manaus                0\n",
            "1     2. Junho                       26  ...  Manaus                0\n",
            "2     3. Junho                       26  ...  Manaus                0\n",
            "3     4. Junho                       26  ...  Manaus                0\n",
            "4     5. Junho                       26  ...  Manaus                1\n",
            "..         ...                      ...  ...     ...              ...\n",
            "805  26. Junho                       26  ...  Palmas                1\n",
            "806  27. Junho                       27  ...  Palmas                1\n",
            "807  28. Junho                       27  ...  Palmas                0\n",
            "808  29. Junho                       27  ...  Palmas                0\n",
            "809  30. Junho                       27  ...  Palmas                0\n",
            "\n",
            "[810 rows x 7 columns]\n"
          ],
          "name": "stdout"
        }
      ]
    }
  ]
}
