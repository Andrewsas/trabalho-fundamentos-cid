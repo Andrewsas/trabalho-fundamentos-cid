{
  "nbformat": 4,
  "nbformat_minor": 0,
  "metadata": {
    "colab": {
      "name": "Projeto_Final_Modulo_4.ipynb",
      "provenance": [],
      "authorship_tag": "ABX9TyMjVW987lEqVvYjUwjHiA/t",
      "include_colab_link": true
    },
    "kernelspec": {
      "name": "python3",
      "display_name": "Python 3"
    }
  },
  "cells": [
    {
      "cell_type": "markdown",
      "metadata": {
        "id": "view-in-github",
        "colab_type": "text"
      },
      "source": [
        "<a href=\"https://colab.research.google.com/github/Andrewsas/trabalho-fundamentos-cid/blob/master/Modulo_4/Projeto_final_modulo_4.ipynb\" target=\"_parent\"><img src=\"https://colab.research.google.com/assets/colab-badge.svg\" alt=\"Open In Colab\"/></a>"
      ]
    },
    {
      "cell_type": "markdown",
      "metadata": {
        "id": "9F0VJoL02V3F"
      },
      "source": [
        "#Imports e Dependências"
      ]
    },
    {
      "cell_type": "code",
      "metadata": {
        "id": "DHi6djdR8iVV"
      },
      "source": [
        "import pandas as pd\r\n",
        "import requests"
      ],
      "execution_count": 7,
      "outputs": []
    },
    {
      "cell_type": "markdown",
      "metadata": {
        "id": "30EmAZmLABlS"
      },
      "source": [
        "#Funções ETL"
      ]
    },
    {
      "cell_type": "code",
      "metadata": {
        "id": "_Btg56dqAKfg"
      },
      "source": [
        "#Treat numeric values from dataframe\r\n",
        "def str_to_num(df_aux, index):\r\n",
        "  for i in index:\r\n",
        "    col_name = df_aux.columns[i]\r\n",
        "    df_aux[col_name] = df_aux[col_name].str.replace('.', '')\r\n",
        "    df_aux[col_name] = df_aux[col_name].str.replace(',', '.')\r\n",
        "    df_aux[col_name] = pd.to_numeric(df_aux[col_name])\r\n",
        "  return df_aux\r\n"
      ],
      "execution_count": 3,
      "outputs": []
    },
    {
      "cell_type": "code",
      "metadata": {
        "id": "kxg1pMmRCPt_"
      },
      "source": [
        "#Return dataframe from api informed\r\n",
        "def retrieve_data_from_api(url):\r\n",
        "  url = (url)\r\n",
        "  response = requests.get(url)\r\n",
        "  print(response)\r\n",
        "  if response.status_code == 200:\r\n",
        "    payload = response.json()\r\n",
        "  else:\r\n",
        "    print(f'Error {response.status_code}: {response.reason}')\r\n",
        "  return pd.DataFrame(payload[\"results\"]), payload[\"page\"], payload[\"total_pages\"]\r\n"
      ],
      "execution_count": 30,
      "outputs": []
    },
    {
      "cell_type": "code",
      "metadata": {
        "id": "1m-0FnZpFsjn"
      },
      "source": [
        "#Reference: https://www.themoviedb.org/documentation/api\r\n",
        "def build_themoviedb_url(request_type, page):\r\n",
        "  BASE_URL = \"https://api.themoviedb.org/3/\"\r\n",
        "  API_KEY = \"c9fd270fb257dd3be3a6cc9eac4b81a6\"\r\n",
        "  DEFAULT_LANGUAGE = \"en-US\"\r\n",
        "  uri = BASE_URL + request_type + \"?api_key=\" + API_KEY + \"&language=\" + DEFAULT_LANGUAGE \r\n",
        "  if page > 0:\r\n",
        "    uri = uri + \"&page=\" + str(page)\r\n",
        "  return uri\r\n"
      ],
      "execution_count": 51,
      "outputs": []
    },
    {
      "cell_type": "code",
      "metadata": {
        "id": "G4SkvfILV3X4"
      },
      "source": [
        "def load_all_themoviedb(request):\r\n",
        "  print(request)\r\n",
        "  current_page = 0\r\n",
        "  total_pages = 1\r\n",
        "  while current_page <= total_pages:\r\n",
        "    print(\"TOTAL: \", total_pages, \"Current: \", current_page)\r\n",
        "    uri = build_themoviedb_url(request, current_page)\r\n",
        "    df_aux, current_page, total_pages = retrieve_data_from_api(uri)\r\n",
        "    if current_page == 1:\r\n",
        "      df = pd.DataFrame(df_aux)\r\n",
        "    else:\r\n",
        "      df = df_movies.append(df_aux, ignore_index=True)\r\n",
        "    current_page = current_page+1\r\n",
        "  return df"
      ],
      "execution_count": 73,
      "outputs": []
    },
    {
      "cell_type": "markdown",
      "metadata": {
        "id": "fuZAEZZrCAA6"
      },
      "source": [
        "##Métodos para checagem de **outliers**"
      ]
    },
    {
      "cell_type": "code",
      "metadata": {
        "id": "cHrHg14aBoGZ"
      },
      "source": [
        "def tukeys_method(df):\r\n",
        "  # Parâmetros: series\r\n",
        "  q1 = np.quantile(df, 0.25)\r\n",
        "  q3 = np.quantile(df, 0.75)\r\n",
        "  iqr = q3-q1\r\n",
        "  inner_fence = 1.5*iqr\r\n",
        "  outer_fence = 3*iqr\r\n",
        "\r\n",
        "  #inner fence lower and uper end\r\n",
        "  inner_fence_le = q1-inner_fence\r\n",
        "  inner_fence_ue = q3+inner_fence\r\n",
        "\r\n",
        "  #outer fence lower and uper end\r\n",
        "  outer_fence_le = q1-outer_fence\r\n",
        "  outer_fence_ue = q3+outer_fence\r\n",
        "\r\n",
        "  outliers_prob = []\r\n",
        "  outliers_poss = []\r\n",
        "  for index, x in enumerate(df):\r\n",
        "    if x <= outer_fence_le or x >= outer_fence_ue:\r\n",
        "      outliers_prob.append(index)\r\n",
        "  for index, x in enumerate(df):\r\n",
        "    if x <= inner_fence_le or x >= inner_fence_ue:\r\n",
        "      outliers_poss.append(index)\r\n",
        "  return outliers_prob, outliers_poss"
      ],
      "execution_count": 5,
      "outputs": []
    },
    {
      "cell_type": "markdown",
      "metadata": {
        "id": "6yc9KE7-D-_e"
      },
      "source": [
        "#Carregamento dos dados\r\n",
        "\r\n",
        "1.   Filmes\r\n",
        "2.   Séries\r\n",
        "\r\n"
      ]
    },
    {
      "cell_type": "code",
      "metadata": {
        "id": "Z6hnXwQGFjX9"
      },
      "source": [
        "#Movies\r\n",
        "df_movies = load_all_themoviedb(\"movie/top_rated\")\r\n",
        "df_movies.info()"
      ],
      "execution_count": null,
      "outputs": []
    },
    {
      "cell_type": "code",
      "metadata": {
        "id": "GUaiF4JDf5mb",
        "outputId": "b713d711-215b-4d8d-ac13-d2ddcfdd79c2",
        "colab": {
          "base_uri": "https://localhost:8080/"
        }
      },
      "source": [
        "#Series\r\n",
        "df_series = load_all_themoviedb(\"tv/top_rated\")\r\n",
        "df_series.info()"
      ],
      "execution_count": 74,
      "outputs": [
        {
          "output_type": "stream",
          "text": [
            "tv/top_rated\n",
            "TOTAL:  1 Current:  0\n",
            "<Response [200]>\n",
            "TOTAL:  83 Current:  2\n",
            "<Response [200]>\n",
            "TOTAL:  83 Current:  3\n",
            "<Response [200]>\n",
            "TOTAL:  83 Current:  4\n",
            "<Response [200]>\n",
            "TOTAL:  83 Current:  5\n",
            "<Response [200]>\n",
            "TOTAL:  83 Current:  6\n",
            "<Response [200]>\n",
            "TOTAL:  83 Current:  7\n",
            "<Response [200]>\n",
            "TOTAL:  83 Current:  8\n",
            "<Response [200]>\n",
            "TOTAL:  83 Current:  9\n",
            "<Response [200]>\n",
            "TOTAL:  83 Current:  10\n",
            "<Response [200]>\n",
            "TOTAL:  83 Current:  11\n",
            "<Response [200]>\n",
            "TOTAL:  83 Current:  12\n",
            "<Response [200]>\n",
            "TOTAL:  83 Current:  13\n",
            "<Response [200]>\n",
            "TOTAL:  83 Current:  14\n",
            "<Response [200]>\n",
            "TOTAL:  83 Current:  15\n",
            "<Response [200]>\n",
            "TOTAL:  83 Current:  16\n",
            "<Response [200]>\n",
            "TOTAL:  83 Current:  17\n",
            "<Response [200]>\n",
            "TOTAL:  83 Current:  18\n",
            "<Response [200]>\n",
            "TOTAL:  83 Current:  19\n",
            "<Response [200]>\n",
            "TOTAL:  83 Current:  20\n",
            "<Response [200]>\n",
            "TOTAL:  83 Current:  21\n",
            "<Response [200]>\n",
            "TOTAL:  83 Current:  22\n",
            "<Response [200]>\n",
            "TOTAL:  83 Current:  23\n",
            "<Response [200]>\n",
            "TOTAL:  83 Current:  24\n",
            "<Response [200]>\n",
            "TOTAL:  83 Current:  25\n",
            "<Response [200]>\n",
            "TOTAL:  83 Current:  26\n",
            "<Response [200]>\n",
            "TOTAL:  83 Current:  27\n",
            "<Response [200]>\n",
            "TOTAL:  83 Current:  28\n",
            "<Response [200]>\n",
            "TOTAL:  83 Current:  29\n",
            "<Response [200]>\n",
            "TOTAL:  83 Current:  30\n",
            "<Response [200]>\n",
            "TOTAL:  83 Current:  31\n",
            "<Response [200]>\n",
            "TOTAL:  83 Current:  32\n",
            "<Response [200]>\n",
            "TOTAL:  83 Current:  33\n",
            "<Response [200]>\n",
            "TOTAL:  83 Current:  34\n",
            "<Response [200]>\n",
            "TOTAL:  83 Current:  35\n",
            "<Response [200]>\n",
            "TOTAL:  83 Current:  36\n",
            "<Response [200]>\n",
            "TOTAL:  83 Current:  37\n",
            "<Response [200]>\n",
            "TOTAL:  83 Current:  38\n",
            "<Response [200]>\n",
            "TOTAL:  83 Current:  39\n",
            "<Response [200]>\n",
            "TOTAL:  83 Current:  40\n",
            "<Response [200]>\n",
            "TOTAL:  83 Current:  41\n",
            "<Response [200]>\n",
            "TOTAL:  83 Current:  42\n",
            "<Response [200]>\n",
            "TOTAL:  83 Current:  43\n",
            "<Response [200]>\n",
            "TOTAL:  83 Current:  44\n",
            "<Response [200]>\n",
            "TOTAL:  83 Current:  45\n",
            "<Response [200]>\n",
            "TOTAL:  83 Current:  46\n",
            "<Response [200]>\n",
            "TOTAL:  83 Current:  47\n",
            "<Response [200]>\n",
            "TOTAL:  83 Current:  48\n",
            "<Response [200]>\n",
            "TOTAL:  83 Current:  49\n",
            "<Response [200]>\n",
            "TOTAL:  83 Current:  50\n",
            "<Response [200]>\n",
            "TOTAL:  83 Current:  51\n",
            "<Response [200]>\n",
            "TOTAL:  83 Current:  52\n",
            "<Response [200]>\n",
            "TOTAL:  83 Current:  53\n",
            "<Response [200]>\n",
            "TOTAL:  83 Current:  54\n",
            "<Response [200]>\n",
            "TOTAL:  83 Current:  55\n",
            "<Response [200]>\n",
            "TOTAL:  83 Current:  56\n",
            "<Response [200]>\n",
            "TOTAL:  83 Current:  57\n",
            "<Response [200]>\n",
            "TOTAL:  83 Current:  58\n",
            "<Response [200]>\n",
            "TOTAL:  83 Current:  59\n",
            "<Response [200]>\n",
            "TOTAL:  83 Current:  60\n",
            "<Response [200]>\n",
            "TOTAL:  83 Current:  61\n",
            "<Response [200]>\n",
            "TOTAL:  83 Current:  62\n",
            "<Response [200]>\n",
            "TOTAL:  83 Current:  63\n",
            "<Response [200]>\n",
            "TOTAL:  83 Current:  64\n",
            "<Response [200]>\n",
            "TOTAL:  83 Current:  65\n",
            "<Response [200]>\n",
            "TOTAL:  83 Current:  66\n",
            "<Response [200]>\n",
            "TOTAL:  83 Current:  67\n",
            "<Response [200]>\n",
            "TOTAL:  83 Current:  68\n",
            "<Response [200]>\n",
            "TOTAL:  83 Current:  69\n",
            "<Response [200]>\n",
            "TOTAL:  83 Current:  70\n",
            "<Response [200]>\n",
            "TOTAL:  83 Current:  71\n",
            "<Response [200]>\n",
            "TOTAL:  83 Current:  72\n",
            "<Response [200]>\n",
            "TOTAL:  83 Current:  73\n",
            "<Response [200]>\n",
            "TOTAL:  83 Current:  74\n",
            "<Response [200]>\n",
            "TOTAL:  83 Current:  75\n",
            "<Response [200]>\n",
            "TOTAL:  83 Current:  76\n",
            "<Response [200]>\n",
            "TOTAL:  83 Current:  77\n",
            "<Response [200]>\n",
            "TOTAL:  83 Current:  78\n",
            "<Response [200]>\n",
            "TOTAL:  83 Current:  79\n",
            "<Response [200]>\n",
            "TOTAL:  83 Current:  80\n",
            "<Response [200]>\n",
            "TOTAL:  83 Current:  81\n",
            "<Response [200]>\n",
            "TOTAL:  83 Current:  82\n",
            "<Response [200]>\n",
            "TOTAL:  83 Current:  83\n",
            "<Response [200]>\n",
            "<class 'pandas.core.frame.DataFrame'>\n",
            "RangeIndex: 8423 entries, 0 to 8422\n",
            "Data columns (total 18 columns):\n",
            " #   Column             Non-Null Count  Dtype  \n",
            "---  ------             --------------  -----  \n",
            " 0   adult              8417 non-null   object \n",
            " 1   backdrop_path      8394 non-null   object \n",
            " 2   genre_ids          8423 non-null   object \n",
            " 3   id                 8423 non-null   int64  \n",
            " 4   original_language  8423 non-null   object \n",
            " 5   original_title     8417 non-null   object \n",
            " 6   overview           8423 non-null   object \n",
            " 7   popularity         8423 non-null   float64\n",
            " 8   poster_path        8423 non-null   object \n",
            " 9   release_date       8417 non-null   object \n",
            " 10  title              8417 non-null   object \n",
            " 11  video              8417 non-null   object \n",
            " 12  vote_average       8423 non-null   float64\n",
            " 13  vote_count         8423 non-null   int64  \n",
            " 14  first_air_date     6 non-null      object \n",
            " 15  name               6 non-null      object \n",
            " 16  origin_country     6 non-null      object \n",
            " 17  original_name      6 non-null      object \n",
            "dtypes: float64(2), int64(2), object(14)\n",
            "memory usage: 1.2+ MB\n"
          ],
          "name": "stdout"
        }
      ]
    }
  ]
}