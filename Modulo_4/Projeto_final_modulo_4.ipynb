{
  "nbformat": 4,
  "nbformat_minor": 0,
  "metadata": {
    "colab": {
      "name": "Projeto_Final_Modulo_4.ipynb",
      "provenance": [],
      "authorship_tag": "ABX9TyMAv3qT8mmI01XILJyXXF5g",
      "include_colab_link": true
    },
    "kernelspec": {
      "name": "python3",
      "display_name": "Python 3"
    }
  },
  "cells": [
    {
      "cell_type": "markdown",
      "metadata": {
        "id": "view-in-github",
        "colab_type": "text"
      },
      "source": [
        "<a href=\"https://colab.research.google.com/github/Andrewsas/trabalho-fundamentos-cid/blob/master/Modulo_4/Projeto_final_modulo_4.ipynb\" target=\"_parent\"><img src=\"https://colab.research.google.com/assets/colab-badge.svg\" alt=\"Open In Colab\"/></a>"
      ]
    },
    {
      "cell_type": "markdown",
      "metadata": {
        "id": "9F0VJoL02V3F"
      },
      "source": [
        "#Imports e Dependências"
      ]
    },
    {
      "cell_type": "code",
      "metadata": {
        "id": "DHi6djdR8iVV"
      },
      "source": [
        "import pandas as pd\r\n",
        "import requests"
      ],
      "execution_count": 1,
      "outputs": []
    },
    {
      "cell_type": "markdown",
      "metadata": {
        "id": "30EmAZmLABlS"
      },
      "source": [
        "#Funções ETL"
      ]
    },
    {
      "cell_type": "code",
      "metadata": {
        "id": "_Btg56dqAKfg"
      },
      "source": [
        "#Treat numeric values from dataframe\r\n",
        "def str_to_num(df_aux, index):\r\n",
        "  for i in index:\r\n",
        "    col_name = df_aux.columns[i]\r\n",
        "    df_aux[col_name] = df_aux[col_name].str.replace('.', '')\r\n",
        "    df_aux[col_name] = df_aux[col_name].str.replace(',', '.')\r\n",
        "    df_aux[col_name] = pd.to_numeric(df_aux[col_name])\r\n",
        "  return df_aux\r\n"
      ],
      "execution_count": 3,
      "outputs": []
    },
    {
      "cell_type": "code",
      "metadata": {
        "id": "kxg1pMmRCPt_"
      },
      "source": [
        "#Return dataframe from api informed\r\n",
        "def retrieve_data_from_api(url, id):\r\n",
        "  url = (url)\r\n",
        "  response = requests.get(url)\r\n",
        "  print(\"Request: {} => {}\".format(id, response))\r\n",
        "  if response.status_code == 200:\r\n",
        "    payload = response.json()\r\n",
        "  else:\r\n",
        "    print(f'Error {response.status_code}: {response.reason}')\r\n",
        "  return pd.DataFrame(payload[\"results\"]), payload[\"page\"], payload[\"total_pages\"]\r\n"
      ],
      "execution_count": 21,
      "outputs": []
    },
    {
      "cell_type": "code",
      "metadata": {
        "id": "1m-0FnZpFsjn"
      },
      "source": [
        "#Reference: https://www.themoviedb.org/documentation/api\r\n",
        "def build_themoviedb_url(request_type, page):\r\n",
        "  BASE_URL = \"https://api.themoviedb.org/3/\"\r\n",
        "  API_KEY = \"c9fd270fb257dd3be3a6cc9eac4b81a6\"\r\n",
        "  DEFAULT_LANGUAGE = \"en-US\"\r\n",
        "  uri = BASE_URL + request_type + \"?api_key=\" + API_KEY + \"&language=\" + DEFAULT_LANGUAGE \r\n",
        "  if page > 0:\r\n",
        "    uri = uri + \"&page=\" + str(page)\r\n",
        "  return uri\r\n"
      ],
      "execution_count": 5,
      "outputs": []
    },
    {
      "cell_type": "code",
      "metadata": {
        "id": "G4SkvfILV3X4"
      },
      "source": [
        "def load_all_themoviedb(request):\r\n",
        "  print(request)\r\n",
        "  current_page = 0\r\n",
        "  total_pages = 1\r\n",
        "  while current_page <= total_pages:\r\n",
        "    uri = build_themoviedb_url(request, current_page)\r\n",
        "    df_aux, current_page, total_pages = retrieve_data_from_api(uri, current_page)\r\n",
        "    if current_page == 1:\r\n",
        "      print(\"TOTAL: \", total_pages)\r\n",
        "      df = pd.DataFrame(df_aux)\r\n",
        "    else:\r\n",
        "      df = df.append(df_aux, ignore_index=True)\r\n",
        "    current_page = current_page+1\r\n",
        "  print(\"DONE!\")\r\n",
        "  return df"
      ],
      "execution_count": 17,
      "outputs": []
    },
    {
      "cell_type": "code",
      "metadata": {
        "id": "EVm_RQBzzTGn"
      },
      "source": [
        "def get_netflix_dataset():\r\n",
        "  !wget https://github.com/Andrewsas/trabalho-fundamentos-cid/blob/master/data/netflix_titles.csv?raw=true\r\n",
        "  !ls -la\r\n",
        "  #rename\r\n",
        "  !mv 'netflix_titles.csv?raw=true' 'netflix_titles.csv'\r\n",
        "  df = pd.read_csv('./netflix_titles.csv', sep = \",\", usecols = [\"type\", \"title\", \"director\", \"cast\", \"country\", \"date_added\", \"release_year\", \"rating\", \"duration\", \"listed_in\", \"description\"])\r\n",
        "  return df"
      ],
      "execution_count": 23,
      "outputs": []
    },
    {
      "cell_type": "markdown",
      "metadata": {
        "id": "fuZAEZZrCAA6"
      },
      "source": [
        "##Métodos para checagem de **outliers**"
      ]
    },
    {
      "cell_type": "code",
      "metadata": {
        "id": "cHrHg14aBoGZ"
      },
      "source": [
        "def tukeys_method(df):\r\n",
        "  # Parâmetros: series\r\n",
        "  q1 = np.quantile(df, 0.25)\r\n",
        "  q3 = np.quantile(df, 0.75)\r\n",
        "  iqr = q3-q1\r\n",
        "  inner_fence = 1.5*iqr\r\n",
        "  outer_fence = 3*iqr\r\n",
        "\r\n",
        "  #inner fence lower and uper end\r\n",
        "  inner_fence_le = q1-inner_fence\r\n",
        "  inner_fence_ue = q3+inner_fence\r\n",
        "\r\n",
        "  #outer fence lower and uper end\r\n",
        "  outer_fence_le = q1-outer_fence\r\n",
        "  outer_fence_ue = q3+outer_fence\r\n",
        "\r\n",
        "  outliers_prob = []\r\n",
        "  outliers_poss = []\r\n",
        "  for index, x in enumerate(df):\r\n",
        "    if x <= outer_fence_le or x >= outer_fence_ue:\r\n",
        "      outliers_prob.append(index)\r\n",
        "  for index, x in enumerate(df):\r\n",
        "    if x <= inner_fence_le or x >= inner_fence_ue:\r\n",
        "      outliers_poss.append(index)\r\n",
        "  return outliers_prob, outliers_poss"
      ],
      "execution_count": 8,
      "outputs": []
    },
    {
      "cell_type": "markdown",
      "metadata": {
        "id": "6yc9KE7-D-_e"
      },
      "source": [
        "#Carregamento dos dados\r\n",
        "\r\n",
        "1.   Filmes - [the movie database](https://www.themoviedb.org/)\r\n",
        "2.   Série - [the movie database](https://www.themoviedb.org/)\r\n",
        "3.   Netflix - [Kaggle](https://www.kaggle.com/shivamb/netflix-shows)"
      ]
    },
    {
      "cell_type": "code",
      "metadata": {
        "id": "Z6hnXwQGFjX9"
      },
      "source": [
        "#Movies\r\n",
        "df_movies = load_all_themoviedb(\"movie/top_rated\")\r\n",
        "df_movies.info()"
      ],
      "execution_count": null,
      "outputs": []
    },
    {
      "cell_type": "code",
      "metadata": {
        "id": "GUaiF4JDf5mb"
      },
      "source": [
        "#Series\r\n",
        "df_series = load_all_themoviedb(\"tv/top_rated\")\r\n",
        "df_series.info()"
      ],
      "execution_count": null,
      "outputs": []
    },
    {
      "cell_type": "code",
      "metadata": {
        "id": "mwXC7f5y3w33",
        "outputId": "b950791e-59d2-4e7f-ba42-28dbbca5e8ff",
        "colab": {
          "base_uri": "https://localhost:8080/"
        }
      },
      "source": [
        "#Netflix\r\n",
        "df_netflix = get_netflix_dataset()\r\n",
        "df_netflix.info()"
      ],
      "execution_count": 24,
      "outputs": [
        {
          "output_type": "stream",
          "text": [
            "--2021-02-21 23:14:55--  https://github.com/Andrewsas/trabalho-fundamentos-cid/blob/master/data/netflix_titles.csv?raw=true\n",
            "Resolving github.com (github.com)... 192.30.255.113\n",
            "Connecting to github.com (github.com)|192.30.255.113|:443... connected.\n",
            "HTTP request sent, awaiting response... 302 Found\n",
            "Location: https://github.com/Andrewsas/trabalho-fundamentos-cid/raw/master/data/netflix_titles.csv [following]\n",
            "--2021-02-21 23:14:55--  https://github.com/Andrewsas/trabalho-fundamentos-cid/raw/master/data/netflix_titles.csv\n",
            "Reusing existing connection to github.com:443.\n",
            "HTTP request sent, awaiting response... 302 Found\n",
            "Location: https://raw.githubusercontent.com/Andrewsas/trabalho-fundamentos-cid/master/data/netflix_titles.csv [following]\n",
            "--2021-02-21 23:14:56--  https://raw.githubusercontent.com/Andrewsas/trabalho-fundamentos-cid/master/data/netflix_titles.csv\n",
            "Resolving raw.githubusercontent.com (raw.githubusercontent.com)... 185.199.108.133, 185.199.109.133, 185.199.110.133, ...\n",
            "Connecting to raw.githubusercontent.com (raw.githubusercontent.com)|185.199.108.133|:443... connected.\n",
            "HTTP request sent, awaiting response... 200 OK\n",
            "Length: 2992704 (2.9M) [text/plain]\n",
            "Saving to: ‘netflix_titles.csv?raw=true’\n",
            "\n",
            "netflix_titles.csv? 100%[===================>]   2.85M  --.-KB/s    in 0.08s   \n",
            "\n",
            "2021-02-21 23:14:57 (36.1 MB/s) - ‘netflix_titles.csv?raw=true’ saved [2992704/2992704]\n",
            "\n",
            "total 2940\n",
            "drwxr-xr-x 1 root root    4096 Feb 21 23:14  .\n",
            "drwxr-xr-x 1 root root    4096 Feb 21 22:04  ..\n",
            "drwxr-xr-x 1 root root    4096 Feb 16 16:35  .config\n",
            "-rw-r--r-- 1 root root 2992704 Feb 21 23:14 'netflix_titles.csv?raw=true'\n",
            "drwxr-xr-x 1 root root    4096 Feb 16 16:35  sample_data\n",
            "<class 'pandas.core.frame.DataFrame'>\n",
            "RangeIndex: 7787 entries, 0 to 7786\n",
            "Data columns (total 11 columns):\n",
            " #   Column        Non-Null Count  Dtype \n",
            "---  ------        --------------  ----- \n",
            " 0   type          7787 non-null   object\n",
            " 1   title         7787 non-null   object\n",
            " 2   director      5398 non-null   object\n",
            " 3   cast          7069 non-null   object\n",
            " 4   country       7280 non-null   object\n",
            " 5   date_added    7777 non-null   object\n",
            " 6   release_year  7787 non-null   int64 \n",
            " 7   rating        7780 non-null   object\n",
            " 8   duration      7787 non-null   object\n",
            " 9   listed_in     7787 non-null   object\n",
            " 10  description   7787 non-null   object\n",
            "dtypes: int64(1), object(10)\n",
            "memory usage: 669.3+ KB\n"
          ],
          "name": "stdout"
        }
      ]
    }
  ]
}