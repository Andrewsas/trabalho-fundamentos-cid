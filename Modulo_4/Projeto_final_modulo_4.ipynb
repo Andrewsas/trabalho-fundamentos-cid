{
  "nbformat": 4,
  "nbformat_minor": 0,
  "metadata": {
    "colab": {
      "name": "Projeto_Final_Modulo_4.ipynb",
      "provenance": [],
      "authorship_tag": "ABX9TyPqqvLpLfhRw/mkC71hjMC5",
      "include_colab_link": true
    },
    "kernelspec": {
      "name": "python3",
      "display_name": "Python 3"
    }
  },
  "cells": [
    {
      "cell_type": "markdown",
      "metadata": {
        "id": "view-in-github",
        "colab_type": "text"
      },
      "source": [
        "<a href=\"https://colab.research.google.com/github/Andrewsas/trabalho-fundamentos-cid/blob/master/Modulo_4/Projeto_final_modulo_4.ipynb\" target=\"_parent\"><img src=\"https://colab.research.google.com/assets/colab-badge.svg\" alt=\"Open In Colab\"/></a>"
      ]
    },
    {
      "cell_type": "markdown",
      "metadata": {
        "id": "9F0VJoL02V3F"
      },
      "source": [
        "#Imports e Dependências"
      ]
    },
    {
      "cell_type": "code",
      "metadata": {
        "id": "DHi6djdR8iVV"
      },
      "source": [
        "import pandas as pd\r\n",
        "import requests"
      ],
      "execution_count": 63,
      "outputs": []
    },
    {
      "cell_type": "markdown",
      "metadata": {
        "id": "30EmAZmLABlS"
      },
      "source": [
        "#Funções ETL"
      ]
    },
    {
      "cell_type": "code",
      "metadata": {
        "id": "_Btg56dqAKfg"
      },
      "source": [
        "#Treat numeric values from dataframe\r\n",
        "def str_to_num(df_aux, index):\r\n",
        "  for i in index:\r\n",
        "    col_name = df_aux.columns[i]\r\n",
        "    df_aux[col_name] = df_aux[col_name].str.replace('.', '')\r\n",
        "    df_aux[col_name] = df_aux[col_name].str.replace(',', '.')\r\n",
        "    df_aux[col_name] = pd.to_numeric(df_aux[col_name])\r\n",
        "  return df_aux\r\n"
      ],
      "execution_count": 64,
      "outputs": []
    },
    {
      "cell_type": "code",
      "metadata": {
        "id": "kxg1pMmRCPt_"
      },
      "source": [
        "def get_data(url, id):\r\n",
        "  url = (url)\r\n",
        "  response = requests.get(url)\r\n",
        "  print(\"Request: {} => {}\".format(id, response))\r\n",
        "  if response.status_code == 200:\r\n",
        "    payload = response.json()\r\n",
        "  else:\r\n",
        "    print(f'Error {response.status_code}: {response.reason}')\r\n",
        "  return payload\r\n",
        "\r\n",
        "#Return dataframe movies/series from api informed\r\n",
        "def retrieve_data_from_api(url, id):\r\n",
        "  payload = get_data(url, id)\r\n",
        "  return pd.DataFrame(payload[\"results\"]), payload[\"page\"], payload[\"total_pages\"]\r\n",
        "\r\n",
        "#Return dataframe cast (artists and directors) from api informed\r\n",
        "def retrieve_data_cast_from_api(url, id):\r\n",
        "  payload = get_data(url, id)\r\n",
        "  print(payload[\"cast\"])\r\n",
        "  print(payload[\"crew\"])\r\n",
        "  return pd.DataFrame(payload[\"cast\"]), pd.DataFrame(payload[\"crew\"])"
      ],
      "execution_count": 96,
      "outputs": []
    },
    {
      "cell_type": "code",
      "metadata": {
        "id": "1m-0FnZpFsjn"
      },
      "source": [
        "#Reference: https://www.themoviedb.org/documentation/api\r\n",
        "BASE_URL = \"https://api.themoviedb.org/3/\"\r\n",
        "API_KEY = \"?api_key=c9fd270fb257dd3be3a6cc9eac4b81a6\"\r\n",
        "DEFAULT_LANGUAGE = \"&language=en-US\"\r\n",
        "PAGE = \"&page=\"\r\n",
        "CAST_REQUEST = \"/casts\"\r\n",
        "def build_themoviedb_url(request_type, page):\r\n",
        "  uri = BASE_URL + request_type + API_KEY + DEFAULT_LANGUAGE \r\n",
        "  if page > 0:\r\n",
        "    uri = uri + PAGE + str(page)\r\n",
        "  return uri\r\n",
        "\r\n",
        "#http://api.themoviedb.org/3/movie/550/casts?api_key=c9fd270fb257dd3be3a6cc9eac4b81a6\r\n",
        "def build_themoviedb_cast_url(request_type, movie_id):\r\n",
        "  uri = BASE_URL + request_type +  str(movie_id) + CAST_REQUEST + API_KEY\r\n",
        "  return uri"
      ],
      "execution_count": 66,
      "outputs": []
    },
    {
      "cell_type": "code",
      "metadata": {
        "id": "G4SkvfILV3X4"
      },
      "source": [
        "def load_all_themoviedb(request):\r\n",
        "  print(request)\r\n",
        "  current_page = 0\r\n",
        "  total_pages = 1\r\n",
        "  while current_page <= total_pages:\r\n",
        "    uri = build_themoviedb_url(request, current_page)\r\n",
        "    df_aux, current_page, total_pages = retrieve_data_from_api(uri, current_page)\r\n",
        "    if current_page == 1:\r\n",
        "      print(\"TOTAL: \", total_pages)\r\n",
        "      df = pd.DataFrame(df_aux)\r\n",
        "    else:\r\n",
        "      df = df.append(df_aux, ignore_index=True)\r\n",
        "    current_page = current_page+1\r\n",
        "  print(\"DONE!\")\r\n",
        "  return df\r\n",
        "\r\n",
        "def load_all_cast_themoviedb(request, df_aux):\r\n",
        "  for index, row in df_aux.iterrows():\r\n",
        "    movie_id = row['id']\r\n",
        "    uri = build_themoviedb_cast_url(request, movie_id)\r\n",
        "    df_art, df_dir = retrieve_data_cast_from_api(uri, movie_id)\r\n",
        "    #get Acting department\r\n",
        "    artists = get_department(df_art, 'known_for_department', 'Acting')\r\n",
        "    print(artists)\r\n",
        "    #get Directing department\r\n",
        "    directors = get_department(df_dir, 'department', 'Directing')\r\n",
        "    print(directors)\r\n",
        "    break\r\n",
        "    \r\n",
        "def get_department(df, column, department):\r\n",
        "  if column in df:\r\n",
        "    aux = df[df[column] == department]\r\n",
        "  return aux['name'] "
      ],
      "execution_count": 116,
      "outputs": []
    },
    {
      "cell_type": "code",
      "metadata": {
        "id": "EVm_RQBzzTGn"
      },
      "source": [
        "def get_netflix_dataset():\r\n",
        "  !wget https://github.com/Andrewsas/trabalho-fundamentos-cid/blob/master/data/netflix_titles.csv?raw=true\r\n",
        "  !ls -la\r\n",
        "  #rename\r\n",
        "  !mv 'netflix_titles.csv?raw=true' 'netflix_titles.csv'\r\n",
        "  df = pd.read_csv('./netflix_titles.csv', sep = \",\", usecols = [\"type\", \"title\", \"director\", \"cast\", \"country\", \"date_added\", \"release_year\", \"rating\", \"duration\", \"listed_in\", \"description\"])\r\n",
        "  return df"
      ],
      "execution_count": 68,
      "outputs": []
    },
    {
      "cell_type": "markdown",
      "metadata": {
        "id": "fuZAEZZrCAA6"
      },
      "source": [
        "##Métodos para checagem de **outliers**"
      ]
    },
    {
      "cell_type": "code",
      "metadata": {
        "id": "cHrHg14aBoGZ"
      },
      "source": [
        "def tukeys_method(df):\r\n",
        "  # Parâmetros: series\r\n",
        "  q1 = np.quantile(df, 0.25)\r\n",
        "  q3 = np.quantile(df, 0.75)\r\n",
        "  iqr = q3-q1\r\n",
        "  inner_fence = 1.5*iqr\r\n",
        "  outer_fence = 3*iqr\r\n",
        "\r\n",
        "  #inner fence lower and uper end\r\n",
        "  inner_fence_le = q1-inner_fence\r\n",
        "  inner_fence_ue = q3+inner_fence\r\n",
        "\r\n",
        "  #outer fence lower and uper end\r\n",
        "  outer_fence_le = q1-outer_fence\r\n",
        "  outer_fence_ue = q3+outer_fence\r\n",
        "\r\n",
        "  outliers_prob = []\r\n",
        "  outliers_poss = []\r\n",
        "  for index, x in enumerate(df):\r\n",
        "    if x <= outer_fence_le or x >= outer_fence_ue:\r\n",
        "      outliers_prob.append(index)\r\n",
        "  for index, x in enumerate(df):\r\n",
        "    if x <= inner_fence_le or x >= inner_fence_ue:\r\n",
        "      outliers_poss.append(index)\r\n",
        "  return outliers_prob, outliers_poss"
      ],
      "execution_count": 69,
      "outputs": []
    },
    {
      "cell_type": "markdown",
      "metadata": {
        "id": "6yc9KE7-D-_e"
      },
      "source": [
        "#Carregamento dos dados\r\n",
        "\r\n",
        "1.   Filmes - [the movie database](https://www.themoviedb.org/)\r\n",
        "2.   Série - [the movie database](https://www.themoviedb.org/)\r\n",
        "3.   Netflix - [Kaggle](https://www.kaggle.com/shivamb/netflix-shows)"
      ]
    },
    {
      "cell_type": "code",
      "metadata": {
        "id": "Z6hnXwQGFjX9"
      },
      "source": [
        "#Movies\r\n",
        "df_movies = load_all_themoviedb(\"movie/top_rated\")\r\n",
        "df_movies.info()"
      ],
      "execution_count": null,
      "outputs": []
    },
    {
      "cell_type": "code",
      "metadata": {
        "id": "GUaiF4JDf5mb"
      },
      "source": [
        "#Series\r\n",
        "df_series = load_all_themoviedb(\"tv/top_rated\")\r\n",
        "df_series.info()"
      ],
      "execution_count": null,
      "outputs": []
    },
    {
      "cell_type": "code",
      "metadata": {
        "id": "mwXC7f5y3w33"
      },
      "source": [
        "#Netflix\r\n",
        "df_netflix = get_netflix_dataset()\r\n",
        "df_netflix.info()"
      ],
      "execution_count": null,
      "outputs": []
    },
    {
      "cell_type": "markdown",
      "metadata": {
        "id": "aGADQCkMkSD7"
      },
      "source": [
        "##Tratamento de Dados de filmes e séries\r\n",
        "**Elenco:**\r\n",
        "*   Atores\r\n",
        "*   Diretores\r\n",
        "\r\n"
      ]
    },
    {
      "cell_type": "code",
      "metadata": {
        "id": "Ghm1W6cmlEmo",
        "outputId": "c851f474-1b0e-4e58-868c-ce7a816b971a",
        "colab": {
          "base_uri": "https://localhost:8080/"
        }
      },
      "source": [
        "#Movies\r\n",
        "df_movies_cast = load_all_cast_themoviedb(\"movie/\", df_movies)\r\n"
      ],
      "execution_count": 117,
      "outputs": [
        {
          "output_type": "stream",
          "text": [
            "Request: 761053 => <Response [200]>\n",
            "[{'adult': False, 'gender': 2, 'id': 544002, 'known_for_department': 'Acting', 'name': 'Giulio Berruti', 'original_name': 'Giulio Berruti', 'popularity': 5.598, 'profile_path': '/ktPKniWGVkm6eBG7a2R7WGd96kZ.jpg', 'cast_id': 1, 'character': 'Gabriel Emerson', 'credit_id': '5fdad9cfeda4b70041400df3', 'order': 1}, {'adult': False, 'gender': 0, 'id': 2897282, 'known_for_department': 'Acting', 'name': 'Rhett Wellington', 'original_name': 'Rhett Wellington', 'popularity': 0.694, 'profile_path': None, 'cast_id': 2, 'character': 'Simon Talbot', 'credit_id': '5fdad9dd3f7e1d004042f859', 'order': 2}, {'adult': False, 'gender': 1, 'id': 1312450, 'known_for_department': 'Acting', 'name': 'Melanie Zanetti', 'original_name': 'Melanie Zanetti', 'popularity': 11.569, 'profile_path': '/lbUQ7ilvBtWMU23reKsHg3jRmsf.jpg', 'cast_id': 3, 'character': 'Julia Mitchell', 'credit_id': '5fdad9fa29c62600401f7a01', 'order': 3}, {'adult': False, 'gender': 0, 'id': 2913392, 'known_for_department': 'Acting', 'name': 'James Andrew Fraser', 'original_name': 'James Andrew Fraser', 'popularity': 0.84, 'profile_path': None, 'cast_id': 4, 'character': 'Paul Norris', 'credit_id': '5fe93b4da3d027003faa6f2c', 'order': 4}, {'adult': False, 'gender': 1, 'id': 2595115, 'known_for_department': 'Acting', 'name': 'Margaux Brooke', 'original_name': 'Margaux Brooke', 'popularity': 0.6, 'profile_path': '/leLl5l6KnjMdg5O48FhDfB7GquI.jpg', 'cast_id': 5, 'character': 'Christa Peterson', 'credit_id': '5fe93e65df857c003f382118', 'order': 5}, {'adult': False, 'gender': 1, 'id': 2267910, 'known_for_department': 'Acting', 'name': 'Agnes Albright', 'original_name': 'Agnes Albright', 'popularity': 1.96, 'profile_path': '/a1UVXkIFONmwjr0Cxydc0jQHPFq.jpg', 'cast_id': 6, 'character': 'Paulina Gruscheva', 'credit_id': '5fe93e7d1d3563003ddc453b', 'order': 6}, {'adult': False, 'gender': 0, 'id': 2913394, 'known_for_department': 'Acting', 'name': 'Pat Asanti', 'original_name': 'Pat Asanti', 'popularity': 0.923, 'profile_path': None, 'cast_id': 7, 'character': 'Antonio', 'credit_id': '5fe93e95c9054f003c3b5676', 'order': 7}, {'adult': False, 'gender': 0, 'id': 2913395, 'known_for_department': 'Acting', 'name': 'Julia Barrett-Mitchell', 'original_name': 'Julia Barrett-Mitchell', 'popularity': 0.6, 'profile_path': None, 'cast_id': 8, 'character': 'Rachel Clark', 'credit_id': '5fe93eb215959f003e9e04cf', 'order': 8}]\n",
            "[{'adult': False, 'gender': 1, 'id': 935563, 'known_for_department': 'Production', 'name': 'Tosca Musk', 'original_name': 'Tosca Musk', 'popularity': 3.415, 'profile_path': '/usR5NspRlWgXKUe9qVsCtTCpe4l.jpg', 'credit_id': '5fe93eff1511aa003ef14242', 'department': 'Directing', 'job': 'Director'}, {'adult': False, 'gender': 0, 'id': 1845009, 'known_for_department': 'Production', 'name': 'Michael Buttiglieri', 'original_name': 'Michael Buttiglieri', 'popularity': 0.6, 'profile_path': None, 'credit_id': '5fe93fb507a808003e8d5815', 'department': 'Production', 'job': 'Producer'}]\n",
            "0            Giulio Berruti\n",
            "1          Rhett Wellington\n",
            "2           Melanie Zanetti\n",
            "3       James Andrew Fraser\n",
            "4            Margaux Brooke\n",
            "5            Agnes Albright\n",
            "6                Pat Asanti\n",
            "7    Julia Barrett-Mitchell\n",
            "Name: name, dtype: object\n",
            "0    Tosca Musk\n",
            "Name: name, dtype: object\n"
          ],
          "name": "stdout"
        }
      ]
    }
  ]
}