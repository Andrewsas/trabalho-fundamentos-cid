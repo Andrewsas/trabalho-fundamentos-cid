{
  "nbformat": 4,
  "nbformat_minor": 0,
  "metadata": {
    "colab": {
      "name": "Projeto Final - Tratamento",
      "provenance": [],
      "collapsed_sections": [],
      "authorship_tag": "ABX9TyP/N0xbqLHxXlI8M8sOIi6N",
      "include_colab_link": true
    },
    "kernelspec": {
      "name": "python3",
      "display_name": "Python 3"
    }
  },
  "cells": [
    {
      "cell_type": "markdown",
      "metadata": {
        "id": "view-in-github",
        "colab_type": "text"
      },
      "source": [
        "<a href=\"https://colab.research.google.com/github/Andrewsas/trabalho-fundamentos-cid/blob/master/Modulo_4/Projeto_Final_Tratamento.ipynb\" target=\"_parent\"><img src=\"https://colab.research.google.com/assets/colab-badge.svg\" alt=\"Open In Colab\"/></a>"
      ]
    },
    {
      "cell_type": "code",
      "metadata": {
        "id": "NdB3BD0-uDJ0"
      },
      "source": [
        "import pandas as pd"
      ],
      "execution_count": 1,
      "outputs": []
    },
    {
      "cell_type": "code",
      "metadata": {
        "id": "-aV1nEVhuJv4"
      },
      "source": [
        "movies = pd.read_csv(\"https://github.com/Andrewsas/trabalho-fundamentos-cid/blob/master/data/movies.csv?raw=true\")\n",
        "series = pd.read_csv(\"https://github.com/Andrewsas/trabalho-fundamentos-cid/blob/master/data/series.csv?raw=true\")\n",
        "netflix = pd.read_csv(\"https://github.com/Andrewsas/trabalho-fundamentos-cid/blob/master/data/netflix_titles.csv?raw=true\")"
      ],
      "execution_count": 29,
      "outputs": []
    },
    {
      "cell_type": "code",
      "metadata": {
        "id": "xABRr35quhcp"
      },
      "source": [
        "# filter columns\n",
        "movies['type'] = 'movie'\n",
        "movies = movies[['type', 'release_date', 'title', 'popularity', 'vote_average', 'vote_count', 'genres', 'original_language', 'overview', 'Crew']]\n"
      ],
      "execution_count": 30,
      "outputs": []
    },
    {
      "cell_type": "code",
      "metadata": {
        "colab": {
          "base_uri": "https://localhost:8080/",
          "height": 279
        },
        "id": "c8ynfP6S-Stm",
        "outputId": "10d5ab56-44b4-4e31-b17f-bc3037612837"
      },
      "source": [
        "# rename columns\n",
        "movies.columns = ['type', 'release', 'title', 'popularity', 'vote_average', 'vote_count', 'genres', 'language', 'overview', 'crew']\n",
        "movies.head()"
      ],
      "execution_count": 31,
      "outputs": [
        {
          "output_type": "execute_result",
          "data": {
            "text/html": [
              "<div>\n",
              "<style scoped>\n",
              "    .dataframe tbody tr th:only-of-type {\n",
              "        vertical-align: middle;\n",
              "    }\n",
              "\n",
              "    .dataframe tbody tr th {\n",
              "        vertical-align: top;\n",
              "    }\n",
              "\n",
              "    .dataframe thead th {\n",
              "        text-align: right;\n",
              "    }\n",
              "</style>\n",
              "<table border=\"1\" class=\"dataframe\">\n",
              "  <thead>\n",
              "    <tr style=\"text-align: right;\">\n",
              "      <th></th>\n",
              "      <th>type</th>\n",
              "      <th>release</th>\n",
              "      <th>title</th>\n",
              "      <th>popularity</th>\n",
              "      <th>vote_average</th>\n",
              "      <th>vote_count</th>\n",
              "      <th>genres</th>\n",
              "      <th>language</th>\n",
              "      <th>overview</th>\n",
              "      <th>crew</th>\n",
              "    </tr>\n",
              "  </thead>\n",
              "  <tbody>\n",
              "    <tr>\n",
              "      <th>0</th>\n",
              "      <td>movie</td>\n",
              "      <td>2020-11-19</td>\n",
              "      <td>Gabriel's Inferno Part III</td>\n",
              "      <td>33.315</td>\n",
              "      <td>8.8</td>\n",
              "      <td>725</td>\n",
              "      <td>Romance;Comedy</td>\n",
              "      <td>en</td>\n",
              "      <td>The final part of the film adaption of the ero...</td>\n",
              "      <td>Tosca Musk</td>\n",
              "    </tr>\n",
              "    <tr>\n",
              "      <th>1</th>\n",
              "      <td>movie</td>\n",
              "      <td>2020-07-31</td>\n",
              "      <td>Gabriel's Inferno Part II</td>\n",
              "      <td>9.365</td>\n",
              "      <td>8.8</td>\n",
              "      <td>1179</td>\n",
              "      <td>Romance</td>\n",
              "      <td>en</td>\n",
              "      <td>Professor Gabriel Emerson finally learns the t...</td>\n",
              "      <td>Tosca Musk</td>\n",
              "    </tr>\n",
              "    <tr>\n",
              "      <th>2</th>\n",
              "      <td>movie</td>\n",
              "      <td>1995-10-20</td>\n",
              "      <td>Dilwale Dulhania Le Jayenge</td>\n",
              "      <td>15.250</td>\n",
              "      <td>8.8</td>\n",
              "      <td>2663</td>\n",
              "      <td>Comedy;Drama;Romance</td>\n",
              "      <td>hi</td>\n",
              "      <td>Raj is a rich, carefree, happy-go-lucky second...</td>\n",
              "      <td>Aditya Chopra</td>\n",
              "    </tr>\n",
              "    <tr>\n",
              "      <th>3</th>\n",
              "      <td>movie</td>\n",
              "      <td>2020-10-26</td>\n",
              "      <td>Wolfwalkers</td>\n",
              "      <td>28.370</td>\n",
              "      <td>8.7</td>\n",
              "      <td>258</td>\n",
              "      <td>Family;Adventure;Animation;Fantasy</td>\n",
              "      <td>en</td>\n",
              "      <td>In a time of superstition and magic, when wolv...</td>\n",
              "      <td>Tomm Moore;Ross Stewart;Mark Mullery</td>\n",
              "    </tr>\n",
              "    <tr>\n",
              "      <th>4</th>\n",
              "      <td>movie</td>\n",
              "      <td>1994-09-23</td>\n",
              "      <td>The Shawshank Redemption</td>\n",
              "      <td>54.041</td>\n",
              "      <td>8.7</td>\n",
              "      <td>18389</td>\n",
              "      <td>Drama;Crime</td>\n",
              "      <td>en</td>\n",
              "      <td>Framed in the 1940s for the double murder of h...</td>\n",
              "      <td>Frank Darabont;Sioux Richards;Jesse V. Johnson...</td>\n",
              "    </tr>\n",
              "  </tbody>\n",
              "</table>\n",
              "</div>"
            ],
            "text/plain": [
              "    type  ...                                               crew\n",
              "0  movie  ...                                         Tosca Musk\n",
              "1  movie  ...                                         Tosca Musk\n",
              "2  movie  ...                                      Aditya Chopra\n",
              "3  movie  ...               Tomm Moore;Ross Stewart;Mark Mullery\n",
              "4  movie  ...  Frank Darabont;Sioux Richards;Jesse V. Johnson...\n",
              "\n",
              "[5 rows x 10 columns]"
            ]
          },
          "metadata": {
            "tags": []
          },
          "execution_count": 31
        }
      ]
    },
    {
      "cell_type": "code",
      "metadata": {
        "id": "78__L6Dr7C9x"
      },
      "source": [
        "# filter columns\n",
        "series['type'] = 'serie'\n",
        "series = series[['type', 'first_air_date', 'name', 'popularity', 'vote_average', 'vote_count', 'genres', 'original_language', 'overview', 'Crew']]\n"
      ],
      "execution_count": 32,
      "outputs": []
    },
    {
      "cell_type": "code",
      "metadata": {
        "colab": {
          "base_uri": "https://localhost:8080/",
          "height": 279
        },
        "id": "Voj82yBsAnGv",
        "outputId": "39c5a1eb-16ca-4750-dad6-e1e2b17f6e6f"
      },
      "source": [
        "# rename columns\n",
        "series.columns = ['type', 'release', 'title', 'popularity', 'vote_average', 'vote_count', 'genres', 'language', 'overview', 'crew']\n",
        "series.head()"
      ],
      "execution_count": 33,
      "outputs": [
        {
          "output_type": "execute_result",
          "data": {
            "text/html": [
              "<div>\n",
              "<style scoped>\n",
              "    .dataframe tbody tr th:only-of-type {\n",
              "        vertical-align: middle;\n",
              "    }\n",
              "\n",
              "    .dataframe tbody tr th {\n",
              "        vertical-align: top;\n",
              "    }\n",
              "\n",
              "    .dataframe thead th {\n",
              "        text-align: right;\n",
              "    }\n",
              "</style>\n",
              "<table border=\"1\" class=\"dataframe\">\n",
              "  <thead>\n",
              "    <tr style=\"text-align: right;\">\n",
              "      <th></th>\n",
              "      <th>type</th>\n",
              "      <th>release</th>\n",
              "      <th>title</th>\n",
              "      <th>popularity</th>\n",
              "      <th>vote_average</th>\n",
              "      <th>vote_count</th>\n",
              "      <th>genres</th>\n",
              "      <th>language</th>\n",
              "      <th>overview</th>\n",
              "      <th>crew</th>\n",
              "    </tr>\n",
              "  </thead>\n",
              "  <tbody>\n",
              "    <tr>\n",
              "      <th>0</th>\n",
              "      <td>serie</td>\n",
              "      <td>2004-05-10</td>\n",
              "      <td>I Am Not an Animal</td>\n",
              "      <td>12.076</td>\n",
              "      <td>9.4</td>\n",
              "      <td>598</td>\n",
              "      <td>Animation;Comedy</td>\n",
              "      <td>en</td>\n",
              "      <td>I Am Not An Animal is an animated comedy serie...</td>\n",
              "      <td>NaN</td>\n",
              "    </tr>\n",
              "    <tr>\n",
              "      <th>1</th>\n",
              "      <td>serie</td>\n",
              "      <td>2019-07-12</td>\n",
              "      <td>Given</td>\n",
              "      <td>28.498</td>\n",
              "      <td>9.2</td>\n",
              "      <td>391</td>\n",
              "      <td>Animation;Drama</td>\n",
              "      <td>ja</td>\n",
              "      <td>Tightly clutching his Gibson guitar, Mafuyu Sa...</td>\n",
              "      <td>Hikaru Yamaguchi</td>\n",
              "    </tr>\n",
              "    <tr>\n",
              "      <th>2</th>\n",
              "      <td>serie</td>\n",
              "      <td>2019-01-11</td>\n",
              "      <td>The Promised Neverland</td>\n",
              "      <td>65.812</td>\n",
              "      <td>9.2</td>\n",
              "      <td>545</td>\n",
              "      <td>Animation;Mystery;Sci-Fi &amp; Fantasy;Action &amp; Ad...</td>\n",
              "      <td>ja</td>\n",
              "      <td>Surrounded by a forest and a gated entrance, t...</td>\n",
              "      <td>NaN</td>\n",
              "    </tr>\n",
              "    <tr>\n",
              "      <th>3</th>\n",
              "      <td>serie</td>\n",
              "      <td>2020-10-03</td>\n",
              "      <td>TONIKAWA: Over the Moon for You</td>\n",
              "      <td>32.649</td>\n",
              "      <td>9.1</td>\n",
              "      <td>176</td>\n",
              "      <td>Animation;Comedy</td>\n",
              "      <td>ja</td>\n",
              "      <td>First comes marriage, then comes an earthbound...</td>\n",
              "      <td>Hiroshi Ikehata</td>\n",
              "    </tr>\n",
              "    <tr>\n",
              "      <th>4</th>\n",
              "      <td>serie</td>\n",
              "      <td>2019-01-09</td>\n",
              "      <td>The Rising of the Shield Hero</td>\n",
              "      <td>15.476</td>\n",
              "      <td>9.1</td>\n",
              "      <td>457</td>\n",
              "      <td>Animation;Action &amp; Adventure;Sci-Fi &amp; Fantasy;...</td>\n",
              "      <td>ja</td>\n",
              "      <td>Iwatani Naofumi was summoned into a parallel w...</td>\n",
              "      <td>Takao Abo</td>\n",
              "    </tr>\n",
              "  </tbody>\n",
              "</table>\n",
              "</div>"
            ],
            "text/plain": [
              "    type  ...              crew\n",
              "0  serie  ...               NaN\n",
              "1  serie  ...  Hikaru Yamaguchi\n",
              "2  serie  ...               NaN\n",
              "3  serie  ...   Hiroshi Ikehata\n",
              "4  serie  ...         Takao Abo\n",
              "\n",
              "[5 rows x 10 columns]"
            ]
          },
          "metadata": {
            "tags": []
          },
          "execution_count": 33
        }
      ]
    },
    {
      "cell_type": "code",
      "metadata": {
        "id": "KQojQHr1BJoC"
      },
      "source": [
        "# concatenar os dataset de filmes e series\n",
        "data_lake = pd.concat([movies, series], ignore_index=True, sort=False)"
      ],
      "execution_count": 34,
      "outputs": []
    },
    {
      "cell_type": "code",
      "metadata": {
        "colab": {
          "base_uri": "https://localhost:8080/"
        },
        "id": "xLeo07g1AuY7",
        "outputId": "37324266-1dc1-4681-8da9-d43979d629bc"
      },
      "source": [
        "# cast type columns\n",
        "data_lake[['type', 'title', 'genres', 'language', 'overview', 'crew', 'release']] = data_lake[['type', 'title', 'genres', 'language', 'overview', 'crew', 'release']].astype('string')\n",
        "data_lake[['popularity', 'vote_average']] = data_lake[['popularity', 'vote_average']].astype('float')\n",
        "data_lake[['vote_count']] = data_lake[['vote_count']].astype('int')\n",
        "data_lake.info()"
      ],
      "execution_count": 35,
      "outputs": [
        {
          "output_type": "stream",
          "text": [
            "<class 'pandas.core.frame.DataFrame'>\n",
            "RangeIndex: 10102 entries, 0 to 10101\n",
            "Data columns (total 10 columns):\n",
            " #   Column        Non-Null Count  Dtype  \n",
            "---  ------        --------------  -----  \n",
            " 0   type          10102 non-null  string \n",
            " 1   release       10094 non-null  string \n",
            " 2   title         10102 non-null  string \n",
            " 3   popularity    10102 non-null  float64\n",
            " 4   vote_average  10102 non-null  float64\n",
            " 5   vote_count    10102 non-null  int64  \n",
            " 6   genres        10077 non-null  string \n",
            " 7   language      10102 non-null  string \n",
            " 8   overview      10048 non-null  string \n",
            " 9   crew          8789 non-null   string \n",
            "dtypes: float64(2), int64(1), string(7)\n",
            "memory usage: 789.3 KB\n"
          ],
          "name": "stdout"
        }
      ]
    },
    {
      "cell_type": "code",
      "metadata": {
        "colab": {
          "base_uri": "https://localhost:8080/",
          "height": 279
        },
        "id": "MHgQp5sUB2vJ",
        "outputId": "2a850d70-b2e6-4d9d-b97d-5f629b2c74b3"
      },
      "source": [
        "data_lake.head()"
      ],
      "execution_count": 37,
      "outputs": [
        {
          "output_type": "execute_result",
          "data": {
            "text/html": [
              "<div>\n",
              "<style scoped>\n",
              "    .dataframe tbody tr th:only-of-type {\n",
              "        vertical-align: middle;\n",
              "    }\n",
              "\n",
              "    .dataframe tbody tr th {\n",
              "        vertical-align: top;\n",
              "    }\n",
              "\n",
              "    .dataframe thead th {\n",
              "        text-align: right;\n",
              "    }\n",
              "</style>\n",
              "<table border=\"1\" class=\"dataframe\">\n",
              "  <thead>\n",
              "    <tr style=\"text-align: right;\">\n",
              "      <th></th>\n",
              "      <th>type</th>\n",
              "      <th>release</th>\n",
              "      <th>title</th>\n",
              "      <th>popularity</th>\n",
              "      <th>vote_average</th>\n",
              "      <th>vote_count</th>\n",
              "      <th>genres</th>\n",
              "      <th>language</th>\n",
              "      <th>overview</th>\n",
              "      <th>crew</th>\n",
              "    </tr>\n",
              "  </thead>\n",
              "  <tbody>\n",
              "    <tr>\n",
              "      <th>0</th>\n",
              "      <td>movie</td>\n",
              "      <td>2020-11-19</td>\n",
              "      <td>Gabriel's Inferno Part III</td>\n",
              "      <td>33.315</td>\n",
              "      <td>8.8</td>\n",
              "      <td>725</td>\n",
              "      <td>Romance;Comedy</td>\n",
              "      <td>en</td>\n",
              "      <td>The final part of the film adaption of the ero...</td>\n",
              "      <td>Tosca Musk</td>\n",
              "    </tr>\n",
              "    <tr>\n",
              "      <th>1</th>\n",
              "      <td>movie</td>\n",
              "      <td>2020-07-31</td>\n",
              "      <td>Gabriel's Inferno Part II</td>\n",
              "      <td>9.365</td>\n",
              "      <td>8.8</td>\n",
              "      <td>1179</td>\n",
              "      <td>Romance</td>\n",
              "      <td>en</td>\n",
              "      <td>Professor Gabriel Emerson finally learns the t...</td>\n",
              "      <td>Tosca Musk</td>\n",
              "    </tr>\n",
              "    <tr>\n",
              "      <th>2</th>\n",
              "      <td>movie</td>\n",
              "      <td>1995-10-20</td>\n",
              "      <td>Dilwale Dulhania Le Jayenge</td>\n",
              "      <td>15.250</td>\n",
              "      <td>8.8</td>\n",
              "      <td>2663</td>\n",
              "      <td>Comedy;Drama;Romance</td>\n",
              "      <td>hi</td>\n",
              "      <td>Raj is a rich, carefree, happy-go-lucky second...</td>\n",
              "      <td>Aditya Chopra</td>\n",
              "    </tr>\n",
              "    <tr>\n",
              "      <th>3</th>\n",
              "      <td>movie</td>\n",
              "      <td>2020-10-26</td>\n",
              "      <td>Wolfwalkers</td>\n",
              "      <td>28.370</td>\n",
              "      <td>8.7</td>\n",
              "      <td>258</td>\n",
              "      <td>Family;Adventure;Animation;Fantasy</td>\n",
              "      <td>en</td>\n",
              "      <td>In a time of superstition and magic, when wolv...</td>\n",
              "      <td>Tomm Moore;Ross Stewart;Mark Mullery</td>\n",
              "    </tr>\n",
              "    <tr>\n",
              "      <th>4</th>\n",
              "      <td>movie</td>\n",
              "      <td>1994-09-23</td>\n",
              "      <td>The Shawshank Redemption</td>\n",
              "      <td>54.041</td>\n",
              "      <td>8.7</td>\n",
              "      <td>18389</td>\n",
              "      <td>Drama;Crime</td>\n",
              "      <td>en</td>\n",
              "      <td>Framed in the 1940s for the double murder of h...</td>\n",
              "      <td>Frank Darabont;Sioux Richards;Jesse V. Johnson...</td>\n",
              "    </tr>\n",
              "  </tbody>\n",
              "</table>\n",
              "</div>"
            ],
            "text/plain": [
              "    type  ...                                               crew\n",
              "0  movie  ...                                         Tosca Musk\n",
              "1  movie  ...                                         Tosca Musk\n",
              "2  movie  ...                                      Aditya Chopra\n",
              "3  movie  ...               Tomm Moore;Ross Stewart;Mark Mullery\n",
              "4  movie  ...  Frank Darabont;Sioux Richards;Jesse V. Johnson...\n",
              "\n",
              "[5 rows x 10 columns]"
            ]
          },
          "metadata": {
            "tags": []
          },
          "execution_count": 37
        }
      ]
    }
  ]
}